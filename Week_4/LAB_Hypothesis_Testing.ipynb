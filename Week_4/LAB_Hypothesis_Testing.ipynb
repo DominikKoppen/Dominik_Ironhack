{
 "cells": [
  {
   "cell_type": "markdown",
   "id": "85fbefb0",
   "metadata": {},
   "source": [
    "It is assumed that the mean systolic blood pressure is μ = 120 mm Hg. In the Honolulu Heart Study, a sample of n = 100 people had an average systolic blood pressure of 130.1 mm Hg with a standard deviation of 21.21 mm Hg. Is the group significantly different (with respect to systolic blood pressure!) from the regular population?\n",
    "\n",
    "Set up the hypothesis test.\n",
    "Write down all the steps followed for setting up the test.\n",
    "Calculate the test statistic by hand and also code it in Python. It should be 4.76190. What decision can you make based on this calculated value?"
   ]
  },
  {
   "cell_type": "code",
   "execution_count": 1,
   "id": "38995d37",
   "metadata": {},
   "outputs": [],
   "source": [
    "import numpy as np\n",
    "import pandas as pd\n",
    "import scipy.stats as stats\n",
    "import matplotlib.pyplot as plt\n",
    "import seaborn as sns\n",
    "\n",
    "%matplotlib inline"
   ]
  },
  {
   "cell_type": "code",
   "execution_count": null,
   "id": "355fd77b",
   "metadata": {},
   "outputs": [],
   "source": [
    "#mean = 120\n",
    "#n = 100\n",
    "#sample mean = 130,1\n",
    "#std = 21,21\n",
    "#alpha = 1,66\n",
    "\n",
    "#Ho = mean <= 120\n",
    "#Ha > 120\n"
   ]
  },
  {
   "cell_type": "code",
   "execution_count": 4,
   "id": "5f0c3586",
   "metadata": {},
   "outputs": [],
   "source": [
    "sample_mean = 130.1\n",
    "pop_mean = 120\n",
    "pop_std_dev = 21.21"
   ]
  },
  {
   "cell_type": "code",
   "execution_count": 5,
   "id": "93a7ac7b",
   "metadata": {},
   "outputs": [],
   "source": [
    "z = ( sample_mean - pop_mean ) / ( pop_std_dev / np.sqrt(100) )"
   ]
  },
  {
   "cell_type": "code",
   "execution_count": 6,
   "id": "bc72ee13",
   "metadata": {},
   "outputs": [
    {
     "data": {
      "text/plain": [
       "4.761904761904759"
      ]
     },
     "execution_count": 6,
     "metadata": {},
     "output_type": "execute_result"
    }
   ],
   "source": [
    "z"
   ]
  },
  {
   "cell_type": "code",
   "execution_count": null,
   "id": "678a9ed0",
   "metadata": {},
   "outputs": [],
   "source": []
  },
  {
   "cell_type": "code",
   "execution_count": null,
   "id": "e51f2fc7",
   "metadata": {},
   "outputs": [],
   "source": [
    "Solution\n",
    "# n=100\n",
    "# y = 120\n",
    "# o = ?\n",
    "# xbar = 130,1\n",
    "# std= 21,21\n",
    "# a = 0,05\n",
    "\n",
    "# Ho = y = 120\n",
    "# Hy = y != 120\n",
    "\n",
    "# t= xbar/y / o wurzel n \n",
    "# t = 4,76"
   ]
  }
 ],
 "metadata": {
  "kernelspec": {
   "display_name": "Python 3 (ipykernel)",
   "language": "python",
   "name": "python3"
  },
  "language_info": {
   "codemirror_mode": {
    "name": "ipython",
    "version": 3
   },
   "file_extension": ".py",
   "mimetype": "text/x-python",
   "name": "python",
   "nbconvert_exporter": "python",
   "pygments_lexer": "ipython3",
   "version": "3.10.9"
  }
 },
 "nbformat": 4,
 "nbformat_minor": 5
}

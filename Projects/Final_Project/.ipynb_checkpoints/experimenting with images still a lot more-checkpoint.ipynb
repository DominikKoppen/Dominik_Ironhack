{
 "cells": [
  {
   "cell_type": "markdown",
   "metadata": {
    "id": "4Anz_bzMaIQK"
   },
   "source": [
    "## Installations"
   ]
  },
  {
   "cell_type": "code",
   "execution_count": 1,
   "metadata": {
    "id": "S5KdrMEEMF86"
   },
   "outputs": [],
   "source": [
    "#pip install Pillow\n",
    "#pip install rembg"
   ]
  },
  {
   "cell_type": "markdown",
   "metadata": {
    "id": "1RftNLjta8tp"
   },
   "source": [
    "## Importing modules"
   ]
  },
  {
   "cell_type": "code",
   "execution_count": 2,
   "metadata": {
    "id": "mUflwnRYLQef"
   },
   "outputs": [],
   "source": [
    "#### Importing libraries\n",
    "import requests\n",
    "import numpy as np\n",
    "from rembg import remove\n",
    "from PIL import Image\n",
    "from io import BytesIO"
   ]
  },
  {
   "cell_type": "code",
   "execution_count": 3,
   "metadata": {},
   "outputs": [],
   "source": [
    "# Imports\n",
    "import pandas as pd\n",
    "import numpy as np \n",
    "import matplotlib.pyplot as plt \n",
    "import sklearn\n",
    "import cv2\n",
    "from sklearn.cluster import KMeans\n",
    "from collections import Counter\n",
    "from skimage.color import rgb2lab, deltaE_cie76"
   ]
  },
  {
   "cell_type": "markdown",
   "metadata": {
    "id": "5UGoc3WlL1TE"
   },
   "source": [
    "## Removing the background"
   ]
  },
  {
   "cell_type": "code",
   "execution_count": 4,
   "metadata": {
    "id": "S9nEC9xtY-tg"
   },
   "outputs": [],
   "source": [
    "def loading_removing_background(url):\n",
    "    '''\n",
    "    Tuned for GitHub URLs of image files. Converts into raw URL, imports\n",
    "    image from raw URL, removes the background, returns processed image.\n",
    "    '''\n",
    "    raw_url = url + '?raw=true'\n",
    "    page = requests.get(raw_url)\n",
    "    input_image = Image.open(BytesIO(page.content))\n",
    "    output_image = remove(input_image)\n",
    "    output_image = cv2.cvtColor(np.array(output_image), cv2.COLOR_RGB2BGR)\n",
    "    return output_image"
   ]
  },
  {
   "cell_type": "code",
   "execution_count": 5,
   "metadata": {
    "id": "OSEWEnH6XRr9"
   },
   "outputs": [
    {
     "ename": "TypeError",
     "evalue": "retrieve() got an unexpected keyword argument 'progressbar'",
     "output_type": "error",
     "traceback": [
      "\u001b[0;31m---------------------------------------------------------------------------\u001b[0m",
      "\u001b[0;31mTypeError\u001b[0m                                 Traceback (most recent call last)",
      "Cell \u001b[0;32mIn[5], line 4\u001b[0m\n\u001b[1;32m      1\u001b[0m \u001b[38;5;66;03m# Calling the function\u001b[39;00m\n\u001b[1;32m      2\u001b[0m \u001b[38;5;66;03m#url = 'https://github.com/seblap86/mold_detection/blob/main/prototype/test_images/lemon.png'\u001b[39;00m\n\u001b[1;32m      3\u001b[0m url \u001b[38;5;241m=\u001b[39m \u001b[38;5;124m'\u001b[39m\u001b[38;5;124mhttps://github.com/seblap86/mold_detection/blob/main/prototype/test_images/orange.png\u001b[39m\u001b[38;5;124m'\u001b[39m\n\u001b[0;32m----> 4\u001b[0m output \u001b[38;5;241m=\u001b[39m \u001b[43mloading_removing_background\u001b[49m\u001b[43m(\u001b[49m\u001b[43murl\u001b[49m\u001b[43m)\u001b[49m\n",
      "Cell \u001b[0;32mIn[4], line 9\u001b[0m, in \u001b[0;36mloading_removing_background\u001b[0;34m(url)\u001b[0m\n\u001b[1;32m      7\u001b[0m page \u001b[38;5;241m=\u001b[39m requests\u001b[38;5;241m.\u001b[39mget(raw_url)\n\u001b[1;32m      8\u001b[0m input_image \u001b[38;5;241m=\u001b[39m Image\u001b[38;5;241m.\u001b[39mopen(BytesIO(page\u001b[38;5;241m.\u001b[39mcontent))\n\u001b[0;32m----> 9\u001b[0m output_image \u001b[38;5;241m=\u001b[39m \u001b[43mremove\u001b[49m\u001b[43m(\u001b[49m\u001b[43minput_image\u001b[49m\u001b[43m)\u001b[49m\n\u001b[1;32m     10\u001b[0m output_image \u001b[38;5;241m=\u001b[39m cv2\u001b[38;5;241m.\u001b[39mcvtColor(np\u001b[38;5;241m.\u001b[39marray(output_image), cv2\u001b[38;5;241m.\u001b[39mCOLOR_RGB2BGR)\n\u001b[1;32m     11\u001b[0m \u001b[38;5;28;01mreturn\u001b[39;00m output_image\n",
      "File \u001b[0;32m~/anaconda3/lib/python3.10/site-packages/rembg/bg.py:255\u001b[0m, in \u001b[0;36mremove\u001b[0;34m(data, alpha_matting, alpha_matting_foreground_threshold, alpha_matting_background_threshold, alpha_matting_erode_size, session, only_mask, post_process_mask, bgcolor, *args, **kwargs)\u001b[0m\n\u001b[1;32m    252\u001b[0m img \u001b[38;5;241m=\u001b[39m fix_image_orientation(img)\n\u001b[1;32m    254\u001b[0m \u001b[38;5;28;01mif\u001b[39;00m session \u001b[38;5;129;01mis\u001b[39;00m \u001b[38;5;28;01mNone\u001b[39;00m:\n\u001b[0;32m--> 255\u001b[0m     session \u001b[38;5;241m=\u001b[39m \u001b[43mnew_session\u001b[49m\u001b[43m(\u001b[49m\u001b[38;5;124;43m\"\u001b[39;49m\u001b[38;5;124;43mu2net\u001b[39;49m\u001b[38;5;124;43m\"\u001b[39;49m\u001b[43m,\u001b[49m\u001b[43m \u001b[49m\u001b[38;5;241;43m*\u001b[39;49m\u001b[43margs\u001b[49m\u001b[43m,\u001b[49m\u001b[43m \u001b[49m\u001b[38;5;241;43m*\u001b[39;49m\u001b[38;5;241;43m*\u001b[39;49m\u001b[43mkwargs\u001b[49m\u001b[43m)\u001b[49m\n\u001b[1;32m    257\u001b[0m masks \u001b[38;5;241m=\u001b[39m session\u001b[38;5;241m.\u001b[39mpredict(img, \u001b[38;5;241m*\u001b[39margs, \u001b[38;5;241m*\u001b[39m\u001b[38;5;241m*\u001b[39mkwargs)\n\u001b[1;32m    258\u001b[0m cutouts \u001b[38;5;241m=\u001b[39m []\n",
      "File \u001b[0;32m~/anaconda3/lib/python3.10/site-packages/rembg/session_factory.py:44\u001b[0m, in \u001b[0;36mnew_session\u001b[0;34m(model_name, providers, *args, **kwargs)\u001b[0m\n\u001b[1;32m     41\u001b[0m     sess_opts\u001b[38;5;241m.\u001b[39minter_op_num_threads \u001b[38;5;241m=\u001b[39m \u001b[38;5;28mint\u001b[39m(os\u001b[38;5;241m.\u001b[39menviron[\u001b[38;5;124m\"\u001b[39m\u001b[38;5;124mOMP_NUM_THREADS\u001b[39m\u001b[38;5;124m\"\u001b[39m])\n\u001b[1;32m     42\u001b[0m     sess_opts\u001b[38;5;241m.\u001b[39mintra_op_num_threads \u001b[38;5;241m=\u001b[39m \u001b[38;5;28mint\u001b[39m(os\u001b[38;5;241m.\u001b[39menviron[\u001b[38;5;124m\"\u001b[39m\u001b[38;5;124mOMP_NUM_THREADS\u001b[39m\u001b[38;5;124m\"\u001b[39m])\n\u001b[0;32m---> 44\u001b[0m \u001b[38;5;28;01mreturn\u001b[39;00m \u001b[43msession_class\u001b[49m\u001b[43m(\u001b[49m\u001b[43mmodel_name\u001b[49m\u001b[43m,\u001b[49m\u001b[43m \u001b[49m\u001b[43msess_opts\u001b[49m\u001b[43m,\u001b[49m\u001b[43m \u001b[49m\u001b[43mproviders\u001b[49m\u001b[43m,\u001b[49m\u001b[43m \u001b[49m\u001b[38;5;241;43m*\u001b[39;49m\u001b[43margs\u001b[49m\u001b[43m,\u001b[49m\u001b[43m \u001b[49m\u001b[38;5;241;43m*\u001b[39;49m\u001b[38;5;241;43m*\u001b[39;49m\u001b[43mkwargs\u001b[49m\u001b[43m)\u001b[49m\n",
      "File \u001b[0;32m~/anaconda3/lib/python3.10/site-packages/rembg/sessions/base.py:35\u001b[0m, in \u001b[0;36mBaseSession.__init__\u001b[0;34m(self, model_name, sess_opts, providers, *args, **kwargs)\u001b[0m\n\u001b[1;32m     31\u001b[0m \u001b[38;5;28;01melse\u001b[39;00m:\n\u001b[1;32m     32\u001b[0m     \u001b[38;5;28mself\u001b[39m\u001b[38;5;241m.\u001b[39mproviders\u001b[38;5;241m.\u001b[39mextend(_providers)\n\u001b[1;32m     34\u001b[0m \u001b[38;5;28mself\u001b[39m\u001b[38;5;241m.\u001b[39minner_session \u001b[38;5;241m=\u001b[39m ort\u001b[38;5;241m.\u001b[39mInferenceSession(\n\u001b[0;32m---> 35\u001b[0m     \u001b[38;5;28mstr\u001b[39m(\u001b[38;5;28;43mself\u001b[39;49m\u001b[38;5;241;43m.\u001b[39;49m\u001b[38;5;18;43m__class__\u001b[39;49m\u001b[38;5;241;43m.\u001b[39;49m\u001b[43mdownload_models\u001b[49m\u001b[43m(\u001b[49m\u001b[38;5;241;43m*\u001b[39;49m\u001b[43margs\u001b[49m\u001b[43m,\u001b[49m\u001b[43m \u001b[49m\u001b[38;5;241;43m*\u001b[39;49m\u001b[38;5;241;43m*\u001b[39;49m\u001b[43mkwargs\u001b[49m\u001b[43m)\u001b[49m),\n\u001b[1;32m     36\u001b[0m     providers\u001b[38;5;241m=\u001b[39m\u001b[38;5;28mself\u001b[39m\u001b[38;5;241m.\u001b[39mproviders,\n\u001b[1;32m     37\u001b[0m     sess_options\u001b[38;5;241m=\u001b[39msess_opts,\n\u001b[1;32m     38\u001b[0m )\n",
      "File \u001b[0;32m~/anaconda3/lib/python3.10/site-packages/rembg/sessions/u2net.py:62\u001b[0m, in \u001b[0;36mU2netSession.download_models\u001b[0;34m(cls, *args, **kwargs)\u001b[0m\n\u001b[1;32m     51\u001b[0m \u001b[38;5;124;03m\"\"\"\u001b[39;00m\n\u001b[1;32m     52\u001b[0m \u001b[38;5;124;03mDownloads the U2net model file from a specific URL and saves it.\u001b[39;00m\n\u001b[1;32m     53\u001b[0m \n\u001b[0;32m   (...)\u001b[0m\n\u001b[1;32m     59\u001b[0m \u001b[38;5;124;03m    str: The path to the downloaded model file.\u001b[39;00m\n\u001b[1;32m     60\u001b[0m \u001b[38;5;124;03m\"\"\"\u001b[39;00m\n\u001b[1;32m     61\u001b[0m fname \u001b[38;5;241m=\u001b[39m \u001b[38;5;124mf\u001b[39m\u001b[38;5;124m\"\u001b[39m\u001b[38;5;132;01m{\u001b[39;00m\u001b[38;5;28mcls\u001b[39m\u001b[38;5;241m.\u001b[39mname(\u001b[38;5;241m*\u001b[39margs, \u001b[38;5;241m*\u001b[39m\u001b[38;5;241m*\u001b[39mkwargs)\u001b[38;5;132;01m}\u001b[39;00m\u001b[38;5;124m.onnx\u001b[39m\u001b[38;5;124m\"\u001b[39m\n\u001b[0;32m---> 62\u001b[0m \u001b[43mpooch\u001b[49m\u001b[38;5;241;43m.\u001b[39;49m\u001b[43mretrieve\u001b[49m\u001b[43m(\u001b[49m\n\u001b[1;32m     63\u001b[0m \u001b[43m    \u001b[49m\u001b[38;5;124;43m\"\u001b[39;49m\u001b[38;5;124;43mhttps://github.com/danielgatis/rembg/releases/download/v0.0.0/u2net.onnx\u001b[39;49m\u001b[38;5;124;43m\"\u001b[39;49m\u001b[43m,\u001b[49m\n\u001b[1;32m     64\u001b[0m \u001b[43m    \u001b[49m\u001b[38;5;28;43;01mNone\u001b[39;49;00m\n\u001b[1;32m     65\u001b[0m \u001b[43m    \u001b[49m\u001b[38;5;28;43;01mif\u001b[39;49;00m\u001b[43m \u001b[49m\u001b[38;5;28;43mcls\u001b[39;49m\u001b[38;5;241;43m.\u001b[39;49m\u001b[43mchecksum_disabled\u001b[49m\u001b[43m(\u001b[49m\u001b[38;5;241;43m*\u001b[39;49m\u001b[43margs\u001b[49m\u001b[43m,\u001b[49m\u001b[43m \u001b[49m\u001b[38;5;241;43m*\u001b[39;49m\u001b[38;5;241;43m*\u001b[39;49m\u001b[43mkwargs\u001b[49m\u001b[43m)\u001b[49m\n\u001b[1;32m     66\u001b[0m \u001b[43m    \u001b[49m\u001b[38;5;28;43;01melse\u001b[39;49;00m\u001b[43m \u001b[49m\u001b[38;5;124;43m\"\u001b[39;49m\u001b[38;5;124;43mmd5:60024c5c889badc19c04ad937298a77b\u001b[39;49m\u001b[38;5;124;43m\"\u001b[39;49m\u001b[43m,\u001b[49m\n\u001b[1;32m     67\u001b[0m \u001b[43m    \u001b[49m\u001b[43mfname\u001b[49m\u001b[38;5;241;43m=\u001b[39;49m\u001b[43mfname\u001b[49m\u001b[43m,\u001b[49m\n\u001b[1;32m     68\u001b[0m \u001b[43m    \u001b[49m\u001b[43mpath\u001b[49m\u001b[38;5;241;43m=\u001b[39;49m\u001b[38;5;28;43mcls\u001b[39;49m\u001b[38;5;241;43m.\u001b[39;49m\u001b[43mu2net_home\u001b[49m\u001b[43m(\u001b[49m\u001b[38;5;241;43m*\u001b[39;49m\u001b[43margs\u001b[49m\u001b[43m,\u001b[49m\u001b[43m \u001b[49m\u001b[38;5;241;43m*\u001b[39;49m\u001b[38;5;241;43m*\u001b[39;49m\u001b[43mkwargs\u001b[49m\u001b[43m)\u001b[49m\u001b[43m,\u001b[49m\n\u001b[1;32m     69\u001b[0m \u001b[43m    \u001b[49m\u001b[43mprogressbar\u001b[49m\u001b[38;5;241;43m=\u001b[39;49m\u001b[38;5;28;43;01mTrue\u001b[39;49;00m\u001b[43m,\u001b[49m\n\u001b[1;32m     70\u001b[0m \u001b[43m\u001b[49m\u001b[43m)\u001b[49m\n\u001b[1;32m     72\u001b[0m \u001b[38;5;28;01mreturn\u001b[39;00m os\u001b[38;5;241m.\u001b[39mpath\u001b[38;5;241m.\u001b[39mjoin(\u001b[38;5;28mcls\u001b[39m\u001b[38;5;241m.\u001b[39mu2net_home(\u001b[38;5;241m*\u001b[39margs, \u001b[38;5;241m*\u001b[39m\u001b[38;5;241m*\u001b[39mkwargs), fname)\n",
      "\u001b[0;31mTypeError\u001b[0m: retrieve() got an unexpected keyword argument 'progressbar'"
     ]
    }
   ],
   "source": [
    "# Calling the function\n",
    "#url = 'https://github.com/seblap86/mold_detection/blob/main/prototype/test_images/lemon.png'\n",
    "url = 'https://github.com/seblap86/mold_detection/blob/main/prototype/test_images/orange.png'\n",
    "output = loading_removing_background(url)\n",
    "#output"
   ]
  },
  {
   "cell_type": "markdown",
   "metadata": {},
   "source": [
    "#### Some reshaping for whatever reason"
   ]
  },
  {
   "cell_type": "code",
   "execution_count": null,
   "metadata": {},
   "outputs": [],
   "source": [
    "#output = output.reshape(output.shape[0] * output.shape[1], output.shape[2])"
   ]
  },
  {
   "cell_type": "code",
   "execution_count": null,
   "metadata": {},
   "outputs": [],
   "source": [
    "#color_count = len(np.unique(output, axis=0))\n",
    "#color_count"
   ]
  },
  {
   "cell_type": "code",
   "execution_count": null,
   "metadata": {},
   "outputs": [],
   "source": [
    "#output"
   ]
  },
  {
   "cell_type": "markdown",
   "metadata": {
    "id": "EA0oR2OfdP3N"
   },
   "source": [
    "## Importing the image into CV2"
   ]
  },
  {
   "cell_type": "code",
   "execution_count": null,
   "metadata": {},
   "outputs": [],
   "source": [
    "# Some styling stuff\n",
    "plt.style.use('ggplot')\n",
    "plt.rcParams['font.family'] = 'sans-serif' \n",
    "plt.rcParams['font.serif'] = 'Ubuntu' \n",
    "plt.rcParams['font.monospace'] = 'Ubuntu Mono' \n",
    "plt.rcParams['font.size'] = 14 \n",
    "plt.rcParams['axes.labelsize'] = 12 \n",
    "plt.rcParams['axes.labelweight'] = 'bold' \n",
    "plt.rcParams['axes.titlesize'] = 12 \n",
    "plt.rcParams['xtick.labelsize'] = 12 \n",
    "plt.rcParams['ytick.labelsize'] = 12 \n",
    "plt.rcParams['legend.fontsize'] = 12 \n",
    "plt.rcParams['figure.titlesize'] = 12 \n",
    "plt.rcParams['image.cmap'] = 'jet' \n",
    "plt.rcParams['image.interpolation'] = 'none' \n",
    "plt.rcParams['figure.figsize'] = (10, 10) \n",
    "plt.rcParams['axes.grid']=False\n",
    "plt.rcParams['lines.linewidth'] = 2 \n",
    "plt.rcParams['lines.markersize'] = 8\n",
    "colors = ['xkcd:pale orange', 'xkcd:sea blue', 'xkcd:pale red', 'xkcd:sage green', 'xkcd:terra cotta', 'xkcd:dull purple', 'xkcd:teal', 'xkcd: goldenrod', 'xkcd:cadet blue', 'xkcd:scarlet']"
   ]
  },
  {
   "cell_type": "code",
   "execution_count": null,
   "metadata": {},
   "outputs": [],
   "source": [
    "'''\n",
    "The main idea is that it is possible to use the image as a (N_rows X N_columns X N_channels) vector. \n",
    "Considering this vector, it is possible to apply the K Means algorithm and identify k clusters, that will be our colors.\n",
    "\n",
    "https://towardsdatascience.com/image-color-identification-with-machine-learning-and-image-processing-using-python-f3dd0606bdca\n",
    "'''"
   ]
  },
  {
   "cell_type": "code",
   "execution_count": null,
   "metadata": {},
   "outputs": [],
   "source": [
    "# Functions\n",
    "#def get_image(): # Gets the image\n",
    "#    image = cv2.imread(image_path)\n",
    "#    image = cv2.cvtColor(image, cv2.COLOR_BGR2RGB)\n",
    "#    return image\n",
    "\n",
    "def RGB2HEX(color): # Gets the HEX code of a... pixel((?))\n",
    "    return \"#{:02x}{:02x}{:02x}\".format(int(color[0]), int(color[1]), int(color[2]))"
   ]
  },
  {
   "cell_type": "code",
   "execution_count": null,
   "metadata": {},
   "outputs": [],
   "source": [
    "def get_image():\n",
    "    open_cv_image = np.array(output)\n",
    "    image = cv2.cvtColor(open_cv_image, cv2.COLOR_BGR2RGB)\n",
    "    return image"
   ]
  },
  {
   "cell_type": "code",
   "execution_count": null,
   "metadata": {},
   "outputs": [],
   "source": [
    "# Loading the image\n",
    "image = get_image()\n",
    "#image = output"
   ]
  },
  {
   "cell_type": "code",
   "execution_count": null,
   "metadata": {},
   "outputs": [],
   "source": [
    "# Investigations - RGB format? (yes)\n",
    "image[400]"
   ]
  },
  {
   "cell_type": "code",
   "execution_count": null,
   "metadata": {},
   "outputs": [],
   "source": [
    "# Height (in pixels) = Rows / first list elements of the array\n",
    "len(image) "
   ]
  },
  {
   "cell_type": "code",
   "execution_count": null,
   "metadata": {},
   "outputs": [],
   "source": [
    "len(image[0]) # Width (in pixels) = \"Pixel row\" of each height row / secondary elements of the array"
   ]
  },
  {
   "cell_type": "markdown",
   "metadata": {},
   "source": [
    "## Removing black background"
   ]
  },
  {
   "cell_type": "code",
   "execution_count": null,
   "metadata": {},
   "outputs": [],
   "source": [
    "image[0]"
   ]
  },
  {
   "cell_type": "code",
   "execution_count": null,
   "metadata": {},
   "outputs": [],
   "source": [
    "image[0][0]"
   ]
  },
  {
   "cell_type": "code",
   "execution_count": null,
   "metadata": {},
   "outputs": [],
   "source": [
    "non_background_pixels = []\n",
    "i = 0\n",
    "for height_pixel in image:\n",
    "    for width_pixel in height_pixel:\n",
    "        if width_pixel[0] > 25 and width_pixel[1] > 25 and width_pixel[2] > 25: # For now, 25 seems a safe threshold\n",
    "            non_background_pixels.append(list(width_pixel))\n",
    "            #print(width_pixel)\n",
    "        #if width_pixel == ''\n",
    "    #print(height_pixel[i])\n",
    "    #i += 1\n",
    "len(non_background_pixels)"
   ]
  },
  {
   "cell_type": "markdown",
   "metadata": {},
   "source": [
    "## Clustering the colors"
   ]
  },
  {
   "cell_type": "code",
   "execution_count": null,
   "metadata": {},
   "outputs": [],
   "source": [
    "number_of_colors = 5\n",
    "modified_image = image.reshape(image.shape[0]*image.shape[1], 3)\n",
    "clf = KMeans(n_clusters = number_of_colors)\n",
    "labels = clf.fit_predict(modified_image)"
   ]
  },
  {
   "cell_type": "code",
   "execution_count": null,
   "metadata": {},
   "outputs": [],
   "source": [
    "counts = Counter(labels)\n",
    "center_colors = clf.cluster_centers_\n",
    "\n",
    "# Getting ordered colors by iterating through the keys\n",
    "ordered_colors = [center_colors[i] for i in counts.keys()]\n",
    "hex_colors = [RGB2HEX(ordered_colors[i]) for i in counts.keys()]\n",
    "rgb_colors = [ordered_colors[i] for i in counts.keys()]"
   ]
  },
  {
   "cell_type": "markdown",
   "metadata": {},
   "source": [
    "## Plotting the colors (centroids)"
   ]
  },
  {
   "cell_type": "code",
   "execution_count": null,
   "metadata": {
    "scrolled": true
   },
   "outputs": [],
   "source": [
    "# Plotting the colors\n",
    "plt.title(f'Colors Detection ($n={number_of_colors}$)', fontsize=20)\n",
    "plt.pie(counts.values(), labels = hex_colors, colors = hex_colors)"
   ]
  },
  {
   "cell_type": "markdown",
   "metadata": {},
   "source": [
    "## 5 more mold images FOR FUN"
   ]
  },
  {
   "cell_type": "code",
   "execution_count": null,
   "metadata": {
    "id": "OSEWEnH6XRr9"
   },
   "outputs": [],
   "source": [
    "# Calling the function\n",
    "#url = 'https://github.com/seblap86/mold_detection/blob/main/prototype/test_images/lemon.png'\n",
    "url = 'https://github.com/seblap86/mold_detection/blob/main/prototype/test_images/lemon.png'\n",
    "output = loading_removing_background(url)\n",
    "#output"
   ]
  },
  {
   "cell_type": "code",
   "execution_count": null,
   "metadata": {},
   "outputs": [],
   "source": [
    "# Some styling stuff\n",
    "plt.style.use('ggplot')\n",
    "plt.rcParams['font.family'] = 'sans-serif' \n",
    "plt.rcParams['font.serif'] = 'Ubuntu' \n",
    "plt.rcParams['font.monospace'] = 'Ubuntu Mono' \n",
    "plt.rcParams['font.size'] = 14 \n",
    "plt.rcParams['axes.labelsize'] = 12 \n",
    "plt.rcParams['axes.labelweight'] = 'bold' \n",
    "plt.rcParams['axes.titlesize'] = 12 \n",
    "plt.rcParams['xtick.labelsize'] = 12 \n",
    "plt.rcParams['ytick.labelsize'] = 12 \n",
    "plt.rcParams['legend.fontsize'] = 12 \n",
    "plt.rcParams['figure.titlesize'] = 12 \n",
    "plt.rcParams['image.cmap'] = 'jet' \n",
    "plt.rcParams['image.interpolation'] = 'none' \n",
    "plt.rcParams['figure.figsize'] = (10, 10) \n",
    "plt.rcParams['axes.grid']=False\n",
    "plt.rcParams['lines.linewidth'] = 2 \n",
    "plt.rcParams['lines.markersize'] = 8\n",
    "colors = ['xkcd:pale orange', 'xkcd:sea blue', 'xkcd:pale red', 'xkcd:sage green', 'xkcd:terra cotta', 'xkcd:dull purple', 'xkcd:teal', 'xkcd: goldenrod', 'xkcd:cadet blue', 'xkcd:scarlet']"
   ]
  },
  {
   "cell_type": "markdown",
   "metadata": {
    "id": "EA0oR2OfdP3N"
   },
   "source": [
    "## HEX color labeling"
   ]
  },
  {
   "cell_type": "code",
   "execution_count": null,
   "metadata": {},
   "outputs": [],
   "source": [
    "'''\n",
    "The main idea is that it is possible to use the image as a (N_rows X N_columns X N_channels) vector. \n",
    "Considering this vector, it is possible to apply the K Means algorithm and identify k clusters, that will be our colors.\n",
    "\n",
    "https://towardsdatascience.com/image-color-identification-with-machine-learning-and-image-processing-using-python-f3dd0606bdca\n",
    "'''"
   ]
  },
  {
   "cell_type": "code",
   "execution_count": null,
   "metadata": {},
   "outputs": [],
   "source": [
    "# Functions\n",
    "#def get_image(): # Gets the image\n",
    "#    image = cv2.imread(image_path)\n",
    "#    image = cv2.cvtColor(image, cv2.COLOR_BGR2RGB)\n",
    "#    return image\n",
    "\n",
    "def RGB2HEX(color): # Gets the HEX code of a... pixel((?))\n",
    "    return \"#{:02x}{:02x}{:02x}\".format(int(color[0]), int(color[1]), int(color[2]))"
   ]
  },
  {
   "cell_type": "code",
   "execution_count": null,
   "metadata": {},
   "outputs": [],
   "source": [
    "def get_image():\n",
    "    open_cv_image = np.array(output)\n",
    "    image = cv2.cvtColor(open_cv_image, cv2.COLOR_BGR2RGB)\n",
    "    return image"
   ]
  },
  {
   "cell_type": "code",
   "execution_count": null,
   "metadata": {},
   "outputs": [],
   "source": [
    "# Loading the image\n",
    "image = get_image()\n",
    "#image = output"
   ]
  },
  {
   "cell_type": "markdown",
   "metadata": {},
   "source": [
    "## Clustering the colors"
   ]
  },
  {
   "cell_type": "code",
   "execution_count": null,
   "metadata": {},
   "outputs": [],
   "source": [
    "number_of_colors = 5\n",
    "modified_image = image.reshape(image.shape[0]*image.shape[1], 3)\n",
    "clf = KMeans(n_clusters = number_of_colors)\n",
    "labels = clf.fit_predict(modified_image)"
   ]
  },
  {
   "cell_type": "code",
   "execution_count": null,
   "metadata": {},
   "outputs": [],
   "source": [
    "counts = Counter(labels)\n",
    "center_colors = clf.cluster_centers_\n",
    "\n",
    "# Getting ordered colors by iterating through the keys\n",
    "ordered_colors = [center_colors[i] for i in counts.keys()]\n",
    "hex_colors = [RGB2HEX(ordered_colors[i]) for i in counts.keys()]\n",
    "rgb_colors = [ordered_colors[i] for i in counts.keys()]"
   ]
  },
  {
   "cell_type": "markdown",
   "metadata": {},
   "source": [
    "## Plotting the colors (centroids)"
   ]
  },
  {
   "cell_type": "code",
   "execution_count": null,
   "metadata": {
    "scrolled": true
   },
   "outputs": [],
   "source": [
    "# Plotting the colors\n",
    "plt.title(f'Colors Detection ($n={number_of_colors}$)', fontsize=20)\n",
    "plt.pie(counts.values(), labels = hex_colors, colors = hex_colors)"
   ]
  },
  {
   "cell_type": "code",
   "execution_count": null,
   "metadata": {
    "id": "OSEWEnH6XRr9"
   },
   "outputs": [],
   "source": [
    "# Calling the function\n",
    "#url = 'https://github.com/seblap86/mold_detection/blob/main/prototype/test_images/lemon.png'\n",
    "url = 'https://github.com/seblap86/mold_detection/blob/main/prototype/test_images/more_mold_1.png'\n",
    "output = loading_removing_background(url)\n",
    "#output"
   ]
  },
  {
   "cell_type": "code",
   "execution_count": null,
   "metadata": {},
   "outputs": [],
   "source": [
    "# Some styling stuff\n",
    "plt.style.use('ggplot')\n",
    "plt.rcParams['font.family'] = 'sans-serif' \n",
    "plt.rcParams['font.serif'] = 'Ubuntu' \n",
    "plt.rcParams['font.monospace'] = 'Ubuntu Mono' \n",
    "plt.rcParams['font.size'] = 14 \n",
    "plt.rcParams['axes.labelsize'] = 12 \n",
    "plt.rcParams['axes.labelweight'] = 'bold' \n",
    "plt.rcParams['axes.titlesize'] = 12 \n",
    "plt.rcParams['xtick.labelsize'] = 12 \n",
    "plt.rcParams['ytick.labelsize'] = 12 \n",
    "plt.rcParams['legend.fontsize'] = 12 \n",
    "plt.rcParams['figure.titlesize'] = 12 \n",
    "plt.rcParams['image.cmap'] = 'jet' \n",
    "plt.rcParams['image.interpolation'] = 'none' \n",
    "plt.rcParams['figure.figsize'] = (10, 10) \n",
    "plt.rcParams['axes.grid']=False\n",
    "plt.rcParams['lines.linewidth'] = 2 \n",
    "plt.rcParams['lines.markersize'] = 8\n",
    "colors = ['xkcd:pale orange', 'xkcd:sea blue', 'xkcd:pale red', 'xkcd:sage green', 'xkcd:terra cotta', 'xkcd:dull purple', 'xkcd:teal', 'xkcd: goldenrod', 'xkcd:cadet blue', 'xkcd:scarlet']"
   ]
  },
  {
   "cell_type": "markdown",
   "metadata": {
    "id": "EA0oR2OfdP3N"
   },
   "source": [
    "## HEX color labeling"
   ]
  },
  {
   "cell_type": "code",
   "execution_count": null,
   "metadata": {},
   "outputs": [],
   "source": [
    "'''\n",
    "The main idea is that it is possible to use the image as a (N_rows X N_columns X N_channels) vector. \n",
    "Considering this vector, it is possible to apply the K Means algorithm and identify k clusters, that will be our colors.\n",
    "\n",
    "https://towardsdatascience.com/image-color-identification-with-machine-learning-and-image-processing-using-python-f3dd0606bdca\n",
    "'''"
   ]
  },
  {
   "cell_type": "code",
   "execution_count": null,
   "metadata": {},
   "outputs": [],
   "source": [
    "# Functions\n",
    "#def get_image(): # Gets the image\n",
    "#    image = cv2.imread(image_path)\n",
    "#    image = cv2.cvtColor(image, cv2.COLOR_BGR2RGB)\n",
    "#    return image\n",
    "\n",
    "def RGB2HEX(color): # Gets the HEX code of a... pixel((?))\n",
    "    return \"#{:02x}{:02x}{:02x}\".format(int(color[0]), int(color[1]), int(color[2]))"
   ]
  },
  {
   "cell_type": "code",
   "execution_count": null,
   "metadata": {},
   "outputs": [],
   "source": [
    "def get_image():\n",
    "    open_cv_image = np.array(output)\n",
    "    image = cv2.cvtColor(open_cv_image, cv2.COLOR_BGR2RGB)\n",
    "    return image"
   ]
  },
  {
   "cell_type": "code",
   "execution_count": null,
   "metadata": {},
   "outputs": [],
   "source": [
    "# Loading the image\n",
    "image = get_image()\n",
    "#image = output"
   ]
  },
  {
   "cell_type": "markdown",
   "metadata": {},
   "source": [
    "## Clustering the colors"
   ]
  },
  {
   "cell_type": "code",
   "execution_count": null,
   "metadata": {},
   "outputs": [],
   "source": [
    "number_of_colors = 5\n",
    "modified_image = image.reshape(image.shape[0]*image.shape[1], 3)\n",
    "clf = KMeans(n_clusters = number_of_colors)\n",
    "labels = clf.fit_predict(modified_image)"
   ]
  },
  {
   "cell_type": "code",
   "execution_count": null,
   "metadata": {},
   "outputs": [],
   "source": [
    "counts = Counter(labels)\n",
    "center_colors = clf.cluster_centers_\n",
    "\n",
    "# Getting ordered colors by iterating through the keys\n",
    "ordered_colors = [center_colors[i] for i in counts.keys()]\n",
    "hex_colors = [RGB2HEX(ordered_colors[i]) for i in counts.keys()]\n",
    "rgb_colors = [ordered_colors[i] for i in counts.keys()]"
   ]
  },
  {
   "cell_type": "markdown",
   "metadata": {},
   "source": [
    "## Plotting the colors (centroids)"
   ]
  },
  {
   "cell_type": "code",
   "execution_count": null,
   "metadata": {
    "scrolled": true
   },
   "outputs": [],
   "source": [
    "# Plotting the colors\n",
    "plt.title(f'Colors Detection ($n={number_of_colors}$)', fontsize=20)\n",
    "plt.pie(counts.values(), labels = hex_colors, colors = hex_colors)"
   ]
  },
  {
   "cell_type": "code",
   "execution_count": null,
   "metadata": {
    "id": "OSEWEnH6XRr9"
   },
   "outputs": [],
   "source": [
    "# Calling the function\n",
    "#url = 'https://github.com/seblap86/mold_detection/blob/main/prototype/test_images/lemon.png'\n",
    "url = 'https://github.com/seblap86/mold_detection/blob/main/prototype/test_images/more_mold_2.png'\n",
    "output = loading_removing_background(url)\n",
    "#output"
   ]
  },
  {
   "cell_type": "code",
   "execution_count": null,
   "metadata": {},
   "outputs": [],
   "source": [
    "# Some styling stuff\n",
    "plt.style.use('ggplot')\n",
    "plt.rcParams['font.family'] = 'sans-serif' \n",
    "plt.rcParams['font.serif'] = 'Ubuntu' \n",
    "plt.rcParams['font.monospace'] = 'Ubuntu Mono' \n",
    "plt.rcParams['font.size'] = 14 \n",
    "plt.rcParams['axes.labelsize'] = 12 \n",
    "plt.rcParams['axes.labelweight'] = 'bold' \n",
    "plt.rcParams['axes.titlesize'] = 12 \n",
    "plt.rcParams['xtick.labelsize'] = 12 \n",
    "plt.rcParams['ytick.labelsize'] = 12 \n",
    "plt.rcParams['legend.fontsize'] = 12 \n",
    "plt.rcParams['figure.titlesize'] = 12 \n",
    "plt.rcParams['image.cmap'] = 'jet' \n",
    "plt.rcParams['image.interpolation'] = 'none' \n",
    "plt.rcParams['figure.figsize'] = (10, 10) \n",
    "plt.rcParams['axes.grid']=False\n",
    "plt.rcParams['lines.linewidth'] = 2 \n",
    "plt.rcParams['lines.markersize'] = 8\n",
    "colors = ['xkcd:pale orange', 'xkcd:sea blue', 'xkcd:pale red', 'xkcd:sage green', 'xkcd:terra cotta', 'xkcd:dull purple', 'xkcd:teal', 'xkcd: goldenrod', 'xkcd:cadet blue', 'xkcd:scarlet']"
   ]
  },
  {
   "cell_type": "markdown",
   "metadata": {
    "id": "EA0oR2OfdP3N"
   },
   "source": [
    "## HEX color labeling"
   ]
  },
  {
   "cell_type": "code",
   "execution_count": null,
   "metadata": {},
   "outputs": [],
   "source": [
    "'''\n",
    "The main idea is that it is possible to use the image as a (N_rows X N_columns X N_channels) vector. \n",
    "Considering this vector, it is possible to apply the K Means algorithm and identify k clusters, that will be our colors.\n",
    "\n",
    "https://towardsdatascience.com/image-color-identification-with-machine-learning-and-image-processing-using-python-f3dd0606bdca\n",
    "'''"
   ]
  },
  {
   "cell_type": "code",
   "execution_count": null,
   "metadata": {},
   "outputs": [],
   "source": [
    "# Functions\n",
    "#def get_image(): # Gets the image\n",
    "#    image = cv2.imread(image_path)\n",
    "#    image = cv2.cvtColor(image, cv2.COLOR_BGR2RGB)\n",
    "#    return image\n",
    "\n",
    "def RGB2HEX(color): # Gets the HEX code of a... pixel((?))\n",
    "    return \"#{:02x}{:02x}{:02x}\".format(int(color[0]), int(color[1]), int(color[2]))"
   ]
  },
  {
   "cell_type": "code",
   "execution_count": null,
   "metadata": {},
   "outputs": [],
   "source": [
    "def get_image():\n",
    "    open_cv_image = np.array(output)\n",
    "    image = cv2.cvtColor(open_cv_image, cv2.COLOR_BGR2RGB)\n",
    "    return image"
   ]
  },
  {
   "cell_type": "code",
   "execution_count": null,
   "metadata": {},
   "outputs": [],
   "source": [
    "# Loading the image\n",
    "image = get_image()\n",
    "#image = output"
   ]
  },
  {
   "cell_type": "markdown",
   "metadata": {},
   "source": [
    "## Clustering the colors"
   ]
  },
  {
   "cell_type": "code",
   "execution_count": null,
   "metadata": {},
   "outputs": [],
   "source": [
    "number_of_colors = 5\n",
    "modified_image = image.reshape(image.shape[0]*image.shape[1], 3)\n",
    "clf = KMeans(n_clusters = number_of_colors)\n",
    "labels = clf.fit_predict(modified_image)"
   ]
  },
  {
   "cell_type": "code",
   "execution_count": null,
   "metadata": {},
   "outputs": [],
   "source": [
    "counts = Counter(labels)\n",
    "center_colors = clf.cluster_centers_\n",
    "\n",
    "# Getting ordered colors by iterating through the keys\n",
    "ordered_colors = [center_colors[i] for i in counts.keys()]\n",
    "hex_colors = [RGB2HEX(ordered_colors[i]) for i in counts.keys()]\n",
    "rgb_colors = [ordered_colors[i] for i in counts.keys()]"
   ]
  },
  {
   "cell_type": "markdown",
   "metadata": {},
   "source": [
    "## Plotting the colors (centroids)"
   ]
  },
  {
   "cell_type": "code",
   "execution_count": null,
   "metadata": {
    "scrolled": true
   },
   "outputs": [],
   "source": [
    "# Plotting the colors\n",
    "plt.title(f'Colors Detection ($n={number_of_colors}$)', fontsize=20)\n",
    "plt.pie(counts.values(), labels = hex_colors, colors = hex_colors)"
   ]
  },
  {
   "cell_type": "code",
   "execution_count": null,
   "metadata": {
    "id": "OSEWEnH6XRr9"
   },
   "outputs": [],
   "source": [
    "# Calling the function\n",
    "#url = 'https://github.com/seblap86/mold_detection/blob/main/prototype/test_images/lemon.png'\n",
    "url = 'https://github.com/seblap86/mold_detection/blob/main/prototype/test_images/more_mold_3.png'\n",
    "output = loading_removing_background(url)\n",
    "#output"
   ]
  },
  {
   "cell_type": "code",
   "execution_count": null,
   "metadata": {},
   "outputs": [],
   "source": [
    "# Some styling stuff\n",
    "plt.style.use('ggplot')\n",
    "plt.rcParams['font.family'] = 'sans-serif' \n",
    "plt.rcParams['font.serif'] = 'Ubuntu' \n",
    "plt.rcParams['font.monospace'] = 'Ubuntu Mono' \n",
    "plt.rcParams['font.size'] = 14 \n",
    "plt.rcParams['axes.labelsize'] = 12 \n",
    "plt.rcParams['axes.labelweight'] = 'bold' \n",
    "plt.rcParams['axes.titlesize'] = 12 \n",
    "plt.rcParams['xtick.labelsize'] = 12 \n",
    "plt.rcParams['ytick.labelsize'] = 12 \n",
    "plt.rcParams['legend.fontsize'] = 12 \n",
    "plt.rcParams['figure.titlesize'] = 12 \n",
    "plt.rcParams['image.cmap'] = 'jet' \n",
    "plt.rcParams['image.interpolation'] = 'none' \n",
    "plt.rcParams['figure.figsize'] = (10, 10) \n",
    "plt.rcParams['axes.grid']=False\n",
    "plt.rcParams['lines.linewidth'] = 2 \n",
    "plt.rcParams['lines.markersize'] = 8\n",
    "colors = ['xkcd:pale orange', 'xkcd:sea blue', 'xkcd:pale red', 'xkcd:sage green', 'xkcd:terra cotta', 'xkcd:dull purple', 'xkcd:teal', 'xkcd: goldenrod', 'xkcd:cadet blue', 'xkcd:scarlet']"
   ]
  },
  {
   "cell_type": "markdown",
   "metadata": {
    "id": "EA0oR2OfdP3N"
   },
   "source": [
    "## HEX color labeling"
   ]
  },
  {
   "cell_type": "code",
   "execution_count": null,
   "metadata": {},
   "outputs": [],
   "source": [
    "'''\n",
    "The main idea is that it is possible to use the image as a (N_rows X N_columns X N_channels) vector. \n",
    "Considering this vector, it is possible to apply the K Means algorithm and identify k clusters, that will be our colors.\n",
    "\n",
    "https://towardsdatascience.com/image-color-identification-with-machine-learning-and-image-processing-using-python-f3dd0606bdca\n",
    "'''"
   ]
  },
  {
   "cell_type": "code",
   "execution_count": null,
   "metadata": {},
   "outputs": [],
   "source": [
    "# Functions\n",
    "#def get_image(): # Gets the image\n",
    "#    image = cv2.imread(image_path)\n",
    "#    image = cv2.cvtColor(image, cv2.COLOR_BGR2RGB)\n",
    "#    return image\n",
    "\n",
    "def RGB2HEX(color): # Gets the HEX code of a... pixel((?))\n",
    "    return \"#{:02x}{:02x}{:02x}\".format(int(color[0]), int(color[1]), int(color[2]))"
   ]
  },
  {
   "cell_type": "code",
   "execution_count": null,
   "metadata": {},
   "outputs": [],
   "source": [
    "def get_image():\n",
    "    open_cv_image = np.array(output)\n",
    "    image = cv2.cvtColor(open_cv_image, cv2.COLOR_BGR2RGB)\n",
    "    return image"
   ]
  },
  {
   "cell_type": "code",
   "execution_count": null,
   "metadata": {},
   "outputs": [],
   "source": [
    "# Loading the image\n",
    "image = get_image()\n",
    "#image = output"
   ]
  },
  {
   "cell_type": "markdown",
   "metadata": {},
   "source": [
    "## Clustering the colors"
   ]
  },
  {
   "cell_type": "code",
   "execution_count": null,
   "metadata": {},
   "outputs": [],
   "source": [
    "number_of_colors = 5\n",
    "modified_image = image.reshape(image.shape[0]*image.shape[1], 3)\n",
    "clf = KMeans(n_clusters = number_of_colors)\n",
    "labels = clf.fit_predict(modified_image)"
   ]
  },
  {
   "cell_type": "code",
   "execution_count": null,
   "metadata": {},
   "outputs": [],
   "source": [
    "counts = Counter(labels)\n",
    "center_colors = clf.cluster_centers_\n",
    "\n",
    "# Getting ordered colors by iterating through the keys\n",
    "ordered_colors = [center_colors[i] for i in counts.keys()]\n",
    "hex_colors = [RGB2HEX(ordered_colors[i]) for i in counts.keys()]\n",
    "rgb_colors = [ordered_colors[i] for i in counts.keys()]"
   ]
  },
  {
   "cell_type": "markdown",
   "metadata": {},
   "source": [
    "## Plotting the colors (centroids)"
   ]
  },
  {
   "cell_type": "code",
   "execution_count": null,
   "metadata": {
    "scrolled": true
   },
   "outputs": [],
   "source": [
    "# Plotting the colors\n",
    "plt.title(f'Colors Detection ($n={number_of_colors}$)', fontsize=20)\n",
    "plt.pie(counts.values(), labels = hex_colors, colors = hex_colors)"
   ]
  },
  {
   "cell_type": "code",
   "execution_count": null,
   "metadata": {
    "id": "OSEWEnH6XRr9"
   },
   "outputs": [],
   "source": [
    "# Calling the function\n",
    "#url = 'https://github.com/seblap86/mold_detection/blob/main/prototype/test_images/lemon.png'\n",
    "url = 'https://github.com/seblap86/mold_detection/blob/main/prototype/test_images/more_mold_4.png'\n",
    "output = loading_removing_background(url)\n",
    "#output"
   ]
  },
  {
   "cell_type": "code",
   "execution_count": null,
   "metadata": {},
   "outputs": [],
   "source": [
    "# Some styling stuff\n",
    "plt.style.use('ggplot')\n",
    "plt.rcParams['font.family'] = 'sans-serif' \n",
    "plt.rcParams['font.serif'] = 'Ubuntu' \n",
    "plt.rcParams['font.monospace'] = 'Ubuntu Mono' \n",
    "plt.rcParams['font.size'] = 14 \n",
    "plt.rcParams['axes.labelsize'] = 12 \n",
    "plt.rcParams['axes.labelweight'] = 'bold' \n",
    "plt.rcParams['axes.titlesize'] = 12 \n",
    "plt.rcParams['xtick.labelsize'] = 12 \n",
    "plt.rcParams['ytick.labelsize'] = 12 \n",
    "plt.rcParams['legend.fontsize'] = 12 \n",
    "plt.rcParams['figure.titlesize'] = 12 \n",
    "plt.rcParams['image.cmap'] = 'jet' \n",
    "plt.rcParams['image.interpolation'] = 'none' \n",
    "plt.rcParams['figure.figsize'] = (10, 10) \n",
    "plt.rcParams['axes.grid']=False\n",
    "plt.rcParams['lines.linewidth'] = 2 \n",
    "plt.rcParams['lines.markersize'] = 8\n",
    "colors = ['xkcd:pale orange', 'xkcd:sea blue', 'xkcd:pale red', 'xkcd:sage green', 'xkcd:terra cotta', 'xkcd:dull purple', 'xkcd:teal', 'xkcd: goldenrod', 'xkcd:cadet blue', 'xkcd:scarlet']"
   ]
  },
  {
   "cell_type": "markdown",
   "metadata": {
    "id": "EA0oR2OfdP3N"
   },
   "source": [
    "## HEX color labeling"
   ]
  },
  {
   "cell_type": "code",
   "execution_count": null,
   "metadata": {},
   "outputs": [],
   "source": [
    "'''\n",
    "The main idea is that it is possible to use the image as a (N_rows X N_columns X N_channels) vector. \n",
    "Considering this vector, it is possible to apply the K Means algorithm and identify k clusters, that will be our colors.\n",
    "\n",
    "https://towardsdatascience.com/image-color-identification-with-machine-learning-and-image-processing-using-python-f3dd0606bdca\n",
    "'''"
   ]
  },
  {
   "cell_type": "code",
   "execution_count": null,
   "metadata": {},
   "outputs": [],
   "source": [
    "# Functions\n",
    "#def get_image(): # Gets the image\n",
    "#    image = cv2.imread(image_path)\n",
    "#    image = cv2.cvtColor(image, cv2.COLOR_BGR2RGB)\n",
    "#    return image\n",
    "\n",
    "def RGB2HEX(color): # Gets the HEX code of a... pixel((?))\n",
    "    return \"#{:02x}{:02x}{:02x}\".format(int(color[0]), int(color[1]), int(color[2]))"
   ]
  },
  {
   "cell_type": "code",
   "execution_count": null,
   "metadata": {},
   "outputs": [],
   "source": [
    "def get_image():\n",
    "    open_cv_image = np.array(output)\n",
    "    image = cv2.cvtColor(open_cv_image, cv2.COLOR_BGR2RGB)\n",
    "    return image"
   ]
  },
  {
   "cell_type": "code",
   "execution_count": null,
   "metadata": {},
   "outputs": [],
   "source": [
    "# Loading the image\n",
    "image = get_image()\n",
    "#image = output"
   ]
  },
  {
   "cell_type": "markdown",
   "metadata": {},
   "source": [
    "## Clustering the colors"
   ]
  },
  {
   "cell_type": "code",
   "execution_count": null,
   "metadata": {},
   "outputs": [],
   "source": [
    "number_of_colors = 5\n",
    "modified_image = image.reshape(image.shape[0]*image.shape[1], 3)\n",
    "clf = KMeans(n_clusters = number_of_colors)\n",
    "labels = clf.fit_predict(modified_image)"
   ]
  },
  {
   "cell_type": "code",
   "execution_count": null,
   "metadata": {},
   "outputs": [],
   "source": [
    "counts = Counter(labels)\n",
    "center_colors = clf.cluster_centers_\n",
    "\n",
    "# Getting ordered colors by iterating through the keys\n",
    "ordered_colors = [center_colors[i] for i in counts.keys()]\n",
    "hex_colors = [RGB2HEX(ordered_colors[i]) for i in counts.keys()]\n",
    "rgb_colors = [ordered_colors[i] for i in counts.keys()]"
   ]
  },
  {
   "cell_type": "markdown",
   "metadata": {},
   "source": [
    "## Plotting the colors (centroids)"
   ]
  },
  {
   "cell_type": "code",
   "execution_count": null,
   "metadata": {
    "scrolled": true
   },
   "outputs": [],
   "source": [
    "# Plotting the colors\n",
    "plt.title(f'Colors Detection ($n={number_of_colors}$)', fontsize=20)\n",
    "plt.pie(counts.values(), labels = hex_colors, colors = hex_colors)"
   ]
  },
  {
   "cell_type": "code",
   "execution_count": null,
   "metadata": {
    "id": "OSEWEnH6XRr9"
   },
   "outputs": [],
   "source": [
    "# Calling the function\n",
    "#url = 'https://github.com/seblap86/mold_detection/blob/main/prototype/test_images/lemon.png'\n",
    "url = 'https://github.com/seblap86/mold_detection/blob/main/prototype/test_images/more_mold_5.png'\n",
    "output = loading_removing_background(url)\n",
    "#output"
   ]
  },
  {
   "cell_type": "code",
   "execution_count": null,
   "metadata": {},
   "outputs": [],
   "source": [
    "# Some styling stuff\n",
    "plt.style.use('ggplot')\n",
    "plt.rcParams['font.family'] = 'sans-serif' \n",
    "plt.rcParams['font.serif'] = 'Ubuntu' \n",
    "plt.rcParams['font.monospace'] = 'Ubuntu Mono' \n",
    "plt.rcParams['font.size'] = 14 \n",
    "plt.rcParams['axes.labelsize'] = 12 \n",
    "plt.rcParams['axes.labelweight'] = 'bold' \n",
    "plt.rcParams['axes.titlesize'] = 12 \n",
    "plt.rcParams['xtick.labelsize'] = 12 \n",
    "plt.rcParams['ytick.labelsize'] = 12 \n",
    "plt.rcParams['legend.fontsize'] = 12 \n",
    "plt.rcParams['figure.titlesize'] = 12 \n",
    "plt.rcParams['image.cmap'] = 'jet' \n",
    "plt.rcParams['image.interpolation'] = 'none' \n",
    "plt.rcParams['figure.figsize'] = (10, 10) \n",
    "plt.rcParams['axes.grid']=False\n",
    "plt.rcParams['lines.linewidth'] = 2 \n",
    "plt.rcParams['lines.markersize'] = 8\n",
    "colors = ['xkcd:pale orange', 'xkcd:sea blue', 'xkcd:pale red', 'xkcd:sage green', 'xkcd:terra cotta', 'xkcd:dull purple', 'xkcd:teal', 'xkcd: goldenrod', 'xkcd:cadet blue', 'xkcd:scarlet']"
   ]
  },
  {
   "cell_type": "markdown",
   "metadata": {
    "id": "EA0oR2OfdP3N"
   },
   "source": [
    "## HEX color labeling"
   ]
  },
  {
   "cell_type": "code",
   "execution_count": null,
   "metadata": {},
   "outputs": [],
   "source": [
    "'''\n",
    "The main idea is that it is possible to use the image as a (N_rows X N_columns X N_channels) vector. \n",
    "Considering this vector, it is possible to apply the K Means algorithm and identify k clusters, that will be our colors.\n",
    "\n",
    "https://towardsdatascience.com/image-color-identification-with-machine-learning-and-image-processing-using-python-f3dd0606bdca\n",
    "'''"
   ]
  },
  {
   "cell_type": "code",
   "execution_count": null,
   "metadata": {},
   "outputs": [],
   "source": [
    "# Functions\n",
    "#def get_image(): # Gets the image\n",
    "#    image = cv2.imread(image_path)\n",
    "#    image = cv2.cvtColor(image, cv2.COLOR_BGR2RGB)\n",
    "#    return image\n",
    "\n",
    "def RGB2HEX(color): # Gets the HEX code of a... pixel((?))\n",
    "    return \"#{:02x}{:02x}{:02x}\".format(int(color[0]), int(color[1]), int(color[2]))"
   ]
  },
  {
   "cell_type": "code",
   "execution_count": null,
   "metadata": {},
   "outputs": [],
   "source": [
    "def get_image():\n",
    "    open_cv_image = np.array(output)\n",
    "    image = cv2.cvtColor(open_cv_image, cv2.COLOR_BGR2RGB)\n",
    "    return image"
   ]
  },
  {
   "cell_type": "code",
   "execution_count": null,
   "metadata": {},
   "outputs": [],
   "source": [
    "# Loading the image\n",
    "image = get_image()\n",
    "#image = output"
   ]
  },
  {
   "cell_type": "markdown",
   "metadata": {},
   "source": [
    "## Clustering the colors"
   ]
  },
  {
   "cell_type": "code",
   "execution_count": null,
   "metadata": {},
   "outputs": [],
   "source": [
    "number_of_colors = 6\n",
    "modified_image = image.reshape(image.shape[0]*image.shape[1], 3)\n",
    "clf = KMeans(n_clusters = number_of_colors)\n",
    "labels = clf.fit_predict(modified_image)"
   ]
  },
  {
   "cell_type": "code",
   "execution_count": null,
   "metadata": {},
   "outputs": [],
   "source": [
    "counts = Counter(labels)\n",
    "center_colors = clf.cluster_centers_\n",
    "\n",
    "# Getting ordered colors by iterating through the keys\n",
    "ordered_colors = [center_colors[i] for i in counts.keys()]\n",
    "hex_colors = [RGB2HEX(ordered_colors[i]) for i in counts.keys()]\n",
    "rgb_colors = [ordered_colors[i] for i in counts.keys()]"
   ]
  },
  {
   "cell_type": "markdown",
   "metadata": {},
   "source": [
    "## Plotting the colors (centroids)"
   ]
  },
  {
   "cell_type": "code",
   "execution_count": null,
   "metadata": {
    "scrolled": true
   },
   "outputs": [],
   "source": [
    "# Plotting the colors\n",
    "plt.title(f'Colors Detection ($n={number_of_colors}$)', fontsize=20)\n",
    "plt.pie(counts.values(), labels = hex_colors, colors = hex_colors)"
   ]
  },
  {
   "cell_type": "code",
   "execution_count": null,
   "metadata": {},
   "outputs": [],
   "source": []
  }
 ],
 "metadata": {
  "colab": {
   "collapsed_sections": [
    "4Anz_bzMaIQK"
   ],
   "provenance": []
  },
  "kernelspec": {
   "display_name": "Python 3 (ipykernel)",
   "language": "python",
   "name": "python3"
  },
  "language_info": {
   "codemirror_mode": {
    "name": "ipython",
    "version": 3
   },
   "file_extension": ".py",
   "mimetype": "text/x-python",
   "name": "python",
   "nbconvert_exporter": "python",
   "pygments_lexer": "ipython3",
   "version": "3.10.9"
  }
 },
 "nbformat": 4,
 "nbformat_minor": 1
}

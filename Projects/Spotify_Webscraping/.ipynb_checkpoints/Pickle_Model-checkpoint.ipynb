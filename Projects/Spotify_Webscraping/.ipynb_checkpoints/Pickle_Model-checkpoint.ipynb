{
 "cells": [
  {
   "cell_type": "code",
   "execution_count": 1,
   "id": "cfc9d164",
   "metadata": {},
   "outputs": [],
   "source": [
    "import numpy as np\n",
    "import pandas as pd\n",
    "import pickle\n",
    "from sklearn import datasets # sklearn comes with some toy datasets to practice\n",
    "from sklearn.preprocessing import StandardScaler\n",
    "from sklearn.cluster import KMeans\n",
    "import matplotlib.pyplot as plt\n",
    "from sklearn.metrics import silhouette_score"
   ]
  },
  {
   "cell_type": "code",
   "execution_count": 2,
   "id": "580be9f1",
   "metadata": {},
   "outputs": [],
   "source": [
    "music_df = pd.read_csv('music_df.csv')"
   ]
  },
  {
   "cell_type": "code",
   "execution_count": 3,
   "id": "c2075155",
   "metadata": {},
   "outputs": [
    {
     "data": {
      "text/html": [
       "<div>\n",
       "<style scoped>\n",
       "    .dataframe tbody tr th:only-of-type {\n",
       "        vertical-align: middle;\n",
       "    }\n",
       "\n",
       "    .dataframe tbody tr th {\n",
       "        vertical-align: top;\n",
       "    }\n",
       "\n",
       "    .dataframe thead th {\n",
       "        text-align: right;\n",
       "    }\n",
       "</style>\n",
       "<table border=\"1\" class=\"dataframe\">\n",
       "  <thead>\n",
       "    <tr style=\"text-align: right;\">\n",
       "      <th></th>\n",
       "      <th>danceability</th>\n",
       "      <th>energy</th>\n",
       "      <th>key</th>\n",
       "      <th>loudness</th>\n",
       "      <th>mode</th>\n",
       "      <th>speechiness</th>\n",
       "      <th>acousticness</th>\n",
       "      <th>instrumentalness</th>\n",
       "      <th>liveness</th>\n",
       "      <th>valence</th>\n",
       "      <th>tempo</th>\n",
       "      <th>type</th>\n",
       "      <th>id</th>\n",
       "      <th>uri</th>\n",
       "      <th>track_href</th>\n",
       "      <th>analysis_url</th>\n",
       "      <th>duration_ms</th>\n",
       "      <th>time_signature</th>\n",
       "    </tr>\n",
       "  </thead>\n",
       "  <tbody>\n",
       "    <tr>\n",
       "      <th>0</th>\n",
       "      <td>0.796</td>\n",
       "      <td>0.865</td>\n",
       "      <td>9</td>\n",
       "      <td>-6.760</td>\n",
       "      <td>0</td>\n",
       "      <td>0.0801</td>\n",
       "      <td>0.17900</td>\n",
       "      <td>0.011400</td>\n",
       "      <td>0.0852</td>\n",
       "      <td>0.768</td>\n",
       "      <td>130.012</td>\n",
       "      <td>audio_features</td>\n",
       "      <td>5qQLBOEAelSN7JWqX3RIIv</td>\n",
       "      <td>spotify:track:5qQLBOEAelSN7JWqX3RIIv</td>\n",
       "      <td>https://api.spotify.com/v1/tracks/5qQLBOEAelSN...</td>\n",
       "      <td>https://api.spotify.com/v1/audio-analysis/5qQL...</td>\n",
       "      <td>136988</td>\n",
       "      <td>4</td>\n",
       "    </tr>\n",
       "    <tr>\n",
       "      <th>1</th>\n",
       "      <td>0.776</td>\n",
       "      <td>0.714</td>\n",
       "      <td>1</td>\n",
       "      <td>-5.705</td>\n",
       "      <td>1</td>\n",
       "      <td>0.3350</td>\n",
       "      <td>0.02830</td>\n",
       "      <td>0.000000</td>\n",
       "      <td>0.2270</td>\n",
       "      <td>0.433</td>\n",
       "      <td>161.015</td>\n",
       "      <td>audio_features</td>\n",
       "      <td>4rSmXn2TIKt6iBeBDM4uOs</td>\n",
       "      <td>spotify:track:4rSmXn2TIKt6iBeBDM4uOs</td>\n",
       "      <td>https://api.spotify.com/v1/tracks/4rSmXn2TIKt6...</td>\n",
       "      <td>https://api.spotify.com/v1/audio-analysis/4rSm...</td>\n",
       "      <td>149444</td>\n",
       "      <td>4</td>\n",
       "    </tr>\n",
       "    <tr>\n",
       "      <th>2</th>\n",
       "      <td>0.960</td>\n",
       "      <td>0.670</td>\n",
       "      <td>3</td>\n",
       "      <td>-7.035</td>\n",
       "      <td>0</td>\n",
       "      <td>0.3150</td>\n",
       "      <td>0.05980</td>\n",
       "      <td>0.000016</td>\n",
       "      <td>0.1710</td>\n",
       "      <td>0.800</td>\n",
       "      <td>133.966</td>\n",
       "      <td>audio_features</td>\n",
       "      <td>6R5iuYqG0HsnC41RT3lzqX</td>\n",
       "      <td>spotify:track:6R5iuYqG0HsnC41RT3lzqX</td>\n",
       "      <td>https://api.spotify.com/v1/tracks/6R5iuYqG0Hsn...</td>\n",
       "      <td>https://api.spotify.com/v1/audio-analysis/6R5i...</td>\n",
       "      <td>174232</td>\n",
       "      <td>4</td>\n",
       "    </tr>\n",
       "    <tr>\n",
       "      <th>3</th>\n",
       "      <td>0.752</td>\n",
       "      <td>0.571</td>\n",
       "      <td>2</td>\n",
       "      <td>-6.422</td>\n",
       "      <td>1</td>\n",
       "      <td>0.0510</td>\n",
       "      <td>0.07230</td>\n",
       "      <td>0.529000</td>\n",
       "      <td>0.3140</td>\n",
       "      <td>0.492</td>\n",
       "      <td>169.155</td>\n",
       "      <td>audio_features</td>\n",
       "      <td>6FGPpwHlUBnl0TLGKyN4Nl</td>\n",
       "      <td>spotify:track:6FGPpwHlUBnl0TLGKyN4Nl</td>\n",
       "      <td>https://api.spotify.com/v1/tracks/6FGPpwHlUBnl...</td>\n",
       "      <td>https://api.spotify.com/v1/audio-analysis/6FGP...</td>\n",
       "      <td>83672</td>\n",
       "      <td>4</td>\n",
       "    </tr>\n",
       "    <tr>\n",
       "      <th>4</th>\n",
       "      <td>0.774</td>\n",
       "      <td>0.700</td>\n",
       "      <td>1</td>\n",
       "      <td>-7.334</td>\n",
       "      <td>1</td>\n",
       "      <td>0.2660</td>\n",
       "      <td>0.16300</td>\n",
       "      <td>0.000032</td>\n",
       "      <td>0.1690</td>\n",
       "      <td>0.624</td>\n",
       "      <td>81.990</td>\n",
       "      <td>audio_features</td>\n",
       "      <td>3ilgxZl5g7MOQCUiky3VOG</td>\n",
       "      <td>spotify:track:3ilgxZl5g7MOQCUiky3VOG</td>\n",
       "      <td>https://api.spotify.com/v1/tracks/3ilgxZl5g7MO...</td>\n",
       "      <td>https://api.spotify.com/v1/audio-analysis/3ilg...</td>\n",
       "      <td>147587</td>\n",
       "      <td>4</td>\n",
       "    </tr>\n",
       "    <tr>\n",
       "      <th>...</th>\n",
       "      <td>...</td>\n",
       "      <td>...</td>\n",
       "      <td>...</td>\n",
       "      <td>...</td>\n",
       "      <td>...</td>\n",
       "      <td>...</td>\n",
       "      <td>...</td>\n",
       "      <td>...</td>\n",
       "      <td>...</td>\n",
       "      <td>...</td>\n",
       "      <td>...</td>\n",
       "      <td>...</td>\n",
       "      <td>...</td>\n",
       "      <td>...</td>\n",
       "      <td>...</td>\n",
       "      <td>...</td>\n",
       "      <td>...</td>\n",
       "      <td>...</td>\n",
       "    </tr>\n",
       "    <tr>\n",
       "      <th>907</th>\n",
       "      <td>0.720</td>\n",
       "      <td>0.932</td>\n",
       "      <td>10</td>\n",
       "      <td>-4.204</td>\n",
       "      <td>1</td>\n",
       "      <td>0.0414</td>\n",
       "      <td>0.09760</td>\n",
       "      <td>0.000001</td>\n",
       "      <td>0.0673</td>\n",
       "      <td>0.918</td>\n",
       "      <td>130.928</td>\n",
       "      <td>audio_features</td>\n",
       "      <td>4cSSAsYt4afPzyaBdO0WVs</td>\n",
       "      <td>spotify:track:4cSSAsYt4afPzyaBdO0WVs</td>\n",
       "      <td>https://api.spotify.com/v1/tracks/4cSSAsYt4afP...</td>\n",
       "      <td>https://api.spotify.com/v1/audio-analysis/4cSS...</td>\n",
       "      <td>192627</td>\n",
       "      <td>4</td>\n",
       "    </tr>\n",
       "    <tr>\n",
       "      <th>908</th>\n",
       "      <td>0.667</td>\n",
       "      <td>0.821</td>\n",
       "      <td>11</td>\n",
       "      <td>-5.565</td>\n",
       "      <td>1</td>\n",
       "      <td>0.0398</td>\n",
       "      <td>0.09410</td>\n",
       "      <td>0.000003</td>\n",
       "      <td>0.0579</td>\n",
       "      <td>0.638</td>\n",
       "      <td>121.027</td>\n",
       "      <td>audio_features</td>\n",
       "      <td>3fGkWWpjU3xghZbKa2rQUW</td>\n",
       "      <td>spotify:track:3fGkWWpjU3xghZbKa2rQUW</td>\n",
       "      <td>https://api.spotify.com/v1/tracks/3fGkWWpjU3xg...</td>\n",
       "      <td>https://api.spotify.com/v1/audio-analysis/3fGk...</td>\n",
       "      <td>224992</td>\n",
       "      <td>4</td>\n",
       "    </tr>\n",
       "    <tr>\n",
       "      <th>909</th>\n",
       "      <td>0.704</td>\n",
       "      <td>0.934</td>\n",
       "      <td>7</td>\n",
       "      <td>-4.528</td>\n",
       "      <td>1</td>\n",
       "      <td>0.0728</td>\n",
       "      <td>0.02850</td>\n",
       "      <td>0.000000</td>\n",
       "      <td>0.2880</td>\n",
       "      <td>0.494</td>\n",
       "      <td>121.014</td>\n",
       "      <td>audio_features</td>\n",
       "      <td>1JlczCvmw3K2MizmtDvfp3</td>\n",
       "      <td>spotify:track:1JlczCvmw3K2MizmtDvfp3</td>\n",
       "      <td>https://api.spotify.com/v1/tracks/1JlczCvmw3K2...</td>\n",
       "      <td>https://api.spotify.com/v1/audio-analysis/1Jlc...</td>\n",
       "      <td>191053</td>\n",
       "      <td>4</td>\n",
       "    </tr>\n",
       "    <tr>\n",
       "      <th>910</th>\n",
       "      <td>0.716</td>\n",
       "      <td>0.695</td>\n",
       "      <td>5</td>\n",
       "      <td>-5.250</td>\n",
       "      <td>1</td>\n",
       "      <td>0.0354</td>\n",
       "      <td>0.00643</td>\n",
       "      <td>0.000015</td>\n",
       "      <td>0.1080</td>\n",
       "      <td>0.684</td>\n",
       "      <td>117.966</td>\n",
       "      <td>audio_features</td>\n",
       "      <td>0oUlljswfmHwdNpjHnn8Ii</td>\n",
       "      <td>spotify:track:0oUlljswfmHwdNpjHnn8Ii</td>\n",
       "      <td>https://api.spotify.com/v1/tracks/0oUlljswfmHw...</td>\n",
       "      <td>https://api.spotify.com/v1/audio-analysis/0oUl...</td>\n",
       "      <td>190907</td>\n",
       "      <td>4</td>\n",
       "    </tr>\n",
       "    <tr>\n",
       "      <th>911</th>\n",
       "      <td>0.700</td>\n",
       "      <td>0.892</td>\n",
       "      <td>1</td>\n",
       "      <td>-4.097</td>\n",
       "      <td>1</td>\n",
       "      <td>0.1040</td>\n",
       "      <td>0.04960</td>\n",
       "      <td>0.000000</td>\n",
       "      <td>0.0960</td>\n",
       "      <td>0.667</td>\n",
       "      <td>128.005</td>\n",
       "      <td>audio_features</td>\n",
       "      <td>3ML92qAQ18YE1OcCMYDy5Z</td>\n",
       "      <td>spotify:track:3ML92qAQ18YE1OcCMYDy5Z</td>\n",
       "      <td>https://api.spotify.com/v1/tracks/3ML92qAQ18YE...</td>\n",
       "      <td>https://api.spotify.com/v1/audio-analysis/3ML9...</td>\n",
       "      <td>191680</td>\n",
       "      <td>4</td>\n",
       "    </tr>\n",
       "  </tbody>\n",
       "</table>\n",
       "<p>912 rows × 18 columns</p>\n",
       "</div>"
      ],
      "text/plain": [
       "     danceability  energy  key  loudness  mode  speechiness  acousticness  \\\n",
       "0           0.796   0.865    9    -6.760     0       0.0801       0.17900   \n",
       "1           0.776   0.714    1    -5.705     1       0.3350       0.02830   \n",
       "2           0.960   0.670    3    -7.035     0       0.3150       0.05980   \n",
       "3           0.752   0.571    2    -6.422     1       0.0510       0.07230   \n",
       "4           0.774   0.700    1    -7.334     1       0.2660       0.16300   \n",
       "..            ...     ...  ...       ...   ...          ...           ...   \n",
       "907         0.720   0.932   10    -4.204     1       0.0414       0.09760   \n",
       "908         0.667   0.821   11    -5.565     1       0.0398       0.09410   \n",
       "909         0.704   0.934    7    -4.528     1       0.0728       0.02850   \n",
       "910         0.716   0.695    5    -5.250     1       0.0354       0.00643   \n",
       "911         0.700   0.892    1    -4.097     1       0.1040       0.04960   \n",
       "\n",
       "     instrumentalness  liveness  valence    tempo            type  \\\n",
       "0            0.011400    0.0852    0.768  130.012  audio_features   \n",
       "1            0.000000    0.2270    0.433  161.015  audio_features   \n",
       "2            0.000016    0.1710    0.800  133.966  audio_features   \n",
       "3            0.529000    0.3140    0.492  169.155  audio_features   \n",
       "4            0.000032    0.1690    0.624   81.990  audio_features   \n",
       "..                ...       ...      ...      ...             ...   \n",
       "907          0.000001    0.0673    0.918  130.928  audio_features   \n",
       "908          0.000003    0.0579    0.638  121.027  audio_features   \n",
       "909          0.000000    0.2880    0.494  121.014  audio_features   \n",
       "910          0.000015    0.1080    0.684  117.966  audio_features   \n",
       "911          0.000000    0.0960    0.667  128.005  audio_features   \n",
       "\n",
       "                         id                                   uri  \\\n",
       "0    5qQLBOEAelSN7JWqX3RIIv  spotify:track:5qQLBOEAelSN7JWqX3RIIv   \n",
       "1    4rSmXn2TIKt6iBeBDM4uOs  spotify:track:4rSmXn2TIKt6iBeBDM4uOs   \n",
       "2    6R5iuYqG0HsnC41RT3lzqX  spotify:track:6R5iuYqG0HsnC41RT3lzqX   \n",
       "3    6FGPpwHlUBnl0TLGKyN4Nl  spotify:track:6FGPpwHlUBnl0TLGKyN4Nl   \n",
       "4    3ilgxZl5g7MOQCUiky3VOG  spotify:track:3ilgxZl5g7MOQCUiky3VOG   \n",
       "..                      ...                                   ...   \n",
       "907  4cSSAsYt4afPzyaBdO0WVs  spotify:track:4cSSAsYt4afPzyaBdO0WVs   \n",
       "908  3fGkWWpjU3xghZbKa2rQUW  spotify:track:3fGkWWpjU3xghZbKa2rQUW   \n",
       "909  1JlczCvmw3K2MizmtDvfp3  spotify:track:1JlczCvmw3K2MizmtDvfp3   \n",
       "910  0oUlljswfmHwdNpjHnn8Ii  spotify:track:0oUlljswfmHwdNpjHnn8Ii   \n",
       "911  3ML92qAQ18YE1OcCMYDy5Z  spotify:track:3ML92qAQ18YE1OcCMYDy5Z   \n",
       "\n",
       "                                            track_href  \\\n",
       "0    https://api.spotify.com/v1/tracks/5qQLBOEAelSN...   \n",
       "1    https://api.spotify.com/v1/tracks/4rSmXn2TIKt6...   \n",
       "2    https://api.spotify.com/v1/tracks/6R5iuYqG0Hsn...   \n",
       "3    https://api.spotify.com/v1/tracks/6FGPpwHlUBnl...   \n",
       "4    https://api.spotify.com/v1/tracks/3ilgxZl5g7MO...   \n",
       "..                                                 ...   \n",
       "907  https://api.spotify.com/v1/tracks/4cSSAsYt4afP...   \n",
       "908  https://api.spotify.com/v1/tracks/3fGkWWpjU3xg...   \n",
       "909  https://api.spotify.com/v1/tracks/1JlczCvmw3K2...   \n",
       "910  https://api.spotify.com/v1/tracks/0oUlljswfmHw...   \n",
       "911  https://api.spotify.com/v1/tracks/3ML92qAQ18YE...   \n",
       "\n",
       "                                          analysis_url  duration_ms  \\\n",
       "0    https://api.spotify.com/v1/audio-analysis/5qQL...       136988   \n",
       "1    https://api.spotify.com/v1/audio-analysis/4rSm...       149444   \n",
       "2    https://api.spotify.com/v1/audio-analysis/6R5i...       174232   \n",
       "3    https://api.spotify.com/v1/audio-analysis/6FGP...        83672   \n",
       "4    https://api.spotify.com/v1/audio-analysis/3ilg...       147587   \n",
       "..                                                 ...          ...   \n",
       "907  https://api.spotify.com/v1/audio-analysis/4cSS...       192627   \n",
       "908  https://api.spotify.com/v1/audio-analysis/3fGk...       224992   \n",
       "909  https://api.spotify.com/v1/audio-analysis/1Jlc...       191053   \n",
       "910  https://api.spotify.com/v1/audio-analysis/0oUl...       190907   \n",
       "911  https://api.spotify.com/v1/audio-analysis/3ML9...       191680   \n",
       "\n",
       "     time_signature  \n",
       "0                 4  \n",
       "1                 4  \n",
       "2                 4  \n",
       "3                 4  \n",
       "4                 4  \n",
       "..              ...  \n",
       "907               4  \n",
       "908               4  \n",
       "909               4  \n",
       "910               4  \n",
       "911               4  \n",
       "\n",
       "[912 rows x 18 columns]"
      ]
     },
     "execution_count": 3,
     "metadata": {},
     "output_type": "execute_result"
    }
   ],
   "source": [
    "music_df"
   ]
  },
  {
   "cell_type": "code",
   "execution_count": 90,
   "id": "0edbd8d9",
   "metadata": {},
   "outputs": [],
   "source": [
    "music_select = music_df[['danceability','energy','loudness','tempo','valence','acousticness']]"
   ]
  },
  {
   "cell_type": "code",
   "execution_count": 91,
   "id": "5a5a1736",
   "metadata": {},
   "outputs": [
    {
     "data": {
      "text/html": [
       "<div>\n",
       "<style scoped>\n",
       "    .dataframe tbody tr th:only-of-type {\n",
       "        vertical-align: middle;\n",
       "    }\n",
       "\n",
       "    .dataframe tbody tr th {\n",
       "        vertical-align: top;\n",
       "    }\n",
       "\n",
       "    .dataframe thead th {\n",
       "        text-align: right;\n",
       "    }\n",
       "</style>\n",
       "<table border=\"1\" class=\"dataframe\">\n",
       "  <thead>\n",
       "    <tr style=\"text-align: right;\">\n",
       "      <th></th>\n",
       "      <th>danceability</th>\n",
       "      <th>energy</th>\n",
       "      <th>loudness</th>\n",
       "      <th>tempo</th>\n",
       "      <th>valence</th>\n",
       "      <th>acousticness</th>\n",
       "    </tr>\n",
       "  </thead>\n",
       "  <tbody>\n",
       "    <tr>\n",
       "      <th>0</th>\n",
       "      <td>0.796</td>\n",
       "      <td>0.865</td>\n",
       "      <td>-6.760</td>\n",
       "      <td>130.012</td>\n",
       "      <td>0.768</td>\n",
       "      <td>0.17900</td>\n",
       "    </tr>\n",
       "    <tr>\n",
       "      <th>1</th>\n",
       "      <td>0.776</td>\n",
       "      <td>0.714</td>\n",
       "      <td>-5.705</td>\n",
       "      <td>161.015</td>\n",
       "      <td>0.433</td>\n",
       "      <td>0.02830</td>\n",
       "    </tr>\n",
       "    <tr>\n",
       "      <th>2</th>\n",
       "      <td>0.960</td>\n",
       "      <td>0.670</td>\n",
       "      <td>-7.035</td>\n",
       "      <td>133.966</td>\n",
       "      <td>0.800</td>\n",
       "      <td>0.05980</td>\n",
       "    </tr>\n",
       "    <tr>\n",
       "      <th>3</th>\n",
       "      <td>0.752</td>\n",
       "      <td>0.571</td>\n",
       "      <td>-6.422</td>\n",
       "      <td>169.155</td>\n",
       "      <td>0.492</td>\n",
       "      <td>0.07230</td>\n",
       "    </tr>\n",
       "    <tr>\n",
       "      <th>4</th>\n",
       "      <td>0.774</td>\n",
       "      <td>0.700</td>\n",
       "      <td>-7.334</td>\n",
       "      <td>81.990</td>\n",
       "      <td>0.624</td>\n",
       "      <td>0.16300</td>\n",
       "    </tr>\n",
       "    <tr>\n",
       "      <th>...</th>\n",
       "      <td>...</td>\n",
       "      <td>...</td>\n",
       "      <td>...</td>\n",
       "      <td>...</td>\n",
       "      <td>...</td>\n",
       "      <td>...</td>\n",
       "    </tr>\n",
       "    <tr>\n",
       "      <th>907</th>\n",
       "      <td>0.720</td>\n",
       "      <td>0.932</td>\n",
       "      <td>-4.204</td>\n",
       "      <td>130.928</td>\n",
       "      <td>0.918</td>\n",
       "      <td>0.09760</td>\n",
       "    </tr>\n",
       "    <tr>\n",
       "      <th>908</th>\n",
       "      <td>0.667</td>\n",
       "      <td>0.821</td>\n",
       "      <td>-5.565</td>\n",
       "      <td>121.027</td>\n",
       "      <td>0.638</td>\n",
       "      <td>0.09410</td>\n",
       "    </tr>\n",
       "    <tr>\n",
       "      <th>909</th>\n",
       "      <td>0.704</td>\n",
       "      <td>0.934</td>\n",
       "      <td>-4.528</td>\n",
       "      <td>121.014</td>\n",
       "      <td>0.494</td>\n",
       "      <td>0.02850</td>\n",
       "    </tr>\n",
       "    <tr>\n",
       "      <th>910</th>\n",
       "      <td>0.716</td>\n",
       "      <td>0.695</td>\n",
       "      <td>-5.250</td>\n",
       "      <td>117.966</td>\n",
       "      <td>0.684</td>\n",
       "      <td>0.00643</td>\n",
       "    </tr>\n",
       "    <tr>\n",
       "      <th>911</th>\n",
       "      <td>0.700</td>\n",
       "      <td>0.892</td>\n",
       "      <td>-4.097</td>\n",
       "      <td>128.005</td>\n",
       "      <td>0.667</td>\n",
       "      <td>0.04960</td>\n",
       "    </tr>\n",
       "  </tbody>\n",
       "</table>\n",
       "<p>912 rows × 6 columns</p>\n",
       "</div>"
      ],
      "text/plain": [
       "     danceability  energy  loudness    tempo  valence  acousticness\n",
       "0           0.796   0.865    -6.760  130.012    0.768       0.17900\n",
       "1           0.776   0.714    -5.705  161.015    0.433       0.02830\n",
       "2           0.960   0.670    -7.035  133.966    0.800       0.05980\n",
       "3           0.752   0.571    -6.422  169.155    0.492       0.07230\n",
       "4           0.774   0.700    -7.334   81.990    0.624       0.16300\n",
       "..            ...     ...       ...      ...      ...           ...\n",
       "907         0.720   0.932    -4.204  130.928    0.918       0.09760\n",
       "908         0.667   0.821    -5.565  121.027    0.638       0.09410\n",
       "909         0.704   0.934    -4.528  121.014    0.494       0.02850\n",
       "910         0.716   0.695    -5.250  117.966    0.684       0.00643\n",
       "911         0.700   0.892    -4.097  128.005    0.667       0.04960\n",
       "\n",
       "[912 rows x 6 columns]"
      ]
     },
     "execution_count": 91,
     "metadata": {},
     "output_type": "execute_result"
    }
   ],
   "source": [
    "music_select"
   ]
  },
  {
   "cell_type": "code",
   "execution_count": 92,
   "id": "11759761",
   "metadata": {},
   "outputs": [],
   "source": [
    "X = music_select"
   ]
  },
  {
   "cell_type": "markdown",
   "id": "8295c7d8",
   "metadata": {},
   "source": [
    "##Scale the Dataframe"
   ]
  },
  {
   "cell_type": "code",
   "execution_count": 93,
   "id": "e2595324",
   "metadata": {
    "scrolled": true
   },
   "outputs": [
    {
     "name": "stdout",
     "output_type": "stream",
     "text": [
      "\n"
     ]
    },
    {
     "data": {
      "text/html": [
       "<div>\n",
       "<style scoped>\n",
       "    .dataframe tbody tr th:only-of-type {\n",
       "        vertical-align: middle;\n",
       "    }\n",
       "\n",
       "    .dataframe tbody tr th {\n",
       "        vertical-align: top;\n",
       "    }\n",
       "\n",
       "    .dataframe thead th {\n",
       "        text-align: right;\n",
       "    }\n",
       "</style>\n",
       "<table border=\"1\" class=\"dataframe\">\n",
       "  <thead>\n",
       "    <tr style=\"text-align: right;\">\n",
       "      <th></th>\n",
       "      <th>danceability</th>\n",
       "      <th>energy</th>\n",
       "      <th>loudness</th>\n",
       "      <th>tempo</th>\n",
       "      <th>valence</th>\n",
       "      <th>acousticness</th>\n",
       "    </tr>\n",
       "  </thead>\n",
       "  <tbody>\n",
       "    <tr>\n",
       "      <th>0</th>\n",
       "      <td>1.255680</td>\n",
       "      <td>1.146398</td>\n",
       "      <td>0.456732</td>\n",
       "      <td>0.304511</td>\n",
       "      <td>1.670938</td>\n",
       "      <td>-0.724432</td>\n",
       "    </tr>\n",
       "    <tr>\n",
       "      <th>1</th>\n",
       "      <td>1.132024</td>\n",
       "      <td>0.634634</td>\n",
       "      <td>0.643647</td>\n",
       "      <td>1.355850</td>\n",
       "      <td>0.274319</td>\n",
       "      <td>-1.116425</td>\n",
       "    </tr>\n",
       "    <tr>\n",
       "      <th>2</th>\n",
       "      <td>2.269661</td>\n",
       "      <td>0.485510</td>\n",
       "      <td>0.408010</td>\n",
       "      <td>0.438594</td>\n",
       "      <td>1.804346</td>\n",
       "      <td>-1.034489</td>\n",
       "    </tr>\n",
       "    <tr>\n",
       "      <th>3</th>\n",
       "      <td>0.983636</td>\n",
       "      <td>0.149983</td>\n",
       "      <td>0.516615</td>\n",
       "      <td>1.631884</td>\n",
       "      <td>0.520291</td>\n",
       "      <td>-1.001974</td>\n",
       "    </tr>\n",
       "    <tr>\n",
       "      <th>4</th>\n",
       "      <td>1.119658</td>\n",
       "      <td>0.587185</td>\n",
       "      <td>0.355036</td>\n",
       "      <td>-1.323957</td>\n",
       "      <td>1.070600</td>\n",
       "      <td>-0.766050</td>\n",
       "    </tr>\n",
       "  </tbody>\n",
       "</table>\n",
       "</div>"
      ],
      "text/plain": [
       "   danceability    energy  loudness     tempo   valence  acousticness\n",
       "0      1.255680  1.146398  0.456732  0.304511  1.670938     -0.724432\n",
       "1      1.132024  0.634634  0.643647  1.355850  0.274319     -1.116425\n",
       "2      2.269661  0.485510  0.408010  0.438594  1.804346     -1.034489\n",
       "3      0.983636  0.149983  0.516615  1.631884  0.520291     -1.001974\n",
       "4      1.119658  0.587185  0.355036 -1.323957  1.070600     -0.766050"
      ]
     },
     "metadata": {},
     "output_type": "display_data"
    }
   ],
   "source": [
    "scaler = StandardScaler()\n",
    "scaling = scaler.fit(X)\n",
    "X_scaled = scaler.transform(X)\n",
    "X_scaled_df = pd.DataFrame(X_scaled, columns = X.columns)\n",
    "#display(X.head())\n",
    "print()\n",
    "display(X_scaled_df.head())"
   ]
  },
  {
   "cell_type": "code",
   "execution_count": 99,
   "id": "fb43beb0",
   "metadata": {},
   "outputs": [
    {
     "name": "stderr",
     "output_type": "stream",
     "text": [
      "/Users/dominik/anaconda3/lib/python3.10/site-packages/sklearn/cluster/_kmeans.py:870: FutureWarning: The default value of `n_init` will change from 10 to 'auto' in 1.4. Set the value of `n_init` explicitly to suppress the warning\n",
      "  warnings.warn(\n"
     ]
    },
    {
     "data": {
      "text/html": [
       "<style>#sk-container-id-7 {color: black;background-color: white;}#sk-container-id-7 pre{padding: 0;}#sk-container-id-7 div.sk-toggleable {background-color: white;}#sk-container-id-7 label.sk-toggleable__label {cursor: pointer;display: block;width: 100%;margin-bottom: 0;padding: 0.3em;box-sizing: border-box;text-align: center;}#sk-container-id-7 label.sk-toggleable__label-arrow:before {content: \"▸\";float: left;margin-right: 0.25em;color: #696969;}#sk-container-id-7 label.sk-toggleable__label-arrow:hover:before {color: black;}#sk-container-id-7 div.sk-estimator:hover label.sk-toggleable__label-arrow:before {color: black;}#sk-container-id-7 div.sk-toggleable__content {max-height: 0;max-width: 0;overflow: hidden;text-align: left;background-color: #f0f8ff;}#sk-container-id-7 div.sk-toggleable__content pre {margin: 0.2em;color: black;border-radius: 0.25em;background-color: #f0f8ff;}#sk-container-id-7 input.sk-toggleable__control:checked~div.sk-toggleable__content {max-height: 200px;max-width: 100%;overflow: auto;}#sk-container-id-7 input.sk-toggleable__control:checked~label.sk-toggleable__label-arrow:before {content: \"▾\";}#sk-container-id-7 div.sk-estimator input.sk-toggleable__control:checked~label.sk-toggleable__label {background-color: #d4ebff;}#sk-container-id-7 div.sk-label input.sk-toggleable__control:checked~label.sk-toggleable__label {background-color: #d4ebff;}#sk-container-id-7 input.sk-hidden--visually {border: 0;clip: rect(1px 1px 1px 1px);clip: rect(1px, 1px, 1px, 1px);height: 1px;margin: -1px;overflow: hidden;padding: 0;position: absolute;width: 1px;}#sk-container-id-7 div.sk-estimator {font-family: monospace;background-color: #f0f8ff;border: 1px dotted black;border-radius: 0.25em;box-sizing: border-box;margin-bottom: 0.5em;}#sk-container-id-7 div.sk-estimator:hover {background-color: #d4ebff;}#sk-container-id-7 div.sk-parallel-item::after {content: \"\";width: 100%;border-bottom: 1px solid gray;flex-grow: 1;}#sk-container-id-7 div.sk-label:hover label.sk-toggleable__label {background-color: #d4ebff;}#sk-container-id-7 div.sk-serial::before {content: \"\";position: absolute;border-left: 1px solid gray;box-sizing: border-box;top: 0;bottom: 0;left: 50%;z-index: 0;}#sk-container-id-7 div.sk-serial {display: flex;flex-direction: column;align-items: center;background-color: white;padding-right: 0.2em;padding-left: 0.2em;position: relative;}#sk-container-id-7 div.sk-item {position: relative;z-index: 1;}#sk-container-id-7 div.sk-parallel {display: flex;align-items: stretch;justify-content: center;background-color: white;position: relative;}#sk-container-id-7 div.sk-item::before, #sk-container-id-7 div.sk-parallel-item::before {content: \"\";position: absolute;border-left: 1px solid gray;box-sizing: border-box;top: 0;bottom: 0;left: 50%;z-index: -1;}#sk-container-id-7 div.sk-parallel-item {display: flex;flex-direction: column;z-index: 1;position: relative;background-color: white;}#sk-container-id-7 div.sk-parallel-item:first-child::after {align-self: flex-end;width: 50%;}#sk-container-id-7 div.sk-parallel-item:last-child::after {align-self: flex-start;width: 50%;}#sk-container-id-7 div.sk-parallel-item:only-child::after {width: 0;}#sk-container-id-7 div.sk-dashed-wrapped {border: 1px dashed gray;margin: 0 0.4em 0.5em 0.4em;box-sizing: border-box;padding-bottom: 0.4em;background-color: white;}#sk-container-id-7 div.sk-label label {font-family: monospace;font-weight: bold;display: inline-block;line-height: 1.2em;}#sk-container-id-7 div.sk-label-container {text-align: center;}#sk-container-id-7 div.sk-container {/* jupyter's `normalize.less` sets `[hidden] { display: none; }` but bootstrap.min.css set `[hidden] { display: none !important; }` so we also need the `!important` here to be able to override the default hidden behavior on the sphinx rendered scikit-learn.org. See: https://github.com/scikit-learn/scikit-learn/issues/21755 */display: inline-block !important;position: relative;}#sk-container-id-7 div.sk-text-repr-fallback {display: none;}</style><div id=\"sk-container-id-7\" class=\"sk-top-container\"><div class=\"sk-text-repr-fallback\"><pre>KMeans(n_clusters=20, random_state=1234)</pre><b>In a Jupyter environment, please rerun this cell to show the HTML representation or trust the notebook. <br />On GitHub, the HTML representation is unable to render, please try loading this page with nbviewer.org.</b></div><div class=\"sk-container\" hidden><div class=\"sk-item\"><div class=\"sk-estimator sk-toggleable\"><input class=\"sk-toggleable__control sk-hidden--visually\" id=\"sk-estimator-id-7\" type=\"checkbox\" checked><label for=\"sk-estimator-id-7\" class=\"sk-toggleable__label sk-toggleable__label-arrow\">KMeans</label><div class=\"sk-toggleable__content\"><pre>KMeans(n_clusters=20, random_state=1234)</pre></div></div></div></div></div>"
      ],
      "text/plain": [
       "KMeans(n_clusters=20, random_state=1234)"
      ]
     },
     "execution_count": 99,
     "metadata": {},
     "output_type": "execute_result"
    }
   ],
   "source": [
    "kmeans = KMeans(n_clusters=20, random_state=1234)  #pass in two parameters\n",
    "kmeans.fit(X_scaled_df)"
   ]
  },
  {
   "cell_type": "code",
   "execution_count": 100,
   "id": "a58901ae",
   "metadata": {},
   "outputs": [
    {
     "data": {
      "text/plain": [
       "array([ 4,  2, 11,  2, 19, 19, 19,  2,  7, 19, 11, 19, 11, 19, 19,  2, 19,\n",
       "        0,  3, 19, 19,  2,  0, 11, 11, 19, 19,  0,  2,  2, 14, 19, 19,  3,\n",
       "        2, 19, 19,  2, 19,  0,  2,  3,  3, 19, 10,  2, 19,  0,  0,  2,  3,\n",
       "       14, 15, 14,  2,  3, 10, 14,  0,  9, 14, 10,  3,  2, 10, 10, 10, 10,\n",
       "        9, 15, 10,  3, 14, 10,  9,  0,  3,  9, 10, 10,  2,  4, 14, 10,  3,\n",
       "        3,  3, 10,  3, 14, 14,  3,  0,  3, 10, 10, 14, 14, 10,  3,  3, 19,\n",
       "        2, 10,  3,  2,  2, 19, 11,  2,  3,  2,  2,  3,  3, 11,  2,  2, 19,\n",
       "       12,  3,  4,  2, 19,  2,  0, 19,  3,  7,  7,  0,  0,  2,  3,  2, 19,\n",
       "       11,  0,  0, 10,  2,  0,  4,  2, 19,  2, 10,  3,  3,  2,  4, 19, 14,\n",
       "        4,  2, 16,  0,  3,  4,  3, 13, 19,  2,  3, 12, 19,  5,  3, 11, 14,\n",
       "        4, 10, 14,  4,  7,  6,  3,  0,  2, 10, 19, 19,  2,  3, 16,  0, 14,\n",
       "       10,  4, 11,  7,  4,  7, 14,  4,  4, 19, 14, 18, 11,  1,  1, 13, 18,\n",
       "        8,  8,  3, 19, 12, 16, 16, 18, 18,  8, 13, 13, 19,  0, 12,  5,  1,\n",
       "        1,  5,  1, 16, 16, 12,  0, 18,  5, 12,  7, 18, 13, 17, 17,  3, 13,\n",
       "        1, 19,  3, 10,  0,  5,  8, 14,  5,  8, 13, 13,  9,  9, 15, 15,  9,\n",
       "       15,  3,  9,  9,  9, 14,  9, 15,  9, 15, 10,  9,  9, 10, 10,  9,  9,\n",
       "        9,  9, 15, 15,  9,  9,  0, 14,  9, 10,  9,  9,  9,  9,  9,  9,  9,\n",
       "       15,  9,  9,  9,  9, 14,  9,  9,  9,  9,  9, 15,  9,  9,  9, 15,  9,\n",
       "        9,  9, 15,  9, 15, 10,  9, 15,  9, 10, 15,  9,  9, 15,  9,  9, 15,\n",
       "        9, 15, 15,  9,  9, 15,  9, 10,  9, 15,  9,  9, 15, 15,  9, 15, 15,\n",
       "        9, 15, 15, 15,  9, 15,  9,  9,  9, 12,  5, 13, 19,  5, 12,  8, 12,\n",
       "        0,  5, 16,  5, 16, 16,  8,  5,  8,  6,  3,  5, 19, 16, 16,  8, 12,\n",
       "       12, 16, 10, 18,  3,  0, 16,  0,  1,  8,  5, 15, 12,  0, 18,  0, 16,\n",
       "        1, 12, 18,  3,  6, 16, 16, 12,  7, 18, 12,  6, 13, 19, 13, 16,  8,\n",
       "       16,  5, 12,  5, 18, 17,  1, 12, 18,  3, 18, 18, 12,  8, 17, 19,  2,\n",
       "       16, 16,  3, 18, 18,  0, 16,  5, 12,  0, 10, 16, 10,  5, 16,  5, 18,\n",
       "       16,  3, 13, 12, 17, 10,  8, 16, 13,  8, 19, 16,  8,  3,  3,  0, 12,\n",
       "       10, 18,  5,  8, 18, 17,  5,  5,  0, 12, 16,  7, 17,  8, 16, 16,  1,\n",
       "        0, 18,  2, 10,  5, 19, 18, 10, 12,  0, 10,  5, 16, 12,  2,  0,  8,\n",
       "       18,  0, 16,  3, 13,  8, 12,  0,  3, 15, 18,  0,  0,  0, 10, 16,  5,\n",
       "        0,  5, 18, 16,  8,  3, 16, 18,  5, 18, 16, 13, 16,  8, 10,  8, 18,\n",
       "       10,  0, 18, 12, 13, 17, 16,  3, 12, 16,  0, 18, 16,  0, 18,  8, 12,\n",
       "        8, 13, 16, 14, 16, 13, 13,  1, 13,  1,  6,  1, 17, 17, 17, 13,  1,\n",
       "        1,  1,  1,  1,  1,  1, 13, 17,  1,  6,  6,  1,  1,  1, 13,  1, 13,\n",
       "       13,  1, 13, 13,  6,  6, 13,  6, 13,  1, 13,  1,  6,  6, 13,  6,  1,\n",
       "        1, 13, 13, 13,  1,  1, 17,  6, 17,  1,  6, 13,  1, 13, 18, 13, 17,\n",
       "       18, 17, 13, 18,  6,  6, 13, 13,  1,  6, 18,  1, 13,  1,  6, 17, 13,\n",
       "        1, 18, 13,  6,  6, 13,  1, 13, 13, 13,  1, 17,  1,  1, 13,  1,  1,\n",
       "        1,  1, 18, 17,  6, 13, 13,  6,  1,  1,  1,  1,  1, 17, 17, 13, 13,\n",
       "        1, 13, 13,  1, 13,  1,  6,  6, 13,  1,  1, 13, 13,  6,  6,  1,  1,\n",
       "       13, 13, 13, 17,  1,  1, 18,  1,  1, 13, 13,  6, 18,  1,  1, 13,  1,\n",
       "        1, 13, 13,  1,  6,  1, 13,  1,  1,  6,  1,  1,  6,  1, 13, 13, 13,\n",
       "        1, 13, 18,  6, 13,  6,  1,  1, 18, 17,  6,  1,  1,  1, 13, 13, 18,\n",
       "        1, 13, 18, 17,  1,  1,  1,  6,  6,  1,  6,  1,  6,  1,  6,  6,  1,\n",
       "       13, 13,  1,  6,  1,  6,  1,  2,  2,  7,  4,  2,  2, 11, 10,  4,  7,\n",
       "       11, 11, 11, 11, 11,  2,  7, 11, 11,  7,  7,  7, 14,  7, 11, 11, 11,\n",
       "       11,  2,  7,  4, 11,  2,  2,  2,  2,  2, 11,  7,  7,  2, 11,  7,  7,\n",
       "       11,  2,  3, 10,  2,  7,  4,  4,  2, 16,  2, 10, 10,  4, 11, 11, 11,\n",
       "        4,  4,  7, 11,  2,  2, 11, 11,  7,  2, 11,  7, 11, 11,  4, 11, 11,\n",
       "        2,  2,  7,  2, 11, 11,  7, 11,  2,  4,  7, 11, 11,  2,  7,  4,  4,\n",
       "        7,  2,  4,  7,  4,  7,  3,  7, 11,  7,  2, 11, 14, 14,  4, 10,  4,\n",
       "       14, 14, 14, 11, 19, 14, 14, 14, 14,  4,  4,  4,  4,  4,  4,  4, 14,\n",
       "        4, 14, 14,  4, 14, 14,  4, 14,  4, 14,  4, 14, 10,  4, 14, 14,  4,\n",
       "        4, 14,  4,  4, 14,  4,  4, 14, 14, 14, 14], dtype=int32)"
      ]
     },
     "execution_count": 100,
     "metadata": {},
     "output_type": "execute_result"
    }
   ],
   "source": [
    "labels = kmeans.labels_\n",
    "labels"
   ]
  },
  {
   "cell_type": "code",
   "execution_count": 101,
   "id": "2edd4a14",
   "metadata": {},
   "outputs": [
    {
     "data": {
      "image/png": "[encoded data removed]",
      "text/plain": [
       "<Figure size 800x550 with 1 Axes>"
      ]
     },
     "metadata": {},
     "output_type": "display_data"
    }
   ],
   "source": [
    "# assign a cluster to each example\n",
    "labels = kmeans.predict(X_scaled_df)\n",
    "# retrieve unique clusters\n",
    "clusters = np.unique(labels)\n",
    "# create scatter plot for samples from each cluster\n",
    "for cluster in clusters:\n",
    "    # get row indexes for samples with this cluster\n",
    "    row_ix = np.where(labels == cluster)\n",
    "    # create scatter of these samples\n",
    "    plt.scatter(X.to_numpy()[row_ix, 1], X.to_numpy()[row_ix, 3])\n",
    "    # show the plot\n",
    "plt.show()"
   ]
  },
  {
   "cell_type": "code",
   "execution_count": 102,
   "id": "bcad1c40",
   "metadata": {},
   "outputs": [
    {
     "data": {
      "text/plain": [
       "0     43\n",
       "1     90\n",
       "2     64\n",
       "3     50\n",
       "4     48\n",
       "5     26\n",
       "6     42\n",
       "7     34\n",
       "8     24\n",
       "9     63\n",
       "10    47\n",
       "11    46\n",
       "12    28\n",
       "13    77\n",
       "14    48\n",
       "15    32\n",
       "16    42\n",
       "17    24\n",
       "18    42\n",
       "19    42\n",
       "dtype: int64"
      ]
     },
     "execution_count": 102,
     "metadata": {},
     "output_type": "execute_result"
    }
   ],
   "source": [
    "clusters = kmeans.predict(X_scaled_df)\n",
    "#clusters\n",
    "pd.Series(clusters).value_counts().sort_index()"
   ]
  },
  {
   "cell_type": "code",
   "execution_count": 103,
   "id": "a2da580c",
   "metadata": {},
   "outputs": [
    {
     "name": "stderr",
     "output_type": "stream",
     "text": [
      "/var/folders/1x/nk1pmjs57kd0k7pp1vkgtk7w0000gn/T/ipykernel_31262/2160638750.py:1: SettingWithCopyWarning: \n",
      "A value is trying to be set on a copy of a slice from a DataFrame.\n",
      "Try using .loc[row_indexer,col_indexer] = value instead\n",
      "\n",
      "See the caveats in the documentation: https://pandas.pydata.org/pandas-docs/stable/user_guide/indexing.html#returning-a-view-versus-a-copy\n",
      "  X[\"cluster\"] = clusters  #add the cluster column to the DF\n"
     ]
    },
    {
     "data": {
      "text/html": [
       "<div>\n",
       "<style scoped>\n",
       "    .dataframe tbody tr th:only-of-type {\n",
       "        vertical-align: middle;\n",
       "    }\n",
       "\n",
       "    .dataframe tbody tr th {\n",
       "        vertical-align: top;\n",
       "    }\n",
       "\n",
       "    .dataframe thead th {\n",
       "        text-align: right;\n",
       "    }\n",
       "</style>\n",
       "<table border=\"1\" class=\"dataframe\">\n",
       "  <thead>\n",
       "    <tr style=\"text-align: right;\">\n",
       "      <th></th>\n",
       "      <th>danceability</th>\n",
       "      <th>energy</th>\n",
       "      <th>loudness</th>\n",
       "      <th>tempo</th>\n",
       "      <th>valence</th>\n",
       "      <th>acousticness</th>\n",
       "      <th>cluster</th>\n",
       "    </tr>\n",
       "  </thead>\n",
       "  <tbody>\n",
       "    <tr>\n",
       "      <th>0</th>\n",
       "      <td>0.796</td>\n",
       "      <td>0.865</td>\n",
       "      <td>-6.760</td>\n",
       "      <td>130.012</td>\n",
       "      <td>0.768</td>\n",
       "      <td>0.17900</td>\n",
       "      <td>4</td>\n",
       "    </tr>\n",
       "    <tr>\n",
       "      <th>1</th>\n",
       "      <td>0.776</td>\n",
       "      <td>0.714</td>\n",
       "      <td>-5.705</td>\n",
       "      <td>161.015</td>\n",
       "      <td>0.433</td>\n",
       "      <td>0.02830</td>\n",
       "      <td>2</td>\n",
       "    </tr>\n",
       "    <tr>\n",
       "      <th>2</th>\n",
       "      <td>0.960</td>\n",
       "      <td>0.670</td>\n",
       "      <td>-7.035</td>\n",
       "      <td>133.966</td>\n",
       "      <td>0.800</td>\n",
       "      <td>0.05980</td>\n",
       "      <td>11</td>\n",
       "    </tr>\n",
       "    <tr>\n",
       "      <th>3</th>\n",
       "      <td>0.752</td>\n",
       "      <td>0.571</td>\n",
       "      <td>-6.422</td>\n",
       "      <td>169.155</td>\n",
       "      <td>0.492</td>\n",
       "      <td>0.07230</td>\n",
       "      <td>2</td>\n",
       "    </tr>\n",
       "    <tr>\n",
       "      <th>4</th>\n",
       "      <td>0.774</td>\n",
       "      <td>0.700</td>\n",
       "      <td>-7.334</td>\n",
       "      <td>81.990</td>\n",
       "      <td>0.624</td>\n",
       "      <td>0.16300</td>\n",
       "      <td>19</td>\n",
       "    </tr>\n",
       "    <tr>\n",
       "      <th>...</th>\n",
       "      <td>...</td>\n",
       "      <td>...</td>\n",
       "      <td>...</td>\n",
       "      <td>...</td>\n",
       "      <td>...</td>\n",
       "      <td>...</td>\n",
       "      <td>...</td>\n",
       "    </tr>\n",
       "    <tr>\n",
       "      <th>907</th>\n",
       "      <td>0.720</td>\n",
       "      <td>0.932</td>\n",
       "      <td>-4.204</td>\n",
       "      <td>130.928</td>\n",
       "      <td>0.918</td>\n",
       "      <td>0.09760</td>\n",
       "      <td>4</td>\n",
       "    </tr>\n",
       "    <tr>\n",
       "      <th>908</th>\n",
       "      <td>0.667</td>\n",
       "      <td>0.821</td>\n",
       "      <td>-5.565</td>\n",
       "      <td>121.027</td>\n",
       "      <td>0.638</td>\n",
       "      <td>0.09410</td>\n",
       "      <td>14</td>\n",
       "    </tr>\n",
       "    <tr>\n",
       "      <th>909</th>\n",
       "      <td>0.704</td>\n",
       "      <td>0.934</td>\n",
       "      <td>-4.528</td>\n",
       "      <td>121.014</td>\n",
       "      <td>0.494</td>\n",
       "      <td>0.02850</td>\n",
       "      <td>14</td>\n",
       "    </tr>\n",
       "    <tr>\n",
       "      <th>910</th>\n",
       "      <td>0.716</td>\n",
       "      <td>0.695</td>\n",
       "      <td>-5.250</td>\n",
       "      <td>117.966</td>\n",
       "      <td>0.684</td>\n",
       "      <td>0.00643</td>\n",
       "      <td>14</td>\n",
       "    </tr>\n",
       "    <tr>\n",
       "      <th>911</th>\n",
       "      <td>0.700</td>\n",
       "      <td>0.892</td>\n",
       "      <td>-4.097</td>\n",
       "      <td>128.005</td>\n",
       "      <td>0.667</td>\n",
       "      <td>0.04960</td>\n",
       "      <td>14</td>\n",
       "    </tr>\n",
       "  </tbody>\n",
       "</table>\n",
       "<p>912 rows × 7 columns</p>\n",
       "</div>"
      ],
      "text/plain": [
       "     danceability  energy  loudness    tempo  valence  acousticness  cluster\n",
       "0           0.796   0.865    -6.760  130.012    0.768       0.17900        4\n",
       "1           0.776   0.714    -5.705  161.015    0.433       0.02830        2\n",
       "2           0.960   0.670    -7.035  133.966    0.800       0.05980       11\n",
       "3           0.752   0.571    -6.422  169.155    0.492       0.07230        2\n",
       "4           0.774   0.700    -7.334   81.990    0.624       0.16300       19\n",
       "..            ...     ...       ...      ...      ...           ...      ...\n",
       "907         0.720   0.932    -4.204  130.928    0.918       0.09760        4\n",
       "908         0.667   0.821    -5.565  121.027    0.638       0.09410       14\n",
       "909         0.704   0.934    -4.528  121.014    0.494       0.02850       14\n",
       "910         0.716   0.695    -5.250  117.966    0.684       0.00643       14\n",
       "911         0.700   0.892    -4.097  128.005    0.667       0.04960       14\n",
       "\n",
       "[912 rows x 7 columns]"
      ]
     },
     "execution_count": 103,
     "metadata": {},
     "output_type": "execute_result"
    }
   ],
   "source": [
    "X[\"cluster\"] = clusters  #add the cluster column to the DF\n",
    "X"
   ]
  },
  {
   "cell_type": "code",
   "execution_count": 104,
   "id": "212ff1cc",
   "metadata": {},
   "outputs": [
    {
     "data": {
      "text/html": [
       "<div>\n",
       "<style scoped>\n",
       "    .dataframe tbody tr th:only-of-type {\n",
       "        vertical-align: middle;\n",
       "    }\n",
       "\n",
       "    .dataframe tbody tr th {\n",
       "        vertical-align: top;\n",
       "    }\n",
       "\n",
       "    .dataframe thead th {\n",
       "        text-align: right;\n",
       "    }\n",
       "</style>\n",
       "<table border=\"1\" class=\"dataframe\">\n",
       "  <thead>\n",
       "    <tr style=\"text-align: right;\">\n",
       "      <th></th>\n",
       "      <th>danceability</th>\n",
       "      <th>energy</th>\n",
       "      <th>loudness</th>\n",
       "      <th>tempo</th>\n",
       "      <th>valence</th>\n",
       "      <th>acousticness</th>\n",
       "      <th>cluster</th>\n",
       "    </tr>\n",
       "  </thead>\n",
       "  <tbody>\n",
       "    <tr>\n",
       "      <th>821</th>\n",
       "      <td>0.825</td>\n",
       "      <td>0.475</td>\n",
       "      <td>-9.795</td>\n",
       "      <td>139.988</td>\n",
       "      <td>0.529</td>\n",
       "      <td>0.262</td>\n",
       "      <td>2</td>\n",
       "    </tr>\n",
       "  </tbody>\n",
       "</table>\n",
       "</div>"
      ],
      "text/plain": [
       "     danceability  energy  loudness    tempo  valence  acousticness  cluster\n",
       "821         0.825   0.475    -9.795  139.988    0.529         0.262        2"
      ]
     },
     "execution_count": 104,
     "metadata": {},
     "output_type": "execute_result"
    }
   ],
   "source": [
    "X[X['cluster'] == 2].sample()"
   ]
  },
  {
   "cell_type": "code",
   "execution_count": 105,
   "id": "136c8cac",
   "metadata": {},
   "outputs": [
    {
     "data": {
      "text/plain": [
       "811.0550743841973"
      ]
     },
     "execution_count": 105,
     "metadata": {},
     "output_type": "execute_result"
    }
   ],
   "source": [
    "kmeans.inertia_"
   ]
  },
  {
   "cell_type": "code",
   "execution_count": 106,
   "id": "43936cdc",
   "metadata": {},
   "outputs": [
    {
     "name": "stdout",
     "output_type": "stream",
     "text": [
      "2207.9194756657425\n"
     ]
    }
   ],
   "source": [
    "kmeans2 = KMeans(n_clusters=3,\n",
    "                init=\"k-means++\",\n",
    "                n_init=50,  # try with 1, 4, 8, 20, 30, 100... default is 10. the larger the better though\n",
    "                max_iter=1,\n",
    "                tol=0,\n",
    "                algorithm=\"elkan\",\n",
    "                random_state=1234)\n",
    "kmeans2.fit(X_scaled_df)\n",
    "print(kmeans2.inertia_)"
   ]
  },
  {
   "cell_type": "code",
   "execution_count": 107,
   "id": "65efae12",
   "metadata": {
    "scrolled": true
   },
   "outputs": [
    {
     "name": "stdout",
     "output_type": "stream",
     "text": [
      "Training a K-Means model with 2 clusters! \n",
      "\n",
      "Training a K-Means model with 3 clusters! \n",
      "\n",
      "Training a K-Means model with 4 clusters! \n",
      "\n",
      "Training a K-Means model with 5 clusters! \n",
      "\n"
     ]
    },
    {
     "name": "stderr",
     "output_type": "stream",
     "text": [
      "/Users/dominik/anaconda3/lib/python3.10/site-packages/sklearn/cluster/_kmeans.py:870: FutureWarning: The default value of `n_init` will change from 10 to 'auto' in 1.4. Set the value of `n_init` explicitly to suppress the warning\n",
      "  warnings.warn(\n",
      "/Users/dominik/anaconda3/lib/python3.10/site-packages/sklearn/cluster/_kmeans.py:870: FutureWarning: The default value of `n_init` will change from 10 to 'auto' in 1.4. Set the value of `n_init` explicitly to suppress the warning\n",
      "  warnings.warn(\n",
      "/Users/dominik/anaconda3/lib/python3.10/site-packages/sklearn/cluster/_kmeans.py:870: FutureWarning: The default value of `n_init` will change from 10 to 'auto' in 1.4. Set the value of `n_init` explicitly to suppress the warning\n",
      "  warnings.warn(\n",
      "/Users/dominik/anaconda3/lib/python3.10/site-packages/sklearn/cluster/_kmeans.py:870: FutureWarning: The default value of `n_init` will change from 10 to 'auto' in 1.4. Set the value of `n_init` explicitly to suppress the warning\n",
      "  warnings.warn(\n"
     ]
    },
    {
     "name": "stdout",
     "output_type": "stream",
     "text": [
      "Training a K-Means model with 6 clusters! \n",
      "\n",
      "Training a K-Means model with 7 clusters! \n",
      "\n"
     ]
    },
    {
     "name": "stderr",
     "output_type": "stream",
     "text": [
      "/Users/dominik/anaconda3/lib/python3.10/site-packages/sklearn/cluster/_kmeans.py:870: FutureWarning: The default value of `n_init` will change from 10 to 'auto' in 1.4. Set the value of `n_init` explicitly to suppress the warning\n",
      "  warnings.warn(\n",
      "/Users/dominik/anaconda3/lib/python3.10/site-packages/sklearn/cluster/_kmeans.py:870: FutureWarning: The default value of `n_init` will change from 10 to 'auto' in 1.4. Set the value of `n_init` explicitly to suppress the warning\n",
      "  warnings.warn(\n"
     ]
    },
    {
     "name": "stdout",
     "output_type": "stream",
     "text": [
      "Training a K-Means model with 8 clusters! \n",
      "\n",
      "Training a K-Means model with 9 clusters! \n",
      "\n"
     ]
    },
    {
     "name": "stderr",
     "output_type": "stream",
     "text": [
      "/Users/dominik/anaconda3/lib/python3.10/site-packages/sklearn/cluster/_kmeans.py:870: FutureWarning: The default value of `n_init` will change from 10 to 'auto' in 1.4. Set the value of `n_init` explicitly to suppress the warning\n",
      "  warnings.warn(\n",
      "/Users/dominik/anaconda3/lib/python3.10/site-packages/sklearn/cluster/_kmeans.py:870: FutureWarning: The default value of `n_init` will change from 10 to 'auto' in 1.4. Set the value of `n_init` explicitly to suppress the warning\n",
      "  warnings.warn(\n"
     ]
    },
    {
     "name": "stdout",
     "output_type": "stream",
     "text": [
      "Training a K-Means model with 10 clusters! \n",
      "\n",
      "Training a K-Means model with 11 clusters! \n",
      "\n"
     ]
    },
    {
     "name": "stderr",
     "output_type": "stream",
     "text": [
      "/Users/dominik/anaconda3/lib/python3.10/site-packages/sklearn/cluster/_kmeans.py:870: FutureWarning: The default value of `n_init` will change from 10 to 'auto' in 1.4. Set the value of `n_init` explicitly to suppress the warning\n",
      "  warnings.warn(\n",
      "/Users/dominik/anaconda3/lib/python3.10/site-packages/sklearn/cluster/_kmeans.py:870: FutureWarning: The default value of `n_init` will change from 10 to 'auto' in 1.4. Set the value of `n_init` explicitly to suppress the warning\n",
      "  warnings.warn(\n"
     ]
    },
    {
     "name": "stdout",
     "output_type": "stream",
     "text": [
      "Training a K-Means model with 12 clusters! \n",
      "\n",
      "Training a K-Means model with 13 clusters! \n",
      "\n"
     ]
    },
    {
     "name": "stderr",
     "output_type": "stream",
     "text": [
      "/Users/dominik/anaconda3/lib/python3.10/site-packages/sklearn/cluster/_kmeans.py:870: FutureWarning: The default value of `n_init` will change from 10 to 'auto' in 1.4. Set the value of `n_init` explicitly to suppress the warning\n",
      "  warnings.warn(\n",
      "/Users/dominik/anaconda3/lib/python3.10/site-packages/sklearn/cluster/_kmeans.py:870: FutureWarning: The default value of `n_init` will change from 10 to 'auto' in 1.4. Set the value of `n_init` explicitly to suppress the warning\n",
      "  warnings.warn(\n"
     ]
    },
    {
     "name": "stdout",
     "output_type": "stream",
     "text": [
      "Training a K-Means model with 14 clusters! \n",
      "\n"
     ]
    },
    {
     "name": "stderr",
     "output_type": "stream",
     "text": [
      "/Users/dominik/anaconda3/lib/python3.10/site-packages/sklearn/cluster/_kmeans.py:870: FutureWarning: The default value of `n_init` will change from 10 to 'auto' in 1.4. Set the value of `n_init` explicitly to suppress the warning\n",
      "  warnings.warn(\n"
     ]
    },
    {
     "name": "stdout",
     "output_type": "stream",
     "text": [
      "Training a K-Means model with 15 clusters! \n",
      "\n",
      "Training a K-Means model with 16 clusters! \n",
      "\n"
     ]
    },
    {
     "name": "stderr",
     "output_type": "stream",
     "text": [
      "/Users/dominik/anaconda3/lib/python3.10/site-packages/sklearn/cluster/_kmeans.py:870: FutureWarning: The default value of `n_init` will change from 10 to 'auto' in 1.4. Set the value of `n_init` explicitly to suppress the warning\n",
      "  warnings.warn(\n",
      "/Users/dominik/anaconda3/lib/python3.10/site-packages/sklearn/cluster/_kmeans.py:870: FutureWarning: The default value of `n_init` will change from 10 to 'auto' in 1.4. Set the value of `n_init` explicitly to suppress the warning\n",
      "  warnings.warn(\n"
     ]
    },
    {
     "name": "stdout",
     "output_type": "stream",
     "text": [
      "Training a K-Means model with 17 clusters! \n",
      "\n",
      "Training a K-Means model with 18 clusters! \n",
      "\n"
     ]
    },
    {
     "name": "stderr",
     "output_type": "stream",
     "text": [
      "/Users/dominik/anaconda3/lib/python3.10/site-packages/sklearn/cluster/_kmeans.py:870: FutureWarning: The default value of `n_init` will change from 10 to 'auto' in 1.4. Set the value of `n_init` explicitly to suppress the warning\n",
      "  warnings.warn(\n",
      "/Users/dominik/anaconda3/lib/python3.10/site-packages/sklearn/cluster/_kmeans.py:870: FutureWarning: The default value of `n_init` will change from 10 to 'auto' in 1.4. Set the value of `n_init` explicitly to suppress the warning\n",
      "  warnings.warn(\n"
     ]
    },
    {
     "name": "stdout",
     "output_type": "stream",
     "text": [
      "Training a K-Means model with 19 clusters! \n",
      "\n",
      "Training a K-Means model with 20 clusters! \n",
      "\n"
     ]
    },
    {
     "name": "stderr",
     "output_type": "stream",
     "text": [
      "/Users/dominik/anaconda3/lib/python3.10/site-packages/sklearn/cluster/_kmeans.py:870: FutureWarning: The default value of `n_init` will change from 10 to 'auto' in 1.4. Set the value of `n_init` explicitly to suppress the warning\n",
      "  warnings.warn(\n",
      "/Users/dominik/anaconda3/lib/python3.10/site-packages/sklearn/cluster/_kmeans.py:870: FutureWarning: The default value of `n_init` will change from 10 to 'auto' in 1.4. Set the value of `n_init` explicitly to suppress the warning\n",
      "  warnings.warn(\n"
     ]
    },
    {
     "data": {
      "text/plain": [
       "Text(0.5, 1.0, 'Elbow Method showing the optimal k')"
      ]
     },
     "execution_count": 107,
     "metadata": {},
     "output_type": "execute_result"
    },
    {
     "data": {
      "image/png": "[encoded data removed]",
      "text/plain": [
       "<Figure size 1600x800 with 1 Axes>"
      ]
     },
     "metadata": {},
     "output_type": "display_data"
    }
   ],
   "source": [
    "K = range(2, 21)\n",
    "inertia = []\n",
    "\n",
    "for k in K:\n",
    "    print(\"Training a K-Means model with {} clusters! \".format(k))\n",
    "    print()\n",
    "    kmeans = KMeans(n_clusters=k,\n",
    "                    random_state=1234)\n",
    "    kmeans.fit(X_scaled_df)\n",
    "    inertia.append(kmeans.inertia_)\n",
    "\n",
    "import numpy as np\n",
    "import matplotlib.pyplot as plt\n",
    "%matplotlib inline\n",
    "\n",
    "plt.figure(figsize=(16,8))\n",
    "plt.plot(K, inertia, 'bx-')\n",
    "plt.xlabel('k')\n",
    "plt.ylabel('inertia')\n",
    "plt.xticks(np.arange(min(K), max(K)+1, 1.0))\n",
    "plt.title('Elbow Method showing the optimal k')"
   ]
  },
  {
   "cell_type": "code",
   "execution_count": 108,
   "id": "2f1a6318",
   "metadata": {
    "scrolled": false
   },
   "outputs": [
    {
     "data": {
      "text/plain": [
       "Text(0.5, 1.0, 'Silhouette Method showing the optimal k')"
      ]
     },
     "execution_count": 108,
     "metadata": {},
     "output_type": "execute_result"
    },
    {
     "data": {
      "image/png": "[encoded data removed]",
      "text/plain": [
       "<Figure size 1600x800 with 1 Axes>"
      ]
     },
     "metadata": {},
     "output_type": "display_data"
    }
   ],
   "source": [
    "K = range(2, 20)\n",
    "silhouette = []\n",
    "\n",
    "for k in K:\n",
    "    kmeans = KMeans(n_clusters=k,\n",
    "                    random_state=1234, n_init='auto')\n",
    "    kmeans.fit(X_scaled_df)\n",
    "    \n",
    "    filename = \"Model/kmeans_\" + str(k) + \".pickle\"\n",
    "    #with open(filename, \"wb\") as f:\n",
    "      #  pickle.dump(kmeans,f)\n",
    "    \n",
    "    silhouette.append(silhouette_score(X_scaled_df, kmeans.predict(X_scaled_df)))\n",
    "\n",
    "\n",
    "plt.figure(figsize=(16,8))\n",
    "plt.plot(K, silhouette, 'bx-')\n",
    "plt.xlabel('k')\n",
    "plt.ylabel('silhouette score')\n",
    "plt.xticks(np.arange(min(K), max(K)+1, 1.0))\n",
    "plt.title('Silhouette Method showing the optimal k')"
   ]
  },
  {
   "cell_type": "code",
   "execution_count": 109,
   "id": "2ce3fae8",
   "metadata": {},
   "outputs": [
    {
     "name": "stderr",
     "output_type": "stream",
     "text": [
      "/Users/dominik/anaconda3/lib/python3.10/site-packages/sklearn/cluster/_kmeans.py:870: FutureWarning: The default value of `n_init` will change from 10 to 'auto' in 1.4. Set the value of `n_init` explicitly to suppress the warning\n",
      "  warnings.warn(\n"
     ]
    },
    {
     "data": {
      "image/png": "[encoded data removed]",
      "text/plain": [
       "<Figure size 800x550 with 1 Axes>"
      ]
     },
     "metadata": {},
     "output_type": "display_data"
    },
    {
     "data": {
      "text/plain": [
       "<Axes: title={'center': 'Silhouette Plot of KMeans Clustering for 912 Samples in 6 Centers'}, xlabel='silhouette coefficient values', ylabel='cluster label'>"
      ]
     },
     "execution_count": 109,
     "metadata": {},
     "output_type": "execute_result"
    }
   ],
   "source": [
    "from yellowbrick.cluster import SilhouetteVisualizer\n",
    "model = KMeans(6, random_state=42)\n",
    "visualizer = SilhouetteVisualizer(model, colors='yellowbrick')\n",
    "visualizer.fit(X_scaled_df)        # Fit the data to the visualizer\n",
    "visualizer.show()        # Finalize and render the figure"
   ]
  },
  {
   "cell_type": "markdown",
   "id": "a1325d9b",
   "metadata": {},
   "source": [
    "#Pickle the Model"
   ]
  },
  {
   "cell_type": "code",
   "execution_count": 110,
   "id": "c1a02d71",
   "metadata": {},
   "outputs": [],
   "source": [
    "import pickle\n",
    "\n",
    "\n",
    "def save(kmeans, filename = 'spotify_model.pickle'):\n",
    "    with open(filename, 'wb') as f:\n",
    "        pickle.dump(kmeans, f)"
   ]
  },
  {
   "cell_type": "code",
   "execution_count": 111,
   "id": "dba28102",
   "metadata": {},
   "outputs": [],
   "source": [
    "save(kmeans, filename = \"spotify_model.pickle\")"
   ]
  },
  {
   "cell_type": "code",
   "execution_count": 112,
   "id": "e8c4d95e",
   "metadata": {},
   "outputs": [],
   "source": [
    "def save(scaling, filename = 'scaler.pickle'):\n",
    "    with open(filename, 'wb') as f:\n",
    "        pickle.dump(scaling, f)"
   ]
  },
  {
   "cell_type": "code",
   "execution_count": 113,
   "id": "034a9ea5",
   "metadata": {},
   "outputs": [],
   "source": [
    "save(scaling, filename = 'scaler.pickle')"
   ]
  },
  {
   "cell_type": "code",
   "execution_count": 114,
   "id": "6d737bc2",
   "metadata": {},
   "outputs": [
    {
     "name": "stderr",
     "output_type": "stream",
     "text": [
      "/var/folders/1x/nk1pmjs57kd0k7pp1vkgtk7w0000gn/T/ipykernel_31262/618299807.py:1: SettingWithCopyWarning: \n",
      "A value is trying to be set on a copy of a slice from a DataFrame.\n",
      "Try using .loc[row_indexer,col_indexer] = value instead\n",
      "\n",
      "See the caveats in the documentation: https://pandas.pydata.org/pandas-docs/stable/user_guide/indexing.html#returning-a-view-versus-a-copy\n",
      "  X['id']=music_df['id']\n"
     ]
    }
   ],
   "source": [
    "X['id']=music_df['id']"
   ]
  },
  {
   "cell_type": "code",
   "execution_count": 115,
   "id": "262cd19a",
   "metadata": {},
   "outputs": [
    {
     "data": {
      "text/html": [
       "<div>\n",
       "<style scoped>\n",
       "    .dataframe tbody tr th:only-of-type {\n",
       "        vertical-align: middle;\n",
       "    }\n",
       "\n",
       "    .dataframe tbody tr th {\n",
       "        vertical-align: top;\n",
       "    }\n",
       "\n",
       "    .dataframe thead th {\n",
       "        text-align: right;\n",
       "    }\n",
       "</style>\n",
       "<table border=\"1\" class=\"dataframe\">\n",
       "  <thead>\n",
       "    <tr style=\"text-align: right;\">\n",
       "      <th></th>\n",
       "      <th>danceability</th>\n",
       "      <th>energy</th>\n",
       "      <th>loudness</th>\n",
       "      <th>tempo</th>\n",
       "      <th>valence</th>\n",
       "      <th>acousticness</th>\n",
       "      <th>cluster</th>\n",
       "      <th>id</th>\n",
       "    </tr>\n",
       "  </thead>\n",
       "  <tbody>\n",
       "    <tr>\n",
       "      <th>0</th>\n",
       "      <td>0.796</td>\n",
       "      <td>0.865</td>\n",
       "      <td>-6.760</td>\n",
       "      <td>130.012</td>\n",
       "      <td>0.768</td>\n",
       "      <td>0.17900</td>\n",
       "      <td>4</td>\n",
       "      <td>5qQLBOEAelSN7JWqX3RIIv</td>\n",
       "    </tr>\n",
       "    <tr>\n",
       "      <th>1</th>\n",
       "      <td>0.776</td>\n",
       "      <td>0.714</td>\n",
       "      <td>-5.705</td>\n",
       "      <td>161.015</td>\n",
       "      <td>0.433</td>\n",
       "      <td>0.02830</td>\n",
       "      <td>2</td>\n",
       "      <td>4rSmXn2TIKt6iBeBDM4uOs</td>\n",
       "    </tr>\n",
       "    <tr>\n",
       "      <th>2</th>\n",
       "      <td>0.960</td>\n",
       "      <td>0.670</td>\n",
       "      <td>-7.035</td>\n",
       "      <td>133.966</td>\n",
       "      <td>0.800</td>\n",
       "      <td>0.05980</td>\n",
       "      <td>11</td>\n",
       "      <td>6R5iuYqG0HsnC41RT3lzqX</td>\n",
       "    </tr>\n",
       "    <tr>\n",
       "      <th>3</th>\n",
       "      <td>0.752</td>\n",
       "      <td>0.571</td>\n",
       "      <td>-6.422</td>\n",
       "      <td>169.155</td>\n",
       "      <td>0.492</td>\n",
       "      <td>0.07230</td>\n",
       "      <td>2</td>\n",
       "      <td>6FGPpwHlUBnl0TLGKyN4Nl</td>\n",
       "    </tr>\n",
       "    <tr>\n",
       "      <th>4</th>\n",
       "      <td>0.774</td>\n",
       "      <td>0.700</td>\n",
       "      <td>-7.334</td>\n",
       "      <td>81.990</td>\n",
       "      <td>0.624</td>\n",
       "      <td>0.16300</td>\n",
       "      <td>19</td>\n",
       "      <td>3ilgxZl5g7MOQCUiky3VOG</td>\n",
       "    </tr>\n",
       "    <tr>\n",
       "      <th>...</th>\n",
       "      <td>...</td>\n",
       "      <td>...</td>\n",
       "      <td>...</td>\n",
       "      <td>...</td>\n",
       "      <td>...</td>\n",
       "      <td>...</td>\n",
       "      <td>...</td>\n",
       "      <td>...</td>\n",
       "    </tr>\n",
       "    <tr>\n",
       "      <th>907</th>\n",
       "      <td>0.720</td>\n",
       "      <td>0.932</td>\n",
       "      <td>-4.204</td>\n",
       "      <td>130.928</td>\n",
       "      <td>0.918</td>\n",
       "      <td>0.09760</td>\n",
       "      <td>4</td>\n",
       "      <td>4cSSAsYt4afPzyaBdO0WVs</td>\n",
       "    </tr>\n",
       "    <tr>\n",
       "      <th>908</th>\n",
       "      <td>0.667</td>\n",
       "      <td>0.821</td>\n",
       "      <td>-5.565</td>\n",
       "      <td>121.027</td>\n",
       "      <td>0.638</td>\n",
       "      <td>0.09410</td>\n",
       "      <td>14</td>\n",
       "      <td>3fGkWWpjU3xghZbKa2rQUW</td>\n",
       "    </tr>\n",
       "    <tr>\n",
       "      <th>909</th>\n",
       "      <td>0.704</td>\n",
       "      <td>0.934</td>\n",
       "      <td>-4.528</td>\n",
       "      <td>121.014</td>\n",
       "      <td>0.494</td>\n",
       "      <td>0.02850</td>\n",
       "      <td>14</td>\n",
       "      <td>1JlczCvmw3K2MizmtDvfp3</td>\n",
       "    </tr>\n",
       "    <tr>\n",
       "      <th>910</th>\n",
       "      <td>0.716</td>\n",
       "      <td>0.695</td>\n",
       "      <td>-5.250</td>\n",
       "      <td>117.966</td>\n",
       "      <td>0.684</td>\n",
       "      <td>0.00643</td>\n",
       "      <td>14</td>\n",
       "      <td>0oUlljswfmHwdNpjHnn8Ii</td>\n",
       "    </tr>\n",
       "    <tr>\n",
       "      <th>911</th>\n",
       "      <td>0.700</td>\n",
       "      <td>0.892</td>\n",
       "      <td>-4.097</td>\n",
       "      <td>128.005</td>\n",
       "      <td>0.667</td>\n",
       "      <td>0.04960</td>\n",
       "      <td>14</td>\n",
       "      <td>3ML92qAQ18YE1OcCMYDy5Z</td>\n",
       "    </tr>\n",
       "  </tbody>\n",
       "</table>\n",
       "<p>912 rows × 8 columns</p>\n",
       "</div>"
      ],
      "text/plain": [
       "     danceability  energy  loudness    tempo  valence  acousticness  cluster  \\\n",
       "0           0.796   0.865    -6.760  130.012    0.768       0.17900        4   \n",
       "1           0.776   0.714    -5.705  161.015    0.433       0.02830        2   \n",
       "2           0.960   0.670    -7.035  133.966    0.800       0.05980       11   \n",
       "3           0.752   0.571    -6.422  169.155    0.492       0.07230        2   \n",
       "4           0.774   0.700    -7.334   81.990    0.624       0.16300       19   \n",
       "..            ...     ...       ...      ...      ...           ...      ...   \n",
       "907         0.720   0.932    -4.204  130.928    0.918       0.09760        4   \n",
       "908         0.667   0.821    -5.565  121.027    0.638       0.09410       14   \n",
       "909         0.704   0.934    -4.528  121.014    0.494       0.02850       14   \n",
       "910         0.716   0.695    -5.250  117.966    0.684       0.00643       14   \n",
       "911         0.700   0.892    -4.097  128.005    0.667       0.04960       14   \n",
       "\n",
       "                         id  \n",
       "0    5qQLBOEAelSN7JWqX3RIIv  \n",
       "1    4rSmXn2TIKt6iBeBDM4uOs  \n",
       "2    6R5iuYqG0HsnC41RT3lzqX  \n",
       "3    6FGPpwHlUBnl0TLGKyN4Nl  \n",
       "4    3ilgxZl5g7MOQCUiky3VOG  \n",
       "..                      ...  \n",
       "907  4cSSAsYt4afPzyaBdO0WVs  \n",
       "908  3fGkWWpjU3xghZbKa2rQUW  \n",
       "909  1JlczCvmw3K2MizmtDvfp3  \n",
       "910  0oUlljswfmHwdNpjHnn8Ii  \n",
       "911  3ML92qAQ18YE1OcCMYDy5Z  \n",
       "\n",
       "[912 rows x 8 columns]"
      ]
     },
     "execution_count": 115,
     "metadata": {},
     "output_type": "execute_result"
    }
   ],
   "source": [
    "X"
   ]
  },
  {
   "cell_type": "code",
   "execution_count": 117,
   "id": "b68d4bcf",
   "metadata": {},
   "outputs": [],
   "source": [
    "X.to_csv('X.csv', index=False)"
   ]
  },
  {
   "cell_type": "code",
   "execution_count": null,
   "id": "8caf2664",
   "metadata": {},
   "outputs": [],
   "source": []
  }
 ],
 "metadata": {
  "kernelspec": {
   "display_name": "Python 3 (ipykernel)",
   "language": "python",
   "name": "python3"
  },
  "language_info": {
   "codemirror_mode": {
    "name": "ipython",
    "version": 3
   },
   "file_extension": ".py",
   "mimetype": "text/x-python",
   "name": "python",
   "nbconvert_exporter": "python",
   "pygments_lexer": "ipython3",
   "version": "3.10.9"
  }
 },
 "nbformat": 4,
 "nbformat_minor": 5
}

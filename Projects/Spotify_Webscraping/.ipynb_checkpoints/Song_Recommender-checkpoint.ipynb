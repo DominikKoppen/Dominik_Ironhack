{
 "cells": [
  {
   "cell_type": "code",
   "execution_count": null,
   "id": "58b349e0",
   "metadata": {},
   "outputs": [],
   "source": [
    "import numpy as np\n",
    "import pandas as pd\n",
    "import pickle\n",
    "from sklearn import datasets # sklearn comes with some toy datasets to practice\n",
    "from sklearn.preprocessing import StandardScaler\n",
    "from sklearn.cluster import KMeans\n",
    "import matplotlib.pyplot as plt\n",
    "from sklearn.metrics import silhouette_score\n",
    "import spotipy\n",
    "import pandas as pd\n",
    "import json\n",
    "from spotipy.oauth2 import SpotifyClientCredentials\n",
    "import config\n",
    "sp = spotipy.Spotify(auth_manager=SpotifyClientCredentials(client_id= config.client_id,\n",
    "                                                           client_secret= config.client_secret))\n",
    "from IPython.display import IFrame\n",
    "from fuzzywuzzy import fuzz \n",
    "from fuzzywuzzy import process "
   ]
  },
  {
   "cell_type": "markdown",
   "id": "41410a2b",
   "metadata": {},
   "source": [
    "# Import Model & Scaler"
   ]
  },
  {
   "cell_type": "code",
   "execution_count": 4,
   "id": "036e8f84",
   "metadata": {},
   "outputs": [],
   "source": [
    "def load(filename = 'kmeans_4.pickle'):\n",
    "    try:\n",
    "        with open(filename, 'rb') as f:\n",
    "            return pickle.load(f)\n",
    "    except FileNotFoundError:\n",
    "        print('File not found!')"
   ]
  },
  {
   "cell_type": "code",
   "execution_count": 5,
   "id": "769b62f9",
   "metadata": {},
   "outputs": [
    {
     "data": {
      "text/html": [
       "<style>#sk-container-id-1 {color: black;background-color: white;}#sk-container-id-1 pre{padding: 0;}#sk-container-id-1 div.sk-toggleable {background-color: white;}#sk-container-id-1 label.sk-toggleable__label {cursor: pointer;display: block;width: 100%;margin-bottom: 0;padding: 0.3em;box-sizing: border-box;text-align: center;}#sk-container-id-1 label.sk-toggleable__label-arrow:before {content: \"▸\";float: left;margin-right: 0.25em;color: #696969;}#sk-container-id-1 label.sk-toggleable__label-arrow:hover:before {color: black;}#sk-container-id-1 div.sk-estimator:hover label.sk-toggleable__label-arrow:before {color: black;}#sk-container-id-1 div.sk-toggleable__content {max-height: 0;max-width: 0;overflow: hidden;text-align: left;background-color: #f0f8ff;}#sk-container-id-1 div.sk-toggleable__content pre {margin: 0.2em;color: black;border-radius: 0.25em;background-color: #f0f8ff;}#sk-container-id-1 input.sk-toggleable__control:checked~div.sk-toggleable__content {max-height: 200px;max-width: 100%;overflow: auto;}#sk-container-id-1 input.sk-toggleable__control:checked~label.sk-toggleable__label-arrow:before {content: \"▾\";}#sk-container-id-1 div.sk-estimator input.sk-toggleable__control:checked~label.sk-toggleable__label {background-color: #d4ebff;}#sk-container-id-1 div.sk-label input.sk-toggleable__control:checked~label.sk-toggleable__label {background-color: #d4ebff;}#sk-container-id-1 input.sk-hidden--visually {border: 0;clip: rect(1px 1px 1px 1px);clip: rect(1px, 1px, 1px, 1px);height: 1px;margin: -1px;overflow: hidden;padding: 0;position: absolute;width: 1px;}#sk-container-id-1 div.sk-estimator {font-family: monospace;background-color: #f0f8ff;border: 1px dotted black;border-radius: 0.25em;box-sizing: border-box;margin-bottom: 0.5em;}#sk-container-id-1 div.sk-estimator:hover {background-color: #d4ebff;}#sk-container-id-1 div.sk-parallel-item::after {content: \"\";width: 100%;border-bottom: 1px solid gray;flex-grow: 1;}#sk-container-id-1 div.sk-label:hover label.sk-toggleable__label {background-color: #d4ebff;}#sk-container-id-1 div.sk-serial::before {content: \"\";position: absolute;border-left: 1px solid gray;box-sizing: border-box;top: 0;bottom: 0;left: 50%;z-index: 0;}#sk-container-id-1 div.sk-serial {display: flex;flex-direction: column;align-items: center;background-color: white;padding-right: 0.2em;padding-left: 0.2em;position: relative;}#sk-container-id-1 div.sk-item {position: relative;z-index: 1;}#sk-container-id-1 div.sk-parallel {display: flex;align-items: stretch;justify-content: center;background-color: white;position: relative;}#sk-container-id-1 div.sk-item::before, #sk-container-id-1 div.sk-parallel-item::before {content: \"\";position: absolute;border-left: 1px solid gray;box-sizing: border-box;top: 0;bottom: 0;left: 50%;z-index: -1;}#sk-container-id-1 div.sk-parallel-item {display: flex;flex-direction: column;z-index: 1;position: relative;background-color: white;}#sk-container-id-1 div.sk-parallel-item:first-child::after {align-self: flex-end;width: 50%;}#sk-container-id-1 div.sk-parallel-item:last-child::after {align-self: flex-start;width: 50%;}#sk-container-id-1 div.sk-parallel-item:only-child::after {width: 0;}#sk-container-id-1 div.sk-dashed-wrapped {border: 1px dashed gray;margin: 0 0.4em 0.5em 0.4em;box-sizing: border-box;padding-bottom: 0.4em;background-color: white;}#sk-container-id-1 div.sk-label label {font-family: monospace;font-weight: bold;display: inline-block;line-height: 1.2em;}#sk-container-id-1 div.sk-label-container {text-align: center;}#sk-container-id-1 div.sk-container {/* jupyter's `normalize.less` sets `[hidden] { display: none; }` but bootstrap.min.css set `[hidden] { display: none !important; }` so we also need the `!important` here to be able to override the default hidden behavior on the sphinx rendered scikit-learn.org. See: https://github.com/scikit-learn/scikit-learn/issues/21755 */display: inline-block !important;position: relative;}#sk-container-id-1 div.sk-text-repr-fallback {display: none;}</style><div id=\"sk-container-id-1\" class=\"sk-top-container\"><div class=\"sk-text-repr-fallback\"><pre>KMeans(n_clusters=19, n_init=&#x27;auto&#x27;, random_state=1234)</pre><b>In a Jupyter environment, please rerun this cell to show the HTML representation or trust the notebook. <br />On GitHub, the HTML representation is unable to render, please try loading this page with nbviewer.org.</b></div><div class=\"sk-container\" hidden><div class=\"sk-item\"><div class=\"sk-estimator sk-toggleable\"><input class=\"sk-toggleable__control sk-hidden--visually\" id=\"sk-estimator-id-1\" type=\"checkbox\" checked><label for=\"sk-estimator-id-1\" class=\"sk-toggleable__label sk-toggleable__label-arrow\">KMeans</label><div class=\"sk-toggleable__content\"><pre>KMeans(n_clusters=19, n_init=&#x27;auto&#x27;, random_state=1234)</pre></div></div></div></div></div>"
      ],
      "text/plain": [
       "KMeans(n_clusters=19, n_init='auto', random_state=1234)"
      ]
     },
     "execution_count": 5,
     "metadata": {},
     "output_type": "execute_result"
    }
   ],
   "source": [
    "load(filename = 'kmeans_4.pickle')"
   ]
  },
  {
   "cell_type": "code",
   "execution_count": 6,
   "id": "42817962",
   "metadata": {},
   "outputs": [],
   "source": [
    "model = load(filename = 'spotify_model.pickle')"
   ]
  },
  {
   "cell_type": "code",
   "execution_count": 7,
   "id": "8213d237",
   "metadata": {},
   "outputs": [],
   "source": [
    "def load(filename = 'scaler.pickle'):\n",
    "    try:\n",
    "        with open(filename, 'rb') as f:\n",
    "            return pickle.load(f)\n",
    "    except FileNotFoundError:\n",
    "        print('File not found!')"
   ]
  },
  {
   "cell_type": "code",
   "execution_count": 8,
   "id": "189e6bbf",
   "metadata": {},
   "outputs": [
    {
     "data": {
      "text/html": [
       "<style>#sk-container-id-2 {color: black;background-color: white;}#sk-container-id-2 pre{padding: 0;}#sk-container-id-2 div.sk-toggleable {background-color: white;}#sk-container-id-2 label.sk-toggleable__label {cursor: pointer;display: block;width: 100%;margin-bottom: 0;padding: 0.3em;box-sizing: border-box;text-align: center;}#sk-container-id-2 label.sk-toggleable__label-arrow:before {content: \"▸\";float: left;margin-right: 0.25em;color: #696969;}#sk-container-id-2 label.sk-toggleable__label-arrow:hover:before {color: black;}#sk-container-id-2 div.sk-estimator:hover label.sk-toggleable__label-arrow:before {color: black;}#sk-container-id-2 div.sk-toggleable__content {max-height: 0;max-width: 0;overflow: hidden;text-align: left;background-color: #f0f8ff;}#sk-container-id-2 div.sk-toggleable__content pre {margin: 0.2em;color: black;border-radius: 0.25em;background-color: #f0f8ff;}#sk-container-id-2 input.sk-toggleable__control:checked~div.sk-toggleable__content {max-height: 200px;max-width: 100%;overflow: auto;}#sk-container-id-2 input.sk-toggleable__control:checked~label.sk-toggleable__label-arrow:before {content: \"▾\";}#sk-container-id-2 div.sk-estimator input.sk-toggleable__control:checked~label.sk-toggleable__label {background-color: #d4ebff;}#sk-container-id-2 div.sk-label input.sk-toggleable__control:checked~label.sk-toggleable__label {background-color: #d4ebff;}#sk-container-id-2 input.sk-hidden--visually {border: 0;clip: rect(1px 1px 1px 1px);clip: rect(1px, 1px, 1px, 1px);height: 1px;margin: -1px;overflow: hidden;padding: 0;position: absolute;width: 1px;}#sk-container-id-2 div.sk-estimator {font-family: monospace;background-color: #f0f8ff;border: 1px dotted black;border-radius: 0.25em;box-sizing: border-box;margin-bottom: 0.5em;}#sk-container-id-2 div.sk-estimator:hover {background-color: #d4ebff;}#sk-container-id-2 div.sk-parallel-item::after {content: \"\";width: 100%;border-bottom: 1px solid gray;flex-grow: 1;}#sk-container-id-2 div.sk-label:hover label.sk-toggleable__label {background-color: #d4ebff;}#sk-container-id-2 div.sk-serial::before {content: \"\";position: absolute;border-left: 1px solid gray;box-sizing: border-box;top: 0;bottom: 0;left: 50%;z-index: 0;}#sk-container-id-2 div.sk-serial {display: flex;flex-direction: column;align-items: center;background-color: white;padding-right: 0.2em;padding-left: 0.2em;position: relative;}#sk-container-id-2 div.sk-item {position: relative;z-index: 1;}#sk-container-id-2 div.sk-parallel {display: flex;align-items: stretch;justify-content: center;background-color: white;position: relative;}#sk-container-id-2 div.sk-item::before, #sk-container-id-2 div.sk-parallel-item::before {content: \"\";position: absolute;border-left: 1px solid gray;box-sizing: border-box;top: 0;bottom: 0;left: 50%;z-index: -1;}#sk-container-id-2 div.sk-parallel-item {display: flex;flex-direction: column;z-index: 1;position: relative;background-color: white;}#sk-container-id-2 div.sk-parallel-item:first-child::after {align-self: flex-end;width: 50%;}#sk-container-id-2 div.sk-parallel-item:last-child::after {align-self: flex-start;width: 50%;}#sk-container-id-2 div.sk-parallel-item:only-child::after {width: 0;}#sk-container-id-2 div.sk-dashed-wrapped {border: 1px dashed gray;margin: 0 0.4em 0.5em 0.4em;box-sizing: border-box;padding-bottom: 0.4em;background-color: white;}#sk-container-id-2 div.sk-label label {font-family: monospace;font-weight: bold;display: inline-block;line-height: 1.2em;}#sk-container-id-2 div.sk-label-container {text-align: center;}#sk-container-id-2 div.sk-container {/* jupyter's `normalize.less` sets `[hidden] { display: none; }` but bootstrap.min.css set `[hidden] { display: none !important; }` so we also need the `!important` here to be able to override the default hidden behavior on the sphinx rendered scikit-learn.org. See: https://github.com/scikit-learn/scikit-learn/issues/21755 */display: inline-block !important;position: relative;}#sk-container-id-2 div.sk-text-repr-fallback {display: none;}</style><div id=\"sk-container-id-2\" class=\"sk-top-container\"><div class=\"sk-text-repr-fallback\"><pre>StandardScaler()</pre><b>In a Jupyter environment, please rerun this cell to show the HTML representation or trust the notebook. <br />On GitHub, the HTML representation is unable to render, please try loading this page with nbviewer.org.</b></div><div class=\"sk-container\" hidden><div class=\"sk-item\"><div class=\"sk-estimator sk-toggleable\"><input class=\"sk-toggleable__control sk-hidden--visually\" id=\"sk-estimator-id-2\" type=\"checkbox\" checked><label for=\"sk-estimator-id-2\" class=\"sk-toggleable__label sk-toggleable__label-arrow\">StandardScaler</label><div class=\"sk-toggleable__content\"><pre>StandardScaler()</pre></div></div></div></div></div>"
      ],
      "text/plain": [
       "StandardScaler()"
      ]
     },
     "execution_count": 8,
     "metadata": {},
     "output_type": "execute_result"
    }
   ],
   "source": [
    "load(filename = 'scaler.pickle')"
   ]
  },
  {
   "cell_type": "code",
   "execution_count": 9,
   "id": "cfffc25e",
   "metadata": {},
   "outputs": [],
   "source": [
    "scaler = load(filename = 'scaler.pickle')"
   ]
  },
  {
   "cell_type": "markdown",
   "id": "08076556",
   "metadata": {},
   "source": [
    "# Import DataFrames"
   ]
  },
  {
   "cell_type": "code",
   "execution_count": 10,
   "id": "4c91d849",
   "metadata": {},
   "outputs": [],
   "source": [
    "import pandas as pd\n",
    "\n",
    "\n",
    "hot100 = pd.read_csv(\"hot100.csv\")\n",
    "country = pd.read_csv(\"country_df.csv\")\n",
    "X = pd.read_csv('X.csv')"
   ]
  },
  {
   "cell_type": "code",
   "execution_count": 11,
   "id": "b228f9d4",
   "metadata": {},
   "outputs": [
    {
     "data": {
      "text/html": [
       "<div>\n",
       "<style scoped>\n",
       "    .dataframe tbody tr th:only-of-type {\n",
       "        vertical-align: middle;\n",
       "    }\n",
       "\n",
       "    .dataframe tbody tr th {\n",
       "        vertical-align: top;\n",
       "    }\n",
       "\n",
       "    .dataframe thead th {\n",
       "        text-align: right;\n",
       "    }\n",
       "</style>\n",
       "<table border=\"1\" class=\"dataframe\">\n",
       "  <thead>\n",
       "    <tr style=\"text-align: right;\">\n",
       "      <th></th>\n",
       "      <th>danceability</th>\n",
       "      <th>energy</th>\n",
       "      <th>loudness</th>\n",
       "      <th>tempo</th>\n",
       "      <th>valence</th>\n",
       "      <th>acousticness</th>\n",
       "      <th>cluster</th>\n",
       "      <th>id</th>\n",
       "    </tr>\n",
       "  </thead>\n",
       "  <tbody>\n",
       "    <tr>\n",
       "      <th>0</th>\n",
       "      <td>0.796</td>\n",
       "      <td>0.865</td>\n",
       "      <td>-6.760</td>\n",
       "      <td>130.012</td>\n",
       "      <td>0.768</td>\n",
       "      <td>0.17900</td>\n",
       "      <td>4</td>\n",
       "      <td>5qQLBOEAelSN7JWqX3RIIv</td>\n",
       "    </tr>\n",
       "    <tr>\n",
       "      <th>1</th>\n",
       "      <td>0.776</td>\n",
       "      <td>0.714</td>\n",
       "      <td>-5.705</td>\n",
       "      <td>161.015</td>\n",
       "      <td>0.433</td>\n",
       "      <td>0.02830</td>\n",
       "      <td>2</td>\n",
       "      <td>4rSmXn2TIKt6iBeBDM4uOs</td>\n",
       "    </tr>\n",
       "    <tr>\n",
       "      <th>2</th>\n",
       "      <td>0.960</td>\n",
       "      <td>0.670</td>\n",
       "      <td>-7.035</td>\n",
       "      <td>133.966</td>\n",
       "      <td>0.800</td>\n",
       "      <td>0.05980</td>\n",
       "      <td>11</td>\n",
       "      <td>6R5iuYqG0HsnC41RT3lzqX</td>\n",
       "    </tr>\n",
       "    <tr>\n",
       "      <th>3</th>\n",
       "      <td>0.752</td>\n",
       "      <td>0.571</td>\n",
       "      <td>-6.422</td>\n",
       "      <td>169.155</td>\n",
       "      <td>0.492</td>\n",
       "      <td>0.07230</td>\n",
       "      <td>2</td>\n",
       "      <td>6FGPpwHlUBnl0TLGKyN4Nl</td>\n",
       "    </tr>\n",
       "    <tr>\n",
       "      <th>4</th>\n",
       "      <td>0.774</td>\n",
       "      <td>0.700</td>\n",
       "      <td>-7.334</td>\n",
       "      <td>81.990</td>\n",
       "      <td>0.624</td>\n",
       "      <td>0.16300</td>\n",
       "      <td>19</td>\n",
       "      <td>3ilgxZl5g7MOQCUiky3VOG</td>\n",
       "    </tr>\n",
       "    <tr>\n",
       "      <th>...</th>\n",
       "      <td>...</td>\n",
       "      <td>...</td>\n",
       "      <td>...</td>\n",
       "      <td>...</td>\n",
       "      <td>...</td>\n",
       "      <td>...</td>\n",
       "      <td>...</td>\n",
       "      <td>...</td>\n",
       "    </tr>\n",
       "    <tr>\n",
       "      <th>907</th>\n",
       "      <td>0.720</td>\n",
       "      <td>0.932</td>\n",
       "      <td>-4.204</td>\n",
       "      <td>130.928</td>\n",
       "      <td>0.918</td>\n",
       "      <td>0.09760</td>\n",
       "      <td>4</td>\n",
       "      <td>4cSSAsYt4afPzyaBdO0WVs</td>\n",
       "    </tr>\n",
       "    <tr>\n",
       "      <th>908</th>\n",
       "      <td>0.667</td>\n",
       "      <td>0.821</td>\n",
       "      <td>-5.565</td>\n",
       "      <td>121.027</td>\n",
       "      <td>0.638</td>\n",
       "      <td>0.09410</td>\n",
       "      <td>14</td>\n",
       "      <td>3fGkWWpjU3xghZbKa2rQUW</td>\n",
       "    </tr>\n",
       "    <tr>\n",
       "      <th>909</th>\n",
       "      <td>0.704</td>\n",
       "      <td>0.934</td>\n",
       "      <td>-4.528</td>\n",
       "      <td>121.014</td>\n",
       "      <td>0.494</td>\n",
       "      <td>0.02850</td>\n",
       "      <td>14</td>\n",
       "      <td>1JlczCvmw3K2MizmtDvfp3</td>\n",
       "    </tr>\n",
       "    <tr>\n",
       "      <th>910</th>\n",
       "      <td>0.716</td>\n",
       "      <td>0.695</td>\n",
       "      <td>-5.250</td>\n",
       "      <td>117.966</td>\n",
       "      <td>0.684</td>\n",
       "      <td>0.00643</td>\n",
       "      <td>14</td>\n",
       "      <td>0oUlljswfmHwdNpjHnn8Ii</td>\n",
       "    </tr>\n",
       "    <tr>\n",
       "      <th>911</th>\n",
       "      <td>0.700</td>\n",
       "      <td>0.892</td>\n",
       "      <td>-4.097</td>\n",
       "      <td>128.005</td>\n",
       "      <td>0.667</td>\n",
       "      <td>0.04960</td>\n",
       "      <td>14</td>\n",
       "      <td>3ML92qAQ18YE1OcCMYDy5Z</td>\n",
       "    </tr>\n",
       "  </tbody>\n",
       "</table>\n",
       "<p>912 rows × 8 columns</p>\n",
       "</div>"
      ],
      "text/plain": [
       "     danceability  energy  loudness    tempo  valence  acousticness  cluster  \\\n",
       "0           0.796   0.865    -6.760  130.012    0.768       0.17900        4   \n",
       "1           0.776   0.714    -5.705  161.015    0.433       0.02830        2   \n",
       "2           0.960   0.670    -7.035  133.966    0.800       0.05980       11   \n",
       "3           0.752   0.571    -6.422  169.155    0.492       0.07230        2   \n",
       "4           0.774   0.700    -7.334   81.990    0.624       0.16300       19   \n",
       "..            ...     ...       ...      ...      ...           ...      ...   \n",
       "907         0.720   0.932    -4.204  130.928    0.918       0.09760        4   \n",
       "908         0.667   0.821    -5.565  121.027    0.638       0.09410       14   \n",
       "909         0.704   0.934    -4.528  121.014    0.494       0.02850       14   \n",
       "910         0.716   0.695    -5.250  117.966    0.684       0.00643       14   \n",
       "911         0.700   0.892    -4.097  128.005    0.667       0.04960       14   \n",
       "\n",
       "                         id  \n",
       "0    5qQLBOEAelSN7JWqX3RIIv  \n",
       "1    4rSmXn2TIKt6iBeBDM4uOs  \n",
       "2    6R5iuYqG0HsnC41RT3lzqX  \n",
       "3    6FGPpwHlUBnl0TLGKyN4Nl  \n",
       "4    3ilgxZl5g7MOQCUiky3VOG  \n",
       "..                      ...  \n",
       "907  4cSSAsYt4afPzyaBdO0WVs  \n",
       "908  3fGkWWpjU3xghZbKa2rQUW  \n",
       "909  1JlczCvmw3K2MizmtDvfp3  \n",
       "910  0oUlljswfmHwdNpjHnn8Ii  \n",
       "911  3ML92qAQ18YE1OcCMYDy5Z  \n",
       "\n",
       "[912 rows x 8 columns]"
      ]
     },
     "execution_count": 11,
     "metadata": {},
     "output_type": "execute_result"
    }
   ],
   "source": [
    "X"
   ]
  },
  {
   "cell_type": "markdown",
   "id": "0f1b9e03",
   "metadata": {},
   "source": [
    "# Prepare the Model"
   ]
  },
  {
   "cell_type": "code",
   "execution_count": 45,
   "id": "e1b77197",
   "metadata": {},
   "outputs": [
    {
     "name": "stdout",
     "output_type": "stream",
     "text": [
      "Please enter a title: cruel summer\n"
     ]
    }
   ],
   "source": [
    "title = input(\"Please enter a title: \")"
   ]
  },
  {
   "cell_type": "code",
   "execution_count": 46,
   "id": "265942fb",
   "metadata": {
    "scrolled": true
   },
   "outputs": [
    {
     "data": {
      "text/plain": [
       "array([[-0.25292575,  0.59396359,  0.64329226,  1.66033522,  0.82045942,\n",
       "        -0.88570279]])"
      ]
     },
     "execution_count": 46,
     "metadata": {},
     "output_type": "execute_result"
    }
   ],
   "source": [
    "\n",
    "results = sp.search(q=f\"{title}\", limit=1, market=\"GB\")\n",
    "audio_features = sp.audio_features(results[\"tracks\"][\"items\"][0][\"id\"])[0]\n",
    "new_features = {'danceability': audio_features['danceability'], 'energy': audio_features['energy'], 'loudness': audio_features['loudness'], 'tempo': audio_features['tempo'], 'valence': audio_features['valence'], 'acousticness': audio_features['acousticness']}\n",
    "new_features_df = pd.DataFrame([new_features])\n",
    "scaler.transform(new_features_df)\n"
   ]
  },
  {
   "cell_type": "code",
   "execution_count": 47,
   "id": "5c1a2e89",
   "metadata": {
    "scrolled": true
   },
   "outputs": [
    {
     "data": {
      "text/html": [
       "<div>\n",
       "<style scoped>\n",
       "    .dataframe tbody tr th:only-of-type {\n",
       "        vertical-align: middle;\n",
       "    }\n",
       "\n",
       "    .dataframe tbody tr th {\n",
       "        vertical-align: top;\n",
       "    }\n",
       "\n",
       "    .dataframe thead th {\n",
       "        text-align: right;\n",
       "    }\n",
       "</style>\n",
       "<table border=\"1\" class=\"dataframe\">\n",
       "  <thead>\n",
       "    <tr style=\"text-align: right;\">\n",
       "      <th></th>\n",
       "      <th>danceability</th>\n",
       "      <th>energy</th>\n",
       "      <th>loudness</th>\n",
       "      <th>tempo</th>\n",
       "      <th>valence</th>\n",
       "      <th>acousticness</th>\n",
       "      <th>cluster</th>\n",
       "      <th>id</th>\n",
       "    </tr>\n",
       "  </thead>\n",
       "  <tbody>\n",
       "    <tr>\n",
       "      <th>1</th>\n",
       "      <td>0.776</td>\n",
       "      <td>0.714</td>\n",
       "      <td>-5.705</td>\n",
       "      <td>161.015</td>\n",
       "      <td>0.433</td>\n",
       "      <td>0.0283</td>\n",
       "      <td>2</td>\n",
       "      <td>4rSmXn2TIKt6iBeBDM4uOs</td>\n",
       "    </tr>\n",
       "    <tr>\n",
       "      <th>3</th>\n",
       "      <td>0.752</td>\n",
       "      <td>0.571</td>\n",
       "      <td>-6.422</td>\n",
       "      <td>169.155</td>\n",
       "      <td>0.492</td>\n",
       "      <td>0.0723</td>\n",
       "      <td>2</td>\n",
       "      <td>6FGPpwHlUBnl0TLGKyN4Nl</td>\n",
       "    </tr>\n",
       "    <tr>\n",
       "      <th>7</th>\n",
       "      <td>0.819</td>\n",
       "      <td>0.538</td>\n",
       "      <td>-6.811</td>\n",
       "      <td>125.026</td>\n",
       "      <td>0.542</td>\n",
       "      <td>0.1410</td>\n",
       "      <td>2</td>\n",
       "      <td>5jGcOhXpPE07vrSe23198B</td>\n",
       "    </tr>\n",
       "    <tr>\n",
       "      <th>15</th>\n",
       "      <td>0.823</td>\n",
       "      <td>0.567</td>\n",
       "      <td>-9.571</td>\n",
       "      <td>136.006</td>\n",
       "      <td>0.545</td>\n",
       "      <td>0.1230</td>\n",
       "      <td>2</td>\n",
       "      <td>001TLpmtuQMWJYyE7q9ayM</td>\n",
       "    </tr>\n",
       "    <tr>\n",
       "      <th>21</th>\n",
       "      <td>0.828</td>\n",
       "      <td>0.785</td>\n",
       "      <td>-5.719</td>\n",
       "      <td>145.044</td>\n",
       "      <td>0.575</td>\n",
       "      <td>0.2750</td>\n",
       "      <td>2</td>\n",
       "      <td>2AQjQLPLY5EZ667L2Z9M0D</td>\n",
       "    </tr>\n",
       "    <tr>\n",
       "      <th>...</th>\n",
       "      <td>...</td>\n",
       "      <td>...</td>\n",
       "      <td>...</td>\n",
       "      <td>...</td>\n",
       "      <td>...</td>\n",
       "      <td>...</td>\n",
       "      <td>...</td>\n",
       "      <td>...</td>\n",
       "    </tr>\n",
       "    <tr>\n",
       "      <th>836</th>\n",
       "      <td>0.899</td>\n",
       "      <td>0.348</td>\n",
       "      <td>-16.467</td>\n",
       "      <td>140.044</td>\n",
       "      <td>0.398</td>\n",
       "      <td>0.1880</td>\n",
       "      <td>2</td>\n",
       "      <td>33YgGfIfF8ntJGWD35WkCu</td>\n",
       "    </tr>\n",
       "    <tr>\n",
       "      <th>841</th>\n",
       "      <td>0.782</td>\n",
       "      <td>0.698</td>\n",
       "      <td>-10.755</td>\n",
       "      <td>150.043</td>\n",
       "      <td>0.502</td>\n",
       "      <td>0.0249</td>\n",
       "      <td>2</td>\n",
       "      <td>3sMNkmHA0fZkt2F5pqtVGe</td>\n",
       "    </tr>\n",
       "    <tr>\n",
       "      <th>846</th>\n",
       "      <td>0.921</td>\n",
       "      <td>0.522</td>\n",
       "      <td>-6.969</td>\n",
       "      <td>139.940</td>\n",
       "      <td>0.332</td>\n",
       "      <td>0.0611</td>\n",
       "      <td>2</td>\n",
       "      <td>7h89KNdndkucY4nDlwr31b</td>\n",
       "    </tr>\n",
       "    <tr>\n",
       "      <th>851</th>\n",
       "      <td>0.701</td>\n",
       "      <td>0.536</td>\n",
       "      <td>-12.523</td>\n",
       "      <td>160.199</td>\n",
       "      <td>0.382</td>\n",
       "      <td>0.1130</td>\n",
       "      <td>2</td>\n",
       "      <td>7wc0bSJHs36VJ0po9UCvHj</td>\n",
       "    </tr>\n",
       "    <tr>\n",
       "      <th>860</th>\n",
       "      <td>0.790</td>\n",
       "      <td>0.737</td>\n",
       "      <td>-5.568</td>\n",
       "      <td>143.083</td>\n",
       "      <td>0.356</td>\n",
       "      <td>0.3490</td>\n",
       "      <td>2</td>\n",
       "      <td>38baHRHvx5hgtz0nhpAbEY</td>\n",
       "    </tr>\n",
       "  </tbody>\n",
       "</table>\n",
       "<p>64 rows × 8 columns</p>\n",
       "</div>"
      ],
      "text/plain": [
       "     danceability  energy  loudness    tempo  valence  acousticness  cluster  \\\n",
       "1           0.776   0.714    -5.705  161.015    0.433        0.0283        2   \n",
       "3           0.752   0.571    -6.422  169.155    0.492        0.0723        2   \n",
       "7           0.819   0.538    -6.811  125.026    0.542        0.1410        2   \n",
       "15          0.823   0.567    -9.571  136.006    0.545        0.1230        2   \n",
       "21          0.828   0.785    -5.719  145.044    0.575        0.2750        2   \n",
       "..            ...     ...       ...      ...      ...           ...      ...   \n",
       "836         0.899   0.348   -16.467  140.044    0.398        0.1880        2   \n",
       "841         0.782   0.698   -10.755  150.043    0.502        0.0249        2   \n",
       "846         0.921   0.522    -6.969  139.940    0.332        0.0611        2   \n",
       "851         0.701   0.536   -12.523  160.199    0.382        0.1130        2   \n",
       "860         0.790   0.737    -5.568  143.083    0.356        0.3490        2   \n",
       "\n",
       "                         id  \n",
       "1    4rSmXn2TIKt6iBeBDM4uOs  \n",
       "3    6FGPpwHlUBnl0TLGKyN4Nl  \n",
       "7    5jGcOhXpPE07vrSe23198B  \n",
       "15   001TLpmtuQMWJYyE7q9ayM  \n",
       "21   2AQjQLPLY5EZ667L2Z9M0D  \n",
       "..                      ...  \n",
       "836  33YgGfIfF8ntJGWD35WkCu  \n",
       "841  3sMNkmHA0fZkt2F5pqtVGe  \n",
       "846  7h89KNdndkucY4nDlwr31b  \n",
       "851  7wc0bSJHs36VJ0po9UCvHj  \n",
       "860  38baHRHvx5hgtz0nhpAbEY  \n",
       "\n",
       "[64 rows x 8 columns]"
      ]
     },
     "execution_count": 47,
     "metadata": {},
     "output_type": "execute_result"
    }
   ],
   "source": [
    "X[X['cluster']==2]"
   ]
  },
  {
   "cell_type": "code",
   "execution_count": 49,
   "id": "7a2664d2",
   "metadata": {},
   "outputs": [],
   "source": [
    "def play_song(track_id):\n",
    "    return IFrame(src=\"https://open.spotify.com/embed/track/\"+track_id, #first part does not change\n",
    "       width=\"320\",\n",
    "       height=\"80\",\n",
    "       frameborder=\"0\",\n",
    "       allowtransparency=\"true\",\n",
    "       allow=\"encrypted-media\",\n",
    "      )\n",
    "\n"
   ]
  },
  {
   "cell_type": "code",
   "execution_count": 53,
   "id": "a8e5d655",
   "metadata": {
    "scrolled": true
   },
   "outputs": [
    {
     "name": "stdout",
     "output_type": "stream",
     "text": [
      "Enter a song title: sandstorm\n",
      "If you liked 'Sandstorm', you might also like '!\n"
     ]
    },
    {
     "name": "stderr",
     "output_type": "stream",
     "text": [
      "/Users/dominik/anaconda3/lib/python3.10/site-packages/sklearn/base.py:420: UserWarning: X does not have valid feature names, but KMeans was fitted with feature names\n",
      "  warnings.warn(\n"
     ]
    },
    {
     "data": {
      "text/html": [
       "\n",
       "        <iframe\n",
       "            width=\"320\"\n",
       "            height=\"80\"\n",
       "            src=\"https://open.spotify.com/embed/track/4367dXCt02KMgELPisJ2D4?frameborder=0&allowtransparency=true&allow=encrypted-media\"\n",
       "            frameborder=\"0\"\n",
       "            allowfullscreen\n",
       "            \n",
       "        ></iframe>\n",
       "        "
      ],
      "text/plain": [
       "<IPython.lib.display.IFrame at 0x14dc59ab0>"
      ]
     },
     "metadata": {},
     "output_type": "display_data"
    }
   ],
   "source": [
    "def recommend_song(input_song):\n",
    "    input_song = input_song.lower()\n",
    "    while True:\n",
    "        match, score = process.extractOne(input_song, hot100['title'].str.lower().values)\n",
    "        threshold = 80\n",
    "\n",
    "        if score >= threshold:\n",
    "            # Get a recommendation \n",
    "            recommendation = hot100[hot100['title'].str.lower() != match].sample(1)['title'].values[0]\n",
    "\n",
    "            print(f\"If you liked '{match.capitalize()}', you might also like '{recommendation.capitalize()}'!\")\n",
    "            \n",
    "            \n",
    "            another_song = input(f\"Do you want to add another song? YES/NO \")\n",
    "            if another_song == \"NO\":\n",
    "                print(f\"Ok, you lamo lol \")\n",
    "                break\n",
    "            \n",
    "            elif another_song == \"YES\":\n",
    "                input_song = input(\"Enter another song title: \")\n",
    "            else:\n",
    "                print(\"Invalid input. Please enter YES or NO.\")\n",
    "            \n",
    "        else:\n",
    "            results = sp.search(q=f\"{input_song}\", limit=1, market=\"GB\")\n",
    "            audio_features = sp.audio_features(results[\"tracks\"][\"items\"][0][\"id\"])[0]\n",
    "            new_features = {'danceability': audio_features['danceability'], 'energy': audio_features['energy'], 'loudness': audio_features['loudness'], 'tempo': audio_features['tempo'], 'valence': audio_features['valence'], 'acousticness': audio_features['acousticness']}\n",
    "            new_features_df = pd.DataFrame([new_features])\n",
    "            transformed_features = scaler.transform(new_features_df)\n",
    "            prediction = model.predict(transformed_features)[0]\n",
    "            filtered_songs = X[X['cluster'] == prediction]\n",
    "            new_recommend = filtered_songs.sample()\n",
    "            track_id = new_recommend['id'].values[0]\n",
    "            \n",
    "\n",
    "            \n",
    "            if len(filtered_songs) > 0:\n",
    "                # If there are songs, get a random sample\n",
    "                recommended_song = filtered_songs.sample(1)\n",
    "\n",
    "                # Print the recommended song\n",
    "                print(f\"If you liked '{input_song.capitalize()}', you might also like '!\")\n",
    "                display(play_song(track_id))\n",
    "\n",
    "                          \n",
    "            else:\n",
    "                # If no songs meet the condition, print a message\n",
    "                print(\"Sorry, no recommendations found based on your input.\")\n",
    "                \n",
    "            break\n",
    "    \n",
    "# Let user input a song\n",
    "user_input = input(\"Enter a song title: \")\n",
    "\n",
    "\n",
    "#Calling the function\n",
    "recommend_song(user_input)"
   ]
  },
  {
   "cell_type": "code",
   "execution_count": null,
   "id": "538535fa",
   "metadata": {},
   "outputs": [],
   "source": []
  }
 ],
 "metadata": {
  "kernelspec": {
   "display_name": "Python 3 (ipykernel)",
   "language": "python",
   "name": "python3"
  },
  "language_info": {
   "codemirror_mode": {
    "name": "ipython",
    "version": 3
   },
   "file_extension": ".py",
   "mimetype": "text/x-python",
   "name": "python",
   "nbconvert_exporter": "python",
   "pygments_lexer": "ipython3",
   "version": "3.10.9"
  }
 },
 "nbformat": 4,
 "nbformat_minor": 5
}

{
 "cells": [
  {
   "cell_type": "code",
   "execution_count": 1,
   "id": "fe935290",
   "metadata": {},
   "outputs": [],
   "source": [
    "import spotipy\n",
    "import pandas as pd\n",
    "import json\n",
    "from spotipy.oauth2 import SpotifyClientCredentials\n",
    "from IPython.display import IFrame\n",
    "import pprint\n",
    "import config\n",
    "sp = spotipy.Spotify(auth_manager=SpotifyClientCredentials(client_id= config.client_id,\n",
    "                                                           client_secret= config.client_secret))"
   ]
  },
  {
   "cell_type": "code",
   "execution_count": 2,
   "id": "c8285ff4",
   "metadata": {},
   "outputs": [],
   "source": [
    "def get_playlist_tracks(username, playlist_id):\n",
    "    results = sp.user_playlist_tracks(username,playlist_id,market=\"GB\")\n",
    "    tracks = results['items']\n",
    "    while results['next']:\n",
    "        results = sp.next(results)\n",
    "        tracks.extend(results['items']) #it's appending the list without having these []\n",
    "    return tracks"
   ]
  },
  {
   "cell_type": "markdown",
   "id": "13eab740",
   "metadata": {},
   "source": [
    "# Playlist 1"
   ]
  },
  {
   "cell_type": "code",
   "execution_count": 3,
   "id": "3c6f953c",
   "metadata": {},
   "outputs": [],
   "source": [
    "playlist1 = get_playlist_tracks(\"spotify\", \"37i9dQZF1DX36edUJpD76c\")"
   ]
  },
  {
   "cell_type": "code",
   "execution_count": 4,
   "id": "2feb7c29",
   "metadata": {},
   "outputs": [],
   "source": [
    "playlist1_ids =[]\n",
    "for i in playlist1:\n",
    "    playlist1_ids.append(i['track']['id'])  #extract only the id for the track"
   ]
  },
  {
   "cell_type": "code",
   "execution_count": 5,
   "id": "dec4e03c",
   "metadata": {},
   "outputs": [],
   "source": [
    "playlist1_df = []\n",
    "for i in playlist1_ids:\n",
    "    playlist1_df.append(sp.audio_features(i)[0])"
   ]
  },
  {
   "cell_type": "code",
   "execution_count": 6,
   "id": "c052a02e",
   "metadata": {},
   "outputs": [],
   "source": [
    "modus_mio = pd.DataFrame(playlist1_df)"
   ]
  },
  {
   "cell_type": "code",
   "execution_count": 7,
   "id": "5ef32afd",
   "metadata": {},
   "outputs": [],
   "source": [
    "modus_mio.to_csv('modus_mio.csv', index=False)"
   ]
  },
  {
   "cell_type": "markdown",
   "id": "8c7b7fe9",
   "metadata": {},
   "source": [
    "# Playlist 2"
   ]
  },
  {
   "cell_type": "code",
   "execution_count": 8,
   "id": "254781f8",
   "metadata": {},
   "outputs": [],
   "source": [
    "playlist2 = get_playlist_tracks(\"spotify\", \"37i9dQZF1DX7ZUug1ANKRP\")"
   ]
  },
  {
   "cell_type": "code",
   "execution_count": 9,
   "id": "1b7fa217",
   "metadata": {},
   "outputs": [],
   "source": [
    "playlist2_ids =[]\n",
    "for i in playlist2:\n",
    "    playlist2_ids.append(i['track']['id'])  #extract only the id for the track"
   ]
  },
  {
   "cell_type": "code",
   "execution_count": 10,
   "id": "2f36269d",
   "metadata": {},
   "outputs": [],
   "source": [
    "playlist2_df = []\n",
    "for i in playlist2_ids:\n",
    "    playlist2_df.append(sp.audio_features(i)[0])"
   ]
  },
  {
   "cell_type": "code",
   "execution_count": 11,
   "id": "d7900479",
   "metadata": {},
   "outputs": [],
   "source": [
    "main_stage = pd.DataFrame(playlist2_df)"
   ]
  },
  {
   "cell_type": "code",
   "execution_count": 12,
   "id": "502d085e",
   "metadata": {},
   "outputs": [],
   "source": [
    "main_stage.to_csv('main_stage.csv', index=False)"
   ]
  },
  {
   "cell_type": "markdown",
   "id": "4afdad20",
   "metadata": {},
   "source": [
    "# Playlist 3"
   ]
  },
  {
   "cell_type": "code",
   "execution_count": 13,
   "id": "6c3072d4",
   "metadata": {},
   "outputs": [],
   "source": [
    "playlist3 = get_playlist_tracks(\"spotify\", \"37i9dQZF1DX0XUsuxWHRQd\")"
   ]
  },
  {
   "cell_type": "code",
   "execution_count": 14,
   "id": "c71564a8",
   "metadata": {},
   "outputs": [],
   "source": [
    "playlist3_ids =[]\n",
    "for i in playlist3:\n",
    "    playlist3_ids.append(i['track']['id'])  #extract only the id for the track"
   ]
  },
  {
   "cell_type": "code",
   "execution_count": 15,
   "id": "96e30432",
   "metadata": {},
   "outputs": [],
   "source": [
    "playlist3_df = []\n",
    "for i in playlist3_ids:\n",
    "    playlist3_df.append(sp.audio_features(i)[0])"
   ]
  },
  {
   "cell_type": "code",
   "execution_count": 16,
   "id": "fe8b9e3f",
   "metadata": {},
   "outputs": [],
   "source": [
    "rap_caviar = pd.DataFrame(playlist3_df)"
   ]
  },
  {
   "cell_type": "code",
   "execution_count": 17,
   "id": "f6d29dc8",
   "metadata": {},
   "outputs": [],
   "source": [
    "rap_caviar.to_csv('rap_caviar.csv', index=False)"
   ]
  },
  {
   "cell_type": "markdown",
   "id": "ec7d37c9",
   "metadata": {},
   "source": [
    "# Playlist 4"
   ]
  },
  {
   "cell_type": "code",
   "execution_count": 18,
   "id": "290578f7",
   "metadata": {},
   "outputs": [],
   "source": [
    "playlist4 = get_playlist_tracks(\"spotify\", \"37i9dQZF1DXcBWIGoYBM5M\")"
   ]
  },
  {
   "cell_type": "code",
   "execution_count": 19,
   "id": "f55bbcd1",
   "metadata": {},
   "outputs": [],
   "source": [
    "playlist4_ids =[]\n",
    "for i in playlist4:\n",
    "    playlist4_ids.append(i['track']['id'])  #extract only th"
   ]
  },
  {
   "cell_type": "code",
   "execution_count": 20,
   "id": "d9222369",
   "metadata": {},
   "outputs": [],
   "source": [
    "playlist4_df = []\n",
    "for i in playlist4_ids:\n",
    "    playlist4_df.append(sp.audio_features(i)[0])"
   ]
  },
  {
   "cell_type": "code",
   "execution_count": 21,
   "id": "e3aff0b5",
   "metadata": {},
   "outputs": [],
   "source": [
    "today = pd.DataFrame(playlist4_df)"
   ]
  },
  {
   "cell_type": "code",
   "execution_count": 22,
   "id": "d9650dbc",
   "metadata": {},
   "outputs": [],
   "source": [
    "today.to_csv('today.csv', index=False)"
   ]
  },
  {
   "cell_type": "markdown",
   "id": "6c217b61",
   "metadata": {},
   "source": [
    "# Playlist 5"
   ]
  },
  {
   "cell_type": "code",
   "execution_count": 23,
   "id": "579a9ece",
   "metadata": {},
   "outputs": [],
   "source": [
    "playlist5 = get_playlist_tracks(\"spotify\", \"37i9dQZF1DX9VQGDONS7Zo\")"
   ]
  },
  {
   "cell_type": "code",
   "execution_count": 24,
   "id": "f76eac9d",
   "metadata": {},
   "outputs": [],
   "source": [
    "playlist5_ids =[]\n",
    "for i in playlist5:\n",
    "    playlist5_ids.append(i['track']['id'])  #extract only the id for the track"
   ]
  },
  {
   "cell_type": "code",
   "execution_count": 25,
   "id": "44a0cb98",
   "metadata": {},
   "outputs": [],
   "source": [
    "playlist5_df = []\n",
    "for i in playlist5_ids:\n",
    "    playlist5_df.append(sp.audio_features(i)[0])"
   ]
  },
  {
   "cell_type": "code",
   "execution_count": 26,
   "id": "951b5942",
   "metadata": {},
   "outputs": [],
   "source": [
    "indie = pd.DataFrame(playlist5_df)"
   ]
  },
  {
   "cell_type": "code",
   "execution_count": 27,
   "id": "f686be5d",
   "metadata": {},
   "outputs": [],
   "source": [
    "indie.to_csv('indie.csv', index=False)"
   ]
  },
  {
   "cell_type": "markdown",
   "id": "85f10dfe",
   "metadata": {},
   "source": [
    "# Playlist 6"
   ]
  },
  {
   "cell_type": "code",
   "execution_count": 33,
   "id": "ed131661",
   "metadata": {},
   "outputs": [],
   "source": [
    "playlist6 = get_playlist_tracks(\"spotify\", \"37i9dQZF1DX3ND264N08pv\")\n",
    "playlist6 = [i for i in playlist6 if i]"
   ]
  },
  {
   "cell_type": "code",
   "execution_count": 35,
   "id": "0a163fcb",
   "metadata": {},
   "outputs": [],
   "source": [
    "playlist6_ids =[]\n",
    "for i in playlist6:\n",
    "    try:\n",
    "        playlist6_ids.append(i['track']['id'])  #extract only the id for the track\n",
    "    except:\n",
    "        pass"
   ]
  },
  {
   "cell_type": "code",
   "execution_count": 38,
   "id": "6c71d67f",
   "metadata": {},
   "outputs": [],
   "source": [
    "playlist6_df = []\n",
    "for i in playlist6_ids:\n",
    "    playlist6_df.append(sp.audio_features(i)[0])"
   ]
  },
  {
   "cell_type": "code",
   "execution_count": 39,
   "id": "20dd8b16",
   "metadata": {},
   "outputs": [],
   "source": [
    "hardcore = pd.DataFrame(playlist6_df)"
   ]
  },
  {
   "cell_type": "code",
   "execution_count": 40,
   "id": "1476e92b",
   "metadata": {},
   "outputs": [],
   "source": [
    "hardcore.to_csv('hardcore.csv', index=False)"
   ]
  },
  {
   "cell_type": "markdown",
   "id": "f42d5a3e",
   "metadata": {},
   "source": [
    "# Playlist 7 "
   ]
  },
  {
   "cell_type": "code",
   "execution_count": 42,
   "id": "951e5b4d",
   "metadata": {},
   "outputs": [],
   "source": [
    "playlist7 = get_playlist_tracks(\"spotify\", \"37i9dQZF1DX3YSRoSdA634\")"
   ]
  },
  {
   "cell_type": "code",
   "execution_count": 43,
   "id": "cadf0bce",
   "metadata": {},
   "outputs": [],
   "source": [
    "playlist7_ids =[]\n",
    "for i in playlist7:\n",
    "    playlist7_ids.append(i['track']['id'])  #extract only the id for the track"
   ]
  },
  {
   "cell_type": "code",
   "execution_count": 44,
   "id": "d761ffd3",
   "metadata": {},
   "outputs": [],
   "source": [
    "playlist7_df = []\n",
    "for i in playlist7_ids:\n",
    "    playlist7_df.append(sp.audio_features(i)[0])"
   ]
  },
  {
   "cell_type": "code",
   "execution_count": 45,
   "id": "38c6f437",
   "metadata": {},
   "outputs": [],
   "source": [
    "life_sucks = pd.DataFrame(playlist7_df)"
   ]
  },
  {
   "cell_type": "code",
   "execution_count": 46,
   "id": "c25ab28d",
   "metadata": {},
   "outputs": [],
   "source": [
    "life_sucks.to_csv('life_sucks.csv', index=False)"
   ]
  },
  {
   "cell_type": "markdown",
   "id": "1886c80c",
   "metadata": {},
   "source": [
    "# Playlist 8"
   ]
  },
  {
   "cell_type": "code",
   "execution_count": 47,
   "id": "b2b5091b",
   "metadata": {},
   "outputs": [],
   "source": [
    "playlist8 = get_playlist_tracks(\"spotify\", \"37i9dQZF1DX6ZiG5Dz8cUM\")"
   ]
  },
  {
   "cell_type": "code",
   "execution_count": 48,
   "id": "68460625",
   "metadata": {},
   "outputs": [],
   "source": [
    "playlist8_ids =[]\n",
    "for i in playlist8:\n",
    "    playlist8_ids.append(i['track']['id'])  #extract only the id for the track"
   ]
  },
  {
   "cell_type": "code",
   "execution_count": 49,
   "id": "78d16d14",
   "metadata": {},
   "outputs": [],
   "source": [
    "playlist8_df = []\n",
    "for i in playlist8_ids:\n",
    "    playlist8_df.append(sp.audio_features(i)[0])"
   ]
  },
  {
   "cell_type": "code",
   "execution_count": 50,
   "id": "e7291615",
   "metadata": {},
   "outputs": [],
   "source": [
    "date_night = pd.DataFrame(playlist8_df)"
   ]
  },
  {
   "cell_type": "code",
   "execution_count": 51,
   "id": "6f415372",
   "metadata": {},
   "outputs": [],
   "source": [
    "date_night.to_csv('date_night.csv', index=False)"
   ]
  },
  {
   "cell_type": "markdown",
   "id": "3a9e6ff7",
   "metadata": {},
   "source": [
    "# Playlist 9"
   ]
  },
  {
   "cell_type": "code",
   "execution_count": null,
   "id": "0877ff42",
   "metadata": {},
   "outputs": [],
   "source": [
    "playlist8 = get_playlist_tracks(\"spotify\", \"3yAnsAJDdVVLXHaDoeYGLW\")"
   ]
  }
 ],
 "metadata": {
  "kernelspec": {
   "display_name": "Python 3 (ipykernel)",
   "language": "python",
   "name": "python3"
  },
  "language_info": {
   "codemirror_mode": {
    "name": "ipython",
    "version": 3
   },
   "file_extension": ".py",
   "mimetype": "text/x-python",
   "name": "python",
   "nbconvert_exporter": "python",
   "pygments_lexer": "ipython3",
   "version": "3.10.9"
  }
 },
 "nbformat": 4,
 "nbformat_minor": 5
}

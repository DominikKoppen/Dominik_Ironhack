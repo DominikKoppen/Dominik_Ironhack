{
 "cells": [
  {
   "cell_type": "code",
   "execution_count": 1,
   "id": "9b514c2a",
   "metadata": {},
   "outputs": [],
   "source": [
    "import spotipy\n",
    "import pandas as pd\n",
    "import json\n",
    "from spotipy.oauth2 import SpotifyClientCredentials\n",
    "from IPython.display import IFrame\n",
    "import pprint\n",
    "import config\n",
    "sp = spotipy.Spotify(auth_manager=SpotifyClientCredentials(client_id= config.client_id,\n",
    "                                                           client_secret= config.client_secret))"
   ]
  },
  {
   "cell_type": "code",
   "execution_count": 2,
   "id": "65f245c3",
   "metadata": {},
   "outputs": [],
   "source": [
    "def get_playlist_tracks(username, playlist_id):\n",
    "    results = sp.user_playlist_tracks(username,playlist_id,market=\"GB\")\n",
    "    tracks = results['items']\n",
    "    while results['next']:\n",
    "        results = sp.next(results)\n",
    "        tracks.extend(results['items']) #it's appending the list without having these []\n",
    "    return tracks"
   ]
  },
  {
   "cell_type": "markdown",
   "id": "3cb6a637",
   "metadata": {},
   "source": [
    "# Playlist 1"
   ]
  },
  {
   "cell_type": "code",
   "execution_count": 3,
   "id": "abdf2e80",
   "metadata": {},
   "outputs": [],
   "source": [
    "playlist1 = get_playlist_tracks(\"spotify\", \"37i9dQZF1DX36edUJpD76c\")"
   ]
  },
  {
   "cell_type": "code",
   "execution_count": 4,
   "id": "a7f9f676",
   "metadata": {},
   "outputs": [],
   "source": [
    "playlist1_ids =[]\n",
    "for i in playlist1:\n",
    "    playlist1_ids.append(i['track']['id'])  #extract only the id for the track"
   ]
  },
  {
   "cell_type": "code",
   "execution_count": 5,
   "id": "af39bd09",
   "metadata": {},
   "outputs": [],
   "source": [
    "playlist1_df = []\n",
    "for i in playlist1_ids:\n",
    "    playlist1_df.append(sp.audio_features(i)[0])"
   ]
  },
  {
   "cell_type": "code",
   "execution_count": 6,
   "id": "004d6c9a",
   "metadata": {},
   "outputs": [],
   "source": [
    "modus_mio = pd.DataFrame(playlist1_df)"
   ]
  },
  {
   "cell_type": "code",
   "execution_count": 7,
   "id": "36df70f1",
   "metadata": {},
   "outputs": [],
   "source": [
    "modus_mio.to_csv('modus_mio.csv', index=False)"
   ]
  },
  {
   "cell_type": "markdown",
   "id": "a862ecad",
   "metadata": {},
   "source": [
    "# Playlist 2"
   ]
  },
  {
   "cell_type": "code",
   "execution_count": 8,
   "id": "f8e45b6e",
   "metadata": {},
   "outputs": [],
   "source": [
    "playlist2 = get_playlist_tracks(\"spotify\", \"37i9dQZF1DX7ZUug1ANKRP\")"
   ]
  },
  {
   "cell_type": "code",
   "execution_count": 9,
   "id": "b6956e61",
   "metadata": {},
   "outputs": [],
   "source": [
    "playlist2_ids =[]\n",
    "for i in playlist2:\n",
    "    playlist2_ids.append(i['track']['id'])  #extract only the id for the track"
   ]
  },
  {
   "cell_type": "code",
   "execution_count": 10,
   "id": "d4f7d374",
   "metadata": {},
   "outputs": [],
   "source": [
    "playlist2_df = []\n",
    "for i in playlist2_ids:\n",
    "    playlist2_df.append(sp.audio_features(i)[0])"
   ]
  },
  {
   "cell_type": "code",
   "execution_count": 11,
   "id": "5e4b43c5",
   "metadata": {},
   "outputs": [],
   "source": [
    "main_stage = pd.DataFrame(playlist2_df)"
   ]
  },
  {
   "cell_type": "code",
   "execution_count": 12,
   "id": "071cbf57",
   "metadata": {},
   "outputs": [],
   "source": [
    "main_stage.to_csv('main_stage.csv', index=False)"
   ]
  },
  {
   "cell_type": "markdown",
   "id": "5549c178",
   "metadata": {},
   "source": [
    "# Playlist 3"
   ]
  },
  {
   "cell_type": "code",
   "execution_count": 13,
   "id": "3ecc4cbb",
   "metadata": {},
   "outputs": [],
   "source": [
    "playlist3 = get_playlist_tracks(\"spotify\", \"37i9dQZF1DX0XUsuxWHRQd\")"
   ]
  },
  {
   "cell_type": "code",
   "execution_count": 14,
   "id": "b7af77a0",
   "metadata": {},
   "outputs": [],
   "source": [
    "playlist3_ids =[]\n",
    "for i in playlist3:\n",
    "    playlist3_ids.append(i['track']['id'])  #extract only the id for the track"
   ]
  },
  {
   "cell_type": "code",
   "execution_count": 15,
   "id": "09ee1ba4",
   "metadata": {},
   "outputs": [],
   "source": [
    "playlist3_df = []\n",
    "for i in playlist3_ids:\n",
    "    playlist3_df.append(sp.audio_features(i)[0])"
   ]
  },
  {
   "cell_type": "code",
   "execution_count": 16,
   "id": "074ffe0d",
   "metadata": {},
   "outputs": [],
   "source": [
    "rap_caviar = pd.DataFrame(playlist3_df)"
   ]
  },
  {
   "cell_type": "code",
   "execution_count": 17,
   "id": "63ca8547",
   "metadata": {},
   "outputs": [],
   "source": [
    "rap_caviar.to_csv('rap_caviar.csv', index=False)"
   ]
  },
  {
   "cell_type": "markdown",
   "id": "08e6158a",
   "metadata": {},
   "source": [
    "# Playlist 4"
   ]
  },
  {
   "cell_type": "code",
   "execution_count": 18,
   "id": "e4271439",
   "metadata": {},
   "outputs": [],
   "source": [
    "playlist4 = get_playlist_tracks(\"spotify\", \"37i9dQZF1DXcBWIGoYBM5M\")"
   ]
  },
  {
   "cell_type": "code",
   "execution_count": 19,
   "id": "0e517e04",
   "metadata": {},
   "outputs": [],
   "source": [
    "playlist4_ids =[]\n",
    "for i in playlist4:\n",
    "    playlist4_ids.append(i['track']['id'])  #extract only th"
   ]
  },
  {
   "cell_type": "code",
   "execution_count": 20,
   "id": "d0e7a308",
   "metadata": {},
   "outputs": [],
   "source": [
    "playlist4_df = []\n",
    "for i in playlist4_ids:\n",
    "    playlist4_df.append(sp.audio_features(i)[0])"
   ]
  },
  {
   "cell_type": "code",
   "execution_count": 21,
   "id": "701e6adf",
   "metadata": {},
   "outputs": [],
   "source": [
    "today = pd.DataFrame(playlist4_df)"
   ]
  },
  {
   "cell_type": "code",
   "execution_count": 22,
   "id": "257e9299",
   "metadata": {},
   "outputs": [],
   "source": [
    "today.to_csv('today.csv', index=False)"
   ]
  },
  {
   "cell_type": "markdown",
   "id": "b854d206",
   "metadata": {},
   "source": [
    "# Playlist 5"
   ]
  },
  {
   "cell_type": "code",
   "execution_count": 23,
   "id": "b9b1e9b8",
   "metadata": {},
   "outputs": [],
   "source": [
    "playlist5 = get_playlist_tracks(\"spotify\", \"37i9dQZF1DX9VQGDONS7Zo\")"
   ]
  },
  {
   "cell_type": "code",
   "execution_count": 24,
   "id": "0dd272ac",
   "metadata": {},
   "outputs": [],
   "source": [
    "playlist5_ids =[]\n",
    "for i in playlist5:\n",
    "    playlist5_ids.append(i['track']['id'])  #extract only the id for the track"
   ]
  },
  {
   "cell_type": "code",
   "execution_count": 25,
   "id": "de092d93",
   "metadata": {},
   "outputs": [],
   "source": [
    "playlist5_df = []\n",
    "for i in playlist5_ids:\n",
    "    playlist5_df.append(sp.audio_features(i)[0])"
   ]
  },
  {
   "cell_type": "code",
   "execution_count": 26,
   "id": "018e59d2",
   "metadata": {},
   "outputs": [],
   "source": [
    "indie = pd.DataFrame(playlist5_df)"
   ]
  },
  {
   "cell_type": "code",
   "execution_count": 27,
   "id": "4dcd13f7",
   "metadata": {},
   "outputs": [],
   "source": [
    "indie.to_csv('indie.csv', index=False)"
   ]
  },
  {
   "cell_type": "markdown",
   "id": "5267ddc1",
   "metadata": {},
   "source": [
    "# Playlist 6"
   ]
  },
  {
   "cell_type": "code",
   "execution_count": 33,
   "id": "57bebe36",
   "metadata": {},
   "outputs": [],
   "source": [
    "playlist6 = get_playlist_tracks(\"spotify\", \"37i9dQZF1DX3ND264N08pv\")\n",
    "playlist6 = [i for i in playlist6 if i]"
   ]
  },
  {
   "cell_type": "code",
   "execution_count": 35,
   "id": "8709476d",
   "metadata": {},
   "outputs": [],
   "source": [
    "playlist6_ids =[]\n",
    "for i in playlist6:\n",
    "    try:\n",
    "        playlist6_ids.append(i['track']['id'])  #extract only the id for the track\n",
    "    except:\n",
    "        pass"
   ]
  },
  {
   "cell_type": "code",
   "execution_count": 38,
   "id": "c58ef686",
   "metadata": {},
   "outputs": [],
   "source": [
    "playlist6_df = []\n",
    "for i in playlist6_ids:\n",
    "    playlist6_df.append(sp.audio_features(i)[0])"
   ]
  },
  {
   "cell_type": "code",
   "execution_count": 39,
   "id": "bdb2f283",
   "metadata": {},
   "outputs": [],
   "source": [
    "hardcore = pd.DataFrame(playlist6_df)"
   ]
  },
  {
   "cell_type": "code",
   "execution_count": 40,
   "id": "263cac81",
   "metadata": {},
   "outputs": [],
   "source": [
    "hardcore.to_csv('hardcore.csv', index=False)"
   ]
  },
  {
   "cell_type": "markdown",
   "id": "2f9f8617",
   "metadata": {},
   "source": [
    "# Playlist 7 "
   ]
  },
  {
   "cell_type": "code",
   "execution_count": 42,
   "id": "1c97a1e0",
   "metadata": {},
   "outputs": [],
   "source": [
    "playlist7 = get_playlist_tracks(\"spotify\", \"37i9dQZF1DX3YSRoSdA634\")"
   ]
  },
  {
   "cell_type": "code",
   "execution_count": 43,
   "id": "3ff421c1",
   "metadata": {},
   "outputs": [],
   "source": [
    "playlist7_ids =[]\n",
    "for i in playlist7:\n",
    "    playlist7_ids.append(i['track']['id'])  #extract only the id for the track"
   ]
  },
  {
   "cell_type": "code",
   "execution_count": 44,
   "id": "0a4722d9",
   "metadata": {},
   "outputs": [],
   "source": [
    "playlist7_df = []\n",
    "for i in playlist7_ids:\n",
    "    playlist7_df.append(sp.audio_features(i)[0])"
   ]
  },
  {
   "cell_type": "code",
   "execution_count": 45,
   "id": "ac4d3736",
   "metadata": {},
   "outputs": [],
   "source": [
    "life_sucks = pd.DataFrame(playlist7_df)"
   ]
  },
  {
   "cell_type": "code",
   "execution_count": 46,
   "id": "a236ce9e",
   "metadata": {},
   "outputs": [],
   "source": [
    "life_sucks.to_csv('life_sucks.csv', index=False)"
   ]
  },
  {
   "cell_type": "markdown",
   "id": "84944409",
   "metadata": {},
   "source": [
    "# Playlist 8"
   ]
  },
  {
   "cell_type": "code",
   "execution_count": 47,
   "id": "340bca01",
   "metadata": {},
   "outputs": [],
   "source": [
    "playlist8 = get_playlist_tracks(\"spotify\", \"37i9dQZF1DX6ZiG5Dz8cUM\")"
   ]
  },
  {
   "cell_type": "code",
   "execution_count": 48,
   "id": "a96676cf",
   "metadata": {},
   "outputs": [],
   "source": [
    "playlist8_ids =[]\n",
    "for i in playlist8:\n",
    "    playlist8_ids.append(i['track']['id'])  #extract only the id for the track"
   ]
  },
  {
   "cell_type": "code",
   "execution_count": 49,
   "id": "3b52fba6",
   "metadata": {},
   "outputs": [],
   "source": [
    "playlist8_df = []\n",
    "for i in playlist8_ids:\n",
    "    playlist8_df.append(sp.audio_features(i)[0])"
   ]
  },
  {
   "cell_type": "code",
   "execution_count": 50,
   "id": "e0231de7",
   "metadata": {},
   "outputs": [],
   "source": [
    "date_night = pd.DataFrame(playlist8_df)"
   ]
  },
  {
   "cell_type": "code",
   "execution_count": 51,
   "id": "7e4fe4f1",
   "metadata": {},
   "outputs": [],
   "source": [
    "date_night.to_csv('date_night.csv', index=False)"
   ]
  },
  {
   "cell_type": "markdown",
   "id": "40409537",
   "metadata": {},
   "source": [
    "# Playlist 9"
   ]
  },
  {
   "cell_type": "code",
   "execution_count": 53,
   "id": "49e8de76",
   "metadata": {},
   "outputs": [],
   "source": [
    "playlist9 = get_playlist_tracks(\"spotify\", \"3yAnsAJDdVVLXHaDoeYGLW\")"
   ]
  },
  {
   "cell_type": "code",
   "execution_count": 54,
   "id": "ec553cde",
   "metadata": {},
   "outputs": [],
   "source": [
    "playlist9_ids =[]\n",
    "for i in playlist9:\n",
    "    playlist9_ids.append(i['track']['id'])  #extract only the id for the track"
   ]
  },
  {
   "cell_type": "code",
   "execution_count": 55,
   "id": "097f08b5",
   "metadata": {},
   "outputs": [],
   "source": [
    "playlist9_df = []\n",
    "for i in playlist9_ids:\n",
    "    playlist9_df.append(sp.audio_features(i)[0])"
   ]
  },
  {
   "cell_type": "code",
   "execution_count": 56,
   "id": "f77b2bd8",
   "metadata": {},
   "outputs": [],
   "source": [
    "drill = pd.DataFrame(playlist9_df)"
   ]
  },
  {
   "cell_type": "code",
   "execution_count": 57,
   "id": "afa10b2e",
   "metadata": {},
   "outputs": [],
   "source": [
    "drill.to_csv('drill.csv', index=False)"
   ]
  },
  {
   "cell_type": "markdown",
   "id": "bfc06452",
   "metadata": {},
   "source": [
    "# Playlist 10"
   ]
  },
  {
   "cell_type": "code",
   "execution_count": 58,
   "id": "84877f06",
   "metadata": {},
   "outputs": [],
   "source": [
    "playlist10 = get_playlist_tracks(\"spotify\", \"37i9dQZF1EIeBK96mJllYR\")"
   ]
  },
  {
   "cell_type": "code",
   "execution_count": 59,
   "id": "b320d62c",
   "metadata": {},
   "outputs": [],
   "source": [
    "playlist10_ids =[]\n",
    "for i in playlist10:\n",
    "    playlist10_ids.append(i['track']['id'])  #extract only the id for the track"
   ]
  },
  {
   "cell_type": "code",
   "execution_count": 60,
   "id": "4bfcb6e0",
   "metadata": {},
   "outputs": [],
   "source": [
    "playlist10_df = []\n",
    "for i in playlist10_ids:\n",
    "    playlist10_df.append(sp.audio_features(i)[0])"
   ]
  },
  {
   "cell_type": "code",
   "execution_count": 61,
   "id": "cd9936f5",
   "metadata": {},
   "outputs": [],
   "source": [
    "schlager = pd.DataFrame(playlist10_df)"
   ]
  },
  {
   "cell_type": "code",
   "execution_count": 62,
   "id": "06fdb9e1",
   "metadata": {},
   "outputs": [],
   "source": [
    "schlager.to_csv('schlager.csv', index=False)"
   ]
  },
  {
   "cell_type": "code",
   "execution_count": null,
   "id": "c8f096ab",
   "metadata": {},
   "outputs": [],
   "source": [
    "##merge the dataframes"
   ]
  },
  {
   "cell_type": "code",
   "execution_count": 63,
   "id": "33563f16",
   "metadata": {},
   "outputs": [],
   "source": [
    "music_df = pd.concat([modus_mio, main_stage, rap_caviar, today, indie, hardcore, life_sucks, date_night, drill, schlager], ignore_index=True)"
   ]
  },
  {
   "cell_type": "code",
   "execution_count": 64,
   "id": "3ac2f107",
   "metadata": {},
   "outputs": [
    {
     "data": {
      "text/html": [
       "<div>\n",
       "<style scoped>\n",
       "    .dataframe tbody tr th:only-of-type {\n",
       "        vertical-align: middle;\n",
       "    }\n",
       "\n",
       "    .dataframe tbody tr th {\n",
       "        vertical-align: top;\n",
       "    }\n",
       "\n",
       "    .dataframe thead th {\n",
       "        text-align: right;\n",
       "    }\n",
       "</style>\n",
       "<table border=\"1\" class=\"dataframe\">\n",
       "  <thead>\n",
       "    <tr style=\"text-align: right;\">\n",
       "      <th></th>\n",
       "      <th>danceability</th>\n",
       "      <th>energy</th>\n",
       "      <th>key</th>\n",
       "      <th>loudness</th>\n",
       "      <th>mode</th>\n",
       "      <th>speechiness</th>\n",
       "      <th>acousticness</th>\n",
       "      <th>instrumentalness</th>\n",
       "      <th>liveness</th>\n",
       "      <th>valence</th>\n",
       "      <th>tempo</th>\n",
       "      <th>type</th>\n",
       "      <th>id</th>\n",
       "      <th>uri</th>\n",
       "      <th>track_href</th>\n",
       "      <th>analysis_url</th>\n",
       "      <th>duration_ms</th>\n",
       "      <th>time_signature</th>\n",
       "    </tr>\n",
       "  </thead>\n",
       "  <tbody>\n",
       "    <tr>\n",
       "      <th>0</th>\n",
       "      <td>0.796</td>\n",
       "      <td>0.865</td>\n",
       "      <td>9</td>\n",
       "      <td>-6.760</td>\n",
       "      <td>0</td>\n",
       "      <td>0.0801</td>\n",
       "      <td>0.17900</td>\n",
       "      <td>0.011400</td>\n",
       "      <td>0.0852</td>\n",
       "      <td>0.768</td>\n",
       "      <td>130.012</td>\n",
       "      <td>audio_features</td>\n",
       "      <td>5qQLBOEAelSN7JWqX3RIIv</td>\n",
       "      <td>spotify:track:5qQLBOEAelSN7JWqX3RIIv</td>\n",
       "      <td>https://api.spotify.com/v1/tracks/5qQLBOEAelSN...</td>\n",
       "      <td>https://api.spotify.com/v1/audio-analysis/5qQL...</td>\n",
       "      <td>136988</td>\n",
       "      <td>4</td>\n",
       "    </tr>\n",
       "    <tr>\n",
       "      <th>1</th>\n",
       "      <td>0.776</td>\n",
       "      <td>0.714</td>\n",
       "      <td>1</td>\n",
       "      <td>-5.705</td>\n",
       "      <td>1</td>\n",
       "      <td>0.3350</td>\n",
       "      <td>0.02830</td>\n",
       "      <td>0.000000</td>\n",
       "      <td>0.2270</td>\n",
       "      <td>0.433</td>\n",
       "      <td>161.015</td>\n",
       "      <td>audio_features</td>\n",
       "      <td>4rSmXn2TIKt6iBeBDM4uOs</td>\n",
       "      <td>spotify:track:4rSmXn2TIKt6iBeBDM4uOs</td>\n",
       "      <td>https://api.spotify.com/v1/tracks/4rSmXn2TIKt6...</td>\n",
       "      <td>https://api.spotify.com/v1/audio-analysis/4rSm...</td>\n",
       "      <td>149444</td>\n",
       "      <td>4</td>\n",
       "    </tr>\n",
       "    <tr>\n",
       "      <th>2</th>\n",
       "      <td>0.960</td>\n",
       "      <td>0.670</td>\n",
       "      <td>3</td>\n",
       "      <td>-7.035</td>\n",
       "      <td>0</td>\n",
       "      <td>0.3150</td>\n",
       "      <td>0.05980</td>\n",
       "      <td>0.000016</td>\n",
       "      <td>0.1710</td>\n",
       "      <td>0.800</td>\n",
       "      <td>133.966</td>\n",
       "      <td>audio_features</td>\n",
       "      <td>6R5iuYqG0HsnC41RT3lzqX</td>\n",
       "      <td>spotify:track:6R5iuYqG0HsnC41RT3lzqX</td>\n",
       "      <td>https://api.spotify.com/v1/tracks/6R5iuYqG0Hsn...</td>\n",
       "      <td>https://api.spotify.com/v1/audio-analysis/6R5i...</td>\n",
       "      <td>174232</td>\n",
       "      <td>4</td>\n",
       "    </tr>\n",
       "    <tr>\n",
       "      <th>3</th>\n",
       "      <td>0.752</td>\n",
       "      <td>0.571</td>\n",
       "      <td>2</td>\n",
       "      <td>-6.422</td>\n",
       "      <td>1</td>\n",
       "      <td>0.0510</td>\n",
       "      <td>0.07230</td>\n",
       "      <td>0.529000</td>\n",
       "      <td>0.3140</td>\n",
       "      <td>0.492</td>\n",
       "      <td>169.155</td>\n",
       "      <td>audio_features</td>\n",
       "      <td>6FGPpwHlUBnl0TLGKyN4Nl</td>\n",
       "      <td>spotify:track:6FGPpwHlUBnl0TLGKyN4Nl</td>\n",
       "      <td>https://api.spotify.com/v1/tracks/6FGPpwHlUBnl...</td>\n",
       "      <td>https://api.spotify.com/v1/audio-analysis/6FGP...</td>\n",
       "      <td>83672</td>\n",
       "      <td>4</td>\n",
       "    </tr>\n",
       "    <tr>\n",
       "      <th>4</th>\n",
       "      <td>0.774</td>\n",
       "      <td>0.700</td>\n",
       "      <td>1</td>\n",
       "      <td>-7.334</td>\n",
       "      <td>1</td>\n",
       "      <td>0.2660</td>\n",
       "      <td>0.16300</td>\n",
       "      <td>0.000032</td>\n",
       "      <td>0.1690</td>\n",
       "      <td>0.624</td>\n",
       "      <td>81.990</td>\n",
       "      <td>audio_features</td>\n",
       "      <td>3ilgxZl5g7MOQCUiky3VOG</td>\n",
       "      <td>spotify:track:3ilgxZl5g7MOQCUiky3VOG</td>\n",
       "      <td>https://api.spotify.com/v1/tracks/3ilgxZl5g7MO...</td>\n",
       "      <td>https://api.spotify.com/v1/audio-analysis/3ilg...</td>\n",
       "      <td>147587</td>\n",
       "      <td>4</td>\n",
       "    </tr>\n",
       "    <tr>\n",
       "      <th>...</th>\n",
       "      <td>...</td>\n",
       "      <td>...</td>\n",
       "      <td>...</td>\n",
       "      <td>...</td>\n",
       "      <td>...</td>\n",
       "      <td>...</td>\n",
       "      <td>...</td>\n",
       "      <td>...</td>\n",
       "      <td>...</td>\n",
       "      <td>...</td>\n",
       "      <td>...</td>\n",
       "      <td>...</td>\n",
       "      <td>...</td>\n",
       "      <td>...</td>\n",
       "      <td>...</td>\n",
       "      <td>...</td>\n",
       "      <td>...</td>\n",
       "      <td>...</td>\n",
       "    </tr>\n",
       "    <tr>\n",
       "      <th>907</th>\n",
       "      <td>0.720</td>\n",
       "      <td>0.932</td>\n",
       "      <td>10</td>\n",
       "      <td>-4.204</td>\n",
       "      <td>1</td>\n",
       "      <td>0.0414</td>\n",
       "      <td>0.09760</td>\n",
       "      <td>0.000001</td>\n",
       "      <td>0.0673</td>\n",
       "      <td>0.918</td>\n",
       "      <td>130.928</td>\n",
       "      <td>audio_features</td>\n",
       "      <td>4cSSAsYt4afPzyaBdO0WVs</td>\n",
       "      <td>spotify:track:4cSSAsYt4afPzyaBdO0WVs</td>\n",
       "      <td>https://api.spotify.com/v1/tracks/4cSSAsYt4afP...</td>\n",
       "      <td>https://api.spotify.com/v1/audio-analysis/4cSS...</td>\n",
       "      <td>192627</td>\n",
       "      <td>4</td>\n",
       "    </tr>\n",
       "    <tr>\n",
       "      <th>908</th>\n",
       "      <td>0.667</td>\n",
       "      <td>0.821</td>\n",
       "      <td>11</td>\n",
       "      <td>-5.565</td>\n",
       "      <td>1</td>\n",
       "      <td>0.0398</td>\n",
       "      <td>0.09410</td>\n",
       "      <td>0.000003</td>\n",
       "      <td>0.0579</td>\n",
       "      <td>0.638</td>\n",
       "      <td>121.027</td>\n",
       "      <td>audio_features</td>\n",
       "      <td>3fGkWWpjU3xghZbKa2rQUW</td>\n",
       "      <td>spotify:track:3fGkWWpjU3xghZbKa2rQUW</td>\n",
       "      <td>https://api.spotify.com/v1/tracks/3fGkWWpjU3xg...</td>\n",
       "      <td>https://api.spotify.com/v1/audio-analysis/3fGk...</td>\n",
       "      <td>224992</td>\n",
       "      <td>4</td>\n",
       "    </tr>\n",
       "    <tr>\n",
       "      <th>909</th>\n",
       "      <td>0.704</td>\n",
       "      <td>0.934</td>\n",
       "      <td>7</td>\n",
       "      <td>-4.528</td>\n",
       "      <td>1</td>\n",
       "      <td>0.0728</td>\n",
       "      <td>0.02850</td>\n",
       "      <td>0.000000</td>\n",
       "      <td>0.2880</td>\n",
       "      <td>0.494</td>\n",
       "      <td>121.014</td>\n",
       "      <td>audio_features</td>\n",
       "      <td>1JlczCvmw3K2MizmtDvfp3</td>\n",
       "      <td>spotify:track:1JlczCvmw3K2MizmtDvfp3</td>\n",
       "      <td>https://api.spotify.com/v1/tracks/1JlczCvmw3K2...</td>\n",
       "      <td>https://api.spotify.com/v1/audio-analysis/1Jlc...</td>\n",
       "      <td>191053</td>\n",
       "      <td>4</td>\n",
       "    </tr>\n",
       "    <tr>\n",
       "      <th>910</th>\n",
       "      <td>0.716</td>\n",
       "      <td>0.695</td>\n",
       "      <td>5</td>\n",
       "      <td>-5.250</td>\n",
       "      <td>1</td>\n",
       "      <td>0.0354</td>\n",
       "      <td>0.00643</td>\n",
       "      <td>0.000015</td>\n",
       "      <td>0.1080</td>\n",
       "      <td>0.684</td>\n",
       "      <td>117.966</td>\n",
       "      <td>audio_features</td>\n",
       "      <td>0oUlljswfmHwdNpjHnn8Ii</td>\n",
       "      <td>spotify:track:0oUlljswfmHwdNpjHnn8Ii</td>\n",
       "      <td>https://api.spotify.com/v1/tracks/0oUlljswfmHw...</td>\n",
       "      <td>https://api.spotify.com/v1/audio-analysis/0oUl...</td>\n",
       "      <td>190907</td>\n",
       "      <td>4</td>\n",
       "    </tr>\n",
       "    <tr>\n",
       "      <th>911</th>\n",
       "      <td>0.700</td>\n",
       "      <td>0.892</td>\n",
       "      <td>1</td>\n",
       "      <td>-4.097</td>\n",
       "      <td>1</td>\n",
       "      <td>0.1040</td>\n",
       "      <td>0.04960</td>\n",
       "      <td>0.000000</td>\n",
       "      <td>0.0960</td>\n",
       "      <td>0.667</td>\n",
       "      <td>128.005</td>\n",
       "      <td>audio_features</td>\n",
       "      <td>3ML92qAQ18YE1OcCMYDy5Z</td>\n",
       "      <td>spotify:track:3ML92qAQ18YE1OcCMYDy5Z</td>\n",
       "      <td>https://api.spotify.com/v1/tracks/3ML92qAQ18YE...</td>\n",
       "      <td>https://api.spotify.com/v1/audio-analysis/3ML9...</td>\n",
       "      <td>191680</td>\n",
       "      <td>4</td>\n",
       "    </tr>\n",
       "  </tbody>\n",
       "</table>\n",
       "<p>912 rows × 18 columns</p>\n",
       "</div>"
      ],
      "text/plain": [
       "     danceability  energy  key  loudness  mode  speechiness  acousticness  \\\n",
       "0           0.796   0.865    9    -6.760     0       0.0801       0.17900   \n",
       "1           0.776   0.714    1    -5.705     1       0.3350       0.02830   \n",
       "2           0.960   0.670    3    -7.035     0       0.3150       0.05980   \n",
       "3           0.752   0.571    2    -6.422     1       0.0510       0.07230   \n",
       "4           0.774   0.700    1    -7.334     1       0.2660       0.16300   \n",
       "..            ...     ...  ...       ...   ...          ...           ...   \n",
       "907         0.720   0.932   10    -4.204     1       0.0414       0.09760   \n",
       "908         0.667   0.821   11    -5.565     1       0.0398       0.09410   \n",
       "909         0.704   0.934    7    -4.528     1       0.0728       0.02850   \n",
       "910         0.716   0.695    5    -5.250     1       0.0354       0.00643   \n",
       "911         0.700   0.892    1    -4.097     1       0.1040       0.04960   \n",
       "\n",
       "     instrumentalness  liveness  valence    tempo            type  \\\n",
       "0            0.011400    0.0852    0.768  130.012  audio_features   \n",
       "1            0.000000    0.2270    0.433  161.015  audio_features   \n",
       "2            0.000016    0.1710    0.800  133.966  audio_features   \n",
       "3            0.529000    0.3140    0.492  169.155  audio_features   \n",
       "4            0.000032    0.1690    0.624   81.990  audio_features   \n",
       "..                ...       ...      ...      ...             ...   \n",
       "907          0.000001    0.0673    0.918  130.928  audio_features   \n",
       "908          0.000003    0.0579    0.638  121.027  audio_features   \n",
       "909          0.000000    0.2880    0.494  121.014  audio_features   \n",
       "910          0.000015    0.1080    0.684  117.966  audio_features   \n",
       "911          0.000000    0.0960    0.667  128.005  audio_features   \n",
       "\n",
       "                         id                                   uri  \\\n",
       "0    5qQLBOEAelSN7JWqX3RIIv  spotify:track:5qQLBOEAelSN7JWqX3RIIv   \n",
       "1    4rSmXn2TIKt6iBeBDM4uOs  spotify:track:4rSmXn2TIKt6iBeBDM4uOs   \n",
       "2    6R5iuYqG0HsnC41RT3lzqX  spotify:track:6R5iuYqG0HsnC41RT3lzqX   \n",
       "3    6FGPpwHlUBnl0TLGKyN4Nl  spotify:track:6FGPpwHlUBnl0TLGKyN4Nl   \n",
       "4    3ilgxZl5g7MOQCUiky3VOG  spotify:track:3ilgxZl5g7MOQCUiky3VOG   \n",
       "..                      ...                                   ...   \n",
       "907  4cSSAsYt4afPzyaBdO0WVs  spotify:track:4cSSAsYt4afPzyaBdO0WVs   \n",
       "908  3fGkWWpjU3xghZbKa2rQUW  spotify:track:3fGkWWpjU3xghZbKa2rQUW   \n",
       "909  1JlczCvmw3K2MizmtDvfp3  spotify:track:1JlczCvmw3K2MizmtDvfp3   \n",
       "910  0oUlljswfmHwdNpjHnn8Ii  spotify:track:0oUlljswfmHwdNpjHnn8Ii   \n",
       "911  3ML92qAQ18YE1OcCMYDy5Z  spotify:track:3ML92qAQ18YE1OcCMYDy5Z   \n",
       "\n",
       "                                            track_href  \\\n",
       "0    https://api.spotify.com/v1/tracks/5qQLBOEAelSN...   \n",
       "1    https://api.spotify.com/v1/tracks/4rSmXn2TIKt6...   \n",
       "2    https://api.spotify.com/v1/tracks/6R5iuYqG0Hsn...   \n",
       "3    https://api.spotify.com/v1/tracks/6FGPpwHlUBnl...   \n",
       "4    https://api.spotify.com/v1/tracks/3ilgxZl5g7MO...   \n",
       "..                                                 ...   \n",
       "907  https://api.spotify.com/v1/tracks/4cSSAsYt4afP...   \n",
       "908  https://api.spotify.com/v1/tracks/3fGkWWpjU3xg...   \n",
       "909  https://api.spotify.com/v1/tracks/1JlczCvmw3K2...   \n",
       "910  https://api.spotify.com/v1/tracks/0oUlljswfmHw...   \n",
       "911  https://api.spotify.com/v1/tracks/3ML92qAQ18YE...   \n",
       "\n",
       "                                          analysis_url  duration_ms  \\\n",
       "0    https://api.spotify.com/v1/audio-analysis/5qQL...       136988   \n",
       "1    https://api.spotify.com/v1/audio-analysis/4rSm...       149444   \n",
       "2    https://api.spotify.com/v1/audio-analysis/6R5i...       174232   \n",
       "3    https://api.spotify.com/v1/audio-analysis/6FGP...        83672   \n",
       "4    https://api.spotify.com/v1/audio-analysis/3ilg...       147587   \n",
       "..                                                 ...          ...   \n",
       "907  https://api.spotify.com/v1/audio-analysis/4cSS...       192627   \n",
       "908  https://api.spotify.com/v1/audio-analysis/3fGk...       224992   \n",
       "909  https://api.spotify.com/v1/audio-analysis/1Jlc...       191053   \n",
       "910  https://api.spotify.com/v1/audio-analysis/0oUl...       190907   \n",
       "911  https://api.spotify.com/v1/audio-analysis/3ML9...       191680   \n",
       "\n",
       "     time_signature  \n",
       "0                 4  \n",
       "1                 4  \n",
       "2                 4  \n",
       "3                 4  \n",
       "4                 4  \n",
       "..              ...  \n",
       "907               4  \n",
       "908               4  \n",
       "909               4  \n",
       "910               4  \n",
       "911               4  \n",
       "\n",
       "[912 rows x 18 columns]"
      ]
     },
     "execution_count": 64,
     "metadata": {},
     "output_type": "execute_result"
    }
   ],
   "source": [
    "music_df"
   ]
  },
  {
   "cell_type": "code",
   "execution_count": 66,
   "id": "2afceb17",
   "metadata": {},
   "outputs": [],
   "source": [
    "music_df.to_csv('music_df.csv', index=False)"
   ]
  },
  {
   "cell_type": "code",
   "execution_count": null,
   "id": "cdb346ee",
   "metadata": {},
   "outputs": [],
   "source": []
  }
 ],
 "metadata": {
  "kernelspec": {
   "display_name": "Python 3 (ipykernel)",
   "language": "python",
   "name": "python3"
  },
  "language_info": {
   "codemirror_mode": {
    "name": "ipython",
    "version": 3
   },
   "file_extension": ".py",
   "mimetype": "text/x-python",
   "name": "python",
   "nbconvert_exporter": "python",
   "pygments_lexer": "ipython3",
   "version": "3.10.9"
  }
 },
 "nbformat": 4,
 "nbformat_minor": 5
}

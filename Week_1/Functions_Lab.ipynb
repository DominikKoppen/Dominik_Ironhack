{
 "cells": [
  {
   "cell_type": "markdown",
   "metadata": {
    "tags": []
   },
   "source": [
    "# Lab | Data Structures "
   ]
  },
  {
   "cell_type": "markdown",
   "metadata": {},
   "source": [
    "## Exercise: Managing Customer Orders\n",
    "\n",
    "As part of a business venture, you are starting an online store that sells various products. To ensure smooth operations, you need to develop a program that manages customer orders and inventory.\n",
    "\n",
    "Follow the steps below to complete the exercise:\n",
    "\n",
    "1. Define a list called `products` that contains the following items: \"t-shirt\", \"mug\", \"hat\", \"book\", \"keychain\".\n",
    "\n",
    "2. Create an empty dictionary called `inventory`.\n",
    "\n",
    "3. Ask the user to input the quantity of each product available in the inventory. Use the product names from the `products` list as keys in the `inventory` dictionary and assign the respective quantities as values.\n",
    "\n",
    "4. Create an empty set called `customer_orders`.\n",
    "\n",
    "5. Ask the user to input the name of three products that a customer wants to order (from those in the products list, meaning three products out of \"t-shirt\", \"mug\", \"hat\", \"book\" or \"keychain\". Add each product name to the `customer_orders` set.\n",
    "\n",
    "6. Print the products in the `customer_orders` set.\n",
    "\n",
    "7. Calculate the following order statistics:\n",
    "   - Total Products Ordered: The total number of products in the `customer_orders` set.\n",
    "   - Percentage of Products Ordered: The percentage of products ordered compared to the total available products.\n",
    "   \n",
    "   Store these statistics in a tuple called `order_status`.\n",
    "\n",
    "8. Print the order statistics using the following format:\n",
    "   ```\n",
    "   Order Statistics:\n",
    "   Total Products Ordered: <total_products_ordered>\n",
    "   Percentage of Products Ordered: <percentage_ordered>% \n",
    "   ```\n",
    "\n",
    "9. Update the inventory by subtracting 1 from the quantity of each product. Modify the `inventory` dictionary accordingly.\n",
    "\n",
    "10. Print the updated inventory, displaying the quantity of each product on separate lines.\n",
    "\n",
    "Solve the exercise by implementing the steps using the Python concepts of lists, dictionaries, sets, and basic input/output operations. "
   ]
  },
  {
   "cell_type": "markdown",
   "metadata": {},
   "source": [
    "Follow the steps below to complete the exercise:\n",
    "\n",
    "Define a function named initialize_inventory that takes products as a parameter. Inside the function, implement the code for initializing the inventory dictionary using a loop and user input.\n",
    "\n",
    "Define a function named get_customer_orders that takes no parameters. Inside the function, implement the code for prompting the user to enter the product names using a loop. The function should return the customer_orders set.\n",
    "\n",
    "Define a function named update_inventory that takes customer_orders and inventory as parameters. Inside the function, implement the code for updating the inventory dictionary based on the customer orders.\n",
    "\n",
    "Define a function named calculate_order_statistics that takes customer_orders and products as parameters. Inside the function, implement the code for calculating the order statistics (total products ordered, and percentage of unique products ordered). The function should return these values.\n",
    "\n",
    "Define a function named print_order_statistics that takes order_statistics as a parameter. Inside the function, implement the code for printing the order statistics.\n",
    "\n",
    "Define a function named print_updated_inventory that takes inventory as a parameter. Inside the function, implement the code for printing the updated inventory.\n",
    "Call the functions in the appropriate sequence to execute the program and manage customer orders.\n",
    "Hints for functions:\n",
    "\n",
    "Consider the input parameters required for each function and their return values.\n",
    "Utilize function parameters and return values to transfer data between functions.\n",
    "\n",
    "Test your functions individually to ensure they work correctly."
   ]
  },
  {
   "cell_type": "code",
   "execution_count": 37,
   "metadata": {},
   "outputs": [
    {
     "name": "stdout",
     "output_type": "stream",
     "text": [
      "Enter the quantity of t-shirt: 3\n",
      "Enter the quantity of mug: 4\n",
      "Enter the quantity of hat: 5\n",
      "Enter the quantity of book: 6\n",
      "Enter the quantity of keychain: 5\n"
     ]
    }
   ],
   "source": [
    "def initialize_inventory (products):\n",
    "    inventory = {}\n",
    "    for item in products:\n",
    "        quantity = int(input(f\"Enter the quantity of {item}: \"))\n",
    "        inventory.update({item:quantity})\n",
    "    \n",
    "products = [\"t-shirt\",\"mug\",\"hat\",\"book\",\"keychain\"]\n",
    "inventory = initialize_inventory(products)\n"
   ]
  },
  {
   "cell_type": "markdown",
   "metadata": {},
   "source": [
    "Define a function named get_customer_orders that takes no parameters. Inside the function, implement the code for prompting the user to enter the product names using a loop. The function should return the customer_orders set."
   ]
  },
  {
   "cell_type": "code",
   "execution_count": 38,
   "metadata": {},
   "outputs": [
    {
     "name": "stdout",
     "output_type": "stream",
     "text": [
      "Enter a product you want to order: hat\n",
      "Do you want to add another product YES/NOYES\n",
      "Enter a product you want to order: mug\n",
      "Do you want to add another product YES/NONO\n"
     ]
    }
   ],
   "source": [
    "def get_customer_orders():\n",
    "    customer_orders = set()\n",
    "    while True:\n",
    "        order = (input(f\"Enter a product you want to order: \"))\n",
    "        if order in products:\n",
    "            (customer_orders.add(order))\n",
    "        else:\n",
    "            input (f\"Please enter a product from the product list\")\n",
    "\n",
    "        another_product = input(f\"Do you want to add another product YES/NO\")\n",
    "        if another_product == \"NO\":\n",
    "            break\n",
    "        else:\n",
    "            order = (input(f\"Enter a product you want to order: \"))\n",
    "        if order in products:\n",
    "            (customer_orders.add(order))\n",
    "            another_product = input(f\"Do you want to add another product YES/NO\")\n",
    "        if another_product == \"NO\":\n",
    "            break\n",
    "        else:\n",
    "            input (f\"Please enter a product from the product list\")\n",
    "\n",
    "    return customer_orders\n",
    "\n",
    "customer_orders = get_customer_orders()\n"
   ]
  },
  {
   "cell_type": "markdown",
   "metadata": {},
   "source": [
    "Define a list called products that contains the following items: \"t-shirt\", \"mug\", \"hat\", \"book\", \"keychain\"."
   ]
  },
  {
   "cell_type": "markdown",
   "metadata": {},
   "source": [
    "Define a function named update_inventory that takes customer_orders and inventory as parameters. Inside the function, implement the code for updating the inventory dictionary based on the customer orders."
   ]
  },
  {
   "cell_type": "code",
   "execution_count": 46,
   "metadata": {},
   "outputs": [
    {
     "name": "stdout",
     "output_type": "stream",
     "text": [
      "Enter a product to order: hat\n",
      "Enter a product to order: mug\n"
     ]
    }
   ],
   "source": [
    "def update_inventory(customer_orders, inventory):\n",
    "    \n",
    "        for product in customer_orders:\n",
    "            product_name = input(\"Enter a product to order: \")\n",
    "        if product_name in products:\n",
    "            customer_orders.add(product_name)\n",
    "        else:\n",
    "            print(f\"{product_name} is not in the list of available products.\")\n",
    "\n",
    "        return update_inventory\n",
    "inventory = update_inventory(customer_orders, inventory)"
   ]
  },
  {
   "cell_type": "markdown",
   "metadata": {},
   "source": [
    "Define a function named calculate_order_statistics that takes customer_orders and products as parameters. Inside the function, implement the code for calculating the order statistics (total products ordered, and percentage of unique products ordered). The function should return these values."
   ]
  },
  {
   "cell_type": "code",
   "execution_count": 50,
   "metadata": {},
   "outputs": [],
   "source": [
    "def calculate_order_statistics(customer_orders, products):\n",
    "    total_products_ordered = len(customer_orders)\n",
    "    percentage_ordered = (total_products_ordered / len(products)) * 100\n",
    "    order_status = (total_products_ordered, percentage_ordered)\n",
    "    \n",
    "    return calculate_order_statistics\n",
    "\n",
    "total_products_ordered = calculate_order_statistics(customer_orders,products)\n",
    "percentage_ordered = calculate_order_statistics(customer_orders,products)"
   ]
  },
  {
   "cell_type": "markdown",
   "metadata": {},
   "source": [
    "Define a function named print_order_statistics that takes order_statistics as a parameter. Inside the function, implement the code for printing the order statistics."
   ]
  },
  {
   "cell_type": "code",
   "execution_count": null,
   "metadata": {},
   "outputs": [],
   "source": [
    "def print_order_statistics(order_statistics):\n",
    "    print(\"Order Statistics:\")\n",
    "    print(f\"Total Products Ordered: {order_status[0]}\")\n",
    "    print(f\"Percentage of Products Ordered: {order_status[1]:.2f}%\")\n",
    "    return "
   ]
  },
  {
   "cell_type": "markdown",
   "metadata": {},
   "source": [
    "Define a function named print_updated_inventory that takes inventory as a parameter. Inside the function, implement the code for printing the updated inventory.\n",
    "Call the functions in the appropriate sequence to execute the program and manage customer orders."
   ]
  },
  {
   "cell_type": "code",
   "execution_count": 53,
   "metadata": {},
   "outputs": [],
   "source": [
    "def print_updated_inventory (inventory):\n",
    "    print(\"Updated Inventory:\")\n",
    "    for product, quantity in inventory.items():\n",
    "        print(f\"{product}: {quantity}\")\n",
    "        \n",
    "\n"
   ]
  },
  {
   "cell_type": "code",
   "execution_count": null,
   "metadata": {},
   "outputs": [],
   "source": []
  }
 ],
 "metadata": {
  "kernelspec": {
   "display_name": "Python 3 (ipykernel)",
   "language": "python",
   "name": "python3"
  },
  "language_info": {
   "codemirror_mode": {
    "name": "ipython",
    "version": 3
   },
   "file_extension": ".py",
   "mimetype": "text/x-python",
   "name": "python",
   "nbconvert_exporter": "python",
   "pygments_lexer": "ipython3",
   "version": "3.10.9"
  }
 },
 "nbformat": 4,
 "nbformat_minor": 4
}

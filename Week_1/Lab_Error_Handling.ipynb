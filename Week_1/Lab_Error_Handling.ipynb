{
 "cells": [
  {
   "cell_type": "code",
   "execution_count": 8,
   "metadata": {},
   "outputs": [
    {
     "data": {
      "text/plain": [
       "'Exercise: Error Handling for Managing Customer Orders\\n\\nThe implementation of your code for managing customer orders assumes that the user will always enter a valid input.\\n\\nFor example, we could modify the initialize_inventory function to include error handling.\\n\\nIf the user enters an invalid quantity (e.g., a negative value or a non-numeric value), display an error message and ask them to re-enter the quantity for that product.\\nUse a try-except block to handle the error and continue prompting the user until a valid quantity is entered.\\n# Step 1: Define the function for initializing the inventory with error handling\\ndef initialize_inventory(products):\\n    inventory = {}\\n    for product in products:\\n        valid_quantity = False\\n        while not valid_quantity:\\n            try:\\n                quantity = int(input(f\"Enter the quantity of {product}s available: \"))\\n                if quantity < 0:\\n                    raise ValueError(\"Invalid quantity! Please enter a non-negative value.\")\\n                valid_quantity = True\\n            except ValueError as error:\\n                print(f\"Error: {error}\")\\n        inventory[product] = quantity\\n    return inventory\\n\\n# Or, in another way:\\n\\ndef initialize_inventory(products):\\n    inventory = {}\\n    for product in products:\\n        valid_input = False\\n        while not valid_input:\\n            try:\\n                quantity = int(input(f\"Enter the quantity of {product}s available: \"))\\n                if quantity >= 0:\\n                    inventory[product] = quantity\\n                    valid_input = True\\n                else:\\n                    print(\"Quantity cannot be negative. Please enter a valid quantity.\")\\n            except ValueError:\\n                print(\"Invalid input. Please enter a valid quantity.\")\\n    return inventory\\nLet\\'s enhance your code by implementing error handling to handle invalid inputs.\\n\\nFollow the steps below to complete the exercise:\\n\\nModify the calculate_total_price function to include error handling.\\n\\nIf the user enters an invalid price (e.g., a negative value or a non-numeric value), display an error message and ask them to re-enter the price for that product.\\nUse a try-except block to handle the error and continue prompting the user until a valid price is entered.\\nModify the get_customer_orders function to include error handling.\\n\\nIf the user enters an invalid number of orders (e.g., a negative value or a non-numeric value), display an error message and ask them to re-enter the number of orders.\\nIf the user enters an invalid product name (e.g., a product name that is not in the inventory), or that doesn\\'t have stock available, display an error message and ask them to re-enter the product name. Hint: you will need to pass inventory as a parameter\\nUse a try-except block to handle the error and continue prompting the user until a valid product name is entered.\\nTest your code by running the program and deliberately entering invalid quantities and product names. Make sure the error handling mechanism works as expected.'"
      ]
     },
     "execution_count": 8,
     "metadata": {},
     "output_type": "execute_result"
    }
   ],
   "source": [
    "\"\"\"Exercise: Error Handling for Managing Customer Orders\n",
    "\n",
    "The implementation of your code for managing customer orders assumes that the user will always enter a valid input.\n",
    "\n",
    "For example, we could modify the initialize_inventory function to include error handling.\n",
    "\n",
    "If the user enters an invalid quantity (e.g., a negative value or a non-numeric value), display an error message and ask them to re-enter the quantity for that product.\n",
    "Use a try-except block to handle the error and continue prompting the user until a valid quantity is entered.\n",
    "# Step 1: Define the function for initializing the inventory with error handling\n",
    "def initialize_inventory(products):\n",
    "    inventory = {}\n",
    "    for product in products:\n",
    "        valid_quantity = False\n",
    "        while not valid_quantity:\n",
    "            try:\n",
    "                quantity = int(input(f\"Enter the quantity of {product}s available: \"))\n",
    "                if quantity < 0:\n",
    "                    raise ValueError(\"Invalid quantity! Please enter a non-negative value.\")\n",
    "                valid_quantity = True\n",
    "            except ValueError as error:\n",
    "                print(f\"Error: {error}\")\n",
    "        inventory[product] = quantity\n",
    "    return inventory\n",
    "\n",
    "# Or, in another way:\n",
    "\n",
    "def initialize_inventory(products):\n",
    "    inventory = {}\n",
    "    for product in products:\n",
    "        valid_input = False\n",
    "        while not valid_input:\n",
    "            try:\n",
    "                quantity = int(input(f\"Enter the quantity of {product}s available: \"))\n",
    "                if quantity >= 0:\n",
    "                    inventory[product] = quantity\n",
    "                    valid_input = True\n",
    "                else:\n",
    "                    print(\"Quantity cannot be negative. Please enter a valid quantity.\")\n",
    "            except ValueError:\n",
    "                print(\"Invalid input. Please enter a valid quantity.\")\n",
    "    return inventory\n",
    "Let's enhance your code by implementing error handling to handle invalid inputs.\n",
    "\n",
    "Follow the steps below to complete the exercise:\n",
    "\n",
    "Modify the calculate_total_price function to include error handling.\n",
    "\n",
    "If the user enters an invalid price (e.g., a negative value or a non-numeric value), display an error message and ask them to re-enter the price for that product.\n",
    "Use a try-except block to handle the error and continue prompting the user until a valid price is entered.\n",
    "Modify the get_customer_orders function to include error handling.\n",
    "\n",
    "If the user enters an invalid number of orders (e.g., a negative value or a non-numeric value), display an error message and ask them to re-enter the number of orders.\n",
    "If the user enters an invalid product name (e.g., a product name that is not in the inventory), or that doesn't have stock available, display an error message and ask them to re-enter the product name. Hint: you will need to pass inventory as a parameter\n",
    "Use a try-except block to handle the error and continue prompting the user until a valid product name is entered.\n",
    "Test your code by running the program and deliberately entering invalid quantities and product names. Make sure the error handling mechanism works as expected.\"\"\""
   ]
  },
  {
   "cell_type": "markdown",
   "metadata": {
    "tags": []
   },
   "source": [
    "# Lab | Data Structures "
   ]
  },
  {
   "cell_type": "code",
   "execution_count": 30,
   "metadata": {},
   "outputs": [
    {
     "name": "stdout",
     "output_type": "stream",
     "text": [
      "Enter the quantity of t-shirts available: 5\n",
      "Enter the quantity of mugs available: 5\n",
      "Enter the quantity of hats available: 6\n",
      "Enter the quantity of books available: 7\n",
      "Enter the quantity of keychains available: 3\n"
     ]
    }
   ],
   "source": [
    "def initialize_inventory(products):\n",
    "    inventory = {}\n",
    "    for item in products:\n",
    "        valid_input = False\n",
    "        while not valid_input:\n",
    "            try:\n",
    "                quantity = int(input(f\"Enter the quantity of {item}s available: \"))\n",
    "                if quantity >= 0:\n",
    "                    inventory[item] = quantity\n",
    "                    valid_input = True\n",
    "                else:\n",
    "                    print(\"Quantity cannot be negative. Please enter a valid quantity.\")\n",
    "            except ValueError:\n",
    "                print(\"Invalid input. Please enter a valid quantity.\")\n",
    "    return inventory\n",
    "\n",
    "products = [\"t-shirt\",\"mug\",\"hat\",\"book\",\"keychain\"]\n",
    "inventory = initialize_inventory(products)"
   ]
  },
  {
   "cell_type": "markdown",
   "metadata": {},
   "source": [
    "Define a function named get_customer_orders that takes no parameters. Inside the function, implement the code for prompting the user to enter the product names using a loop. The function should return the customer_orders set."
   ]
  },
  {
   "cell_type": "code",
   "execution_count": 31,
   "metadata": {},
   "outputs": [
    {
     "name": "stdout",
     "output_type": "stream",
     "text": [
      "Enter a product you want to order: hat\n",
      "Do you want to add another product YES/NOYES\n",
      "Enter a product you want to order: mug\n",
      "Do you want to add another product YES/NONO\n"
     ]
    }
   ],
   "source": [
    "def get_customer_orders():\n",
    "    customer_orders = set()\n",
    "    while True:\n",
    "        order = (input(f\"Enter a product you want to order: \"))\n",
    "        if order in products:\n",
    "            (customer_orders.add(order))\n",
    "        else:\n",
    "            input (f\"Please enter a product from the product list\")\n",
    "\n",
    "        another_product = input(f\"Do you want to add another product YES/NO\")\n",
    "        if another_product == \"NO\":\n",
    "            break\n",
    "        else:\n",
    "            order = (input(f\"Enter a product you want to order: \"))\n",
    "        if order in products:\n",
    "            (customer_orders.add(order))\n",
    "            another_product = input(f\"Do you want to add another product YES/NO\")\n",
    "        if another_product == \"NO\":\n",
    "            break\n",
    "        else:\n",
    "            input (f\"Please enter a product from the product list\")\n",
    "\n",
    "    return customer_orders\n",
    "\n",
    "customer_orders = get_customer_orders()\n"
   ]
  },
  {
   "cell_type": "markdown",
   "metadata": {},
   "source": [
    "Define a list called products that contains the following items: \"t-shirt\", \"mug\", \"hat\", \"book\", \"keychain\"."
   ]
  },
  {
   "cell_type": "markdown",
   "metadata": {},
   "source": [
    "Define a function named update_inventory that takes customer_orders and inventory as parameters. Inside the function, implement the code for updating the inventory dictionary based on the customer orders."
   ]
  },
  {
   "cell_type": "code",
   "execution_count": 32,
   "metadata": {},
   "outputs": [
    {
     "name": "stdout",
     "output_type": "stream",
     "text": [
      "Enter a product to order: mug\n",
      "Enter a product to order: hat\n",
      "{'t-shirt': 5, 'mug': 5, 'hat': 6, 'book': 7, 'keychain': 3}\n"
     ]
    }
   ],
   "source": [
    "def update_inventory(customer_orders, inventory):\n",
    "    \n",
    "        for product in customer_orders:\n",
    "            product_name = input(\"Enter a product to order: \")\n",
    "        if product_name in products:\n",
    "            customer_orders.add(product_name)\n",
    "        else:\n",
    "            print(f\"{product_name} is not in the list of available products.\")\n",
    "            \n",
    "                          \n",
    "        return inventory\n",
    "inventory = update_inventory(customer_orders, inventory)\n",
    "\n",
    "print(inventory)"
   ]
  },
  {
   "cell_type": "markdown",
   "metadata": {},
   "source": [
    "Define a function named calculate_order_statistics that takes customer_orders and products as parameters. Inside the function, implement the code for calculating the order statistics (total products ordered, and percentage of unique products ordered). The function should return these values."
   ]
  },
  {
   "cell_type": "code",
   "execution_count": 33,
   "metadata": {},
   "outputs": [
    {
     "name": "stdout",
     "output_type": "stream",
     "text": [
      "Total Products Ordered: 2\n",
      "Percentage of Products Ordered: 40.00%\n"
     ]
    }
   ],
   "source": [
    "def calculate_order_statistics(customer_orders, products):\n",
    "    total_products_ordered = len(customer_orders)\n",
    "    percentage_ordered = (total_products_ordered / len(products)) * 100\n",
    "    order_status = (total_products_ordered, percentage_ordered)\n",
    "    \n",
    "    return order_status\n",
    "\n",
    "order_stats = calculate_order_statistics(customer_orders,products)\n",
    "total_products_ordered, percentage_ordered = order_stats\n",
    "\n",
    "\n",
    "print(f\"Total Products Ordered: {total_products_ordered}\")\n",
    "print(f\"Percentage of Products Ordered: {percentage_ordered:.2f}%\")"
   ]
  },
  {
   "cell_type": "markdown",
   "metadata": {},
   "source": [
    "Define a function named print_order_statistics that takes order_statistics as a parameter. Inside the function, implement the code for printing the order statistics."
   ]
  },
  {
   "cell_type": "code",
   "execution_count": 34,
   "metadata": {},
   "outputs": [
    {
     "name": "stdout",
     "output_type": "stream",
     "text": [
      "(2, 40.0)\n"
     ]
    }
   ],
   "source": [
    "def print_order_statistics(order_statistics):\n",
    "    print(\"Order Statistics:\")\n",
    "    print(f\"Total Products Ordered: {order_statistics[0]}\")\n",
    "    print(f\"Percentage of Products Ordered: {order_statistics[1]:.2f}%\")\n",
    "\n",
    "order_stats = calculate_order_statistics(customer_orders, products)\n",
    "print(order_stats)"
   ]
  },
  {
   "cell_type": "markdown",
   "metadata": {},
   "source": [
    "Define a function named print_updated_inventory that takes inventory as a parameter. Inside the function, implement the code for printing the updated inventory.\n",
    "Call the functions in the appropriate sequence to execute the program and manage customer orders."
   ]
  },
  {
   "cell_type": "code",
   "execution_count": 35,
   "metadata": {},
   "outputs": [
    {
     "name": "stdout",
     "output_type": "stream",
     "text": [
      "{'t-shirt': 5, 'mug': 4, 'hat': 5, 'book': 7, 'keychain': 3}\n"
     ]
    }
   ],
   "source": [
    "def update_inventory(customer_orders, inventory):\n",
    "    for product in customer_orders:\n",
    "        if product in inventory:\n",
    "            inventory[product] -= 1\n",
    "    \n",
    "    inventory = {product: quantity for product, quantity in inventory.items() if quantity > 0}\n",
    "    \n",
    "    return inventory\n",
    "    \n",
    "inventory = update_inventory(customer_orders, inventory)\n",
    "\n",
    "print (inventory)\n",
    "\n"
   ]
  },
  {
   "cell_type": "code",
   "execution_count": null,
   "metadata": {},
   "outputs": [],
   "source": [
    "\"\"\"If the user enters an invalid price (e.g., a negative value or a non-numeric value), display an error message and ask them to re-enter the price for that product.\n",
    "Use a try-except block to handle the error and continue prompting the user until a valid price is entered.\n",
    "Modify the get_customer_orders function to include error handling.\n",
    "\n",
    "If the user enters an invalid number of orders (e.g., a negative value or a non-numeric value), display an error message and ask them to re-enter the number of orders.\n",
    "If the user enters an invalid product name (e.g., a product name that is not in the inventory), or that doesn't have stock available, display an error message and ask them to re-enter the product name. Hint: you will need to pass inventory as a parameter\n",
    "Use a try-except block to handle the error and continue prompting the user until a valid product name is entered.\"\"\""
   ]
  },
  {
   "cell_type": "code",
   "execution_count": null,
   "metadata": {},
   "outputs": [],
   "source": [
    "##If the user enters an invalid product name (e.g., a product name that is not in the inventory), \n",
    "##or that doesn't have stock available, display an error message and ask them to re-enter the product name. \n",
    "##Hint: you will need to pass inventory as a parameter\n",
    "##Use a try-except block to handle the error and continue prompting the user until a valid product name is entered.\"\"\""
   ]
  },
  {
   "cell_type": "code",
   "execution_count": 38,
   "metadata": {},
   "outputs": [],
   "source": [
    "from functools import reduce"
   ]
  },
  {
   "cell_type": "code",
   "execution_count": 39,
   "metadata": {},
   "outputs": [
    {
     "name": "stdout",
     "output_type": "stream",
     "text": [
      "Enter the price of mug: -10\n",
      "Price cannot be negative or zero. Please enter a valid price.\n",
      "Enter the price of mug: 0\n",
      "Price cannot be negative or zero. Please enter a valid price.\n",
      "Enter the price of mug: 5\n",
      "Enter the price of hat: 5\n",
      "The total price of the order is 10.0€\n"
     ]
    }
   ],
   "source": [
    "def calculate_total_price(customer_orders):\n",
    "    prices= []\n",
    "    for product in customer_orders:\n",
    "        valid_input = False\n",
    "        while not valid_input:\n",
    "            try:\n",
    "                price = float(input(f\"Enter the price of {product}: \"))  #preis wird definiert\n",
    "                if price > 0:\n",
    "                    prices.append(price)  # preis wird in die leere prices liste eingefügt\n",
    "                    valid_input = True\n",
    "                else:\n",
    "                    print(\"Price cannot be negative or zero. Please enter a valid price.\")\n",
    "            except ValueError:\n",
    "                print(\"Invalid input. Please enter a valid price.\")\n",
    "    return reduce(lambda a,b: a+b ,prices)  #wir addieren allen preise in der nun gefüllten price liste\n",
    "\n",
    "total_price = calculate_total_price(customer_orders)\n",
    "\n",
    "print(f\"The total price of the order is {total_price}€\")"
   ]
  },
  {
   "cell_type": "code",
   "execution_count": null,
   "metadata": {},
   "outputs": [],
   "source": []
  }
 ],
 "metadata": {
  "kernelspec": {
   "display_name": "Python 3 (ipykernel)",
   "language": "python",
   "name": "python3"
  },
  "language_info": {
   "codemirror_mode": {
    "name": "ipython",
    "version": 3
   },
   "file_extension": ".py",
   "mimetype": "text/x-python",
   "name": "python",
   "nbconvert_exporter": "python",
   "pygments_lexer": "ipython3",
   "version": "3.10.9"
  }
 },
 "nbformat": 4,
 "nbformat_minor": 4
}

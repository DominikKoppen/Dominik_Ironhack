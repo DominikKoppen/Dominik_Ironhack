{
 "cells": [
  {
   "cell_type": "code",
   "execution_count": 9,
   "id": "03dfe89d",
   "metadata": {},
   "outputs": [
    {
     "ename": "NameError",
     "evalue": "name 'majority_parity' is not defined",
     "output_type": "error",
     "traceback": [
      "\u001b[0;31m---------------------------------------------------------------------------\u001b[0m",
      "\u001b[0;31mNameError\u001b[0m                                 Traceback (most recent call last)",
      "Cell \u001b[0;32mIn[9], line 14\u001b[0m\n\u001b[1;32m     12\u001b[0m \u001b[38;5;66;03m# Example usage:\u001b[39;00m\n\u001b[1;32m     13\u001b[0m integers \u001b[38;5;241m=\u001b[39m [\u001b[38;5;241m2\u001b[39m, \u001b[38;5;241m4\u001b[39m, \u001b[38;5;241m7\u001b[39m, \u001b[38;5;241m6\u001b[39m, \u001b[38;5;241m8\u001b[39m]\n\u001b[0;32m---> 14\u001b[0m result \u001b[38;5;241m=\u001b[39m \u001b[43mfind_outlier\u001b[49m\u001b[43m(\u001b[49m\u001b[43mintegers\u001b[49m\u001b[43m)\u001b[49m\n\u001b[1;32m     15\u001b[0m \u001b[38;5;28mprint\u001b[39m(result)\n",
      "Cell \u001b[0;32mIn[9], line 9\u001b[0m, in \u001b[0;36mfind_outlier\u001b[0;34m(integers)\u001b[0m\n\u001b[1;32m      3\u001b[0m \u001b[38;5;28;01mdef\u001b[39;00m \u001b[38;5;21mfind_outlier\u001b[39m(integers: List[\u001b[38;5;28mint\u001b[39m]) \u001b[38;5;241m-\u001b[39m\u001b[38;5;241m>\u001b[39m \u001b[38;5;28mint\u001b[39m:\n\u001b[1;32m      4\u001b[0m     \u001b[38;5;66;03m# Count the number of even and odd integers in the first 3 elements\u001b[39;00m\n\u001b[1;32m      5\u001b[0m     \n\u001b[1;32m      6\u001b[0m \n\u001b[1;32m      7\u001b[0m     \u001b[38;5;66;03m# Find the outlier N with a different parity\u001b[39;00m\n\u001b[1;32m      8\u001b[0m     \u001b[38;5;28;01mfor\u001b[39;00m num \u001b[38;5;129;01min\u001b[39;00m integers:\n\u001b[0;32m----> 9\u001b[0m         \u001b[38;5;28;01mif\u001b[39;00m num \u001b[38;5;241m%\u001b[39m \u001b[38;5;241m2\u001b[39m \u001b[38;5;241m!=\u001b[39m \u001b[43mmajority_parity\u001b[49m:\n\u001b[1;32m     10\u001b[0m             \u001b[38;5;28;01mreturn\u001b[39;00m num\n",
      "\u001b[0;31mNameError\u001b[0m: name 'majority_parity' is not defined"
     ]
    }
   ],
   "source": [
    "from typing import List\n",
    "\n",
    "def find_outlier(integers: List[int]) -> int:\n",
    "    # Count the number of even and odd integers in the first 3 elements\n",
    "    parity_count = [0, 0]  # [even, odd]\n",
    "\n",
    "    for num in integers[:3]:\n",
    "        if num % 2 == 0:\n",
    "            parity_count[0] += 1\n",
    "        else:\n",
    "            parity_count[1] += 1\n",
    "\n",
    "    # Determine the majority parity in the first 3 elements\n",
    "    majority_parity = 0 if parity_count[0] > parity_count[1] else 1\n",
    "\n",
    "    # Find the outlier N with a different parity\n",
    "    for num in integers:\n",
    "        if num % 2 != majority_parity:\n",
    "            return num\n",
    "\n",
    "# Example usage:\n",
    "integers = [2, 4, 7, 6, 8]\n",
    "result = find_outlier(integers)\n",
    "print(result)  "
   ]
  },
  {
   "cell_type": "code",
   "execution_count": 10,
   "id": "d49ce45b",
   "metadata": {},
   "outputs": [
    {
     "name": "stdout",
     "output_type": "stream",
     "text": [
      "4\n"
     ]
    }
   ],
   "source": [
    "from typing import List\n",
    "\n",
    "def find_outlier(integers: List[int]) -> int:\n",
    "    # Initialize variables for even and odd counts\n",
    "    even_count = 0\n",
    "    odd_count = 0\n",
    "\n",
    "    for num in integers:\n",
    "        if num % 2 == 0:\n",
    "            even_count += 1\n",
    "            if even_count > 1:  # Found the outlier, which is odd\n",
    "                return num\n",
    "        else:\n",
    "            odd_count += 1\n",
    "            if odd_count > 1:  # Found the outlier, which is even\n",
    "                return num\n",
    "\n",
    "# Example usage:\n",
    "integers = [2, 4, 7, 6, 8]\n",
    "result = find_outlier(integers)\n",
    "print(result)  # This will print 7 (the outlier with odd parity)\n"
   ]
  },
  {
   "cell_type": "code",
   "execution_count": 11,
   "id": "3445a626",
   "metadata": {},
   "outputs": [
    {
     "name": "stdout",
     "output_type": "stream",
     "text": [
      "7\n"
     ]
    }
   ],
   "source": [
    "from typing import List\n",
    "\n",
    "def find_outlier(integers: List[int]) -> int:\n",
    "    # Initialize variables for even and odd counts\n",
    "    even_count = 0\n",
    "    odd_count = 0\n",
    "\n",
    "    for num in integers:\n",
    "        if num % 2 == 0:\n",
    "            even_count += 1\n",
    "        else:\n",
    "            odd_count += 1\n",
    "\n",
    "        if even_count > 1 and odd_count == 1:\n",
    "            # Found the outlier, which is odd\n",
    "            return num\n",
    "        elif odd_count > 1 and even_count == 1:\n",
    "            # Found the outlier, which is even\n",
    "            return num\n",
    "\n",
    "# Example usage:\n",
    "integers = [2, 4, 7, 6, 8]\n",
    "result = find_outlier(integers)\n",
    "print(result)  # This will print 7 (the outlier with odd parity)\n"
   ]
  },
  {
   "cell_type": "code",
   "execution_count": null,
   "id": "09a1ed81",
   "metadata": {},
   "outputs": [],
   "source": [
    "from typing import List\n",
    "\n",
    "def find_outlier(integers: List[int]) -> int:\n",
    "    # Count the number of even and odd integers in the first 3 elements\n",
    "    parity_count = [0, 0]  # [even, odd]\n",
    "\n",
    "    for num in integers[:3]:\n",
    "        if num % 2 == 0:\n",
    "            parity_count[0] += 1\n",
    "        else:\n",
    "            parity_count[1] += 1\n",
    "\n",
    "    # Determine the majority parity in the first 3 elements\n",
    "    majority_parity = 0 if parity_count[0] > parity_count[1] else 1\n",
    "\n",
    "    # Find the outlier N with a different parity\n",
    "    for num in integers:\n",
    "        if num % 2 != majority_parity:\n",
    "            return num\n",
    "\n",
    "# Example usage:\n",
    "integers = [2, 4, 7, 6, 8]\n",
    "result = find_outlier(integers)\n",
    "print(result)  \n"
   ]
  },
  {
   "cell_type": "code",
   "execution_count": 12,
   "id": "a0834ded",
   "metadata": {},
   "outputs": [
    {
     "name": "stdout",
     "output_type": "stream",
     "text": [
      "7\n"
     ]
    }
   ],
   "source": [
    "from typing import List\n",
    "\n",
    "def find_outlier(integers: List[int]) -> int:\n",
    "    # Initialize variables for even and odd counts\n",
    "    even_count = 0\n",
    "    odd_count = 0\n",
    "    last_even = None\n",
    "    last_odd = None\n",
    "\n",
    "    for num in integers:\n",
    "        if num % 2 == 0:\n",
    "            even_count += 1\n",
    "            last_even = num\n",
    "        else:\n",
    "            odd_count += 1\n",
    "            last_odd = num\n",
    "\n",
    "    if even_count == 1:\n",
    "        return last_even\n",
    "    else:\n",
    "        return last_odd\n",
    "\n",
    "# Example usage:\n",
    "integers = [2, 4, 7, 6, 8]\n",
    "result = find_outlier(integers)\n",
    "print(result) "
   ]
  },
  {
   "cell_type": "code",
   "execution_count": null,
   "id": "847620c8",
   "metadata": {},
   "outputs": [],
   "source": [
    "from typing import List\n",
    "\n",
    "def find_outlier(integers: List[int]) -> int:\n",
    "    # Initialize variables for even and odd parity\n",
    "    even_parity = integers[0] % 2 == 0\n",
    "    odd_parity = not even_parity\n",
    "\n",
    "    # Iterate through the list to find the outlier\n",
    "    for num in integers:\n",
    "        if num % 2 == 0 and odd_parity:\n",
    "            return num\n",
    "        if num % 2 != 0 and even_parity:\n",
    "            return num\n",
    "\n",
    "# Example usage:\n",
    "integers = [2, 4, 7, 6, 8]\n",
    "result = find_outlier(integers)\n",
    "print(result)  \n"
   ]
  },
  {
   "cell_type": "code",
   "execution_count": 13,
   "id": "0a6d235d",
   "metadata": {},
   "outputs": [],
   "source": [
    "def merge_strings(a: str, b: str) -> str:\n",
    "    merged_string = \"\"\n",
    "    i = 0\n",
    "    j = 0\n",
    "\n",
    "    while i < len(a) and j < len(b):\n",
    "        # Append characters from 'a' and 'b' alternately\n",
    "        merged_string += a[i] + b[j]\n",
    "        i += 1\n",
    "        j += 1\n",
    "\n",
    "    # Add any remaining characters from 'a' or 'b'\n",
    "    merged_string += a[i:] + b[j:]\n",
    "\n",
    "    return merged_string"
   ]
  },
  {
   "cell_type": "code",
   "execution_count": 16,
   "id": "7e757d47",
   "metadata": {},
   "outputs": [],
   "source": [
    "def high_and_low(numbers: str) -> str:\n",
    "    # Split the input string into a list of numbers\n",
    "    num_list = [int(num) for num in numbers.split()]\n",
    "    \n",
    "    # Find the highest and lowest numbers\n",
    "    highest = str(max(num_list))\n",
    "    lowest = str(min(num_list))\n",
    "    \n",
    "    # Return the result as a string in the format \"highest lowest\"\n",
    "    return highest + \" \" + lowest"
   ]
  },
  {
   "cell_type": "code",
   "execution_count": null,
   "id": "a5266d37",
   "metadata": {},
   "outputs": [],
   "source": []
  }
 ],
 "metadata": {
  "kernelspec": {
   "display_name": "Python 3 (ipykernel)",
   "language": "python",
   "name": "python3"
  },
  "language_info": {
   "codemirror_mode": {
    "name": "ipython",
    "version": 3
   },
   "file_extension": ".py",
   "mimetype": "text/x-python",
   "name": "python",
   "nbconvert_exporter": "python",
   "pygments_lexer": "ipython3",
   "version": "3.10.9"
  }
 },
 "nbformat": 4,
 "nbformat_minor": 5
}

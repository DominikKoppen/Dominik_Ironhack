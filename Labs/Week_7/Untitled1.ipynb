{
 "cells": [
  {
   "cell_type": "code",
   "execution_count": null,
   "id": "1360c249",
   "metadata": {},
   "outputs": [],
   "source": [
    "def kmeans_trainer ( number_of_clusters, rand_state):\n",
    "    kmeans = KMeans(n_custers = number_of_clusters, random_state = rand_state)\n",
    "    kmeans.fit(Y_train)\n",
    "    return kmeans.labels_"
   ]
  },
  {
   "cell_type": "code",
   "execution_count": null,
   "id": "2d98ef8c",
   "metadata": {},
   "outputs": [],
   "source": [
    "def kmeans_trainer ( list_of_models, rand_state):\n",
    "    kmeans = KMeans(n_custers = number_of_clusters, random_state = rand_state)\n",
    "    kmeans.fit(Y_train)\n",
    "    return kmeans.labels_"
   ]
  }
 ],
 "metadata": {
  "kernelspec": {
   "display_name": "Python 3 (ipykernel)",
   "language": "python",
   "name": "python3"
  },
  "language_info": {
   "codemirror_mode": {
    "name": "ipython",
    "version": 3
   },
   "file_extension": ".py",
   "mimetype": "text/x-python",
   "name": "python",
   "nbconvert_exporter": "python",
   "pygments_lexer": "ipython3",
   "version": "3.10.9"
  }
 },
 "nbformat": 4,
 "nbformat_minor": 5
}

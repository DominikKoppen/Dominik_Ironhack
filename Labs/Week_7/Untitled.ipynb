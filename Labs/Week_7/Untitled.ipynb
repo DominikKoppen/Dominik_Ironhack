{
 "cells": [
  {
   "cell_type": "code",
   "execution_count": 1,
   "id": "0086bdd3",
   "metadata": {},
   "outputs": [],
   "source": [
    "import seaborn as sns\n",
    "import matplotlib.pyplot as plt\n",
    "import pandas as pd\n",
    "import numpy as np"
   ]
  },
  {
   "cell_type": "code",
   "execution_count": 2,
   "id": "14d1e95a",
   "metadata": {},
   "outputs": [],
   "source": [
    "tips_df = sns.load_dataset('tips')"
   ]
  },
  {
   "cell_type": "code",
   "execution_count": 3,
   "id": "cfc7a4cb",
   "metadata": {},
   "outputs": [
    {
     "data": {
      "text/html": [
       "<div>\n",
       "<style scoped>\n",
       "    .dataframe tbody tr th:only-of-type {\n",
       "        vertical-align: middle;\n",
       "    }\n",
       "\n",
       "    .dataframe tbody tr th {\n",
       "        vertical-align: top;\n",
       "    }\n",
       "\n",
       "    .dataframe thead th {\n",
       "        text-align: right;\n",
       "    }\n",
       "</style>\n",
       "<table border=\"1\" class=\"dataframe\">\n",
       "  <thead>\n",
       "    <tr style=\"text-align: right;\">\n",
       "      <th></th>\n",
       "      <th>total_bill</th>\n",
       "      <th>tip</th>\n",
       "      <th>sex</th>\n",
       "      <th>smoker</th>\n",
       "      <th>day</th>\n",
       "      <th>time</th>\n",
       "      <th>size</th>\n",
       "    </tr>\n",
       "  </thead>\n",
       "  <tbody>\n",
       "    <tr>\n",
       "      <th>0</th>\n",
       "      <td>16.99</td>\n",
       "      <td>1.01</td>\n",
       "      <td>Female</td>\n",
       "      <td>No</td>\n",
       "      <td>Sun</td>\n",
       "      <td>Dinner</td>\n",
       "      <td>2</td>\n",
       "    </tr>\n",
       "    <tr>\n",
       "      <th>1</th>\n",
       "      <td>10.34</td>\n",
       "      <td>1.66</td>\n",
       "      <td>Male</td>\n",
       "      <td>No</td>\n",
       "      <td>Sun</td>\n",
       "      <td>Dinner</td>\n",
       "      <td>3</td>\n",
       "    </tr>\n",
       "    <tr>\n",
       "      <th>2</th>\n",
       "      <td>21.01</td>\n",
       "      <td>3.50</td>\n",
       "      <td>Male</td>\n",
       "      <td>No</td>\n",
       "      <td>Sun</td>\n",
       "      <td>Dinner</td>\n",
       "      <td>3</td>\n",
       "    </tr>\n",
       "    <tr>\n",
       "      <th>3</th>\n",
       "      <td>23.68</td>\n",
       "      <td>3.31</td>\n",
       "      <td>Male</td>\n",
       "      <td>No</td>\n",
       "      <td>Sun</td>\n",
       "      <td>Dinner</td>\n",
       "      <td>2</td>\n",
       "    </tr>\n",
       "    <tr>\n",
       "      <th>4</th>\n",
       "      <td>24.59</td>\n",
       "      <td>3.61</td>\n",
       "      <td>Female</td>\n",
       "      <td>No</td>\n",
       "      <td>Sun</td>\n",
       "      <td>Dinner</td>\n",
       "      <td>4</td>\n",
       "    </tr>\n",
       "    <tr>\n",
       "      <th>...</th>\n",
       "      <td>...</td>\n",
       "      <td>...</td>\n",
       "      <td>...</td>\n",
       "      <td>...</td>\n",
       "      <td>...</td>\n",
       "      <td>...</td>\n",
       "      <td>...</td>\n",
       "    </tr>\n",
       "    <tr>\n",
       "      <th>239</th>\n",
       "      <td>29.03</td>\n",
       "      <td>5.92</td>\n",
       "      <td>Male</td>\n",
       "      <td>No</td>\n",
       "      <td>Sat</td>\n",
       "      <td>Dinner</td>\n",
       "      <td>3</td>\n",
       "    </tr>\n",
       "    <tr>\n",
       "      <th>240</th>\n",
       "      <td>27.18</td>\n",
       "      <td>2.00</td>\n",
       "      <td>Female</td>\n",
       "      <td>Yes</td>\n",
       "      <td>Sat</td>\n",
       "      <td>Dinner</td>\n",
       "      <td>2</td>\n",
       "    </tr>\n",
       "    <tr>\n",
       "      <th>241</th>\n",
       "      <td>22.67</td>\n",
       "      <td>2.00</td>\n",
       "      <td>Male</td>\n",
       "      <td>Yes</td>\n",
       "      <td>Sat</td>\n",
       "      <td>Dinner</td>\n",
       "      <td>2</td>\n",
       "    </tr>\n",
       "    <tr>\n",
       "      <th>242</th>\n",
       "      <td>17.82</td>\n",
       "      <td>1.75</td>\n",
       "      <td>Male</td>\n",
       "      <td>No</td>\n",
       "      <td>Sat</td>\n",
       "      <td>Dinner</td>\n",
       "      <td>2</td>\n",
       "    </tr>\n",
       "    <tr>\n",
       "      <th>243</th>\n",
       "      <td>18.78</td>\n",
       "      <td>3.00</td>\n",
       "      <td>Female</td>\n",
       "      <td>No</td>\n",
       "      <td>Thur</td>\n",
       "      <td>Dinner</td>\n",
       "      <td>2</td>\n",
       "    </tr>\n",
       "  </tbody>\n",
       "</table>\n",
       "<p>244 rows × 7 columns</p>\n",
       "</div>"
      ],
      "text/plain": [
       "     total_bill   tip     sex smoker   day    time  size\n",
       "0         16.99  1.01  Female     No   Sun  Dinner     2\n",
       "1         10.34  1.66    Male     No   Sun  Dinner     3\n",
       "2         21.01  3.50    Male     No   Sun  Dinner     3\n",
       "3         23.68  3.31    Male     No   Sun  Dinner     2\n",
       "4         24.59  3.61  Female     No   Sun  Dinner     4\n",
       "..          ...   ...     ...    ...   ...     ...   ...\n",
       "239       29.03  5.92    Male     No   Sat  Dinner     3\n",
       "240       27.18  2.00  Female    Yes   Sat  Dinner     2\n",
       "241       22.67  2.00    Male    Yes   Sat  Dinner     2\n",
       "242       17.82  1.75    Male     No   Sat  Dinner     2\n",
       "243       18.78  3.00  Female     No  Thur  Dinner     2\n",
       "\n",
       "[244 rows x 7 columns]"
      ]
     },
     "execution_count": 3,
     "metadata": {},
     "output_type": "execute_result"
    }
   ],
   "source": [
    "tips_df"
   ]
  },
  {
   "cell_type": "code",
   "execution_count": 4,
   "id": "2d40e06c",
   "metadata": {},
   "outputs": [
    {
     "data": {
      "text/plain": [
       "(244, 7)"
      ]
     },
     "execution_count": 4,
     "metadata": {},
     "output_type": "execute_result"
    }
   ],
   "source": [
    "tips_df.shape"
   ]
  },
  {
   "cell_type": "code",
   "execution_count": 5,
   "id": "5fde44e5",
   "metadata": {},
   "outputs": [
    {
     "name": "stdout",
     "output_type": "stream",
     "text": [
      "<class 'pandas.core.frame.DataFrame'>\n",
      "RangeIndex: 244 entries, 0 to 243\n",
      "Data columns (total 7 columns):\n",
      " #   Column      Non-Null Count  Dtype   \n",
      "---  ------      --------------  -----   \n",
      " 0   total_bill  244 non-null    float64 \n",
      " 1   tip         244 non-null    float64 \n",
      " 2   sex         244 non-null    category\n",
      " 3   smoker      244 non-null    category\n",
      " 4   day         244 non-null    category\n",
      " 5   time        244 non-null    category\n",
      " 6   size        244 non-null    int64   \n",
      "dtypes: category(4), float64(2), int64(1)\n",
      "memory usage: 7.4 KB\n"
     ]
    }
   ],
   "source": [
    "tips_df.info()"
   ]
  },
  {
   "cell_type": "markdown",
   "id": "f80bb37e",
   "metadata": {},
   "source": [
    "# EDA"
   ]
  },
  {
   "cell_type": "code",
   "execution_count": 6,
   "id": "e1a73b7d",
   "metadata": {},
   "outputs": [],
   "source": [
    "numericals = tips_df.select_dtypes(include=np.number)\n",
    "categoricals = tips_df.select_dtypes(include='category')\n"
   ]
  },
  {
   "cell_type": "code",
   "execution_count": 7,
   "id": "f0a77d45",
   "metadata": {},
   "outputs": [
    {
     "data": {
      "text/plain": [
       "array([[<Axes: title={'center': 'total_bill'}>,\n",
       "        <Axes: title={'center': 'tip'}>],\n",
       "       [<Axes: title={'center': 'size'}>, <Axes: >]], dtype=object)"
      ]
     },
     "execution_count": 7,
     "metadata": {},
     "output_type": "execute_result"
    },
    {
     "data": {
      "image/png": "[encoded data removed]",
      "text/plain": [
       "<Figure size 640x480 with 4 Axes>"
      ]
     },
     "metadata": {},
     "output_type": "display_data"
    }
   ],
   "source": [
    "#plotting histograms\n",
    "numericals.hist()"
   ]
  },
  {
   "cell_type": "code",
   "execution_count": 8,
   "id": "71b3d1ee",
   "metadata": {},
   "outputs": [
    {
     "data": {
      "text/plain": [
       "'Just to Test'"
      ]
     },
     "execution_count": 8,
     "metadata": {},
     "output_type": "execute_result"
    }
   ],
   "source": [
    "'''Just to Test'''"
   ]
  },
  {
   "cell_type": "code",
   "execution_count": 9,
   "id": "a1202561",
   "metadata": {},
   "outputs": [],
   "source": [
    "#from sklearn.preprocessing import PowerTransformer"
   ]
  },
  {
   "cell_type": "code",
   "execution_count": 10,
   "id": "83aa02b2",
   "metadata": {},
   "outputs": [],
   "source": [
    "#pt = PowerTransformer()\n",
    "#pt.fit_transform(numericals[['tip']])\n",
    "#numericals['tip']= pt.fit_transform(numericals[['tip']])"
   ]
  },
  {
   "cell_type": "code",
   "execution_count": 11,
   "id": "79431dae",
   "metadata": {},
   "outputs": [],
   "source": [
    "#numericals.hist()"
   ]
  },
  {
   "cell_type": "code",
   "execution_count": 12,
   "id": "865b1d98",
   "metadata": {},
   "outputs": [
    {
     "data": {
      "text/plain": [
       "<matplotlib.collections.PathCollection at 0x159917f70>"
      ]
     },
     "execution_count": 12,
     "metadata": {},
     "output_type": "execute_result"
    },
    {
     "data": {
      "image/png": "[encoded data removed]",
      "text/plain": [
       "<Figure size 640x480 with 1 Axes>"
      ]
     },
     "metadata": {},
     "output_type": "display_data"
    }
   ],
   "source": [
    "plt.scatter(x=numericals['total_bill'],y=numericals['tip'])"
   ]
  },
  {
   "cell_type": "markdown",
   "id": "2b2866b2",
   "metadata": {},
   "source": [
    "# Preprocessing - Categorical variables encoding"
   ]
  },
  {
   "cell_type": "code",
   "execution_count": 13,
   "id": "b004f695",
   "metadata": {},
   "outputs": [],
   "source": [
    "cat_encoded = pd.get_dummies(categoricals)"
   ]
  },
  {
   "cell_type": "code",
   "execution_count": 14,
   "id": "f1a7d37b",
   "metadata": {
    "scrolled": true
   },
   "outputs": [
    {
     "data": {
      "text/html": [
       "<div>\n",
       "<style scoped>\n",
       "    .dataframe tbody tr th:only-of-type {\n",
       "        vertical-align: middle;\n",
       "    }\n",
       "\n",
       "    .dataframe tbody tr th {\n",
       "        vertical-align: top;\n",
       "    }\n",
       "\n",
       "    .dataframe thead th {\n",
       "        text-align: right;\n",
       "    }\n",
       "</style>\n",
       "<table border=\"1\" class=\"dataframe\">\n",
       "  <thead>\n",
       "    <tr style=\"text-align: right;\">\n",
       "      <th></th>\n",
       "      <th>sex_Male</th>\n",
       "      <th>sex_Female</th>\n",
       "      <th>smoker_Yes</th>\n",
       "      <th>smoker_No</th>\n",
       "      <th>day_Thur</th>\n",
       "      <th>day_Fri</th>\n",
       "      <th>day_Sat</th>\n",
       "      <th>day_Sun</th>\n",
       "      <th>time_Lunch</th>\n",
       "      <th>time_Dinner</th>\n",
       "    </tr>\n",
       "  </thead>\n",
       "  <tbody>\n",
       "    <tr>\n",
       "      <th>0</th>\n",
       "      <td>0</td>\n",
       "      <td>1</td>\n",
       "      <td>0</td>\n",
       "      <td>1</td>\n",
       "      <td>0</td>\n",
       "      <td>0</td>\n",
       "      <td>0</td>\n",
       "      <td>1</td>\n",
       "      <td>0</td>\n",
       "      <td>1</td>\n",
       "    </tr>\n",
       "    <tr>\n",
       "      <th>1</th>\n",
       "      <td>1</td>\n",
       "      <td>0</td>\n",
       "      <td>0</td>\n",
       "      <td>1</td>\n",
       "      <td>0</td>\n",
       "      <td>0</td>\n",
       "      <td>0</td>\n",
       "      <td>1</td>\n",
       "      <td>0</td>\n",
       "      <td>1</td>\n",
       "    </tr>\n",
       "    <tr>\n",
       "      <th>2</th>\n",
       "      <td>1</td>\n",
       "      <td>0</td>\n",
       "      <td>0</td>\n",
       "      <td>1</td>\n",
       "      <td>0</td>\n",
       "      <td>0</td>\n",
       "      <td>0</td>\n",
       "      <td>1</td>\n",
       "      <td>0</td>\n",
       "      <td>1</td>\n",
       "    </tr>\n",
       "    <tr>\n",
       "      <th>3</th>\n",
       "      <td>1</td>\n",
       "      <td>0</td>\n",
       "      <td>0</td>\n",
       "      <td>1</td>\n",
       "      <td>0</td>\n",
       "      <td>0</td>\n",
       "      <td>0</td>\n",
       "      <td>1</td>\n",
       "      <td>0</td>\n",
       "      <td>1</td>\n",
       "    </tr>\n",
       "    <tr>\n",
       "      <th>4</th>\n",
       "      <td>0</td>\n",
       "      <td>1</td>\n",
       "      <td>0</td>\n",
       "      <td>1</td>\n",
       "      <td>0</td>\n",
       "      <td>0</td>\n",
       "      <td>0</td>\n",
       "      <td>1</td>\n",
       "      <td>0</td>\n",
       "      <td>1</td>\n",
       "    </tr>\n",
       "    <tr>\n",
       "      <th>...</th>\n",
       "      <td>...</td>\n",
       "      <td>...</td>\n",
       "      <td>...</td>\n",
       "      <td>...</td>\n",
       "      <td>...</td>\n",
       "      <td>...</td>\n",
       "      <td>...</td>\n",
       "      <td>...</td>\n",
       "      <td>...</td>\n",
       "      <td>...</td>\n",
       "    </tr>\n",
       "    <tr>\n",
       "      <th>239</th>\n",
       "      <td>1</td>\n",
       "      <td>0</td>\n",
       "      <td>0</td>\n",
       "      <td>1</td>\n",
       "      <td>0</td>\n",
       "      <td>0</td>\n",
       "      <td>1</td>\n",
       "      <td>0</td>\n",
       "      <td>0</td>\n",
       "      <td>1</td>\n",
       "    </tr>\n",
       "    <tr>\n",
       "      <th>240</th>\n",
       "      <td>0</td>\n",
       "      <td>1</td>\n",
       "      <td>1</td>\n",
       "      <td>0</td>\n",
       "      <td>0</td>\n",
       "      <td>0</td>\n",
       "      <td>1</td>\n",
       "      <td>0</td>\n",
       "      <td>0</td>\n",
       "      <td>1</td>\n",
       "    </tr>\n",
       "    <tr>\n",
       "      <th>241</th>\n",
       "      <td>1</td>\n",
       "      <td>0</td>\n",
       "      <td>1</td>\n",
       "      <td>0</td>\n",
       "      <td>0</td>\n",
       "      <td>0</td>\n",
       "      <td>1</td>\n",
       "      <td>0</td>\n",
       "      <td>0</td>\n",
       "      <td>1</td>\n",
       "    </tr>\n",
       "    <tr>\n",
       "      <th>242</th>\n",
       "      <td>1</td>\n",
       "      <td>0</td>\n",
       "      <td>0</td>\n",
       "      <td>1</td>\n",
       "      <td>0</td>\n",
       "      <td>0</td>\n",
       "      <td>1</td>\n",
       "      <td>0</td>\n",
       "      <td>0</td>\n",
       "      <td>1</td>\n",
       "    </tr>\n",
       "    <tr>\n",
       "      <th>243</th>\n",
       "      <td>0</td>\n",
       "      <td>1</td>\n",
       "      <td>0</td>\n",
       "      <td>1</td>\n",
       "      <td>1</td>\n",
       "      <td>0</td>\n",
       "      <td>0</td>\n",
       "      <td>0</td>\n",
       "      <td>0</td>\n",
       "      <td>1</td>\n",
       "    </tr>\n",
       "  </tbody>\n",
       "</table>\n",
       "<p>244 rows × 10 columns</p>\n",
       "</div>"
      ],
      "text/plain": [
       "     sex_Male  sex_Female  smoker_Yes  smoker_No  day_Thur  day_Fri  day_Sat  \\\n",
       "0           0           1           0          1         0        0        0   \n",
       "1           1           0           0          1         0        0        0   \n",
       "2           1           0           0          1         0        0        0   \n",
       "3           1           0           0          1         0        0        0   \n",
       "4           0           1           0          1         0        0        0   \n",
       "..        ...         ...         ...        ...       ...      ...      ...   \n",
       "239         1           0           0          1         0        0        1   \n",
       "240         0           1           1          0         0        0        1   \n",
       "241         1           0           1          0         0        0        1   \n",
       "242         1           0           0          1         0        0        1   \n",
       "243         0           1           0          1         1        0        0   \n",
       "\n",
       "     day_Sun  time_Lunch  time_Dinner  \n",
       "0          1           0            1  \n",
       "1          1           0            1  \n",
       "2          1           0            1  \n",
       "3          1           0            1  \n",
       "4          1           0            1  \n",
       "..       ...         ...          ...  \n",
       "239        0           0            1  \n",
       "240        0           0            1  \n",
       "241        0           0            1  \n",
       "242        0           0            1  \n",
       "243        0           0            1  \n",
       "\n",
       "[244 rows x 10 columns]"
      ]
     },
     "execution_count": 14,
     "metadata": {},
     "output_type": "execute_result"
    }
   ],
   "source": [
    "cat_encoded"
   ]
  },
  {
   "cell_type": "code",
   "execution_count": 15,
   "id": "1c0834cc",
   "metadata": {},
   "outputs": [],
   "source": [
    "final_df = pd.concat([numericals, cat_encoded],axis=1)"
   ]
  },
  {
   "cell_type": "markdown",
   "id": "51d6f282",
   "metadata": {},
   "source": [
    "# Xy Split"
   ]
  },
  {
   "cell_type": "code",
   "execution_count": 16,
   "id": "9c3ba2d0",
   "metadata": {},
   "outputs": [],
   "source": [
    "X = final_df.drop(columns = 'tip')\n",
    "y = final_df['tip']"
   ]
  },
  {
   "cell_type": "code",
   "execution_count": 17,
   "id": "41ffe863",
   "metadata": {},
   "outputs": [
    {
     "data": {
      "text/html": [
       "<div>\n",
       "<style scoped>\n",
       "    .dataframe tbody tr th:only-of-type {\n",
       "        vertical-align: middle;\n",
       "    }\n",
       "\n",
       "    .dataframe tbody tr th {\n",
       "        vertical-align: top;\n",
       "    }\n",
       "\n",
       "    .dataframe thead th {\n",
       "        text-align: right;\n",
       "    }\n",
       "</style>\n",
       "<table border=\"1\" class=\"dataframe\">\n",
       "  <thead>\n",
       "    <tr style=\"text-align: right;\">\n",
       "      <th></th>\n",
       "      <th>total_bill</th>\n",
       "      <th>size</th>\n",
       "      <th>sex_Male</th>\n",
       "      <th>sex_Female</th>\n",
       "      <th>smoker_Yes</th>\n",
       "      <th>smoker_No</th>\n",
       "      <th>day_Thur</th>\n",
       "      <th>day_Fri</th>\n",
       "      <th>day_Sat</th>\n",
       "      <th>day_Sun</th>\n",
       "      <th>time_Lunch</th>\n",
       "      <th>time_Dinner</th>\n",
       "    </tr>\n",
       "  </thead>\n",
       "  <tbody>\n",
       "    <tr>\n",
       "      <th>0</th>\n",
       "      <td>16.99</td>\n",
       "      <td>2</td>\n",
       "      <td>0</td>\n",
       "      <td>1</td>\n",
       "      <td>0</td>\n",
       "      <td>1</td>\n",
       "      <td>0</td>\n",
       "      <td>0</td>\n",
       "      <td>0</td>\n",
       "      <td>1</td>\n",
       "      <td>0</td>\n",
       "      <td>1</td>\n",
       "    </tr>\n",
       "    <tr>\n",
       "      <th>1</th>\n",
       "      <td>10.34</td>\n",
       "      <td>3</td>\n",
       "      <td>1</td>\n",
       "      <td>0</td>\n",
       "      <td>0</td>\n",
       "      <td>1</td>\n",
       "      <td>0</td>\n",
       "      <td>0</td>\n",
       "      <td>0</td>\n",
       "      <td>1</td>\n",
       "      <td>0</td>\n",
       "      <td>1</td>\n",
       "    </tr>\n",
       "    <tr>\n",
       "      <th>2</th>\n",
       "      <td>21.01</td>\n",
       "      <td>3</td>\n",
       "      <td>1</td>\n",
       "      <td>0</td>\n",
       "      <td>0</td>\n",
       "      <td>1</td>\n",
       "      <td>0</td>\n",
       "      <td>0</td>\n",
       "      <td>0</td>\n",
       "      <td>1</td>\n",
       "      <td>0</td>\n",
       "      <td>1</td>\n",
       "    </tr>\n",
       "    <tr>\n",
       "      <th>3</th>\n",
       "      <td>23.68</td>\n",
       "      <td>2</td>\n",
       "      <td>1</td>\n",
       "      <td>0</td>\n",
       "      <td>0</td>\n",
       "      <td>1</td>\n",
       "      <td>0</td>\n",
       "      <td>0</td>\n",
       "      <td>0</td>\n",
       "      <td>1</td>\n",
       "      <td>0</td>\n",
       "      <td>1</td>\n",
       "    </tr>\n",
       "    <tr>\n",
       "      <th>4</th>\n",
       "      <td>24.59</td>\n",
       "      <td>4</td>\n",
       "      <td>0</td>\n",
       "      <td>1</td>\n",
       "      <td>0</td>\n",
       "      <td>1</td>\n",
       "      <td>0</td>\n",
       "      <td>0</td>\n",
       "      <td>0</td>\n",
       "      <td>1</td>\n",
       "      <td>0</td>\n",
       "      <td>1</td>\n",
       "    </tr>\n",
       "  </tbody>\n",
       "</table>\n",
       "</div>"
      ],
      "text/plain": [
       "   total_bill  size  sex_Male  sex_Female  smoker_Yes  smoker_No  day_Thur  \\\n",
       "0       16.99     2         0           1           0          1         0   \n",
       "1       10.34     3         1           0           0          1         0   \n",
       "2       21.01     3         1           0           0          1         0   \n",
       "3       23.68     2         1           0           0          1         0   \n",
       "4       24.59     4         0           1           0          1         0   \n",
       "\n",
       "   day_Fri  day_Sat  day_Sun  time_Lunch  time_Dinner  \n",
       "0        0        0        1           0            1  \n",
       "1        0        0        1           0            1  \n",
       "2        0        0        1           0            1  \n",
       "3        0        0        1           0            1  \n",
       "4        0        0        1           0            1  "
      ]
     },
     "execution_count": 17,
     "metadata": {},
     "output_type": "execute_result"
    }
   ],
   "source": [
    "X.head()"
   ]
  },
  {
   "cell_type": "markdown",
   "id": "556b57e6",
   "metadata": {},
   "source": [
    "# Train-test split"
   ]
  },
  {
   "cell_type": "code",
   "execution_count": 18,
   "id": "1cbf49e0",
   "metadata": {},
   "outputs": [],
   "source": [
    "from sklearn.model_selection import train_test_split"
   ]
  },
  {
   "cell_type": "code",
   "execution_count": 19,
   "id": "465e6baf",
   "metadata": {},
   "outputs": [],
   "source": [
    "X_train, X_test, y_train, y_test = train_test_split(X,y, random_state = 42)"
   ]
  },
  {
   "cell_type": "markdown",
   "id": "b571dcf5",
   "metadata": {},
   "source": [
    "# Scaling / Standadizing / PowerTransforming"
   ]
  },
  {
   "cell_type": "code",
   "execution_count": 51,
   "id": "fe409b8b",
   "metadata": {},
   "outputs": [
    {
     "data": {
      "text/plain": [
       "array([[ 3.5 ],\n",
       "       [ 5.65],\n",
       "       [ 2.5 ],\n",
       "       [ 2.01],\n",
       "       [ 4.08],\n",
       "       [ 2.09],\n",
       "       [ 1.  ],\n",
       "       [ 3.41],\n",
       "       [ 3.48],\n",
       "       [ 2.  ],\n",
       "       [ 3.  ],\n",
       "       [ 2.71],\n",
       "       [ 3.  ],\n",
       "       [ 3.  ],\n",
       "       [ 3.  ],\n",
       "       [ 3.68],\n",
       "       [ 4.71],\n",
       "       [ 3.  ],\n",
       "       [ 4.2 ],\n",
       "       [ 1.73],\n",
       "       [ 4.  ],\n",
       "       [ 3.15],\n",
       "       [ 1.5 ],\n",
       "       [ 3.  ],\n",
       "       [ 2.  ],\n",
       "       [ 2.5 ],\n",
       "       [ 1.57],\n",
       "       [ 3.6 ],\n",
       "       [ 4.3 ],\n",
       "       [ 3.06],\n",
       "       [ 5.92],\n",
       "       [ 1.48],\n",
       "       [ 4.3 ],\n",
       "       [ 3.  ],\n",
       "       [ 2.6 ],\n",
       "       [ 4.73],\n",
       "       [ 3.5 ],\n",
       "       [ 4.  ],\n",
       "       [ 3.08],\n",
       "       [ 2.54],\n",
       "       [ 3.76],\n",
       "       [ 3.  ],\n",
       "       [ 3.  ],\n",
       "       [ 2.3 ],\n",
       "       [ 2.  ],\n",
       "       [ 1.25],\n",
       "       [ 2.5 ],\n",
       "       [ 6.5 ],\n",
       "       [ 2.02],\n",
       "       [ 1.01],\n",
       "       [ 3.5 ],\n",
       "       [ 4.  ],\n",
       "       [ 5.  ],\n",
       "       [ 2.5 ],\n",
       "       [ 2.  ],\n",
       "       [ 1.63],\n",
       "       [ 3.11],\n",
       "       [ 3.  ],\n",
       "       [ 5.17],\n",
       "       [10.  ],\n",
       "       [ 2.5 ],\n",
       "       [ 3.  ],\n",
       "       [ 2.  ],\n",
       "       [ 5.  ],\n",
       "       [ 2.  ],\n",
       "       [ 2.23],\n",
       "       [ 1.8 ],\n",
       "       [ 2.61],\n",
       "       [ 2.  ],\n",
       "       [ 5.  ],\n",
       "       [ 4.67],\n",
       "       [ 2.  ],\n",
       "       [ 2.5 ],\n",
       "       [ 3.61],\n",
       "       [ 2.5 ],\n",
       "       [ 3.  ],\n",
       "       [ 6.7 ],\n",
       "       [ 3.18],\n",
       "       [ 2.  ],\n",
       "       [ 1.98],\n",
       "       [ 1.25],\n",
       "       [ 2.  ],\n",
       "       [ 2.2 ],\n",
       "       [ 3.  ],\n",
       "       [ 1.97],\n",
       "       [ 3.23],\n",
       "       [ 2.64],\n",
       "       [ 5.6 ],\n",
       "       [ 3.09],\n",
       "       [ 2.24],\n",
       "       [ 2.  ],\n",
       "       [ 7.58],\n",
       "       [ 3.5 ],\n",
       "       [ 4.  ],\n",
       "       [ 3.4 ],\n",
       "       [ 5.  ],\n",
       "       [ 4.  ],\n",
       "       [ 6.  ],\n",
       "       [ 3.25],\n",
       "       [ 5.  ],\n",
       "       [ 1.32],\n",
       "       [ 1.5 ],\n",
       "       [ 1.5 ],\n",
       "       [ 3.31],\n",
       "       [ 1.64],\n",
       "       [ 1.56],\n",
       "       [ 2.  ],\n",
       "       [ 3.48],\n",
       "       [ 1.17],\n",
       "       [ 2.  ],\n",
       "       [ 3.  ],\n",
       "       [ 2.  ],\n",
       "       [ 3.  ],\n",
       "       [ 3.27],\n",
       "       [ 2.01],\n",
       "       [ 3.12],\n",
       "       [ 3.16],\n",
       "       [ 3.  ],\n",
       "       [ 3.5 ],\n",
       "       [ 5.  ],\n",
       "       [ 1.5 ],\n",
       "       [ 1.92],\n",
       "       [ 3.  ],\n",
       "       [ 1.96],\n",
       "       [ 3.  ],\n",
       "       [ 6.73],\n",
       "       [ 2.23],\n",
       "       [ 2.83],\n",
       "       [ 3.71],\n",
       "       [ 2.24],\n",
       "       [ 3.14],\n",
       "       [ 3.39],\n",
       "       [ 3.25],\n",
       "       [ 2.  ],\n",
       "       [ 1.58],\n",
       "       [ 3.76],\n",
       "       [ 4.34],\n",
       "       [ 4.29],\n",
       "       [ 2.5 ],\n",
       "       [ 2.  ],\n",
       "       [ 4.  ],\n",
       "       [ 9.  ],\n",
       "       [ 4.  ],\n",
       "       [ 2.  ],\n",
       "       [ 1.1 ],\n",
       "       [ 2.  ],\n",
       "       [ 1.76],\n",
       "       [ 2.05],\n",
       "       [ 5.85],\n",
       "       [ 2.75],\n",
       "       [ 1.5 ],\n",
       "       [ 2.5 ],\n",
       "       [ 3.5 ],\n",
       "       [ 1.  ],\n",
       "       [ 2.  ],\n",
       "       [ 4.19],\n",
       "       [ 2.18],\n",
       "       [ 3.07],\n",
       "       [ 3.75],\n",
       "       [ 2.88],\n",
       "       [ 1.66],\n",
       "       [ 5.2 ],\n",
       "       [ 2.  ],\n",
       "       [ 1.5 ],\n",
       "       [ 2.  ],\n",
       "       [ 3.48],\n",
       "       [ 1.5 ],\n",
       "       [ 5.07],\n",
       "       [ 4.  ],\n",
       "       [ 2.  ],\n",
       "       [ 2.2 ],\n",
       "       [ 6.5 ],\n",
       "       [ 2.  ],\n",
       "       [ 1.68],\n",
       "       [ 3.  ],\n",
       "       [ 4.08],\n",
       "       [ 3.5 ],\n",
       "       [ 3.  ],\n",
       "       [ 4.06],\n",
       "       [ 3.02],\n",
       "       [ 1.  ],\n",
       "       [ 3.55],\n",
       "       [ 2.5 ]])"
      ]
     },
     "execution_count": 51,
     "metadata": {},
     "output_type": "execute_result"
    }
   ],
   "source": [
    "np.array(y_train).reshape(-1,1)"
   ]
  },
  {
   "cell_type": "code",
   "execution_count": 55,
   "id": "91ae9361",
   "metadata": {},
   "outputs": [
    {
     "ename": "ValueError",
     "evalue": "Expected 2D array, got 1D array instead:\narray=[ 3.5   5.65  2.5   2.01  4.08  2.09  1.    3.41  3.48  2.    3.    2.71\n  3.    3.    3.    3.68  4.71  3.    4.2   1.73  4.    3.15  1.5   3.\n  2.    2.5   1.57  3.6   4.3   3.06  5.92  1.48  4.3   3.    2.6   4.73\n  3.5   4.    3.08  2.54  3.76  3.    3.    2.3   2.    1.25  2.5   6.5\n  2.02  1.01  3.5   4.    5.    2.5   2.    1.63  3.11  3.    5.17 10.\n  2.5   3.    2.    5.    2.    2.23  1.8   2.61  2.    5.    4.67  2.\n  2.5   3.61  2.5   3.    6.7   3.18  2.    1.98  1.25  2.    2.2   3.\n  1.97  3.23  2.64  5.6   3.09  2.24  2.    7.58  3.5   4.    3.4   5.\n  4.    6.    3.25  5.    1.32  1.5   1.5   3.31  1.64  1.56  2.    3.48\n  1.17  2.    3.    2.    3.    3.27  2.01  3.12  3.16  3.    3.5   5.\n  1.5   1.92  3.    1.96  3.    6.73  2.23  2.83  3.71  2.24  3.14  3.39\n  3.25  2.    1.58  3.76  4.34  4.29  2.5   2.    4.    9.    4.    2.\n  1.1   2.    1.76  2.05  5.85  2.75  1.5   2.5   3.5   1.    2.    4.19\n  2.18  3.07  3.75  2.88  1.66  5.2   2.    1.5   2.    3.48  1.5   5.07\n  4.    2.    2.2   6.5   2.    1.68  3.    4.08  3.5   3.    4.06  3.02\n  1.    3.55  2.5 ].\nReshape your data either using array.reshape(-1, 1) if your data has a single feature or array.reshape(1, -1) if it contains a single sample.",
     "output_type": "error",
     "traceback": [
      "\u001b[0;31m---------------------------------------------------------------------------\u001b[0m",
      "\u001b[0;31mValueError\u001b[0m                                Traceback (most recent call last)",
      "Cell \u001b[0;32mIn[55], line 11\u001b[0m\n\u001b[1;32m      9\u001b[0m \u001b[38;5;28;01mfrom\u001b[39;00m \u001b[38;5;21;01msklearn\u001b[39;00m\u001b[38;5;21;01m.\u001b[39;00m\u001b[38;5;21;01mpreprocessing\u001b[39;00m \u001b[38;5;28;01mimport\u001b[39;00m PowerTransformer\n\u001b[1;32m     10\u001b[0m pt \u001b[38;5;241m=\u001b[39m PowerTransformer()\n\u001b[0;32m---> 11\u001b[0m \u001b[43mpt\u001b[49m\u001b[38;5;241;43m.\u001b[39;49m\u001b[43mfit\u001b[49m\u001b[43m(\u001b[49m\u001b[43my_train\u001b[49m\u001b[43m)\u001b[49m\u001b[38;5;241m.\u001b[39mreshape(\u001b[38;5;241m-\u001b[39m\u001b[38;5;241m1\u001b[39m,\u001b[38;5;241m1\u001b[39m)\n\u001b[1;32m     12\u001b[0m y_train_t \u001b[38;5;241m=\u001b[39m pt\u001b[38;5;241m.\u001b[39mtransform((y_train)\u001b[38;5;241m.\u001b[39mreshape(\u001b[38;5;241m-\u001b[39m\u001b[38;5;241m1\u001b[39m,\u001b[38;5;241m1\u001b[39m))\n\u001b[1;32m     13\u001b[0m y_test_t \u001b[38;5;241m=\u001b[39m pt\u001b[38;5;241m.\u001b[39mtransform((np\u001b[38;5;241m.\u001b[39marray)(y_test)\u001b[38;5;241m.\u001b[39mreshape(\u001b[38;5;241m-\u001b[39m\u001b[38;5;241m1\u001b[39m,\u001b[38;5;241m1\u001b[39m))\n",
      "File \u001b[0;32m~/anaconda3/lib/python3.10/site-packages/sklearn/preprocessing/_data.py:3082\u001b[0m, in \u001b[0;36mPowerTransformer.fit\u001b[0;34m(self, X, y)\u001b[0m\n\u001b[1;32m   3063\u001b[0m \u001b[38;5;124;03m\"\"\"Estimate the optimal parameter lambda for each feature.\u001b[39;00m\n\u001b[1;32m   3064\u001b[0m \n\u001b[1;32m   3065\u001b[0m \u001b[38;5;124;03mThe optimal lambda parameter for minimizing skewness is estimated on\u001b[39;00m\n\u001b[0;32m   (...)\u001b[0m\n\u001b[1;32m   3079\u001b[0m \u001b[38;5;124;03m    Fitted transformer.\u001b[39;00m\n\u001b[1;32m   3080\u001b[0m \u001b[38;5;124;03m\"\"\"\u001b[39;00m\n\u001b[1;32m   3081\u001b[0m \u001b[38;5;28mself\u001b[39m\u001b[38;5;241m.\u001b[39m_validate_params()\n\u001b[0;32m-> 3082\u001b[0m \u001b[38;5;28;43mself\u001b[39;49m\u001b[38;5;241;43m.\u001b[39;49m\u001b[43m_fit\u001b[49m\u001b[43m(\u001b[49m\u001b[43mX\u001b[49m\u001b[43m,\u001b[49m\u001b[43m \u001b[49m\u001b[43my\u001b[49m\u001b[38;5;241;43m=\u001b[39;49m\u001b[43my\u001b[49m\u001b[43m,\u001b[49m\u001b[43m \u001b[49m\u001b[43mforce_transform\u001b[49m\u001b[38;5;241;43m=\u001b[39;49m\u001b[38;5;28;43;01mFalse\u001b[39;49;00m\u001b[43m)\u001b[49m\n\u001b[1;32m   3083\u001b[0m \u001b[38;5;28;01mreturn\u001b[39;00m \u001b[38;5;28mself\u001b[39m\n",
      "File \u001b[0;32m~/anaconda3/lib/python3.10/site-packages/sklearn/preprocessing/_data.py:3106\u001b[0m, in \u001b[0;36mPowerTransformer._fit\u001b[0;34m(self, X, y, force_transform)\u001b[0m\n\u001b[1;32m   3105\u001b[0m \u001b[38;5;28;01mdef\u001b[39;00m \u001b[38;5;21m_fit\u001b[39m(\u001b[38;5;28mself\u001b[39m, X, y\u001b[38;5;241m=\u001b[39m\u001b[38;5;28;01mNone\u001b[39;00m, force_transform\u001b[38;5;241m=\u001b[39m\u001b[38;5;28;01mFalse\u001b[39;00m):\n\u001b[0;32m-> 3106\u001b[0m     X \u001b[38;5;241m=\u001b[39m \u001b[38;5;28;43mself\u001b[39;49m\u001b[38;5;241;43m.\u001b[39;49m\u001b[43m_check_input\u001b[49m\u001b[43m(\u001b[49m\u001b[43mX\u001b[49m\u001b[43m,\u001b[49m\u001b[43m \u001b[49m\u001b[43min_fit\u001b[49m\u001b[38;5;241;43m=\u001b[39;49m\u001b[38;5;28;43;01mTrue\u001b[39;49;00m\u001b[43m,\u001b[49m\u001b[43m \u001b[49m\u001b[43mcheck_positive\u001b[49m\u001b[38;5;241;43m=\u001b[39;49m\u001b[38;5;28;43;01mTrue\u001b[39;49;00m\u001b[43m)\u001b[49m\n\u001b[1;32m   3108\u001b[0m     \u001b[38;5;28;01mif\u001b[39;00m \u001b[38;5;129;01mnot\u001b[39;00m \u001b[38;5;28mself\u001b[39m\u001b[38;5;241m.\u001b[39mcopy \u001b[38;5;129;01mand\u001b[39;00m \u001b[38;5;129;01mnot\u001b[39;00m force_transform:  \u001b[38;5;66;03m# if call from fit()\u001b[39;00m\n\u001b[1;32m   3109\u001b[0m         X \u001b[38;5;241m=\u001b[39m X\u001b[38;5;241m.\u001b[39mcopy()  \u001b[38;5;66;03m# force copy so that fit does not change X inplace\u001b[39;00m\n",
      "File \u001b[0;32m~/anaconda3/lib/python3.10/site-packages/sklearn/preprocessing/_data.py:3327\u001b[0m, in \u001b[0;36mPowerTransformer._check_input\u001b[0;34m(self, X, in_fit, check_positive, check_shape)\u001b[0m\n\u001b[1;32m   3309\u001b[0m \u001b[38;5;28;01mdef\u001b[39;00m \u001b[38;5;21m_check_input\u001b[39m(\u001b[38;5;28mself\u001b[39m, X, in_fit, check_positive\u001b[38;5;241m=\u001b[39m\u001b[38;5;28;01mFalse\u001b[39;00m, check_shape\u001b[38;5;241m=\u001b[39m\u001b[38;5;28;01mFalse\u001b[39;00m):\n\u001b[1;32m   3310\u001b[0m     \u001b[38;5;124;03m\"\"\"Validate the input before fit and transform.\u001b[39;00m\n\u001b[1;32m   3311\u001b[0m \n\u001b[1;32m   3312\u001b[0m \u001b[38;5;124;03m    Parameters\u001b[39;00m\n\u001b[0;32m   (...)\u001b[0m\n\u001b[1;32m   3325\u001b[0m \u001b[38;5;124;03m        If True, check that n_features matches the length of self.lambdas_\u001b[39;00m\n\u001b[1;32m   3326\u001b[0m \u001b[38;5;124;03m    \"\"\"\u001b[39;00m\n\u001b[0;32m-> 3327\u001b[0m     X \u001b[38;5;241m=\u001b[39m \u001b[38;5;28;43mself\u001b[39;49m\u001b[38;5;241;43m.\u001b[39;49m\u001b[43m_validate_data\u001b[49m\u001b[43m(\u001b[49m\n\u001b[1;32m   3328\u001b[0m \u001b[43m        \u001b[49m\u001b[43mX\u001b[49m\u001b[43m,\u001b[49m\n\u001b[1;32m   3329\u001b[0m \u001b[43m        \u001b[49m\u001b[43mensure_2d\u001b[49m\u001b[38;5;241;43m=\u001b[39;49m\u001b[38;5;28;43;01mTrue\u001b[39;49;00m\u001b[43m,\u001b[49m\n\u001b[1;32m   3330\u001b[0m \u001b[43m        \u001b[49m\u001b[43mdtype\u001b[49m\u001b[38;5;241;43m=\u001b[39;49m\u001b[43mFLOAT_DTYPES\u001b[49m\u001b[43m,\u001b[49m\n\u001b[1;32m   3331\u001b[0m \u001b[43m        \u001b[49m\u001b[43mcopy\u001b[49m\u001b[38;5;241;43m=\u001b[39;49m\u001b[38;5;28;43mself\u001b[39;49m\u001b[38;5;241;43m.\u001b[39;49m\u001b[43mcopy\u001b[49m\u001b[43m,\u001b[49m\n\u001b[1;32m   3332\u001b[0m \u001b[43m        \u001b[49m\u001b[43mforce_all_finite\u001b[49m\u001b[38;5;241;43m=\u001b[39;49m\u001b[38;5;124;43m\"\u001b[39;49m\u001b[38;5;124;43mallow-nan\u001b[39;49m\u001b[38;5;124;43m\"\u001b[39;49m\u001b[43m,\u001b[49m\n\u001b[1;32m   3333\u001b[0m \u001b[43m        \u001b[49m\u001b[43mreset\u001b[49m\u001b[38;5;241;43m=\u001b[39;49m\u001b[43min_fit\u001b[49m\u001b[43m,\u001b[49m\n\u001b[1;32m   3334\u001b[0m \u001b[43m    \u001b[49m\u001b[43m)\u001b[49m\n\u001b[1;32m   3336\u001b[0m     \u001b[38;5;28;01mwith\u001b[39;00m warnings\u001b[38;5;241m.\u001b[39mcatch_warnings():\n\u001b[1;32m   3337\u001b[0m         warnings\u001b[38;5;241m.\u001b[39mfilterwarnings(\u001b[38;5;124m\"\u001b[39m\u001b[38;5;124mignore\u001b[39m\u001b[38;5;124m\"\u001b[39m, \u001b[38;5;124mr\u001b[39m\u001b[38;5;124m\"\u001b[39m\u001b[38;5;124mAll-NaN (slice|axis) encountered\u001b[39m\u001b[38;5;124m\"\u001b[39m)\n",
      "File \u001b[0;32m~/anaconda3/lib/python3.10/site-packages/sklearn/base.py:546\u001b[0m, in \u001b[0;36mBaseEstimator._validate_data\u001b[0;34m(self, X, y, reset, validate_separately, **check_params)\u001b[0m\n\u001b[1;32m    544\u001b[0m     \u001b[38;5;28;01mraise\u001b[39;00m \u001b[38;5;167;01mValueError\u001b[39;00m(\u001b[38;5;124m\"\u001b[39m\u001b[38;5;124mValidation should be done on X, y or both.\u001b[39m\u001b[38;5;124m\"\u001b[39m)\n\u001b[1;32m    545\u001b[0m \u001b[38;5;28;01melif\u001b[39;00m \u001b[38;5;129;01mnot\u001b[39;00m no_val_X \u001b[38;5;129;01mand\u001b[39;00m no_val_y:\n\u001b[0;32m--> 546\u001b[0m     X \u001b[38;5;241m=\u001b[39m \u001b[43mcheck_array\u001b[49m\u001b[43m(\u001b[49m\u001b[43mX\u001b[49m\u001b[43m,\u001b[49m\u001b[43m \u001b[49m\u001b[43minput_name\u001b[49m\u001b[38;5;241;43m=\u001b[39;49m\u001b[38;5;124;43m\"\u001b[39;49m\u001b[38;5;124;43mX\u001b[39;49m\u001b[38;5;124;43m\"\u001b[39;49m\u001b[43m,\u001b[49m\u001b[43m \u001b[49m\u001b[38;5;241;43m*\u001b[39;49m\u001b[38;5;241;43m*\u001b[39;49m\u001b[43mcheck_params\u001b[49m\u001b[43m)\u001b[49m\n\u001b[1;32m    547\u001b[0m     out \u001b[38;5;241m=\u001b[39m X\n\u001b[1;32m    548\u001b[0m \u001b[38;5;28;01melif\u001b[39;00m no_val_X \u001b[38;5;129;01mand\u001b[39;00m \u001b[38;5;129;01mnot\u001b[39;00m no_val_y:\n",
      "File \u001b[0;32m~/anaconda3/lib/python3.10/site-packages/sklearn/utils/validation.py:902\u001b[0m, in \u001b[0;36mcheck_array\u001b[0;34m(array, accept_sparse, accept_large_sparse, dtype, order, copy, force_all_finite, ensure_2d, allow_nd, ensure_min_samples, ensure_min_features, estimator, input_name)\u001b[0m\n\u001b[1;32m    900\u001b[0m     \u001b[38;5;66;03m# If input is 1D raise error\u001b[39;00m\n\u001b[1;32m    901\u001b[0m     \u001b[38;5;28;01mif\u001b[39;00m array\u001b[38;5;241m.\u001b[39mndim \u001b[38;5;241m==\u001b[39m \u001b[38;5;241m1\u001b[39m:\n\u001b[0;32m--> 902\u001b[0m         \u001b[38;5;28;01mraise\u001b[39;00m \u001b[38;5;167;01mValueError\u001b[39;00m(\n\u001b[1;32m    903\u001b[0m             \u001b[38;5;124m\"\u001b[39m\u001b[38;5;124mExpected 2D array, got 1D array instead:\u001b[39m\u001b[38;5;130;01m\\n\u001b[39;00m\u001b[38;5;124marray=\u001b[39m\u001b[38;5;132;01m{}\u001b[39;00m\u001b[38;5;124m.\u001b[39m\u001b[38;5;130;01m\\n\u001b[39;00m\u001b[38;5;124m\"\u001b[39m\n\u001b[1;32m    904\u001b[0m             \u001b[38;5;124m\"\u001b[39m\u001b[38;5;124mReshape your data either using array.reshape(-1, 1) if \u001b[39m\u001b[38;5;124m\"\u001b[39m\n\u001b[1;32m    905\u001b[0m             \u001b[38;5;124m\"\u001b[39m\u001b[38;5;124myour data has a single feature or array.reshape(1, -1) \u001b[39m\u001b[38;5;124m\"\u001b[39m\n\u001b[1;32m    906\u001b[0m             \u001b[38;5;124m\"\u001b[39m\u001b[38;5;124mif it contains a single sample.\u001b[39m\u001b[38;5;124m\"\u001b[39m\u001b[38;5;241m.\u001b[39mformat(array)\n\u001b[1;32m    907\u001b[0m         )\n\u001b[1;32m    909\u001b[0m \u001b[38;5;28;01mif\u001b[39;00m dtype_numeric \u001b[38;5;129;01mand\u001b[39;00m array\u001b[38;5;241m.\u001b[39mdtype\u001b[38;5;241m.\u001b[39mkind \u001b[38;5;129;01min\u001b[39;00m \u001b[38;5;124m\"\u001b[39m\u001b[38;5;124mUSV\u001b[39m\u001b[38;5;124m\"\u001b[39m:\n\u001b[1;32m    910\u001b[0m     \u001b[38;5;28;01mraise\u001b[39;00m \u001b[38;5;167;01mValueError\u001b[39;00m(\n\u001b[1;32m    911\u001b[0m         \u001b[38;5;124m\"\u001b[39m\u001b[38;5;124mdtype=\u001b[39m\u001b[38;5;124m'\u001b[39m\u001b[38;5;124mnumeric\u001b[39m\u001b[38;5;124m'\u001b[39m\u001b[38;5;124m is not compatible with arrays of bytes/strings.\u001b[39m\u001b[38;5;124m\"\u001b[39m\n\u001b[1;32m    912\u001b[0m         \u001b[38;5;124m\"\u001b[39m\u001b[38;5;124mConvert your data to numeric values explicitly instead.\u001b[39m\u001b[38;5;124m\"\u001b[39m\n\u001b[1;32m    913\u001b[0m     )\n",
      "\u001b[0;31mValueError\u001b[0m: Expected 2D array, got 1D array instead:\narray=[ 3.5   5.65  2.5   2.01  4.08  2.09  1.    3.41  3.48  2.    3.    2.71\n  3.    3.    3.    3.68  4.71  3.    4.2   1.73  4.    3.15  1.5   3.\n  2.    2.5   1.57  3.6   4.3   3.06  5.92  1.48  4.3   3.    2.6   4.73\n  3.5   4.    3.08  2.54  3.76  3.    3.    2.3   2.    1.25  2.5   6.5\n  2.02  1.01  3.5   4.    5.    2.5   2.    1.63  3.11  3.    5.17 10.\n  2.5   3.    2.    5.    2.    2.23  1.8   2.61  2.    5.    4.67  2.\n  2.5   3.61  2.5   3.    6.7   3.18  2.    1.98  1.25  2.    2.2   3.\n  1.97  3.23  2.64  5.6   3.09  2.24  2.    7.58  3.5   4.    3.4   5.\n  4.    6.    3.25  5.    1.32  1.5   1.5   3.31  1.64  1.56  2.    3.48\n  1.17  2.    3.    2.    3.    3.27  2.01  3.12  3.16  3.    3.5   5.\n  1.5   1.92  3.    1.96  3.    6.73  2.23  2.83  3.71  2.24  3.14  3.39\n  3.25  2.    1.58  3.76  4.34  4.29  2.5   2.    4.    9.    4.    2.\n  1.1   2.    1.76  2.05  5.85  2.75  1.5   2.5   3.5   1.    2.    4.19\n  2.18  3.07  3.75  2.88  1.66  5.2   2.    1.5   2.    3.48  1.5   5.07\n  4.    2.    2.2   6.5   2.    1.68  3.    4.08  3.5   3.    4.06  3.02\n  1.    3.55  2.5 ].\nReshape your data either using array.reshape(-1, 1) if your data has a single feature or array.reshape(1, -1) if it contains a single sample."
     ]
    }
   ],
   "source": [
    "from sklearn.preprocessing import StandardScaler\n",
    "scaler = StandardScaler()\n",
    "scaler.fit(X_train)\n",
    "X_train_scaled = scaler.transform(X_train)\n",
    "X_test_scaled = scaler.transform(X_test)\n",
    "\n",
    "##powertranform response\n",
    "\n",
    "from sklearn.preprocessing import PowerTransformer\n",
    "pt = PowerTransformer()\n",
    "pt.fit(y_train).reshape(-1,1)\n",
    "y_train_t = pt.transform((y_train).reshape(-1,1))\n",
    "y_test_t = pt.transform((np.array)(y_test).reshape(-1,1))"
   ]
  },
  {
   "cell_type": "markdown",
   "id": "9f021e5f",
   "metadata": {},
   "source": [
    "# Modelling"
   ]
  },
  {
   "cell_type": "code",
   "execution_count": 37,
   "id": "7cf0fefe",
   "metadata": {},
   "outputs": [],
   "source": [
    "from sklearn.linear_model import LinearRegression"
   ]
  },
  {
   "cell_type": "code",
   "execution_count": 38,
   "id": "7a153de5",
   "metadata": {},
   "outputs": [],
   "source": [
    "#Model fitting\n",
    "lm = LinearRegression()\n",
    "model = lm.fit(X_train_scaled, y_train)\n"
   ]
  },
  {
   "cell_type": "code",
   "execution_count": 39,
   "id": "f36ba4da",
   "metadata": {},
   "outputs": [],
   "source": [
    "y_pred = model.predict(X_test_scaled)"
   ]
  },
  {
   "cell_type": "code",
   "execution_count": 54,
   "id": "13646593",
   "metadata": {},
   "outputs": [
    {
     "ename": "NameError",
     "evalue": "name 'y_test_t' is not defined",
     "output_type": "error",
     "traceback": [
      "\u001b[0;31m---------------------------------------------------------------------------\u001b[0m",
      "\u001b[0;31mNameError\u001b[0m                                 Traceback (most recent call last)",
      "Cell \u001b[0;32mIn[54], line 1\u001b[0m\n\u001b[0;32m----> 1\u001b[0m y_test_t \u001b[38;5;241m=\u001b[39m \u001b[43my_test_t\u001b[49m\u001b[38;5;241m.\u001b[39mreshape(\u001b[38;5;241m61\u001b[39m,)\n",
      "\u001b[0;31mNameError\u001b[0m: name 'y_test_t' is not defined"
     ]
    }
   ],
   "source": [
    "y_test_t = y_test_t.reshape(61,)"
   ]
  },
  {
   "cell_type": "code",
   "execution_count": null,
   "id": "d654bd87",
   "metadata": {},
   "outputs": [],
   "source": [
    "y_pred = "
   ]
  },
  {
   "cell_type": "code",
   "execution_count": 40,
   "id": "73c480c0",
   "metadata": {},
   "outputs": [],
   "source": [
    "residuals_df = pd.DataFrame({'y_test':y_test_t,'y_pred':y_pred,'res':y_pred-y_test_t})"
   ]
  },
  {
   "cell_type": "code",
   "execution_count": 41,
   "id": "a12ca5da",
   "metadata": {},
   "outputs": [
    {
     "data": {
      "text/html": [
       "<div>\n",
       "<style scoped>\n",
       "    .dataframe tbody tr th:only-of-type {\n",
       "        vertical-align: middle;\n",
       "    }\n",
       "\n",
       "    .dataframe tbody tr th {\n",
       "        vertical-align: top;\n",
       "    }\n",
       "\n",
       "    .dataframe thead th {\n",
       "        text-align: right;\n",
       "    }\n",
       "</style>\n",
       "<table border=\"1\" class=\"dataframe\">\n",
       "  <thead>\n",
       "    <tr style=\"text-align: right;\">\n",
       "      <th></th>\n",
       "      <th>y_test</th>\n",
       "      <th>y_pred</th>\n",
       "      <th>res</th>\n",
       "    </tr>\n",
       "  </thead>\n",
       "  <tbody>\n",
       "    <tr>\n",
       "      <th>24</th>\n",
       "      <td>3.18</td>\n",
       "      <td>2.915578</td>\n",
       "      <td>-0.264422</td>\n",
       "    </tr>\n",
       "    <tr>\n",
       "      <th>6</th>\n",
       "      <td>2.00</td>\n",
       "      <td>1.819387</td>\n",
       "      <td>-0.180613</td>\n",
       "    </tr>\n",
       "    <tr>\n",
       "      <th>153</th>\n",
       "      <td>2.00</td>\n",
       "      <td>3.803762</td>\n",
       "      <td>1.803762</td>\n",
       "    </tr>\n",
       "    <tr>\n",
       "      <th>211</th>\n",
       "      <td>5.16</td>\n",
       "      <td>3.800344</td>\n",
       "      <td>-1.359656</td>\n",
       "    </tr>\n",
       "    <tr>\n",
       "      <th>198</th>\n",
       "      <td>2.00</td>\n",
       "      <td>2.246150</td>\n",
       "      <td>0.246150</td>\n",
       "    </tr>\n",
       "    <tr>\n",
       "      <th>...</th>\n",
       "      <td>...</td>\n",
       "      <td>...</td>\n",
       "      <td>...</td>\n",
       "    </tr>\n",
       "    <tr>\n",
       "      <th>172</th>\n",
       "      <td>5.15</td>\n",
       "      <td>1.540090</td>\n",
       "      <td>-3.609910</td>\n",
       "    </tr>\n",
       "    <tr>\n",
       "      <th>242</th>\n",
       "      <td>1.75</td>\n",
       "      <td>2.712453</td>\n",
       "      <td>0.962453</td>\n",
       "    </tr>\n",
       "    <tr>\n",
       "      <th>152</th>\n",
       "      <td>2.74</td>\n",
       "      <td>2.874074</td>\n",
       "      <td>0.134074</td>\n",
       "    </tr>\n",
       "    <tr>\n",
       "      <th>231</th>\n",
       "      <td>3.00</td>\n",
       "      <td>2.581594</td>\n",
       "      <td>-0.418406</td>\n",
       "    </tr>\n",
       "    <tr>\n",
       "      <th>155</th>\n",
       "      <td>5.14</td>\n",
       "      <td>4.569387</td>\n",
       "      <td>-0.570613</td>\n",
       "    </tr>\n",
       "  </tbody>\n",
       "</table>\n",
       "<p>61 rows × 3 columns</p>\n",
       "</div>"
      ],
      "text/plain": [
       "     y_test    y_pred       res\n",
       "24     3.18  2.915578 -0.264422\n",
       "6      2.00  1.819387 -0.180613\n",
       "153    2.00  3.803762  1.803762\n",
       "211    5.16  3.800344 -1.359656\n",
       "198    2.00  2.246150  0.246150\n",
       "..      ...       ...       ...\n",
       "172    5.15  1.540090 -3.609910\n",
       "242    1.75  2.712453  0.962453\n",
       "152    2.74  2.874074  0.134074\n",
       "231    3.00  2.581594 -0.418406\n",
       "155    5.14  4.569387 -0.570613\n",
       "\n",
       "[61 rows x 3 columns]"
      ]
     },
     "execution_count": 41,
     "metadata": {},
     "output_type": "execute_result"
    }
   ],
   "source": [
    "residuals_df"
   ]
  },
  {
   "cell_type": "code",
   "execution_count": 42,
   "id": "4f8a0bf0",
   "metadata": {},
   "outputs": [],
   "source": [
    "from sklearn.metrics import mean_squared_error as mse, r2_score as r2"
   ]
  },
  {
   "cell_type": "code",
   "execution_count": 43,
   "id": "e9b1a59c",
   "metadata": {},
   "outputs": [],
   "source": [
    "model_mse = mse(y_test_t, y_pred)\n",
    "model_r2 = r2(y_test_t, y_pred)\n",
    "model_rmse = np.sqrt(model_mse)"
   ]
  },
  {
   "cell_type": "code",
   "execution_count": 44,
   "id": "7cddbe46",
   "metadata": {},
   "outputs": [
    {
     "data": {
      "text/plain": [
       "(0.38712868666123046, 0.8153792141074344, 0.902983507107098)"
      ]
     },
     "execution_count": 44,
     "metadata": {},
     "output_type": "execute_result"
    }
   ],
   "source": [
    "model_r2, model_mse, model_rmse"
   ]
  },
  {
   "cell_type": "markdown",
   "id": "483b450a",
   "metadata": {},
   "source": [
    "# Feature importance"
   ]
  },
  {
   "cell_type": "code",
   "execution_count": 45,
   "id": "c3a520b5",
   "metadata": {},
   "outputs": [
    {
     "data": {
      "text/plain": [
       "array([ 8.83802466e-01,  1.91867294e-01, -1.36332590e+13, -1.36332590e+13,\n",
       "       -7.87262668e+13, -7.87262668e+13, -6.37166577e+12, -4.17951043e+12,\n",
       "       -7.10513092e+12, -6.81872319e+12, -1.77192468e+12, -1.77192468e+12])"
      ]
     },
     "execution_count": 45,
     "metadata": {},
     "output_type": "execute_result"
    }
   ],
   "source": [
    "model.coef_"
   ]
  },
  {
   "cell_type": "code",
   "execution_count": 46,
   "id": "53f2b1ed",
   "metadata": {},
   "outputs": [
    {
     "data": {
      "text/plain": [
       "3.0790589149979835"
      ]
     },
     "execution_count": 46,
     "metadata": {},
     "output_type": "execute_result"
    }
   ],
   "source": [
    "model.intercept_"
   ]
  },
  {
   "cell_type": "code",
   "execution_count": 47,
   "id": "1f2f9ee7",
   "metadata": {},
   "outputs": [],
   "source": [
    "fi_df = pd.DataFrame({'var':X_train.columns, 'coef':model.coef_})"
   ]
  },
  {
   "cell_type": "code",
   "execution_count": 48,
   "id": "0c514fc0",
   "metadata": {},
   "outputs": [
    {
     "data": {
      "text/html": [
       "<div>\n",
       "<style scoped>\n",
       "    .dataframe tbody tr th:only-of-type {\n",
       "        vertical-align: middle;\n",
       "    }\n",
       "\n",
       "    .dataframe tbody tr th {\n",
       "        vertical-align: top;\n",
       "    }\n",
       "\n",
       "    .dataframe thead th {\n",
       "        text-align: right;\n",
       "    }\n",
       "</style>\n",
       "<table border=\"1\" class=\"dataframe\">\n",
       "  <thead>\n",
       "    <tr style=\"text-align: right;\">\n",
       "      <th></th>\n",
       "      <th>var</th>\n",
       "      <th>coef</th>\n",
       "    </tr>\n",
       "  </thead>\n",
       "  <tbody>\n",
       "    <tr>\n",
       "      <th>0</th>\n",
       "      <td>total_bill</td>\n",
       "      <td>8.838025e-01</td>\n",
       "    </tr>\n",
       "    <tr>\n",
       "      <th>1</th>\n",
       "      <td>size</td>\n",
       "      <td>1.918673e-01</td>\n",
       "    </tr>\n",
       "    <tr>\n",
       "      <th>2</th>\n",
       "      <td>sex_Male</td>\n",
       "      <td>-1.363326e+13</td>\n",
       "    </tr>\n",
       "    <tr>\n",
       "      <th>3</th>\n",
       "      <td>sex_Female</td>\n",
       "      <td>-1.363326e+13</td>\n",
       "    </tr>\n",
       "    <tr>\n",
       "      <th>4</th>\n",
       "      <td>smoker_Yes</td>\n",
       "      <td>-7.872627e+13</td>\n",
       "    </tr>\n",
       "    <tr>\n",
       "      <th>5</th>\n",
       "      <td>smoker_No</td>\n",
       "      <td>-7.872627e+13</td>\n",
       "    </tr>\n",
       "    <tr>\n",
       "      <th>6</th>\n",
       "      <td>day_Thur</td>\n",
       "      <td>-6.371666e+12</td>\n",
       "    </tr>\n",
       "    <tr>\n",
       "      <th>7</th>\n",
       "      <td>day_Fri</td>\n",
       "      <td>-4.179510e+12</td>\n",
       "    </tr>\n",
       "    <tr>\n",
       "      <th>8</th>\n",
       "      <td>day_Sat</td>\n",
       "      <td>-7.105131e+12</td>\n",
       "    </tr>\n",
       "    <tr>\n",
       "      <th>9</th>\n",
       "      <td>day_Sun</td>\n",
       "      <td>-6.818723e+12</td>\n",
       "    </tr>\n",
       "    <tr>\n",
       "      <th>10</th>\n",
       "      <td>time_Lunch</td>\n",
       "      <td>-1.771925e+12</td>\n",
       "    </tr>\n",
       "    <tr>\n",
       "      <th>11</th>\n",
       "      <td>time_Dinner</td>\n",
       "      <td>-1.771925e+12</td>\n",
       "    </tr>\n",
       "  </tbody>\n",
       "</table>\n",
       "</div>"
      ],
      "text/plain": [
       "            var          coef\n",
       "0    total_bill  8.838025e-01\n",
       "1          size  1.918673e-01\n",
       "2      sex_Male -1.363326e+13\n",
       "3    sex_Female -1.363326e+13\n",
       "4    smoker_Yes -7.872627e+13\n",
       "5     smoker_No -7.872627e+13\n",
       "6      day_Thur -6.371666e+12\n",
       "7       day_Fri -4.179510e+12\n",
       "8       day_Sat -7.105131e+12\n",
       "9       day_Sun -6.818723e+12\n",
       "10   time_Lunch -1.771925e+12\n",
       "11  time_Dinner -1.771925e+12"
      ]
     },
     "execution_count": 48,
     "metadata": {},
     "output_type": "execute_result"
    }
   ],
   "source": [
    "fi_df"
   ]
  },
  {
   "cell_type": "code",
   "execution_count": 49,
   "id": "94fa69d7",
   "metadata": {},
   "outputs": [
    {
     "data": {
      "text/plain": [
       "([0, 1, 2, 3, 4, 5, 6, 7, 8, 9, 10, 11],\n",
       " [Text(0, 0, 'total_bill'),\n",
       "  Text(1, 0, 'size'),\n",
       "  Text(2, 0, 'sex_Male'),\n",
       "  Text(3, 0, 'sex_Female'),\n",
       "  Text(4, 0, 'smoker_Yes'),\n",
       "  Text(5, 0, 'smoker_No'),\n",
       "  Text(6, 0, 'day_Thur'),\n",
       "  Text(7, 0, 'day_Fri'),\n",
       "  Text(8, 0, 'day_Sat'),\n",
       "  Text(9, 0, 'day_Sun'),\n",
       "  Text(10, 0, 'time_Lunch'),\n",
       "  Text(11, 0, 'time_Dinner')])"
      ]
     },
     "execution_count": 49,
     "metadata": {},
     "output_type": "execute_result"
    },
    {
     "data": {
      "image/png": "[encoded data removed]",
      "text/plain": [
       "<Figure size 640x480 with 1 Axes>"
      ]
     },
     "metadata": {},
     "output_type": "display_data"
    }
   ],
   "source": [
    "plt.bar(x=fi_df['var'], height= fi_df['coef'])\n",
    "plt.xticks(rotation=45)"
   ]
  },
  {
   "cell_type": "code",
   "execution_count": 50,
   "id": "8868e6fc",
   "metadata": {},
   "outputs": [
    {
     "data": {
      "text/plain": [
       "50.81"
      ]
     },
     "execution_count": 50,
     "metadata": {},
     "output_type": "execute_result"
    }
   ],
   "source": [
    "X['total_bill'].max()"
   ]
  },
  {
   "cell_type": "code",
   "execution_count": null,
   "id": "300a2ab8",
   "metadata": {},
   "outputs": [],
   "source": [
    "# y_pred vs y_test\n",
    "plt.scatter(x=y_test_t, y=y_pred)"
   ]
  },
  {
   "cell_type": "code",
   "execution_count": null,
   "id": "a6926dc5",
   "metadata": {},
   "outputs": [],
   "source": [
    "#distribution of residuals\n",
    "residual_df['res'].hist()"
   ]
  },
  {
   "cell_type": "code",
   "execution_count": null,
   "id": "502339f2",
   "metadata": {},
   "outputs": [],
   "source": [
    "#checking for homoscedasity (constant variance of residuals)\n",
    "plt.scatter(x=residual_df['y_pred'], y=residuals_df['res'])"
   ]
  },
  {
   "cell_type": "code",
   "execution_count": null,
   "id": "d14051c0",
   "metadata": {},
   "outputs": [],
   "source": []
  }
 ],
 "metadata": {
  "kernelspec": {
   "display_name": "Python 3 (ipykernel)",
   "language": "python",
   "name": "python3"
  },
  "language_info": {
   "codemirror_mode": {
    "name": "ipython",
    "version": 3
   },
   "file_extension": ".py",
   "mimetype": "text/x-python",
   "name": "python",
   "nbconvert_exporter": "python",
   "pygments_lexer": "ipython3",
   "version": "3.10.9"
  }
 },
 "nbformat": 4,
 "nbformat_minor": 5
}

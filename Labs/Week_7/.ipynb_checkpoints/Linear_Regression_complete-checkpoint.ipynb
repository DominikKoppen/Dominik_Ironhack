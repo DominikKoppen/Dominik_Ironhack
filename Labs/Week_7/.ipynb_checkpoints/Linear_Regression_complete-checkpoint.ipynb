{
 "cells": [
  {
   "cell_type": "code",
   "execution_count": 1,
   "id": "5bc0631b",
   "metadata": {},
   "outputs": [],
   "source": [
    "import seaborn as sns\n",
    "import matplotlib.pyplot as plt\n",
    "import pandas as pd\n",
    "import numpy as np"
   ]
  },
  {
   "cell_type": "code",
   "execution_count": 2,
   "id": "46c0bc0a",
   "metadata": {},
   "outputs": [],
   "source": [
    "tips_df = sns.load_dataset('tips')"
   ]
  },
  {
   "cell_type": "code",
   "execution_count": 3,
   "id": "c25776f2",
   "metadata": {},
   "outputs": [
    {
     "data": {
      "text/html": [
       "<div>\n",
       "<style scoped>\n",
       "    .dataframe tbody tr th:only-of-type {\n",
       "        vertical-align: middle;\n",
       "    }\n",
       "\n",
       "    .dataframe tbody tr th {\n",
       "        vertical-align: top;\n",
       "    }\n",
       "\n",
       "    .dataframe thead th {\n",
       "        text-align: right;\n",
       "    }\n",
       "</style>\n",
       "<table border=\"1\" class=\"dataframe\">\n",
       "  <thead>\n",
       "    <tr style=\"text-align: right;\">\n",
       "      <th></th>\n",
       "      <th>total_bill</th>\n",
       "      <th>tip</th>\n",
       "      <th>sex</th>\n",
       "      <th>smoker</th>\n",
       "      <th>day</th>\n",
       "      <th>time</th>\n",
       "      <th>size</th>\n",
       "    </tr>\n",
       "  </thead>\n",
       "  <tbody>\n",
       "    <tr>\n",
       "      <th>0</th>\n",
       "      <td>16.99</td>\n",
       "      <td>1.01</td>\n",
       "      <td>Female</td>\n",
       "      <td>No</td>\n",
       "      <td>Sun</td>\n",
       "      <td>Dinner</td>\n",
       "      <td>2</td>\n",
       "    </tr>\n",
       "    <tr>\n",
       "      <th>1</th>\n",
       "      <td>10.34</td>\n",
       "      <td>1.66</td>\n",
       "      <td>Male</td>\n",
       "      <td>No</td>\n",
       "      <td>Sun</td>\n",
       "      <td>Dinner</td>\n",
       "      <td>3</td>\n",
       "    </tr>\n",
       "    <tr>\n",
       "      <th>2</th>\n",
       "      <td>21.01</td>\n",
       "      <td>3.50</td>\n",
       "      <td>Male</td>\n",
       "      <td>No</td>\n",
       "      <td>Sun</td>\n",
       "      <td>Dinner</td>\n",
       "      <td>3</td>\n",
       "    </tr>\n",
       "    <tr>\n",
       "      <th>3</th>\n",
       "      <td>23.68</td>\n",
       "      <td>3.31</td>\n",
       "      <td>Male</td>\n",
       "      <td>No</td>\n",
       "      <td>Sun</td>\n",
       "      <td>Dinner</td>\n",
       "      <td>2</td>\n",
       "    </tr>\n",
       "    <tr>\n",
       "      <th>4</th>\n",
       "      <td>24.59</td>\n",
       "      <td>3.61</td>\n",
       "      <td>Female</td>\n",
       "      <td>No</td>\n",
       "      <td>Sun</td>\n",
       "      <td>Dinner</td>\n",
       "      <td>4</td>\n",
       "    </tr>\n",
       "  </tbody>\n",
       "</table>\n",
       "</div>"
      ],
      "text/plain": [
       "   total_bill   tip     sex smoker  day    time  size\n",
       "0       16.99  1.01  Female     No  Sun  Dinner     2\n",
       "1       10.34  1.66    Male     No  Sun  Dinner     3\n",
       "2       21.01  3.50    Male     No  Sun  Dinner     3\n",
       "3       23.68  3.31    Male     No  Sun  Dinner     2\n",
       "4       24.59  3.61  Female     No  Sun  Dinner     4"
      ]
     },
     "execution_count": 3,
     "metadata": {},
     "output_type": "execute_result"
    }
   ],
   "source": [
    "tips_df.head()"
   ]
  },
  {
   "cell_type": "code",
   "execution_count": 4,
   "id": "ec126db8",
   "metadata": {},
   "outputs": [
    {
     "data": {
      "text/plain": [
       "(244, 7)"
      ]
     },
     "execution_count": 4,
     "metadata": {},
     "output_type": "execute_result"
    }
   ],
   "source": [
    "tips_df.shape"
   ]
  },
  {
   "cell_type": "code",
   "execution_count": 5,
   "id": "ead46bad",
   "metadata": {},
   "outputs": [
    {
     "name": "stdout",
     "output_type": "stream",
     "text": [
      "<class 'pandas.core.frame.DataFrame'>\n",
      "RangeIndex: 244 entries, 0 to 243\n",
      "Data columns (total 7 columns):\n",
      " #   Column      Non-Null Count  Dtype   \n",
      "---  ------      --------------  -----   \n",
      " 0   total_bill  244 non-null    float64 \n",
      " 1   tip         244 non-null    float64 \n",
      " 2   sex         244 non-null    category\n",
      " 3   smoker      244 non-null    category\n",
      " 4   day         244 non-null    category\n",
      " 5   time        244 non-null    category\n",
      " 6   size        244 non-null    int64   \n",
      "dtypes: category(4), float64(2), int64(1)\n",
      "memory usage: 7.4 KB\n"
     ]
    }
   ],
   "source": [
    "tips_df.info()"
   ]
  },
  {
   "cell_type": "markdown",
   "id": "41d7f840",
   "metadata": {},
   "source": [
    "## EDA"
   ]
  },
  {
   "cell_type": "code",
   "execution_count": 6,
   "id": "7a43539a",
   "metadata": {},
   "outputs": [],
   "source": [
    "numericals = tips_df.select_dtypes(include=np.number)\n",
    "categoricals= tips_df.select_dtypes(include='category')"
   ]
  },
  {
   "cell_type": "code",
   "execution_count": 7,
   "id": "e4943c8c",
   "metadata": {},
   "outputs": [
    {
     "data": {
      "text/plain": [
       "array([[<Axes: title={'center': 'total_bill'}>,\n",
       "        <Axes: title={'center': 'tip'}>],\n",
       "       [<Axes: title={'center': 'size'}>, <Axes: >]], dtype=object)"
      ]
     },
     "execution_count": 7,
     "metadata": {},
     "output_type": "execute_result"
    },
    {
     "data": {
      "image/png": "[encoded data removed]",
      "text/plain": [
       "<Figure size 640x480 with 4 Axes>"
      ]
     },
     "metadata": {},
     "output_type": "display_data"
    }
   ],
   "source": [
    "#plotting histograms\n",
    "numericals.hist()"
   ]
  },
  {
   "cell_type": "code",
   "execution_count": 8,
   "id": "9bf82369",
   "metadata": {},
   "outputs": [
    {
     "data": {
      "text/plain": [
       "<matplotlib.collections.PathCollection at 0x137e1b790>"
      ]
     },
     "execution_count": 8,
     "metadata": {},
     "output_type": "execute_result"
    },
    {
     "data": {
      "image/png": "[encoded data removed]",
      "text/plain": [
       "<Figure size 640x480 with 1 Axes>"
      ]
     },
     "metadata": {},
     "output_type": "display_data"
    }
   ],
   "source": [
    "plt.scatter(x=numericals[\"total_bill\"], y=numericals[\"tip\"])"
   ]
  },
  {
   "cell_type": "markdown",
   "id": "f16d3036",
   "metadata": {},
   "source": [
    "### Xy split"
   ]
  },
  {
   "cell_type": "code",
   "execution_count": 9,
   "id": "7d5c4941",
   "metadata": {},
   "outputs": [],
   "source": [
    "X = tips_df.drop(columns=\"tip\")\n",
    "y = tips_df[\"tip\"]"
   ]
  },
  {
   "cell_type": "code",
   "execution_count": 10,
   "id": "1dd4e5c6",
   "metadata": {},
   "outputs": [
    {
     "data": {
      "text/html": [
       "<div>\n",
       "<style scoped>\n",
       "    .dataframe tbody tr th:only-of-type {\n",
       "        vertical-align: middle;\n",
       "    }\n",
       "\n",
       "    .dataframe tbody tr th {\n",
       "        vertical-align: top;\n",
       "    }\n",
       "\n",
       "    .dataframe thead th {\n",
       "        text-align: right;\n",
       "    }\n",
       "</style>\n",
       "<table border=\"1\" class=\"dataframe\">\n",
       "  <thead>\n",
       "    <tr style=\"text-align: right;\">\n",
       "      <th></th>\n",
       "      <th>total_bill</th>\n",
       "      <th>sex</th>\n",
       "      <th>smoker</th>\n",
       "      <th>day</th>\n",
       "      <th>time</th>\n",
       "      <th>size</th>\n",
       "    </tr>\n",
       "  </thead>\n",
       "  <tbody>\n",
       "    <tr>\n",
       "      <th>0</th>\n",
       "      <td>16.99</td>\n",
       "      <td>Female</td>\n",
       "      <td>No</td>\n",
       "      <td>Sun</td>\n",
       "      <td>Dinner</td>\n",
       "      <td>2</td>\n",
       "    </tr>\n",
       "    <tr>\n",
       "      <th>1</th>\n",
       "      <td>10.34</td>\n",
       "      <td>Male</td>\n",
       "      <td>No</td>\n",
       "      <td>Sun</td>\n",
       "      <td>Dinner</td>\n",
       "      <td>3</td>\n",
       "    </tr>\n",
       "    <tr>\n",
       "      <th>2</th>\n",
       "      <td>21.01</td>\n",
       "      <td>Male</td>\n",
       "      <td>No</td>\n",
       "      <td>Sun</td>\n",
       "      <td>Dinner</td>\n",
       "      <td>3</td>\n",
       "    </tr>\n",
       "    <tr>\n",
       "      <th>3</th>\n",
       "      <td>23.68</td>\n",
       "      <td>Male</td>\n",
       "      <td>No</td>\n",
       "      <td>Sun</td>\n",
       "      <td>Dinner</td>\n",
       "      <td>2</td>\n",
       "    </tr>\n",
       "    <tr>\n",
       "      <th>4</th>\n",
       "      <td>24.59</td>\n",
       "      <td>Female</td>\n",
       "      <td>No</td>\n",
       "      <td>Sun</td>\n",
       "      <td>Dinner</td>\n",
       "      <td>4</td>\n",
       "    </tr>\n",
       "  </tbody>\n",
       "</table>\n",
       "</div>"
      ],
      "text/plain": [
       "   total_bill     sex smoker  day    time  size\n",
       "0       16.99  Female     No  Sun  Dinner     2\n",
       "1       10.34    Male     No  Sun  Dinner     3\n",
       "2       21.01    Male     No  Sun  Dinner     3\n",
       "3       23.68    Male     No  Sun  Dinner     2\n",
       "4       24.59  Female     No  Sun  Dinner     4"
      ]
     },
     "execution_count": 10,
     "metadata": {},
     "output_type": "execute_result"
    }
   ],
   "source": [
    "X.head()"
   ]
  },
  {
   "cell_type": "markdown",
   "id": "7efac34c",
   "metadata": {},
   "source": [
    "### Train-test split"
   ]
  },
  {
   "cell_type": "code",
   "execution_count": 11,
   "id": "89709120",
   "metadata": {},
   "outputs": [],
   "source": [
    "from sklearn.model_selection import train_test_split"
   ]
  },
  {
   "cell_type": "code",
   "execution_count": 12,
   "id": "9954258e",
   "metadata": {},
   "outputs": [],
   "source": [
    "X_train, X_test, y_train, y_test = train_test_split(X,y, random_state = 42)"
   ]
  },
  {
   "cell_type": "markdown",
   "id": "f3a44938",
   "metadata": {},
   "source": [
    "### Encoding / Standardizing / PowerTransforming"
   ]
  },
  {
   "cell_type": "code",
   "execution_count": 13,
   "id": "70f61d63",
   "metadata": {},
   "outputs": [],
   "source": [
    "from sklearn.preprocessing import OneHotEncoder"
   ]
  },
  {
   "cell_type": "code",
   "execution_count": 14,
   "id": "2d05e203",
   "metadata": {},
   "outputs": [],
   "source": [
    "#encode X_train\n",
    "encoder = OneHotEncoder(sparse_output=False)\n",
    "categoricals_df = X_train.select_dtypes(include='category')\n",
    "numericals = X_train.select_dtypes(include=np.number)\n",
    "encoder.fit(categoricals_df)\n",
    "categoricals = encoder.transform(categoricals_df)\n",
    "categoricals = pd.DataFrame(categoricals, columns=encoder.get_feature_names_out(categoricals_df.columns))\n",
    "numericals = numericals.reset_index(drop=True)\n",
    "X_train = pd.concat([numericals,categoricals],axis=1)"
   ]
  },
  {
   "cell_type": "code",
   "execution_count": 15,
   "id": "086928bb",
   "metadata": {},
   "outputs": [],
   "source": [
    "#encode X_test\n",
    "categoricals_df = X_test.select_dtypes(include='category')\n",
    "numericals = X_test.select_dtypes(include=np.number)\n",
    "encoder.fit(categoricals_df)\n",
    "categoricals = encoder.transform(categoricals_df)\n",
    "categoricals = pd.DataFrame(categoricals, columns=encoder.get_feature_names_out(categoricals_df.columns))\n",
    "numericals = numericals.reset_index(drop=True)\n",
    "X_test = pd.concat([numericals,categoricals],axis=1)"
   ]
  },
  {
   "cell_type": "code",
   "execution_count": 16,
   "id": "18448cb3",
   "metadata": {},
   "outputs": [],
   "source": [
    "from sklearn.preprocessing import StandardScaler\n",
    "scaler = StandardScaler()\n",
    "scaler.fit(X_train)\n",
    "X_train_scaled = scaler.transform(X_train)\n",
    "X_test_scaled = scaler.transform(X_test)\n",
    "\n",
    "##powertransform response\n",
    "from sklearn.preprocessing import PowerTransformer\n",
    "pt = PowerTransformer()\n",
    "pt.fit(np.array(y_train).reshape(-1,1))\n",
    "y_train_t = pt.transform(np.array(y_train).reshape(-1,1))\n",
    "y_test_t = pt.transform(np.array(y_test).reshape(-1,1))"
   ]
  },
  {
   "cell_type": "markdown",
   "id": "b7e19f5a",
   "metadata": {},
   "source": [
    "## Modelling"
   ]
  },
  {
   "cell_type": "code",
   "execution_count": 17,
   "id": "bf681d1e",
   "metadata": {},
   "outputs": [
    {
     "data": {
      "text/html": [
       "<div>\n",
       "<style scoped>\n",
       "    .dataframe tbody tr th:only-of-type {\n",
       "        vertical-align: middle;\n",
       "    }\n",
       "\n",
       "    .dataframe tbody tr th {\n",
       "        vertical-align: top;\n",
       "    }\n",
       "\n",
       "    .dataframe thead th {\n",
       "        text-align: right;\n",
       "    }\n",
       "</style>\n",
       "<table border=\"1\" class=\"dataframe\">\n",
       "  <thead>\n",
       "    <tr style=\"text-align: right;\">\n",
       "      <th></th>\n",
       "      <th>total_bill</th>\n",
       "      <th>size</th>\n",
       "      <th>sex_Female</th>\n",
       "      <th>sex_Male</th>\n",
       "      <th>smoker_No</th>\n",
       "      <th>smoker_Yes</th>\n",
       "      <th>day_Fri</th>\n",
       "      <th>day_Sat</th>\n",
       "      <th>day_Sun</th>\n",
       "      <th>day_Thur</th>\n",
       "      <th>time_Dinner</th>\n",
       "      <th>time_Lunch</th>\n",
       "    </tr>\n",
       "  </thead>\n",
       "  <tbody>\n",
       "    <tr>\n",
       "      <th>0</th>\n",
       "      <td>17.31</td>\n",
       "      <td>2</td>\n",
       "      <td>1.0</td>\n",
       "      <td>0.0</td>\n",
       "      <td>1.0</td>\n",
       "      <td>0.0</td>\n",
       "      <td>0.0</td>\n",
       "      <td>0.0</td>\n",
       "      <td>1.0</td>\n",
       "      <td>0.0</td>\n",
       "      <td>1.0</td>\n",
       "      <td>0.0</td>\n",
       "    </tr>\n",
       "    <tr>\n",
       "      <th>1</th>\n",
       "      <td>23.33</td>\n",
       "      <td>2</td>\n",
       "      <td>0.0</td>\n",
       "      <td>1.0</td>\n",
       "      <td>0.0</td>\n",
       "      <td>1.0</td>\n",
       "      <td>0.0</td>\n",
       "      <td>0.0</td>\n",
       "      <td>1.0</td>\n",
       "      <td>0.0</td>\n",
       "      <td>1.0</td>\n",
       "      <td>0.0</td>\n",
       "    </tr>\n",
       "    <tr>\n",
       "      <th>2</th>\n",
       "      <td>16.27</td>\n",
       "      <td>2</td>\n",
       "      <td>1.0</td>\n",
       "      <td>0.0</td>\n",
       "      <td>0.0</td>\n",
       "      <td>1.0</td>\n",
       "      <td>1.0</td>\n",
       "      <td>0.0</td>\n",
       "      <td>0.0</td>\n",
       "      <td>0.0</td>\n",
       "      <td>0.0</td>\n",
       "      <td>1.0</td>\n",
       "    </tr>\n",
       "    <tr>\n",
       "      <th>3</th>\n",
       "      <td>20.23</td>\n",
       "      <td>2</td>\n",
       "      <td>0.0</td>\n",
       "      <td>1.0</td>\n",
       "      <td>1.0</td>\n",
       "      <td>0.0</td>\n",
       "      <td>0.0</td>\n",
       "      <td>1.0</td>\n",
       "      <td>0.0</td>\n",
       "      <td>0.0</td>\n",
       "      <td>1.0</td>\n",
       "      <td>0.0</td>\n",
       "    </tr>\n",
       "    <tr>\n",
       "      <th>4</th>\n",
       "      <td>20.92</td>\n",
       "      <td>2</td>\n",
       "      <td>1.0</td>\n",
       "      <td>0.0</td>\n",
       "      <td>1.0</td>\n",
       "      <td>0.0</td>\n",
       "      <td>0.0</td>\n",
       "      <td>1.0</td>\n",
       "      <td>0.0</td>\n",
       "      <td>0.0</td>\n",
       "      <td>1.0</td>\n",
       "      <td>0.0</td>\n",
       "    </tr>\n",
       "    <tr>\n",
       "      <th>...</th>\n",
       "      <td>...</td>\n",
       "      <td>...</td>\n",
       "      <td>...</td>\n",
       "      <td>...</td>\n",
       "      <td>...</td>\n",
       "      <td>...</td>\n",
       "      <td>...</td>\n",
       "      <td>...</td>\n",
       "      <td>...</td>\n",
       "      <td>...</td>\n",
       "      <td>...</td>\n",
       "      <td>...</td>\n",
       "    </tr>\n",
       "    <tr>\n",
       "      <th>178</th>\n",
       "      <td>20.49</td>\n",
       "      <td>2</td>\n",
       "      <td>0.0</td>\n",
       "      <td>1.0</td>\n",
       "      <td>0.0</td>\n",
       "      <td>1.0</td>\n",
       "      <td>0.0</td>\n",
       "      <td>1.0</td>\n",
       "      <td>0.0</td>\n",
       "      <td>0.0</td>\n",
       "      <td>1.0</td>\n",
       "      <td>0.0</td>\n",
       "    </tr>\n",
       "    <tr>\n",
       "      <th>179</th>\n",
       "      <td>14.83</td>\n",
       "      <td>2</td>\n",
       "      <td>1.0</td>\n",
       "      <td>0.0</td>\n",
       "      <td>1.0</td>\n",
       "      <td>0.0</td>\n",
       "      <td>0.0</td>\n",
       "      <td>0.0</td>\n",
       "      <td>1.0</td>\n",
       "      <td>0.0</td>\n",
       "      <td>1.0</td>\n",
       "      <td>0.0</td>\n",
       "    </tr>\n",
       "    <tr>\n",
       "      <th>180</th>\n",
       "      <td>5.75</td>\n",
       "      <td>2</td>\n",
       "      <td>1.0</td>\n",
       "      <td>0.0</td>\n",
       "      <td>0.0</td>\n",
       "      <td>1.0</td>\n",
       "      <td>1.0</td>\n",
       "      <td>0.0</td>\n",
       "      <td>0.0</td>\n",
       "      <td>0.0</td>\n",
       "      <td>1.0</td>\n",
       "      <td>0.0</td>\n",
       "    </tr>\n",
       "    <tr>\n",
       "      <th>181</th>\n",
       "      <td>34.63</td>\n",
       "      <td>2</td>\n",
       "      <td>0.0</td>\n",
       "      <td>1.0</td>\n",
       "      <td>0.0</td>\n",
       "      <td>1.0</td>\n",
       "      <td>0.0</td>\n",
       "      <td>0.0</td>\n",
       "      <td>1.0</td>\n",
       "      <td>0.0</td>\n",
       "      <td>1.0</td>\n",
       "      <td>0.0</td>\n",
       "    </tr>\n",
       "    <tr>\n",
       "      <th>182</th>\n",
       "      <td>44.30</td>\n",
       "      <td>3</td>\n",
       "      <td>1.0</td>\n",
       "      <td>0.0</td>\n",
       "      <td>0.0</td>\n",
       "      <td>1.0</td>\n",
       "      <td>0.0</td>\n",
       "      <td>1.0</td>\n",
       "      <td>0.0</td>\n",
       "      <td>0.0</td>\n",
       "      <td>1.0</td>\n",
       "      <td>0.0</td>\n",
       "    </tr>\n",
       "  </tbody>\n",
       "</table>\n",
       "<p>183 rows × 12 columns</p>\n",
       "</div>"
      ],
      "text/plain": [
       "     total_bill  size  sex_Female  sex_Male  smoker_No  smoker_Yes  day_Fri  \\\n",
       "0         17.31     2         1.0       0.0        1.0         0.0      0.0   \n",
       "1         23.33     2         0.0       1.0        0.0         1.0      0.0   \n",
       "2         16.27     2         1.0       0.0        0.0         1.0      1.0   \n",
       "3         20.23     2         0.0       1.0        1.0         0.0      0.0   \n",
       "4         20.92     2         1.0       0.0        1.0         0.0      0.0   \n",
       "..          ...   ...         ...       ...        ...         ...      ...   \n",
       "178       20.49     2         0.0       1.0        0.0         1.0      0.0   \n",
       "179       14.83     2         1.0       0.0        1.0         0.0      0.0   \n",
       "180        5.75     2         1.0       0.0        0.0         1.0      1.0   \n",
       "181       34.63     2         0.0       1.0        0.0         1.0      0.0   \n",
       "182       44.30     3         1.0       0.0        0.0         1.0      0.0   \n",
       "\n",
       "     day_Sat  day_Sun  day_Thur  time_Dinner  time_Lunch  \n",
       "0        0.0      1.0       0.0          1.0         0.0  \n",
       "1        0.0      1.0       0.0          1.0         0.0  \n",
       "2        0.0      0.0       0.0          0.0         1.0  \n",
       "3        1.0      0.0       0.0          1.0         0.0  \n",
       "4        1.0      0.0       0.0          1.0         0.0  \n",
       "..       ...      ...       ...          ...         ...  \n",
       "178      1.0      0.0       0.0          1.0         0.0  \n",
       "179      0.0      1.0       0.0          1.0         0.0  \n",
       "180      0.0      0.0       0.0          1.0         0.0  \n",
       "181      0.0      1.0       0.0          1.0         0.0  \n",
       "182      1.0      0.0       0.0          1.0         0.0  \n",
       "\n",
       "[183 rows x 12 columns]"
      ]
     },
     "execution_count": 17,
     "metadata": {},
     "output_type": "execute_result"
    }
   ],
   "source": [
    "X_train"
   ]
  },
  {
   "cell_type": "code",
   "execution_count": 18,
   "id": "08c95346",
   "metadata": {},
   "outputs": [],
   "source": [
    "from sklearn.linear_model import LinearRegression"
   ]
  },
  {
   "cell_type": "code",
   "execution_count": 19,
   "id": "9abbfc6d",
   "metadata": {},
   "outputs": [],
   "source": [
    "#model fitting\n",
    "lm = LinearRegression()\n",
    "model = lm.fit(X_train_scaled, y_train_t)"
   ]
  },
  {
   "cell_type": "code",
   "execution_count": 20,
   "id": "a709ddc7",
   "metadata": {},
   "outputs": [],
   "source": [
    "y_pred = model.predict(X_test_scaled)"
   ]
  },
  {
   "cell_type": "code",
   "execution_count": 21,
   "id": "4a12a7f8",
   "metadata": {},
   "outputs": [],
   "source": [
    "y_test_t = y_test_t.reshape(61,)"
   ]
  },
  {
   "cell_type": "code",
   "execution_count": 22,
   "id": "215841ff",
   "metadata": {},
   "outputs": [],
   "source": [
    "y_pred = y_pred.reshape(61,)"
   ]
  },
  {
   "cell_type": "code",
   "execution_count": 23,
   "id": "96db7021",
   "metadata": {},
   "outputs": [],
   "source": [
    "residual_df = pd.DataFrame({'y_test':y_test_t,'y_pred':y_pred, 'res':y_pred-y_test_t})"
   ]
  },
  {
   "cell_type": "code",
   "execution_count": 24,
   "id": "15c1e5ed",
   "metadata": {},
   "outputs": [
    {
     "data": {
      "text/html": [
       "<div>\n",
       "<style scoped>\n",
       "    .dataframe tbody tr th:only-of-type {\n",
       "        vertical-align: middle;\n",
       "    }\n",
       "\n",
       "    .dataframe tbody tr th {\n",
       "        vertical-align: top;\n",
       "    }\n",
       "\n",
       "    .dataframe thead th {\n",
       "        text-align: right;\n",
       "    }\n",
       "</style>\n",
       "<table border=\"1\" class=\"dataframe\">\n",
       "  <thead>\n",
       "    <tr style=\"text-align: right;\">\n",
       "      <th></th>\n",
       "      <th>y_test</th>\n",
       "      <th>y_pred</th>\n",
       "      <th>res</th>\n",
       "    </tr>\n",
       "  </thead>\n",
       "  <tbody>\n",
       "    <tr>\n",
       "      <th>0</th>\n",
       "      <td>0.308734</td>\n",
       "      <td>-0.233393</td>\n",
       "      <td>-0.542127</td>\n",
       "    </tr>\n",
       "    <tr>\n",
       "      <th>1</th>\n",
       "      <td>-0.772802</td>\n",
       "      <td>-0.774896</td>\n",
       "      <td>-0.002094</td>\n",
       "    </tr>\n",
       "    <tr>\n",
       "      <th>2</th>\n",
       "      <td>-0.772802</td>\n",
       "      <td>0.564947</td>\n",
       "      <td>1.337749</td>\n",
       "    </tr>\n",
       "    <tr>\n",
       "      <th>3</th>\n",
       "      <td>1.399783</td>\n",
       "      <td>0.503912</td>\n",
       "      <td>-0.895871</td>\n",
       "    </tr>\n",
       "    <tr>\n",
       "      <th>4</th>\n",
       "      <td>-0.772802</td>\n",
       "      <td>-0.506715</td>\n",
       "      <td>0.266087</td>\n",
       "    </tr>\n",
       "    <tr>\n",
       "      <th>...</th>\n",
       "      <td>...</td>\n",
       "      <td>...</td>\n",
       "      <td>...</td>\n",
       "    </tr>\n",
       "    <tr>\n",
       "      <th>56</th>\n",
       "      <td>1.395564</td>\n",
       "      <td>-0.869623</td>\n",
       "      <td>-2.265188</td>\n",
       "    </tr>\n",
       "    <tr>\n",
       "      <th>57</th>\n",
       "      <td>-1.081754</td>\n",
       "      <td>-0.358393</td>\n",
       "      <td>0.723362</td>\n",
       "    </tr>\n",
       "    <tr>\n",
       "      <th>58</th>\n",
       "      <td>-0.037641</td>\n",
       "      <td>-0.067865</td>\n",
       "      <td>-0.030224</td>\n",
       "    </tr>\n",
       "    <tr>\n",
       "      <th>59</th>\n",
       "      <td>0.173547</td>\n",
       "      <td>-0.316400</td>\n",
       "      <td>-0.489947</td>\n",
       "    </tr>\n",
       "    <tr>\n",
       "      <th>60</th>\n",
       "      <td>1.391336</td>\n",
       "      <td>1.088385</td>\n",
       "      <td>-0.302951</td>\n",
       "    </tr>\n",
       "  </tbody>\n",
       "</table>\n",
       "<p>61 rows × 3 columns</p>\n",
       "</div>"
      ],
      "text/plain": [
       "      y_test    y_pred       res\n",
       "0   0.308734 -0.233393 -0.542127\n",
       "1  -0.772802 -0.774896 -0.002094\n",
       "2  -0.772802  0.564947  1.337749\n",
       "3   1.399783  0.503912 -0.895871\n",
       "4  -0.772802 -0.506715  0.266087\n",
       "..       ...       ...       ...\n",
       "56  1.395564 -0.869623 -2.265188\n",
       "57 -1.081754 -0.358393  0.723362\n",
       "58 -0.037641 -0.067865 -0.030224\n",
       "59  0.173547 -0.316400 -0.489947\n",
       "60  1.391336  1.088385 -0.302951\n",
       "\n",
       "[61 rows x 3 columns]"
      ]
     },
     "execution_count": 24,
     "metadata": {},
     "output_type": "execute_result"
    }
   ],
   "source": [
    "residual_df"
   ]
  },
  {
   "cell_type": "markdown",
   "id": "8184ed84",
   "metadata": {},
   "source": [
    "## Model evaluation"
   ]
  },
  {
   "cell_type": "code",
   "execution_count": 25,
   "id": "3ca1fce4",
   "metadata": {},
   "outputs": [],
   "source": [
    "from sklearn.metrics import mean_squared_error as mse, r2_score as r2"
   ]
  },
  {
   "cell_type": "code",
   "execution_count": 26,
   "id": "36b4658b",
   "metadata": {},
   "outputs": [],
   "source": [
    "model_mse = mse(y_test_t, y_pred)\n",
    "model_r2 = r2(y_test_t,y_pred)\n",
    "model_rmse = np.sqrt(model_mse)"
   ]
  },
  {
   "cell_type": "code",
   "execution_count": 27,
   "id": "bae78ae6",
   "metadata": {},
   "outputs": [
    {
     "data": {
      "text/plain": [
       "(0.43828748074955237, 0.5057031053368853, 0.7111280512937774)"
      ]
     },
     "execution_count": 27,
     "metadata": {},
     "output_type": "execute_result"
    }
   ],
   "source": [
    "model_r2, model_mse, model_rmse"
   ]
  },
  {
   "cell_type": "markdown",
   "id": "f4c8f535",
   "metadata": {},
   "source": [
    "### Feature importance"
   ]
  },
  {
   "cell_type": "code",
   "execution_count": 28,
   "id": "50144662",
   "metadata": {},
   "outputs": [
    {
     "data": {
      "text/plain": [
       "array([[ 5.54334281e-01,  1.65267881e-01,  3.71845849e+12,\n",
       "         3.71845849e+12, -4.07524945e+13, -4.07524945e+13,\n",
       "         2.44973598e+12,  4.16452960e+12,  3.99665746e+12,\n",
       "         3.73462375e+12,  9.33208794e+11,  9.33208794e+11]])"
      ]
     },
     "execution_count": 28,
     "metadata": {},
     "output_type": "execute_result"
    }
   ],
   "source": [
    "model.coef_"
   ]
  },
  {
   "cell_type": "code",
   "execution_count": 29,
   "id": "9721750d",
   "metadata": {},
   "outputs": [
    {
     "data": {
      "text/plain": [
       "array([-0.00013064])"
      ]
     },
     "execution_count": 29,
     "metadata": {},
     "output_type": "execute_result"
    }
   ],
   "source": [
    "model.intercept_"
   ]
  },
  {
   "cell_type": "code",
   "execution_count": 30,
   "id": "521f2953",
   "metadata": {},
   "outputs": [
    {
     "data": {
      "text/plain": [
       "array([[ 5.54334281e-01,  1.65267881e-01,  3.71845849e+12,\n",
       "         3.71845849e+12, -4.07524945e+13, -4.07524945e+13,\n",
       "         2.44973598e+12,  4.16452960e+12,  3.99665746e+12,\n",
       "         3.73462375e+12,  9.33208794e+11,  9.33208794e+11]])"
      ]
     },
     "execution_count": 30,
     "metadata": {},
     "output_type": "execute_result"
    }
   ],
   "source": [
    "model.coef_"
   ]
  },
  {
   "cell_type": "code",
   "execution_count": 31,
   "id": "9ded2a25",
   "metadata": {},
   "outputs": [],
   "source": [
    "coefs = np.array(model.coef_).reshape(12,)"
   ]
  },
  {
   "cell_type": "code",
   "execution_count": 32,
   "id": "74c3923c",
   "metadata": {},
   "outputs": [],
   "source": [
    "fi_df  = pd.DataFrame({'var':X_train.columns, 'coef':coefs})"
   ]
  },
  {
   "cell_type": "code",
   "execution_count": 33,
   "id": "87d12f3d",
   "metadata": {},
   "outputs": [
    {
     "data": {
      "text/html": [
       "<div>\n",
       "<style scoped>\n",
       "    .dataframe tbody tr th:only-of-type {\n",
       "        vertical-align: middle;\n",
       "    }\n",
       "\n",
       "    .dataframe tbody tr th {\n",
       "        vertical-align: top;\n",
       "    }\n",
       "\n",
       "    .dataframe thead th {\n",
       "        text-align: right;\n",
       "    }\n",
       "</style>\n",
       "<table border=\"1\" class=\"dataframe\">\n",
       "  <thead>\n",
       "    <tr style=\"text-align: right;\">\n",
       "      <th></th>\n",
       "      <th>var</th>\n",
       "      <th>coef</th>\n",
       "    </tr>\n",
       "  </thead>\n",
       "  <tbody>\n",
       "    <tr>\n",
       "      <th>0</th>\n",
       "      <td>total_bill</td>\n",
       "      <td>5.543343e-01</td>\n",
       "    </tr>\n",
       "    <tr>\n",
       "      <th>1</th>\n",
       "      <td>size</td>\n",
       "      <td>1.652679e-01</td>\n",
       "    </tr>\n",
       "    <tr>\n",
       "      <th>2</th>\n",
       "      <td>sex_Female</td>\n",
       "      <td>3.718458e+12</td>\n",
       "    </tr>\n",
       "    <tr>\n",
       "      <th>3</th>\n",
       "      <td>sex_Male</td>\n",
       "      <td>3.718458e+12</td>\n",
       "    </tr>\n",
       "    <tr>\n",
       "      <th>4</th>\n",
       "      <td>smoker_No</td>\n",
       "      <td>-4.075249e+13</td>\n",
       "    </tr>\n",
       "    <tr>\n",
       "      <th>5</th>\n",
       "      <td>smoker_Yes</td>\n",
       "      <td>-4.075249e+13</td>\n",
       "    </tr>\n",
       "    <tr>\n",
       "      <th>6</th>\n",
       "      <td>day_Fri</td>\n",
       "      <td>2.449736e+12</td>\n",
       "    </tr>\n",
       "    <tr>\n",
       "      <th>7</th>\n",
       "      <td>day_Sat</td>\n",
       "      <td>4.164530e+12</td>\n",
       "    </tr>\n",
       "    <tr>\n",
       "      <th>8</th>\n",
       "      <td>day_Sun</td>\n",
       "      <td>3.996657e+12</td>\n",
       "    </tr>\n",
       "    <tr>\n",
       "      <th>9</th>\n",
       "      <td>day_Thur</td>\n",
       "      <td>3.734624e+12</td>\n",
       "    </tr>\n",
       "    <tr>\n",
       "      <th>10</th>\n",
       "      <td>time_Dinner</td>\n",
       "      <td>9.332088e+11</td>\n",
       "    </tr>\n",
       "    <tr>\n",
       "      <th>11</th>\n",
       "      <td>time_Lunch</td>\n",
       "      <td>9.332088e+11</td>\n",
       "    </tr>\n",
       "  </tbody>\n",
       "</table>\n",
       "</div>"
      ],
      "text/plain": [
       "            var          coef\n",
       "0    total_bill  5.543343e-01\n",
       "1          size  1.652679e-01\n",
       "2    sex_Female  3.718458e+12\n",
       "3      sex_Male  3.718458e+12\n",
       "4     smoker_No -4.075249e+13\n",
       "5    smoker_Yes -4.075249e+13\n",
       "6       day_Fri  2.449736e+12\n",
       "7       day_Sat  4.164530e+12\n",
       "8       day_Sun  3.996657e+12\n",
       "9      day_Thur  3.734624e+12\n",
       "10  time_Dinner  9.332088e+11\n",
       "11   time_Lunch  9.332088e+11"
      ]
     },
     "execution_count": 33,
     "metadata": {},
     "output_type": "execute_result"
    }
   ],
   "source": [
    "fi_df"
   ]
  },
  {
   "cell_type": "code",
   "execution_count": 34,
   "id": "9b559fad",
   "metadata": {},
   "outputs": [
    {
     "data": {
      "text/plain": [
       "([0, 1, 2, 3, 4, 5, 6, 7, 8, 9, 10, 11],\n",
       " [Text(0, 0, 'total_bill'),\n",
       "  Text(1, 0, 'size'),\n",
       "  Text(2, 0, 'sex_Female'),\n",
       "  Text(3, 0, 'sex_Male'),\n",
       "  Text(4, 0, 'smoker_No'),\n",
       "  Text(5, 0, 'smoker_Yes'),\n",
       "  Text(6, 0, 'day_Fri'),\n",
       "  Text(7, 0, 'day_Sat'),\n",
       "  Text(8, 0, 'day_Sun'),\n",
       "  Text(9, 0, 'day_Thur'),\n",
       "  Text(10, 0, 'time_Dinner'),\n",
       "  Text(11, 0, 'time_Lunch')])"
      ]
     },
     "execution_count": 34,
     "metadata": {},
     "output_type": "execute_result"
    },
    {
     "data": {
      "image/png": "[encoded data removed]",
      "text/plain": [
       "<Figure size 640x480 with 1 Axes>"
      ]
     },
     "metadata": {},
     "output_type": "display_data"
    }
   ],
   "source": [
    "plt.bar(x=fi_df[\"var\"], height=fi_df[\"coef\"])\n",
    "plt.xticks(rotation=45)"
   ]
  },
  {
   "cell_type": "code",
   "execution_count": 35,
   "id": "a8538827",
   "metadata": {},
   "outputs": [
    {
     "data": {
      "text/plain": [
       "50.81"
      ]
     },
     "execution_count": 35,
     "metadata": {},
     "output_type": "execute_result"
    }
   ],
   "source": [
    "X['total_bill'].max()"
   ]
  },
  {
   "cell_type": "code",
   "execution_count": 36,
   "id": "d551f6c3",
   "metadata": {},
   "outputs": [
    {
     "data": {
      "text/plain": [
       "<matplotlib.collections.PathCollection at 0x142d709d0>"
      ]
     },
     "execution_count": 36,
     "metadata": {},
     "output_type": "execute_result"
    },
    {
     "data": {
      "image/png": "[encoded data removed]",
      "text/plain": [
       "<Figure size 640x480 with 1 Axes>"
      ]
     },
     "metadata": {},
     "output_type": "display_data"
    }
   ],
   "source": [
    "# y_pred vs y_test\n",
    "plt.scatter(x=y_test_t, y = y_pred)"
   ]
  },
  {
   "cell_type": "code",
   "execution_count": 37,
   "id": "73b1a623",
   "metadata": {},
   "outputs": [
    {
     "data": {
      "text/plain": [
       "<Axes: >"
      ]
     },
     "execution_count": 37,
     "metadata": {},
     "output_type": "execute_result"
    },
    {
     "data": {
      "image/png": "[encoded data removed]",
      "text/plain": [
       "<Figure size 640x480 with 1 Axes>"
      ]
     },
     "metadata": {},
     "output_type": "display_data"
    }
   ],
   "source": [
    "# distribution of residuals\n",
    "residual_df['res'].hist()"
   ]
  },
  {
   "cell_type": "code",
   "execution_count": 38,
   "id": "cfd9b5d0",
   "metadata": {
    "scrolled": true
   },
   "outputs": [
    {
     "data": {
      "text/plain": [
       "<matplotlib.collections.PathCollection at 0x142e7a7d0>"
      ]
     },
     "execution_count": 38,
     "metadata": {},
     "output_type": "execute_result"
    },
    {
     "data": {
      "image/png": "[encoded data removed]",
      "text/plain": [
       "<Figure size 640x480 with 1 Axes>"
      ]
     },
     "metadata": {},
     "output_type": "display_data"
    }
   ],
   "source": [
    "# checking for homoscedasticity (constant variance of residuals)\n",
    "plt.scatter(x=residual_df[\"y_pred\"],y=residual_df[\"res\"])"
   ]
  },
  {
   "cell_type": "markdown",
   "id": "e3868c79",
   "metadata": {},
   "source": [
    "## Creating demo for Carmen"
   ]
  },
  {
   "cell_type": "code",
   "execution_count": null,
   "id": "1dae7afb",
   "metadata": {},
   "outputs": [],
   "source": [
    "Carmen_inputs = [input(f\"please input your {var}\") for var in X_train.columns]\n",
    "    "
   ]
  },
  {
   "cell_type": "code",
   "execution_count": null,
   "id": "3ab9e766",
   "metadata": {},
   "outputs": [],
   "source": [
    "Carmen_inputs = np.array(Carmen_inputs,dtype='float')"
   ]
  },
  {
   "cell_type": "code",
   "execution_count": null,
   "id": "9cb0f3e0",
   "metadata": {},
   "outputs": [],
   "source": [
    "Carmen_inputs = Carmen_inputs.reshape(1,-1)"
   ]
  },
  {
   "cell_type": "code",
   "execution_count": null,
   "id": "86a77dca",
   "metadata": {},
   "outputs": [],
   "source": [
    "Carmen_inputs"
   ]
  },
  {
   "cell_type": "code",
   "execution_count": null,
   "id": "059dbc73",
   "metadata": {},
   "outputs": [],
   "source": [
    "#scale input\n",
    "Carmen_scaled = scaler.transform(Carmen_inputs)"
   ]
  },
  {
   "cell_type": "code",
   "execution_count": null,
   "id": "a4510805",
   "metadata": {},
   "outputs": [],
   "source": [
    "Carmen_tip = model.predict(Carmen_scaled)"
   ]
  },
  {
   "cell_type": "code",
   "execution_count": null,
   "id": "dc3d7401",
   "metadata": {},
   "outputs": [],
   "source": [
    "print(Carmen_tip)"
   ]
  },
  {
   "cell_type": "code",
   "execution_count": null,
   "id": "55c478ab",
   "metadata": {
    "scrolled": true
   },
   "outputs": [],
   "source": [
    "pt.inverse_transform(Carmen_tip)"
   ]
  }
 ],
 "metadata": {
  "kernelspec": {
   "display_name": "Python 3 (ipykernel)",
   "language": "python",
   "name": "python3"
  },
  "language_info": {
   "codemirror_mode": {
    "name": "ipython",
    "version": 3
   },
   "file_extension": ".py",
   "mimetype": "text/x-python",
   "name": "python",
   "nbconvert_exporter": "python",
   "pygments_lexer": "ipython3",
   "version": "3.10.9"
  }
 },
 "nbformat": 4,
 "nbformat_minor": 5
}

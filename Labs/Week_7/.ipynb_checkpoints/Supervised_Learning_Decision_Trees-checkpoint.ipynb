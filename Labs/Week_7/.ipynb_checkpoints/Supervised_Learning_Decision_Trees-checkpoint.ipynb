{
 "cells": [
  {
   "cell_type": "markdown",
   "metadata": {
    "id": "goT_ryEJQ4SP"
   },
   "source": [
    "# Loading libraries"
   ]
  },
  {
   "cell_type": "code",
   "execution_count": 1,
   "metadata": {
    "executionInfo": {
     "elapsed": 1105,
     "status": "ok",
     "timestamp": 1626256792304,
     "user": {
      "displayName": "Ignacio Soteras",
      "photoUrl": "",
      "userId": "02050793736257155229"
     },
     "user_tz": -120
    },
    "id": "sS-WVW_mQmAu"
   },
   "outputs": [],
   "source": [
    "import pandas as pd\n",
    "import numpy as np\n",
    "import matplotlib.pyplot as plt\n",
    "from sklearn.datasets import load_iris, load_breast_cancer, fetch_california_housing\n",
    "from sklearn.tree import DecisionTreeRegressor\n",
    "from sklearn.tree import DecisionTreeClassifier\n",
    "from sklearn.model_selection import train_test_split\n",
    "from sklearn.tree import plot_tree\n",
    "import warnings\n",
    "warnings.filterwarnings('ignore')"
   ]
  },
  {
   "cell_type": "code",
   "execution_count": 2,
   "metadata": {
    "colab": {
     "base_uri": "https://localhost:8080/"
    },
    "executionInfo": {
     "elapsed": 3471,
     "status": "ok",
     "timestamp": 1626256807883,
     "user": {
      "displayName": "Ignacio Soteras",
      "photoUrl": "",
      "userId": "02050793736257155229"
     },
     "user_tz": -120
    },
    "id": "JUEbV703JanW",
    "outputId": "56cafafe-7c88-43af-c5e5-97671cbf1ce1"
   },
   "outputs": [],
   "source": [
    "#!pip install graphviz\n",
    "#conda install -c conda-forge python-graphviz"
   ]
  },
  {
   "cell_type": "markdown",
   "metadata": {
    "id": "qjydd0nUQpOp"
   },
   "source": [
    "# Decision trees"
   ]
  },
  {
   "cell_type": "markdown",
   "metadata": {
    "id": "dzKHUOJ-SfTp"
   },
   "source": [
    "### Loading a dataset for classification"
   ]
  },
  {
   "cell_type": "code",
   "execution_count": 3,
   "metadata": {
    "colab": {
     "base_uri": "https://localhost:8080/"
    },
    "executionInfo": {
     "elapsed": 239,
     "status": "ok",
     "timestamp": 1626259321382,
     "user": {
      "displayName": "Ignacio Soteras",
      "photoUrl": "",
      "userId": "02050793736257155229"
     },
     "user_tz": -120
    },
    "id": "_o0ThHDSTDsh",
    "outputId": "c38e0115-e38e-43a8-bff8-9f2216445af5"
   },
   "outputs": [
    {
     "name": "stdout",
     "output_type": "stream",
     "text": [
      "(569, 30)\n",
      "(569,)\n"
     ]
    }
   ],
   "source": [
    "X, y = load_breast_cancer(return_X_y=True,as_frame=True)\n",
    "print(X.shape)\n",
    "print(y.shape)"
   ]
  },
  {
   "cell_type": "code",
   "execution_count": 4,
   "metadata": {},
   "outputs": [
    {
     "data": {
      "text/plain": [
       "1    357\n",
       "0    212\n",
       "Name: target, dtype: int64"
      ]
     },
     "execution_count": 4,
     "metadata": {},
     "output_type": "execute_result"
    }
   ],
   "source": [
    "y.value_counts()"
   ]
  },
  {
   "cell_type": "code",
   "execution_count": 5,
   "metadata": {},
   "outputs": [],
   "source": [
    "y = y.apply(lambda x : 1 if x==0 else 0)"
   ]
  },
  {
   "cell_type": "code",
   "execution_count": 6,
   "metadata": {
    "colab": {
     "base_uri": "https://localhost:8080/",
     "height": 805
    },
    "executionInfo": {
     "elapsed": 701,
     "status": "ok",
     "timestamp": 1626259478775,
     "user": {
      "displayName": "Ignacio Soteras",
      "photoUrl": "",
      "userId": "02050793736257155229"
     },
     "user_tz": -120
    },
    "id": "T09OSEvKTjq-",
    "outputId": "381cdb11-0e49-4767-c3a0-5e4da320b6a0"
   },
   "outputs": [
    {
     "data": {
      "text/html": [
       "<div>\n",
       "<style scoped>\n",
       "    .dataframe tbody tr th:only-of-type {\n",
       "        vertical-align: middle;\n",
       "    }\n",
       "\n",
       "    .dataframe tbody tr th {\n",
       "        vertical-align: top;\n",
       "    }\n",
       "\n",
       "    .dataframe thead th {\n",
       "        text-align: right;\n",
       "    }\n",
       "</style>\n",
       "<table border=\"1\" class=\"dataframe\">\n",
       "  <thead>\n",
       "    <tr style=\"text-align: right;\">\n",
       "      <th></th>\n",
       "      <th>Error_metric</th>\n",
       "      <th>Train</th>\n",
       "      <th>Test</th>\n",
       "    </tr>\n",
       "  </thead>\n",
       "  <tbody>\n",
       "    <tr>\n",
       "      <th>0</th>\n",
       "      <td>Accuracy</td>\n",
       "      <td>0.949749</td>\n",
       "      <td>0.947368</td>\n",
       "    </tr>\n",
       "    <tr>\n",
       "      <th>1</th>\n",
       "      <td>Precision</td>\n",
       "      <td>0.945578</td>\n",
       "      <td>0.964286</td>\n",
       "    </tr>\n",
       "    <tr>\n",
       "      <th>2</th>\n",
       "      <td>Recall</td>\n",
       "      <td>0.920530</td>\n",
       "      <td>0.885246</td>\n",
       "    </tr>\n",
       "  </tbody>\n",
       "</table>\n",
       "</div>"
      ],
      "text/plain": [
       "  Error_metric     Train      Test\n",
       "0     Accuracy  0.949749  0.947368\n",
       "1    Precision  0.945578  0.964286\n",
       "2       Recall  0.920530  0.885246"
      ]
     },
     "metadata": {},
     "output_type": "display_data"
    }
   ],
   "source": [
    "from sklearn.metrics import accuracy_score, precision_score, recall_score, confusion_matrix\n",
    "from sklearn.model_selection import train_test_split\n",
    "from sklearn.metrics import confusion_matrix, ConfusionMatrixDisplay\n",
    "#from sklearn.metrics import plot_confusion_matrix\n",
    "\n",
    "X_train, X_test, y_train, y_test = train_test_split(X, y, test_size=0.30, random_state=11)\n",
    "\n",
    "# Bear in mind that sklearn uses a different function for decission trees used for \n",
    "# classification ( to predict a categorical feature ): DecisionTreeClassifier() \n",
    "model = DecisionTreeClassifier(max_depth=2)\n",
    "\n",
    "model.fit(X_train, y_train)\n",
    "\n",
    "y_pred_train_dt = model.predict(X_train)\n",
    "y_pred_test_dt = model.predict(X_test)\n",
    "\n",
    "\n",
    "performance_df = pd.DataFrame({'Error_metric': ['Accuracy','Precision','Recall'],\n",
    "                               'Train': [accuracy_score(y_train, y_pred_train_dt),\n",
    "                                         precision_score(y_train, y_pred_train_dt),\n",
    "                                         recall_score(y_train, y_pred_train_dt)],\n",
    "                               'Test': [accuracy_score(y_test, y_pred_test_dt),\n",
    "                                        precision_score(y_test, y_pred_test_dt),\n",
    "                                        recall_score(y_test, y_pred_test_dt)]})\n",
    "\n",
    "display(performance_df)"
   ]
  },
  {
   "cell_type": "code",
   "execution_count": 7,
   "metadata": {},
   "outputs": [
    {
     "data": {
      "text/plain": [
       "<sklearn.metrics._plot.confusion_matrix.ConfusionMatrixDisplay at 0x12b46f9d0>"
      ]
     },
     "execution_count": 7,
     "metadata": {},
     "output_type": "execute_result"
    },
    {
     "data": {
      "image/png": "[encoded data removed]",
      "text/plain": [
       "<Figure size 640x480 with 2 Axes>"
      ]
     },
     "metadata": {},
     "output_type": "display_data"
    }
   ],
   "source": [
    "cm = confusion_matrix(y_test, y_pred_test_dt, labels=model.classes_)\n",
    "disp = ConfusionMatrixDisplay(cm)\n",
    "disp.plot()"
   ]
  },
  {
   "cell_type": "markdown",
   "metadata": {},
   "source": [
    "## Feature Importance"
   ]
  },
  {
   "cell_type": "code",
   "execution_count": null,
   "metadata": {},
   "outputs": [],
   "source": [
    "plt.figure(figsize=(20,14))\n",
    "plt.barh(X.columns,model.feature_importances_)"
   ]
  },
  {
   "cell_type": "code",
   "execution_count": null,
   "metadata": {
    "colab": {
     "base_uri": "https://localhost:8080/",
     "height": 983
    },
    "executionInfo": {
     "elapsed": 1243,
     "status": "ok",
     "timestamp": 1626259711415,
     "user": {
      "displayName": "Ignacio Soteras",
      "photoUrl": "",
      "userId": "02050793736257155229"
     },
     "user_tz": -120
    },
    "id": "OvJ2NanCLubc",
    "outputId": "9cf74b6b-0ff4-4a43-ab2d-92b6e1e0e515",
    "scrolled": false
   },
   "outputs": [],
   "source": [
    "fig, axes = plt.subplots(nrows = 1,ncols = 1,figsize = (34,20))\n",
    "\n",
    "plot_tree(model,filled = True, rounded=True,feature_names=list(X.columns))\n",
    "plt.show() "
   ]
  },
  {
   "cell_type": "markdown",
   "metadata": {
    "id": "Ia7ISAfqRCfc"
   },
   "source": [
    "### Loading a dataset for Regression"
   ]
  },
  {
   "cell_type": "markdown",
   "metadata": {
    "id": "j1CVSwiUTMg5"
   },
   "source": [
    "Here we will use the California housing dataset which comes with sklearn. The objective is to predict the house prices"
   ]
  },
  {
   "cell_type": "code",
   "execution_count": null,
   "metadata": {
    "colab": {
     "base_uri": "https://localhost:8080/"
    },
    "executionInfo": {
     "elapsed": 575,
     "status": "ok",
     "timestamp": 1626256834681,
     "user": {
      "displayName": "Ignacio Soteras",
      "photoUrl": "",
      "userId": "02050793736257155229"
     },
     "user_tz": -120
    },
    "id": "osTLyXNxRAVE",
    "outputId": "7d7ad1dd-c587-4278-cda2-ee262f7ae9e4"
   },
   "outputs": [],
   "source": [
    "X, y =  fetch_california_housing(return_X_y=True)\n",
    "print(X.shape)\n",
    "print(y.shape)"
   ]
  },
  {
   "cell_type": "markdown",
   "metadata": {
    "id": "h-c7yhs4fIMn"
   },
   "source": [
    "## Data splitting"
   ]
  },
  {
   "cell_type": "code",
   "execution_count": null,
   "metadata": {
    "executionInfo": {
     "elapsed": 224,
     "status": "ok",
     "timestamp": 1626257130307,
     "user": {
      "displayName": "Ignacio Soteras",
      "photoUrl": "",
      "userId": "02050793736257155229"
     },
     "user_tz": -120
    },
    "id": "0bqGhutaRRV_"
   },
   "outputs": [],
   "source": [
    "X_train, X_test, y_train, y_test = train_test_split(X, y, test_size=0.30, random_state=11)"
   ]
  },
  {
   "cell_type": "code",
   "execution_count": null,
   "metadata": {
    "executionInfo": {
     "elapsed": 280,
     "status": "ok",
     "timestamp": 1626257132589,
     "user": {
      "displayName": "Ignacio Soteras",
      "photoUrl": "",
      "userId": "02050793736257155229"
     },
     "user_tz": -120
    },
    "id": "fncDdWG5fL3n"
   },
   "outputs": [],
   "source": [
    "model = DecisionTreeRegressor(max_depth=10)\n",
    "\n",
    "# Not needed because I'm using a decision tree\n",
    "#trans = PowerTransform(), StandardScaler()\n",
    "#trans.fit(X_train)\n",
    "\n",
    "model.fit(X_train, y_train)\n",
    "\n",
    "y_pred_train = model.predict(X_train)\n",
    "y_pred_test  = model.predict(X_test)\n"
   ]
  },
  {
   "cell_type": "code",
   "execution_count": null,
   "metadata": {
    "executionInfo": {
     "elapsed": 246,
     "status": "ok",
     "timestamp": 1626257179614,
     "user": {
      "displayName": "Ignacio Soteras",
      "photoUrl": "",
      "userId": "02050793736257155229"
     },
     "user_tz": -120
    },
    "id": "SS2wpM4ggg5E"
   },
   "outputs": [],
   "source": [
    "from sklearn.metrics import mean_absolute_error, mean_squared_error, r2_score\n",
    "\n",
    "def performance_model(y_train, y_test, y_pred_train, y_pred_test):\n",
    "\n",
    "    # Model validation y_train - y_pred_train\n",
    "    ME_train = np.mean(y_train-y_pred_train)\n",
    "    ME_test  = np.mean(y_test-y_pred_test)\n",
    "\n",
    "    MAE_train = mean_absolute_error(y_train,y_pred_train)\n",
    "    MAE_test  = mean_absolute_error(y_test,y_pred_test)\n",
    "\n",
    "    MSE_train = mean_squared_error(y_train,y_pred_train)\n",
    "    MSE_test  = mean_squared_error(y_test,y_pred_test)\n",
    "\n",
    "    RMSE_train = np.sqrt(MSE_train)\n",
    "    RMSE_test  = np.sqrt(MSE_test)\n",
    "\n",
    "    MAPE_train = np.mean((np.abs(y_train-y_pred_train) / y_train)* 100.)\n",
    "    MAPE_test  = np.mean((np.abs(y_test-y_pred_test) / y_test)* 100.)\n",
    "\n",
    "    R2_train = r2_score(y_train,y_pred_train)\n",
    "    R2_test  = r2_score(y_test,y_pred_test)\n",
    "\n",
    "    performance = pd.DataFrame({'Error_metric': ['Mean error','Mean absolute error','Mean squared error',\n",
    "                                             'Root mean squared error','Mean absolute percentual error',\n",
    "                                             'R2'],\n",
    "                            'Train': [ME_train, MAE_train, MSE_train, RMSE_train, MAPE_train, R2_train],\n",
    "                            'Test' : [ME_test, MAE_test , MSE_test, RMSE_test, MAPE_test, R2_test]})\n",
    "\n",
    "    pd.options.display.float_format = '{:.2f}'.format\n",
    "\n",
    "\n",
    "    df_train = pd.DataFrame({'Real_value': y_train, 'Predicted_value': y_pred_train})\n",
    "    df_test  = pd.DataFrame({'Real_value': y_test,  'Predicted_value': y_pred_test})\n",
    "\n",
    "    return performance, df_train, df_test"
   ]
  },
  {
   "cell_type": "code",
   "execution_count": null,
   "metadata": {
    "colab": {
     "base_uri": "https://localhost:8080/",
     "height": 236
    },
    "executionInfo": {
     "elapsed": 271,
     "status": "ok",
     "timestamp": 1626257186582,
     "user": {
      "displayName": "Ignacio Soteras",
      "photoUrl": "",
      "userId": "02050793736257155229"
     },
     "user_tz": -120
    },
    "id": "cHd3BkVBhgV1",
    "outputId": "dc2f5d8e-101d-483a-8a79-e2dc6c399fdd"
   },
   "outputs": [],
   "source": [
    "performance, _ ,_ = performance_model(y_train, y_test, y_pred_train, y_pred_test)\n",
    "performance"
   ]
  },
  {
   "cell_type": "markdown",
   "metadata": {
    "id": "FNgYVFrem7Eq"
   },
   "source": [
    "## Visualizing the decision tree"
   ]
  },
  {
   "cell_type": "code",
   "execution_count": null,
   "metadata": {
    "colab": {
     "base_uri": "https://localhost:8080/",
     "height": 983
    },
    "executionInfo": {
     "elapsed": 1272,
     "status": "ok",
     "timestamp": 1626257431624,
     "user": {
      "displayName": "Ignacio Soteras",
      "photoUrl": "",
      "userId": "02050793736257155229"
     },
     "user_tz": -120
    },
    "id": "PZqAPE24m-WW",
    "outputId": "026e5bce-d0b6-4cac-f2dc-1195cdb6b555"
   },
   "outputs": [],
   "source": [
    "from sklearn.tree import plot_tree\n",
    "fig, axes = plt.subplots(nrows = 1,ncols = 1,figsize = (20,10))\n",
    "\n",
    "plot_tree(model,filled = True, rounded=True)\n",
    "plt.show()"
   ]
  },
  {
   "cell_type": "code",
   "execution_count": null,
   "metadata": {},
   "outputs": [],
   "source": []
  }
 ],
 "metadata": {
  "colab": {
   "authorship_tag": "ABX9TyN5a07AzJeFSAhhaVwEynaA",
   "name": "Code-along.ipynb",
   "provenance": []
  },
  "kernelspec": {
   "display_name": "Python 3 (ipykernel)",
   "language": "python",
   "name": "python3"
  },
  "language_info": {
   "codemirror_mode": {
    "name": "ipython",
    "version": 3
   },
   "file_extension": ".py",
   "mimetype": "text/x-python",
   "name": "python",
   "nbconvert_exporter": "python",
   "pygments_lexer": "ipython3",
   "version": "3.10.9"
  },
  "toc": {
   "base_numbering": 1,
   "nav_menu": {},
   "number_sections": true,
   "sideBar": true,
   "skip_h1_title": false,
   "title_cell": "Table of Contents",
   "title_sidebar": "Contents",
   "toc_cell": false,
   "toc_position": {},
   "toc_section_display": true,
   "toc_window_display": false
  }
 },
 "nbformat": 4,
 "nbformat_minor": 1
}

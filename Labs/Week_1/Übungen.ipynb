{
 "cells": [
  {
   "cell_type": "markdown",
   "id": "e64cc1f0",
   "metadata": {},
   "source": [
    "Exercise: Managing Customer Orders\n",
    "\n",
    "As part of a business venture, you are starting an online store that sells various products. To ensure smooth operations, you need to develop a program that manages customer orders and inventory.\n",
    "Follow the steps below to complete the exercise:\n",
    "\n",
    "Define a list called products that contains the following items: \"t-shirt\", \"mug\", \"hat\", \"book\", \"keychain\".\n",
    "Create an empty dictionary called inventory.\n",
    "\n",
    "Ask the user to input the quantity of each product available in the inventory. Use the product names from the products list as keys in the inventory dictionary and assign the respective quantities as values.\n",
    "\n",
    "Create an empty set called customer_orders.\n",
    "Ask the user to input the name of three products that a customer wants to order (from those in the products list, meaning three products out of \"t-shirt\", \"mug\", \"hat\", \"book\" or \"keychain\". Add each product name to the customer_orders set.\n",
    "Print the products in the customer_orders set.\n",
    "\n",
    "Calculate the following order statistics:\n",
    "Total Products Ordered: The total number of products in the customer_orders set.\n",
    "Percentage of Products Ordered: The percentage of products ordered compared to the total available products.\n",
    "Store these statistics in a tuple called order_status.\n",
    "\n",
    "Print the order statistics using the following format:\n",
    "Order Statistics:\n",
    "Total Products Ordered: <total_products_ordered>\n",
    "Percentage of Products Ordered: <percentage_ordered>% \n",
    "\n",
    "Update the inventory by subtracting 1 from the quantity of each product. Modify the inventory dictionary accordingly.\n",
    "Print the updated inventory, displaying the quantity of each product on separate lines.\n",
    "\n",
    "Solve the exercise by implementing the steps using the Python concepts of lists, dictionaries, sets, and basic input/output operations.\n"
   ]
  },
  {
   "cell_type": "code",
   "execution_count": null,
   "id": "80b97b0f",
   "metadata": {},
   "outputs": [],
   "source": [
    "#Define a list called products that contains the following items: \"t-shirt\", \"mug\", \"hat\", \"book\", \"keychain\".\n",
    "products = [\"t-shirt\", \"mug\", \"hat\", \"book\", \"keychain\"]\n",
    "#Create an empty dictionary called inventory.\n",
    "inventory = {}\n",
    "\n",
    "#Ask the user to input the quantity of each product available in the inventory. \n",
    "#Use the product names from the products list as keys in the inventory dictionary \n",
    "#and assign the respective quantities as values.\n",
    "\n",
    "for product in products:\n",
    "    quantity = int(input(f\"Please enter the quantity available of {product} \"))\n",
    "    inventory.update({product:quantity})\n"
   ]
  },
  {
   "cell_type": "code",
   "execution_count": null,
   "id": "8044ca51",
   "metadata": {},
   "outputs": [],
   "source": [
    "#Create an empty set called customer_orders.\n",
    "\n",
    "customer_orders = set()\n",
    "\n",
    "#Ask the user to input the name of three products that a customer wants to order \n",
    "#(from those in the products list, \n",
    "#meaning three products out of \"t-shirt\", \"mug\", \"hat\", \"book\" or \"keychain\". \n",
    "#Add each product name to the customer_orders set.\n",
    "\n",
    "for i in range(3):\n",
    "    product_name = input(f\"Please enter a product you want to order:  \")\n",
    "    if product_name in products:\n",
    "        customer_orders.add(product_name)\n",
    "   \n",
    "    \n",
    "#Print the products in the customer_orders set.\n",
    "\n",
    "print(customer_orders)"
   ]
  },
  {
   "cell_type": "code",
   "execution_count": null,
   "id": "b34a04b2",
   "metadata": {},
   "outputs": [],
   "source": [
    "#Calculate the following order statistics:\n",
    "#Total Products Ordered: The total number of products in the customer_orders set.\n",
    "total_products_ordered = len(customer_orders)\n",
    "#Percentage of Products Ordered: The percentage of products ordered compared to the total available products.\n",
    "\n",
    "percentage_ordered = (total_products_ordered / len(products)*100)\n",
    "\n",
    "#Store these statistics in a tuple called order_status.\n",
    "\n",
    "order_status = (total_products_ordered, percentage_ordered)\n"
   ]
  },
  {
   "cell_type": "code",
   "execution_count": null,
   "id": "d234889f",
   "metadata": {},
   "outputs": [],
   "source": [
    "#Print the order statistics using the following format:\n",
    "#Order Statistics:\n",
    "#Total Products Ordered: <total_products_ordered>\n",
    "#Percentage of Products Ordered: <percentage_ordered>% \n",
    "\n",
    "print (\"Order Statistics:\")\n",
    "print (f\"Total Products Ordered: {order_status[0]}\")\n",
    "print (f\"Percentage of Products Ordered: {order_status[1]}\")"
   ]
  },
  {
   "cell_type": "code",
   "execution_count": null,
   "id": "bf31000e",
   "metadata": {},
   "outputs": [],
   "source": [
    "#Update the inventory by subtracting 1 from the quantity of each product. \n",
    "#Modify the inventory dictionary accordingly.\n",
    "#Print the updated inventory, displaying the quantity of each product on separate lines.\n",
    "for product in customer_orders:\n",
    "    if product in inventory:\n",
    "        inventory[product]= inventory[product]-1\n",
    "\n",
    "print(\"Updated Inventory:\")\n",
    "for product in inventory:\n",
    "    quantity = inventory[product]\n",
    "    print(f\"{product}: {quantity}\")\n"
   ]
  },
  {
   "cell_type": "code",
   "execution_count": null,
   "id": "962f451a",
   "metadata": {},
   "outputs": [],
   "source": []
  },
  {
   "cell_type": "code",
   "execution_count": null,
   "id": "f902203e",
   "metadata": {},
   "outputs": [],
   "source": []
  }
 ],
 "metadata": {
  "kernelspec": {
   "display_name": "Python 3 (ipykernel)",
   "language": "python",
   "name": "python3"
  },
  "language_info": {
   "codemirror_mode": {
    "name": "ipython",
    "version": 3
   },
   "file_extension": ".py",
   "mimetype": "text/x-python",
   "name": "python",
   "nbconvert_exporter": "python",
   "pygments_lexer": "ipython3",
   "version": "3.10.9"
  }
 },
 "nbformat": 4,
 "nbformat_minor": 5
}
